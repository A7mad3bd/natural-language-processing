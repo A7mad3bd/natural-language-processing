{
 "cells": [
  {
   "cell_type": "code",
   "execution_count": 68,
   "id": "941b4096",
   "metadata": {},
   "outputs": [],
   "source": [
    "from elasticsearch import Elasticsearch, helpers\n",
    "from elasticsearch_dsl import Search, Q\n",
    "\n",
    "import csv\n"
   ]
  },
  {
   "cell_type": "code",
   "execution_count": 7,
   "id": "debeb32d",
   "metadata": {},
   "outputs": [],
   "source": [
    "es = Elasticsearch(HOST=\"localhost\", PORT=\"9200\")"
   ]
  },
  {
   "cell_type": "code",
   "execution_count": 8,
   "id": "52dffa21",
   "metadata": {},
   "outputs": [],
   "source": [
    "faq_csv = \".data/faq_with_splits_lemmatized.csv\""
   ]
  },
  {
   "cell_type": "code",
   "execution_count": null,
   "id": "ce4c38b1",
   "metadata": {},
   "outputs": [],
   "source": [
    "es.indices.delete(index='questions', ignore=[404])\n",
    "\n",
    "with open(faq_csv) as f:\n",
    "    reader = csv.DictReader(f)\n",
    "    helpers.bulk(es, reader, index='questions')"
   ]
  },
  {
   "cell_type": "code",
   "execution_count": 10,
   "id": "146be785",
   "metadata": {},
   "outputs": [],
   "source": [
    "def generate_query(question):\n",
    "    return {\n",
    "        \"match\": {\n",
    "            \"long_question\": {\n",
    "                \"query\": question,\n",
    "            }\n",
    "        }\n",
    "    }\n",
    "    \n",
    "def find_answer(query_param, generate_query, index=\"questions\"):\n",
    "    query = generate_query(query_param)\n",
    "    res = es.search(index=index, query=query)\n",
    "    \n",
    "    return res['hits']['hits'][0]['_source']"
   ]
  },
  {
   "cell_type": "code",
   "execution_count": 24,
   "id": "e1d43263",
   "metadata": {
    "scrolled": false
   },
   "outputs": [
    {
     "name": "stdout",
     "output_type": "stream",
     "text": [
      "miért fáj láb\n",
      "Short question:\n",
      "láb varratszedés után mennyi idő után mehet dolgoz ?\n",
      "\n",
      "Long question:\n",
      "Láb varratszedés után mennyi idő után mehetek dolgozni? Mennyire javul meg a láb varratszedés után? Mehetek másnap dolgozni vagy a mozgás azért nehezebben megy még?\n",
      "\n",
      "Answer:\n",
      "Nem lehet megmondani. Az orvosod tud erre válaszolni. Nem mindegy mekkora a seb, és milyen célból történt a műtét?\n"
     ]
    }
   ],
   "source": [
    "question = input()\n",
    "\n",
    "result =  find_answer(question, generate_query)\n",
    "\n",
    "print(f\"Short question:\\n{result['short_question']}\")\n",
    "print()\n",
    "print(f\"Long question:\\n{result['long_question']}\")\n",
    "print()\n",
    "print(f\"Answer:\\n{result['answer']}\")"
   ]
  },
  {
   "cell_type": "code",
   "execution_count": 157,
   "id": "083044e5",
   "metadata": {},
   "outputs": [],
   "source": [
    "INDEX_NAME = \"questions\"\n",
    "INDEX_FILE = \"index.json\"\n",
    "DATA_FILE = faq_csv\n",
    "BATCH_SIZE = 1000"
   ]
  },
  {
   "cell_type": "code",
   "execution_count": 158,
   "id": "22548c59",
   "metadata": {},
   "outputs": [],
   "source": [
    "import hu_core_ud_lg\n",
    "import numpy as np\n",
    "\n",
    "import pandas as pd"
   ]
  },
  {
   "cell_type": "code",
   "execution_count": 159,
   "id": "46ae2c7d",
   "metadata": {},
   "outputs": [],
   "source": [
    "data_frame = pd.read_csv(DATA_FILE)"
   ]
  },
  {
   "cell_type": "code",
   "execution_count": 160,
   "id": "ff51ecac",
   "metadata": {},
   "outputs": [],
   "source": [
    "nlp = hu_core_ud_lg.load()"
   ]
  },
  {
   "cell_type": "code",
   "execution_count": 161,
   "id": "301d1e21",
   "metadata": {},
   "outputs": [],
   "source": [
    "def embed_docs(docs):\n",
    "    return [embed(doc) for doc in docs]"
   ]
  },
  {
   "cell_type": "code",
   "execution_count": 162,
   "id": "051c1a26",
   "metadata": {},
   "outputs": [],
   "source": [
    "def embed(sentence):\n",
    "    doc = nlp(sentence)\n",
    "    helper = [doc[idx].vector for idx in range(len(doc))]\n",
    "    query_vector = np.add.reduce(helper) / len(doc)\n",
    "    \n",
    "    return query_vector"
   ]
  },
  {
   "cell_type": "code",
   "execution_count": 163,
   "id": "f3417dd9",
   "metadata": {},
   "outputs": [],
   "source": [
    "header_k2i = {}\n",
    "header_i2k = {}\n",
    "\n",
    "def handle_header(header):\n",
    "    for idx, key in enumerate(header):\n",
    "        header_k2i[key] = idx\n",
    "        header_i2k[idx] = key"
   ]
  },
  {
   "cell_type": "code",
   "execution_count": 170,
   "id": "1d6a7248",
   "metadata": {},
   "outputs": [],
   "source": [
    "def index_data(df):\n",
    "    es.indices.delete(index=INDEX_NAME, ignore=[404])\n",
    "\n",
    "    with open(INDEX_FILE) as index_file:\n",
    "        source = index_file.read().strip()\n",
    "        es.indices.create(index=INDEX_NAME, body=source)\n",
    "    \n",
    "    docs = []\n",
    "    count = 0\n",
    "    \n",
    "    for index, row in df.iterrows():\n",
    "        docs.append(row.to_dict())\n",
    "        count += 1\n",
    "            \n",
    "        if count % BATCH_SIZE == 0:\n",
    "            index_batch(docs)\n",
    "            docs = []\n",
    "            print(f\"\\rIndexed {count} documents.\", end=\"\")\n",
    "\n",
    "    if docs:\n",
    "        index_batch(docs)\n",
    "        docs = []\n",
    "        print(f\"\\rIndexed {count} documents.\", end=\"\")\n",
    "\n",
    "    print()\n",
    "    es.indices.refresh(index=INDEX_NAME)\n",
    "    print(\"Done indexing.\")"
   ]
  },
  {
   "cell_type": "code",
   "execution_count": 171,
   "id": "47eefdaf",
   "metadata": {},
   "outputs": [],
   "source": [
    "def index_batch(docs):\n",
    "    short_questions = [doc[\"short_question\"] for doc in docs]\n",
    "    \n",
    "    short_question_vectors = embed_docs(short_questions)\n",
    "\n",
    "    requests = []\n",
    "    \n",
    "    for i, doc, in enumerate(docs):\n",
    "        request = doc\n",
    "        request[\"_op_type\"] = \"index\"\n",
    "        request[\"_index\"] = INDEX_NAME\n",
    "        request[\"short_question_vector\"] = short_question_vectors[i]\n",
    "        requests.append(request)\n",
    "    helpers.bulk(es, requests)"
   ]
  },
  {
   "cell_type": "code",
   "execution_count": 172,
   "id": "5788683a",
   "metadata": {},
   "outputs": [
    {
     "name": "stderr",
     "output_type": "stream",
     "text": [
      "/tmp/ipykernel_30071/839224222.py:6: DeprecationWarning: The 'body' parameter is deprecated for the 'create' API and will be removed in 8.0.0. Instead use API parameters directly. See https://github.com/elastic/elasticsearch-py/issues/1698 for more information\n",
      "  es.indices.create(index=INDEX_NAME, body=source)\n"
     ]
    },
    {
     "name": "stdout",
     "output_type": "stream",
     "text": [
      "Indexed 168126 documents.\n",
      "Done indexing.\n"
     ]
    }
   ],
   "source": [
    "index_data(data_frame)"
   ]
  },
  {
   "cell_type": "code",
   "execution_count": null,
   "id": "d62a9c15",
   "metadata": {},
   "outputs": [],
   "source": [
    "script_query = {\n",
    "    \"script_score\": {\n",
    "        \"query\": {\"match_all\": {}},\n",
    "        \"script\": {\n",
    "            \"source\": \"cosineSimilarity(params.query_vector, doc['short_question_vector']) + 1.0\",\n",
    "            \"params\": {\"query_vector\": embed(question)}\n",
    "        }\n",
    "    }\n",
    "}\n",
    "\n",
    "response = es.search(\n",
    "    index=INDEX_NAME,\n",
    "    body={\n",
    "        \"size\": 10,\n",
    "        \"query\": script_query\n",
    "    }\n",
    ")"
   ]
  },
  {
   "cell_type": "code",
   "execution_count": 176,
   "id": "9a2fd142",
   "metadata": {},
   "outputs": [
    {
     "name": "stdout",
     "output_type": "stream",
     "text": [
      "id: uqRjTXwBNIJMXm8Ye_is, score: 1.8774538\n",
      "miért fáj a kutya láb ?\n",
      "Vidd már orvoshozte idióta!!\n",
      "\n",
      "id: 1qJZTXwBNIJMXm8YnOaL, score: 1.8579246\n",
      "miért fáj a bal láb menzeszkor ?\n",
      "Ne aggódj.nekem is mindig fájtak a lábaim menseskor.Sajnos lesugárzik a fájdalom.\n",
      "\n",
      "id: iqNaTXwBNIJMXm8YfBa2, score: 1.8389784\n",
      "miért fáj fark ?\n",
      "Nem az erős kézfogással kell a hatást elérni .Akkor nem fordúl elő ilyen .Egy erős pofontól az arcod is piros lesz,és még meg is fájdul .Na ez van a pö**öddel is .\n",
      "\n",
      "id: _6NaTXwBNIJMXm8Y_DHX, score: 1.8027391\n",
      "miért fáj még mindig a láb ?\n",
      "Legalább valamilyen nadálytő krémmel, v. lóbalzsammal msszírozhattad és éjjelre pakolás. Így \"szárazon\" sokáig gyógyul.\n",
      "\n",
      "id: RaRjTXwBNIJMXm8Yavcd, score: 1.8011953\n",
      "fáj a kutya láb ?\n",
      "ha valami eltörik, ha meggyógyult is, mindig érzékeny marad. Általában időjárás változásnál jelentkeznek fájdalmak. Beszélj az orvosoddal és ő ajánlani fog gyógyszert, amit akkor adhatsz a kutyádnak, amikor jelzi, hogy fáj a lába.\n",
      "\n",
      "id: 4aNbTXwBNIJMXm8YjU8z, score: 1.7998898\n",
      "miért fáj a fej ?\n",
      "Kb. bármitől. Nem iszol elég folyadékot, romlik a szemed, migrén, homloküreggyulladás. Fizikális vizsgálat nélkül mi se tudunk sokat mondani, szóval orvos.\n",
      "\n",
      "id: q6NbTXwBNIJMXm8Y1l9i, score: 1.7905594\n",
      "miért fáj a has ?\n",
      "Háziorvosnak megmutatnám, legrosszabb esetben lehet hasi sérv, az pedig nem játék.\n",
      "\n",
      "id: TqNbTXwBNIJMXm8Yn1R5, score: 1.7905594\n",
      "miért fáj a has ?\n",
      "Te buta vagy! Nem megbántani akarlak, hanem szembesíteni a ténnyel. Menj orvoshoz! Mit gondoltál, hogy van erre egy univerzális válasz? Fája a hasa? = Ön rákos VAGY Fáj a hasa = Ó, csak egy kis gyomorrontás VAGY Fáj a hasa és nem orvoshoz megy, hanem interneten (nem szakmai fórumon) kérdezget = Ön hülye.\n",
      "\n",
      "id: j6NaTXwBNIJMXm8YxSX4, score: 1.7896934\n",
      "miért fáj a mellem ? 12/l\n",
      "Növekedéstől simán fájhat, sőt! Szerintem biztos, hogy ez itt a \"probléma\", nyugi :)Kicsit pontosabban egyébként le tudnád írni, hogy mit érzel? Úgy hátha jobban rájönnénk :)\n",
      "\n",
      "id: IaNbTXwBNIJMXm8YoFV_, score: 1.7896934\n",
      "miért fáj a mellem ?\n",
      "Lehet hogy no. :)\n",
      "\n"
     ]
    }
   ],
   "source": [
    "for hit in response[\"hits\"][\"hits\"]:\n",
    "    print(\"id: {}, score: {}\".format(hit[\"_id\"], hit[\"_score\"]))\n",
    "    print(hit[\"_source\"][\"short_question\"])\n",
    "    print(hit[\"_source\"][\"answer\"])\n",
    "    print()"
   ]
  },
  {
   "cell_type": "code",
   "execution_count": null,
   "id": "39f10c6d",
   "metadata": {},
   "outputs": [],
   "source": []
  }
 ],
 "metadata": {
  "kernelspec": {
   "display_name": "Python 3 (ipykernel)",
   "language": "python",
   "name": "python3"
  },
  "language_info": {
   "codemirror_mode": {
    "name": "ipython",
    "version": 3
   },
   "file_extension": ".py",
   "mimetype": "text/x-python",
   "name": "python",
   "nbconvert_exporter": "python",
   "pygments_lexer": "ipython3",
   "version": "3.8.10"
  }
 },
 "nbformat": 4,
 "nbformat_minor": 5
}
