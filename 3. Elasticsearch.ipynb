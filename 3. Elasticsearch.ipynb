{
 "cells": [
  {
   "cell_type": "code",
   "execution_count": null,
   "id": "941b4096",
   "metadata": {},
   "outputs": [],
   "source": [
    "from elasticsearch import Elasticsearch, helpers\n",
    "import csv"
   ]
  },
  {
   "cell_type": "code",
   "execution_count": null,
   "id": "debeb32d",
   "metadata": {},
   "outputs": [],
   "source": [
    "es = Elasticsearch(HOST=\"localhost\", PORT=\"9200\")"
   ]
  },
  {
   "cell_type": "code",
   "execution_count": null,
   "id": "52dffa21",
   "metadata": {},
   "outputs": [],
   "source": [
    "faq_csv = \"data/faq_with_splits.csv\""
   ]
  },
  {
   "cell_type": "code",
   "execution_count": null,
   "id": "ce4c38b1",
   "metadata": {},
   "outputs": [],
   "source": [
    "with open(faq_csv) as f:\n",
    "    reader = csv.DictReader(f)\n",
    "    helpers.bulk(es, reader, index='questions')"
   ]
  },
  {
   "cell_type": "code",
   "execution_count": null,
   "id": "32c80c56",
   "metadata": {},
   "outputs": [],
   "source": [
    "query_question = input()"
   ]
  },
  {
   "cell_type": "code",
   "execution_count": null,
   "id": "0bbd8755",
   "metadata": {},
   "outputs": [],
   "source": [
    "query = {\n",
    "    \"match\": {\n",
    "      \"short_question\": {\n",
    "        \"query\": query_question,\n",
    "        }\n",
    "    }\n",
    "}"
   ]
  },
  {
   "cell_type": "code",
   "execution_count": null,
   "id": "bac3c1b5",
   "metadata": {},
   "outputs": [],
   "source": [
    "res = es.search(index=\"questions\", query=query)"
   ]
  },
  {
   "cell_type": "code",
   "execution_count": null,
   "id": "921da5cb",
   "metadata": {},
   "outputs": [],
   "source": [
    "result = res['hits']['hits'][0]['_source']"
   ]
  },
  {
   "cell_type": "code",
   "execution_count": null,
   "id": "5dd83195",
   "metadata": {},
   "outputs": [],
   "source": [
    "print(result['short_question'])\n",
    "print(result['answer'])"
   ]
  }
 ],
 "metadata": {
  "kernelspec": {
   "display_name": "Python 3 (ipykernel)",
   "language": "python",
   "name": "python3"
  },
  "language_info": {
   "codemirror_mode": {
    "name": "ipython",
    "version": 3
   },
   "file_extension": ".py",
   "mimetype": "text/x-python",
   "name": "python",
   "nbconvert_exporter": "python",
   "pygments_lexer": "ipython3",
   "version": "3.8.10"
  }
 },
 "nbformat": 4,
 "nbformat_minor": 5
}
