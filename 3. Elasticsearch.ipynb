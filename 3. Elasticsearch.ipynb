{
 "cells": [
  {
   "cell_type": "code",
   "execution_count": null,
   "id": "941b4096",
   "metadata": {},
   "outputs": [],
   "source": [
    "from elasticsearch import Elasticsearch, helpers\n",
    "from elasticsearch_dsl import Search, Q\n",
    "\n",
    "import csv"
   ]
  },
  {
   "cell_type": "code",
   "execution_count": null,
   "id": "debeb32d",
   "metadata": {},
   "outputs": [],
   "source": [
    "es = Elasticsearch(HOST=\"localhost\", PORT=\"9200\")"
   ]
  },
  {
   "cell_type": "code",
   "execution_count": null,
   "id": "52dffa21",
   "metadata": {},
   "outputs": [],
   "source": [
    "faq_csv = \".data/faq_with_splits_tokenized.csv\""
   ]
  },
  {
   "cell_type": "code",
   "execution_count": null,
   "id": "ce4c38b1",
   "metadata": {},
   "outputs": [],
   "source": [
    "es.indices.delete(index='questions', ignore=[404])\n",
    "\n",
    "with open(faq_csv) as f:\n",
    "    reader = csv.DictReader(f)\n",
    "    helpers.bulk(es, reader, index='questions')"
   ]
  },
  {
   "cell_type": "code",
   "execution_count": null,
   "id": "146be785",
   "metadata": {},
   "outputs": [],
   "source": [
    "def generate_query(question):\n",
    "    return {\n",
    "        \"match\": {\n",
    "            \"long_question\": {\n",
    "                \"query\": question,\n",
    "            }\n",
    "        }\n",
    "    }\n",
    "    \n",
    "def find_answer(query_param, generate_query, index=\"questions\"):\n",
    "    query = generate_query(query_param)\n",
    "    res = es.search(index=index, query=query)\n",
    "    \n",
    "    return res['hits']['hits'][0]['_source']"
   ]
  },
  {
   "cell_type": "code",
   "execution_count": null,
   "id": "e1d43263",
   "metadata": {
    "scrolled": false
   },
   "outputs": [],
   "source": [
    "question = input()\n",
    "\n",
    "result = find_answer(question, generate_query)\n",
    "\n",
    "print(f\"Short question:\\n{result['short_question']}\")\n",
    "print()\n",
    "print(f\"Long question:\\n{result['long_question']}\")\n",
    "print()\n",
    "print(f\"Answer:\\n{result['answer']}\")"
   ]
  },
  {
   "cell_type": "code",
   "execution_count": null,
   "id": "083044e5",
   "metadata": {},
   "outputs": [],
   "source": [
    "INDEX_NAME = \"questions\"\n",
    "INDEX_FILE = \"index.json\"\n",
    "DATA_FILE = faq_csv\n",
    "BATCH_SIZE = 1000"
   ]
  },
  {
   "cell_type": "code",
   "execution_count": null,
   "id": "22548c59",
   "metadata": {},
   "outputs": [],
   "source": [
    "import hu_core_ud_lg\n",
    "import numpy as np\n",
    "\n",
    "import pandas as pd"
   ]
  },
  {
   "cell_type": "code",
   "execution_count": null,
   "id": "46ae2c7d",
   "metadata": {},
   "outputs": [],
   "source": [
    "data_frame = pd.read_csv(DATA_FILE)"
   ]
  },
  {
   "cell_type": "code",
   "execution_count": null,
   "id": "ff51ecac",
   "metadata": {},
   "outputs": [],
   "source": [
    "nlp = hu_core_ud_lg.load()"
   ]
  },
  {
   "cell_type": "code",
   "execution_count": null,
   "id": "9fa74a02",
   "metadata": {},
   "outputs": [],
   "source": [
    "import nltk\n",
    "from nltk.corpus import stopwords\n",
    "\n",
    "nltk.download('stopwords', quiet=True)\n",
    "stop_words = set(stopwords.words('hungarian'))\n",
    "\n",
    "def stop_word_filter(text):\n",
    "    return \" \". join([w for w in text if not w in stop_words])"
   ]
  },
  {
   "cell_type": "code",
   "execution_count": null,
   "id": "301d1e21",
   "metadata": {},
   "outputs": [],
   "source": [
    "def embed_docs(docs):\n",
    "    return [embed(stop_word_filter(doc)) for doc in docs]"
   ]
  },
  {
   "cell_type": "code",
   "execution_count": null,
   "id": "051c1a26",
   "metadata": {},
   "outputs": [],
   "source": [
    "def embed(sentence):\n",
    "    doc = nlp(sentence)\n",
    "    lemmatized = \" \".join([w.lemma_.lower() for w in doc])\n",
    "    doc = nlp(lemmatized)\n",
    "    helper = [doc[idx].vector for idx in range(len(doc))]\n",
    "    query_vector = np.add.reduce(helper) / len(doc)\n",
    "    \n",
    "    return query_vector"
   ]
  },
  {
   "cell_type": "code",
   "execution_count": null,
   "id": "1d6a7248",
   "metadata": {},
   "outputs": [],
   "source": [
    "def index_data(df):\n",
    "    es.indices.delete(index=INDEX_NAME, ignore=[404])\n",
    "\n",
    "    with open(INDEX_FILE) as index_file:\n",
    "        source = index_file.read().strip()\n",
    "        es.indices.create(index=INDEX_NAME, body=source)\n",
    "    \n",
    "    docs = []\n",
    "    count = 0\n",
    "    \n",
    "    for index, row in df.iterrows():\n",
    "        docs.append(row.to_dict())\n",
    "        count += 1\n",
    "            \n",
    "        if count % BATCH_SIZE == 0:\n",
    "            index_batch(docs)\n",
    "            docs = []\n",
    "            print(f\"\\rIndexed {count} documents.\", end=\"\")\n",
    "\n",
    "    if docs:\n",
    "        index_batch(docs)\n",
    "        docs = []\n",
    "        print(f\"\\rIndexed {count} documents.\", end=\"\")\n",
    "\n",
    "    print()\n",
    "    es.indices.refresh(index=INDEX_NAME)\n",
    "    print(\"Done indexing.\")"
   ]
  },
  {
   "cell_type": "code",
   "execution_count": null,
   "id": "47eefdaf",
   "metadata": {},
   "outputs": [],
   "source": [
    "def index_batch(docs):\n",
    "    short_questions = [doc[\"short_question\"] for doc in docs]\n",
    "    \n",
    "    short_question_vectors = embed_docs(short_questions)\n",
    "\n",
    "    requests = []\n",
    "    \n",
    "    for i, doc, in enumerate(docs):\n",
    "        request = doc\n",
    "        request[\"_op_type\"] = \"index\"\n",
    "        request[\"_index\"] = INDEX_NAME\n",
    "        request[\"short_question_vector\"] = short_question_vectors[i]\n",
    "        requests.append(request)\n",
    "    helpers.bulk(es, requests)"
   ]
  },
  {
   "cell_type": "code",
   "execution_count": null,
   "id": "5788683a",
   "metadata": {},
   "outputs": [],
   "source": [
    "index_data(data_frame)"
   ]
  },
  {
   "cell_type": "code",
   "execution_count": null,
   "id": "d62a9c15",
   "metadata": {},
   "outputs": [],
   "source": [
    "script_query = {\n",
    "    \"script_score\": {\n",
    "        \"query\": {\"match_all\": {}},\n",
    "        \"script\": {\n",
    "            \"source\": \"cosineSimilarity(params.query_vector, doc['short_question_vector']) + 1.0\",\n",
    "            \"params\": {\"query_vector\": embed(stop_word_filter(question))}\n",
    "        }\n",
    "    }\n",
    "}\n",
    "\n",
    "response = es.search(\n",
    "    index=INDEX_NAME,\n",
    "    body={\n",
    "        \"size\": 10,\n",
    "        \"query\": script_query\n",
    "    }\n",
    ")"
   ]
  },
  {
   "cell_type": "code",
   "execution_count": null,
   "id": "9a2fd142",
   "metadata": {},
   "outputs": [],
   "source": [
    "for hit in response[\"hits\"][\"hits\"]:\n",
    "    print(\"id: {}, score: {}\".format(hit[\"_id\"], hit[\"_score\"]))\n",
    "    print(hit[\"_source\"][\"short_question\"])\n",
    "    print(hit[\"_source\"][\"answer\"])\n",
    "    print()"
   ]
  }
 ],
 "metadata": {
  "kernelspec": {
   "display_name": "Python 3 (ipykernel)",
   "language": "python",
   "name": "python3"
  },
  "language_info": {
   "codemirror_mode": {
    "name": "ipython",
    "version": 3
   },
   "file_extension": ".py",
   "mimetype": "text/x-python",
   "name": "python",
   "nbconvert_exporter": "python",
   "pygments_lexer": "ipython3",
   "version": "3.8.10"
  }
 },
 "nbformat": 4,
 "nbformat_minor": 5
}
