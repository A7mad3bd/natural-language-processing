{
 "cells": [
  {
   "cell_type": "code",
   "execution_count": 1,
   "id": "941b4096",
   "metadata": {},
   "outputs": [],
   "source": [
    "from elasticsearch import Elasticsearch, helpers\n",
    "from elasticsearch_dsl import Search, Q\n",
    "\n",
    "import csv"
   ]
  },
  {
   "cell_type": "code",
   "execution_count": 2,
   "id": "debeb32d",
   "metadata": {},
   "outputs": [],
   "source": [
    "es = Elasticsearch(HOST=\"localhost\", PORT=\"9200\")"
   ]
  },
  {
   "cell_type": "code",
   "execution_count": 3,
   "id": "52dffa21",
   "metadata": {},
   "outputs": [],
   "source": [
    "faq_csv = \".data/faq_with_splits.csv\""
   ]
  },
  {
   "cell_type": "code",
   "execution_count": 4,
   "id": "ce4c38b1",
   "metadata": {},
   "outputs": [
    {
     "name": "stderr",
     "output_type": "stream",
     "text": [
      "/home/migeran/.local/lib/python3.8/site-packages/elasticsearch/connection/base.py:209: ElasticsearchWarning: Elasticsearch built-in security features are not enabled. Without authentication, your cluster could be accessible to anyone. See https://www.elastic.co/guide/en/elasticsearch/reference/7.15/security-minimal-setup.html to enable security.\n",
      "  warnings.warn(message, category=ElasticsearchWarning)\n"
     ]
    }
   ],
   "source": [
    "with open(faq_csv) as f:\n",
    "    reader = csv.DictReader(f)\n",
    "    helpers.bulk(es, reader, index='questions')"
   ]
  },
  {
   "cell_type": "code",
   "execution_count": 5,
   "id": "146be785",
   "metadata": {},
   "outputs": [],
   "source": [
    "def generate_query(question):\n",
    "    return {\n",
    "        \"match\": {\n",
    "            \"long_question\": {\n",
    "                \"query\": question,\n",
    "            }\n",
    "        }\n",
    "    }\n",
    "    \n",
    "def find_answer(question, index=\"questions\"):\n",
    "    query = generate_query(question)\n",
    "    res = es.search(index=index, query=query)\n",
    "    \n",
    "    return res['hits']['hits'][0]['_source']"
   ]
  },
  {
   "cell_type": "code",
   "execution_count": 6,
   "id": "e1d43263",
   "metadata": {
    "scrolled": false
   },
   "outputs": [
    {
     "name": "stdout",
     "output_type": "stream",
     "text": [
      "miert faj a labam?\n",
      "Short question:\n",
      "elestem es faj a labam miert van ez \n",
      "\n",
      "Long question:\n",
      "elestem es faj a labam miert van ez \n",
      "\n",
      "Answer:\n",
      "mert elestel \n"
     ]
    }
   ],
   "source": [
    "question = input()\n",
    "\n",
    "result =  find_answer(question)\n",
    "\n",
    "print(f\"Short question:\\n{result['short_question']}\")\n",
    "print()\n",
    "print(f\"Long question:\\n{result['long_question']}\")\n",
    "print()\n",
    "print(f\"Answer:\\n{result['answer']}\")"
   ]
  }
 ],
 "metadata": {
  "kernelspec": {
   "display_name": "Python 3 (ipykernel)",
   "language": "python",
   "name": "python3"
  },
  "language_info": {
   "codemirror_mode": {
    "name": "ipython",
    "version": 3
   },
   "file_extension": ".py",
   "mimetype": "text/x-python",
   "name": "python",
   "nbconvert_exporter": "python",
   "pygments_lexer": "ipython3",
   "version": "3.8.10"
  }
 },
 "nbformat": 4,
 "nbformat_minor": 5
}
