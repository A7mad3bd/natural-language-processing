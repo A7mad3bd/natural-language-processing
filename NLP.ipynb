{
 "cells": [
  {
   "cell_type": "code",
   "execution_count": 1,
   "metadata": {},
   "outputs": [],
   "source": [
    "import sys\n",
    "import os\n",
    "import glob\n",
    "import json\n",
    "import pandas as pd\n",
    "%matplotlib inline\n",
    "import matplotlib\n",
    "import numpy as np"
   ]
  },
  {
   "cell_type": "code",
   "execution_count": 2,
   "metadata": {},
   "outputs": [],
   "source": [
    "def find_files(path):\n",
    "    return glob.glob(path)"
   ]
  },
  {
   "cell_type": "code",
   "execution_count": 3,
   "metadata": {},
   "outputs": [],
   "source": [
    "def read_json(filename):\n",
    "    with open(filename) as json_file:\n",
    "        data = json.load(json_file)\n",
    "    return data"
   ]
  },
  {
   "cell_type": "markdown",
   "metadata": {},
   "source": [
    "### Adat beolvasása JSON fájlból"
   ]
  },
  {
   "cell_type": "code",
   "execution_count": 4,
   "metadata": {},
   "outputs": [
    {
     "name": "stdout",
     "output_type": "stream",
     "text": [
      "Reading file: Data/gyakori_szamitastechnika\n",
      "Reading file: Data/gyakori_egeszseg_20000\n",
      "Reading file: Data/gyakori_szorakozas_30000\n",
      "Reading file: Data/gyakori_egeszseg\n",
      "Reading file: Data/gyakori_allatok_14000\n"
     ]
    }
   ],
   "source": [
    "json_data = []\n",
    "\n",
    "for file in find_files('Data/*'):\n",
    "    print(\"Reading file:\", file)\n",
    "    json_data.append(read_json(file))"
   ]
  },
  {
   "cell_type": "markdown",
   "metadata": {},
   "source": [
    "### Dataframe-mé alakítás"
   ]
  },
  {
   "cell_type": "code",
   "execution_count": 5,
   "metadata": {
    "scrolled": true
   },
   "outputs": [],
   "source": [
    "data_frames = []\n",
    "\n",
    "for data in json_data:\n",
    "    data_frames.append(pd.DataFrame(data))"
   ]
  },
  {
   "cell_type": "markdown",
   "metadata": {},
   "source": [
    "### Bepillantás a kérdésekbe"
   ]
  },
  {
   "cell_type": "code",
   "execution_count": 6,
   "metadata": {},
   "outputs": [
    {
     "name": "stdout",
     "output_type": "stream",
     "text": [
      "                                              valasz  \\\n",
      "0  Várak régen is voltak. Ha mindhárom tornyot le...   \n",
      "1  Ahogy írták, az stdio az a C-s függvénykönyvtá...   \n",
      "\n",
      "                        kategoriak  \\\n",
      "0     [Számítástechnika, Internet]   \n",
      "1  [Számítástechnika, Programozás]   \n",
      "\n",
      "                                       hosszu_kerdes  \\\n",
      "0  Miért lett ilyen sz@r a honfoglaló? Régen tök ...   \n",
      "1  C++-ban melyiket érdemesebb használni? Stdio v...   \n",
      "\n",
      "                                        rovid_kerdes  \\\n",
      "0                Miért lett ilyen sz@r a honfoglaló?   \n",
      "1  C++-ban melyiket érdemesebb használni? Stdio v...   \n",
      "\n",
      "                                          keywords  \n",
      "0                                [Honfoglaló, vár]  \n",
      "1  [C++, iostream, konzol, Windows, Visual Studio]  \n",
      "--------------------------------------------------\n",
      "                                            keywords  \\\n",
      "0              [inzulinrezisztencia, diéta, reggeli]   \n",
      "1  [nőgyógyászat, kivizsgálás, fájdalom, magánren...   \n",
      "\n",
      "                                       hosszu_kerdes  \\\n",
      "0  Inzulinrezisztencia diétában mennyire kell kom...   \n",
      "1  Ha Borsod megyei vagyok, attól még mehetek mag...   \n",
      "\n",
      "                                              valasz  \\\n",
      "0  Eléggé. Az ébredéstől egy órán belül meg kelle...   \n",
      "1                        Akárkihez mehetsz, akárhol.   \n",
      "\n",
      "                                        rovid_kerdes  \\\n",
      "0  Inzulinrezisztencia diétában mennyire kell kom...   \n",
      "1  Ha Borsod megyei vagyok, attól még mehetek mag...   \n",
      "\n",
      "                  kategoriak  \n",
      "0    [Egészség, Táplálkozás]  \n",
      "1  [Egészség, Nők egészsége]  \n",
      "--------------------------------------------------\n",
      "                        kategoriak  \\\n",
      "0  [Szórakozás, Filmek, sorozatok]   \n",
      "1  [Szórakozás, Filmek, sorozatok]   \n",
      "\n",
      "                                       hosszu_kerdes  \\\n",
      "0  Milyen animék vannak amikben a tanulás szerepe...   \n",
      "1  Nem látta már valaki véletlen ezt a filmet? Ez...   \n",
      "\n",
      "                                        rovid_kerdes  \\\n",
      "0  Milyen animék vannak amikben a tanulás szerepe...   \n",
      "1  Nem látta már valaki véletlen ezt a filmet? Ez...   \n",
      "\n",
      "                              keywords  \\\n",
      "0       [rész, tanulás, iskola, anime]   \n",
      "1  [Tumblr, film, gif, mozgókép, csók]   \n",
      "\n",
      "                                              valasz  \n",
      "0  Baka To TestAnsatsu KyoushitsuBokutachi wa Ben...  \n",
      "1  Nagyon ügyes a barátod, én is szoktam vele bes...  \n",
      "--------------------------------------------------\n",
      "                         kategoriak  \\\n",
      "0  [Egészség, Sérülések, balesetek]   \n",
      "1     [Egészség, Mentális egészség]   \n",
      "\n",
      "                                              valasz  \\\n",
      "0  Komolyan az eszem megáll! Azt, hogy leforrázta...   \n",
      "1  Nekem sokat segített a pszichológus ebben a té...   \n",
      "\n",
      "                                       hosszu_kerdes  \\\n",
      "0  Ma sajnos leforráztam a kisbabám lábát! Úgy go...   \n",
      "1  Mi a neve ennek a mentális betegségnek? A pszi...   \n",
      "\n",
      "                                        rovid_kerdes  \\\n",
      "0  Ma sajnos leforráztam a kisbabám lábát! Úgy go...   \n",
      "1  Mi a neve ennek a mentális betegségnek? A pszi...   \n",
      "\n",
      "                                            keywords  \n",
      "0                      [baba, forró víz, leforrázás]  \n",
      "1  [pszichológia, pszichológus, lélek, elme, fóbi...  \n",
      "--------------------------------------------------\n",
      "                                        rovid_kerdes  \\\n",
      "0  Nagy terület őrzésére milyen kutyát javasolnát...   \n",
      "1  Az álllatorvosunkat alig lehet elérni. Ez szer...   \n",
      "\n",
      "                                       hosszu_kerdes  \\\n",
      "0  Nagy terület őrzésére milyen kutyát javasolnát...   \n",
      "1  Az álllatorvosunkat alig lehet elérni. Ez szer...   \n",
      "\n",
      "                                              valasz  \\\n",
      "0  A komondor/kuvasz páros kimondottan ezekre a f...   \n",
      "1                        Keress másik orvost. Ennyi.   \n",
      "\n",
      "                  kategoriak                 keywords  \n",
      "0          [Állatok, Kutyák]  [kutya, őrkutya, aktív]  \n",
      "1  [Állatok, Egyéb kérdések]    [állatorvos, időpont]  \n",
      "--------------------------------------------------\n"
     ]
    }
   ],
   "source": [
    "for frame in data_frames:\n",
    "    print(frame.head(2))\n",
    "    for i in range(0, 25):\n",
    "        print(\"--\", end=\"\")\n",
    "    print()"
   ]
  },
  {
   "cell_type": "markdown",
   "metadata": {},
   "source": [
    "### Kérdések megszámolása, átlagos hossz számolása"
   ]
  },
  {
   "cell_type": "code",
   "execution_count": 25,
   "metadata": {},
   "outputs": [],
   "source": [
    "def calculate_avg(data_frames, label=\"rovid_kerdes\"):\n",
    "    avg = 0\n",
    "    count = 0\n",
    "    \n",
    "    for frame in data_frames:\n",
    "        for index, row in frame.iterrows():\n",
    "            avg += len(row[label])\n",
    "            count += 1\n",
    "\n",
    "    avg = avg / count\n",
    "    \n",
    "    return avg, count"
   ]
  },
  {
   "cell_type": "markdown",
   "metadata": {},
   "source": [
    "### Extrém rövid/hosszú kérdések eldobása"
   ]
  },
  {
   "cell_type": "code",
   "execution_count": 44,
   "metadata": {},
   "outputs": [],
   "source": [
    "def drop_extreme(data_frames, min_, max_, label=\"rovid_kerdes\"):\n",
    "    for idx, frame in enumerate(data_frames):\n",
    "        frame = frame[frame[label].map(len) >= min_]\n",
    "        frame = frame[frame[label].map(len) <= max_]\n",
    "\n",
    "        data_frames[idx] = frame"
   ]
  },
  {
   "cell_type": "code",
   "execution_count": 46,
   "metadata": {},
   "outputs": [
    {
     "name": "stdout",
     "output_type": "stream",
     "text": [
      "Number of questions: 137265\n",
      "Average length: 326.753950\n"
     ]
    }
   ],
   "source": [
    "long_questions_avg_len, questions_count = calculate_avg(data_frames, \"hosszu_kerdes\")\n",
    "\n",
    "print(\"Number of questions: %d\" % questions_count)\n",
    "print(\"Average length: %f\" % long_questions_avg_len)"
   ]
  },
  {
   "cell_type": "code",
   "execution_count": 47,
   "metadata": {},
   "outputs": [
    {
     "name": "stdout",
     "output_type": "stream",
     "text": [
      "Number of questions: 136245\n",
      "Average length: 321.648494\n"
     ]
    }
   ],
   "source": [
    "drop_extreme(data_frames, long_questions_avg_len / 4, long_questions_avg_len * 3, \"hosszu_kerdes\")\n",
    "long_questions_avg_len, questions_count = calculate_avg(data_frames, \"hosszu_kerdes\")\n",
    "\n",
    "print(\"Number of questions: %d\" % questions_count)\n",
    "print(\"Average length: %f\" % long_questions_avg_len)"
   ]
  },
  {
   "cell_type": "code",
   "execution_count": 60,
   "metadata": {},
   "outputs": [
    {
     "name": "stdout",
     "output_type": "stream",
     "text": [
      "['Számítástechnika', 'Egészség', 'Szórakozás', 'Állatok']\n"
     ]
    }
   ],
   "source": [
    "target_dir = {}\n",
    "target_names = []\n",
    "\n",
    "target_values = []\n",
    "long_questions = []\n",
    "\n",
    "for frame in data_frames:\n",
    "    for idx in frame.index:\n",
    "        category = frame[\"kategoriak\"][idx][0]\n",
    "        if category not in target_names:\n",
    "            target_dir[category] = len(target_dir)\n",
    "            target_names.append(category)\n",
    "        target_values.append(target_dir[category])\n",
    "        long_questions.append(frame[\"hosszu_kerdes\"][idx])\n",
    "print(target_names)        "
   ]
  },
  {
   "cell_type": "code",
   "execution_count": 61,
   "metadata": {},
   "outputs": [
    {
     "name": "stdout",
     "output_type": "stream",
     "text": [
      "Állatok\n",
      "Dzsungáriai törpehörcsög vagy Roborovszki hörcsög? -tartása- Nem tudom eldönteni, mivel mind a kettő cuki KÜLSŐRE :D igazából azt szeretném hogy lehessen simogatni, \"babusgatni\" melyik jobb választás a két höri közül? És le tudnátok írni a tartását? Csak úgy akarom megvenni,hogy tudom, alkalmas vagyok-e arra hogy tartsak ilyen állatkát :) nem szeretném, hogy rosszul érezze magát. Válaszokat előre is köszönöm.\n",
      "--------------------------------------\n",
      "Egészség\n",
      "Miért van ez? Öt napja kèsik..de a hasamban írgalmas fäjdalom van ....ami szokott elötte lenni..de most nincs semmi mäs ,csak hasfäjäs...Terhesn nem lehetek...nem elek nemi èletet...Szerintetek?\n",
      "--------------------------------------\n",
      "Szórakozás\n",
      "Leiner Laurának a legújabb könyvében (hullócsillag) van egy selfie alkalmazás. Az létezik? Márk és Beki csinálják a képet, és az utolsó képen Márk egy puszit ad Beki arcára. Köszönöm a válaszokat!\n",
      "--------------------------------------\n",
      "Egészség\n",
      "Dohányzás bio módra?  [link] Szeretnék e cigot venni de sokan mondják h van benne káros anyag a nikotinmentesben is  itt csak jókat olvastam róla szoval ez mukodhet vagy átver3s?\n",
      "--------------------------------------\n",
      "Egészség\n",
      "Milyen betegsége lehet neki? Pár napja láttam egy fiatal lányt a boltban, kb. 16 lehetett, és egy vékony cső volt a felkarjában, a válla környékén.Körülbelül úgy nézett ki, mint egy infúziós branül, de volt körülötte egy fehér, ovális alakú műanyag lap is.Mi lehetett az? Milyen betegségre utalhat, ha valakiben ilyen van? Mit kaphat ezen a csövön keresztül?\n",
      "--------------------------------------\n"
     ]
    }
   ],
   "source": [
    "import random\n",
    "\n",
    "paired = list(zip(target_values, long_questions))\n",
    "\n",
    "random.shuffle(paired)\n",
    "\n",
    "target_values, long_questions = zip(*paired)\n",
    "\n",
    "for i in range(0, 5):\n",
    "    print(target_names[target_values[i]])\n",
    "    print(long_questions[i])\n",
    "    print(\"--------------------------------------\")"
   ]
  }
 ],
 "metadata": {
  "kernelspec": {
   "display_name": "Python 3",
   "language": "python",
   "name": "python3"
  },
  "language_info": {
   "codemirror_mode": {
    "name": "ipython",
    "version": 3
   },
   "file_extension": ".py",
   "mimetype": "text/x-python",
   "name": "python",
   "nbconvert_exporter": "python",
   "pygments_lexer": "ipython3",
   "version": "3.8.5"
  }
 },
 "nbformat": 4,
 "nbformat_minor": 4
}
