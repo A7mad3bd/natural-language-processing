{
 "cells": [
  {
   "cell_type": "code",
   "execution_count": 229,
   "metadata": {},
   "outputs": [],
   "source": [
    "import sys\n",
    "import os\n",
    "import glob\n",
    "import json\n",
    "import pandas as pd\n",
    "%matplotlib inline\n",
    "import matplotlib\n",
    "import numpy as np"
   ]
  },
  {
   "cell_type": "code",
   "execution_count": 230,
   "metadata": {},
   "outputs": [],
   "source": [
    "def find_files(path):\n",
    "    return glob.glob(path)"
   ]
  },
  {
   "cell_type": "code",
   "execution_count": 231,
   "metadata": {},
   "outputs": [],
   "source": [
    "def read_json(filename):\n",
    "    with open(filename) as json_file:\n",
    "        data = json.load(json_file)\n",
    "    return data"
   ]
  },
  {
   "cell_type": "markdown",
   "metadata": {},
   "source": [
    "## Adatok olvasása\n",
    "Adatok beolvasása JSON fájlként, majd egy nagy pandas-os DataFrame-mé alakítása."
   ]
  },
  {
   "cell_type": "code",
   "execution_count": 232,
   "metadata": {},
   "outputs": [
    {
     "name": "stdout",
     "output_type": "stream",
     "text": [
      "Reading file: Data/gyakori_szamitastechnika\n",
      "Reading file: Data/gyakori_egeszseg_20000\n",
      "Reading file: Data/gyakori_szorakozas_30000\n",
      "Reading file: Data/gyakori_egeszseg\n",
      "Reading file: Data/gyakori_allatok_14000\n"
     ]
    }
   ],
   "source": [
    "json_data = []\n",
    "\n",
    "for file in find_files('Data/*'):\n",
    "    print(\"Reading file:\", file)\n",
    "    json_data.append(read_json(file))\n",
    "    \n",
    "data_frame = pd.DataFrame()\n",
    "\n",
    "for data in json_data:\n",
    "    frames  = [data_frame, pd.DataFrame(data)]\n",
    "    data_frame = pd.concat(frames).reset_index(drop=True)"
   ]
  },
  {
   "cell_type": "markdown",
   "metadata": {},
   "source": [
    "## Bepillantás a kérdésekbe\n",
    "Csak hogy tudjuk pontosan mivel is állunk szemben. Minden kérdéshez tartozik a kérdés rövid, illetve hosszú verziója, egy válasz, amit a felhasználók a leghasznosabbnak találtak. Ezeken kívül kategóriák és kulcsszavak is vannak a kérdéshez."
   ]
  },
  {
   "cell_type": "code",
   "execution_count": 233,
   "metadata": {},
   "outputs": [
    {
     "data": {
      "text/html": [
       "<div>\n",
       "<style scoped>\n",
       "    .dataframe tbody tr th:only-of-type {\n",
       "        vertical-align: middle;\n",
       "    }\n",
       "\n",
       "    .dataframe tbody tr th {\n",
       "        vertical-align: top;\n",
       "    }\n",
       "\n",
       "    .dataframe thead th {\n",
       "        text-align: right;\n",
       "    }\n",
       "</style>\n",
       "<table border=\"1\" class=\"dataframe\">\n",
       "  <thead>\n",
       "    <tr style=\"text-align: right;\">\n",
       "      <th></th>\n",
       "      <th>valasz</th>\n",
       "      <th>kategoriak</th>\n",
       "      <th>hosszu_kerdes</th>\n",
       "      <th>rovid_kerdes</th>\n",
       "      <th>keywords</th>\n",
       "    </tr>\n",
       "  </thead>\n",
       "  <tbody>\n",
       "    <tr>\n",
       "      <th>0</th>\n",
       "      <td>Várak régen is voltak. Ha mindhárom tornyot le...</td>\n",
       "      <td>[Számítástechnika, Internet]</td>\n",
       "      <td>Miért lett ilyen sz@r a honfoglaló? Régen tök ...</td>\n",
       "      <td>Miért lett ilyen sz@r a honfoglaló?</td>\n",
       "      <td>[Honfoglaló, vár]</td>\n",
       "    </tr>\n",
       "    <tr>\n",
       "      <th>1</th>\n",
       "      <td>Ahogy írták, az stdio az a C-s függvénykönyvtá...</td>\n",
       "      <td>[Számítástechnika, Programozás]</td>\n",
       "      <td>C++-ban melyiket érdemesebb használni? Stdio v...</td>\n",
       "      <td>C++-ban melyiket érdemesebb használni? Stdio v...</td>\n",
       "      <td>[C++, iostream, konzol, Windows, Visual Studio]</td>\n",
       "    </tr>\n",
       "  </tbody>\n",
       "</table>\n",
       "</div>"
      ],
      "text/plain": [
       "                                              valasz  \\\n",
       "0  Várak régen is voltak. Ha mindhárom tornyot le...   \n",
       "1  Ahogy írták, az stdio az a C-s függvénykönyvtá...   \n",
       "\n",
       "                        kategoriak  \\\n",
       "0     [Számítástechnika, Internet]   \n",
       "1  [Számítástechnika, Programozás]   \n",
       "\n",
       "                                       hosszu_kerdes  \\\n",
       "0  Miért lett ilyen sz@r a honfoglaló? Régen tök ...   \n",
       "1  C++-ban melyiket érdemesebb használni? Stdio v...   \n",
       "\n",
       "                                        rovid_kerdes  \\\n",
       "0                Miért lett ilyen sz@r a honfoglaló?   \n",
       "1  C++-ban melyiket érdemesebb használni? Stdio v...   \n",
       "\n",
       "                                          keywords  \n",
       "0                                [Honfoglaló, vár]  \n",
       "1  [C++, iostream, konzol, Windows, Visual Studio]  "
      ]
     },
     "execution_count": 233,
     "metadata": {},
     "output_type": "execute_result"
    }
   ],
   "source": [
    "data_frame.head(2)"
   ]
  },
  {
   "cell_type": "markdown",
   "metadata": {},
   "source": [
    "## Átlagos hossz, extrém esetek szűrése\n",
    "Az extrém hosszú vagy rövid kérdések nem túl hasznosak. Érdemes őket kiszűrni. Az átlagostól sokkal eltérő kérdéseket nem használjuk a továbbiakban."
   ]
  },
  {
   "cell_type": "code",
   "execution_count": 234,
   "metadata": {},
   "outputs": [],
   "source": [
    "def calculate_avg(data_frame, label=\"rovid_kerdes\"):\n",
    "    l = data_frame[label].tolist()\n",
    "    return sum(map(len, l)) / len(l)\n",
    "\n",
    "def drop_extreme(data_frame, min_, max_, label=\"rovid_kerdes\"):\n",
    "    data_frame = data_frame[data_frame[label].map(len) >= min_]\n",
    "    data_frame = data_frame[data_frame[label].map(len) <= max_]\n",
    "\n",
    "    return data_frame"
   ]
  },
  {
   "cell_type": "code",
   "execution_count": 235,
   "metadata": {},
   "outputs": [
    {
     "name": "stdout",
     "output_type": "stream",
     "text": [
      "Average length: 346.495816\n"
     ]
    }
   ],
   "source": [
    "long_questions_avg_len = calculate_avg(data_frame, \"hosszu_kerdes\")\n",
    "print(\"Average length: %f\" % long_questions_avg_len)"
   ]
  },
  {
   "cell_type": "code",
   "execution_count": 236,
   "metadata": {},
   "outputs": [
    {
     "name": "stdout",
     "output_type": "stream",
     "text": [
      "Average length: 326.753950\n"
     ]
    }
   ],
   "source": [
    "data_frame = drop_extreme(data_frame, long_questions_avg_len / 4, long_questions_avg_len * 3, \"hosszu_kerdes\")\n",
    "long_questions_avg_len = calculate_avg(data_frame, \"hosszu_kerdes\")\n",
    "\n",
    "print(\"Average length: %f\" % long_questions_avg_len)"
   ]
  },
  {
   "cell_type": "markdown",
   "metadata": {},
   "source": [
    "## \"Főkategóriák\" kigyűjtése\n",
    "Az egyes főkategóriák neveinek kigyűjtése, majd az egyes nevekhez egy azonosító szám rendelése."
   ]
  },
  {
   "cell_type": "code",
   "execution_count": 237,
   "metadata": {},
   "outputs": [
    {
     "name": "stdout",
     "output_type": "stream",
     "text": [
      "['Számítástechnika', 'Egészség', 'Szórakozás', 'Állatok']\n",
      "{'Számítástechnika': 0, 'Egészség': 1, 'Szórakozás': 2, 'Állatok': 3}\n"
     ]
    }
   ],
   "source": [
    "target_names = data_frame['kategoriak'].apply(lambda x: x[0]).unique().tolist()\n",
    "target_dict =  {value: key for key, value in enumerate(target_names)}\n",
    "\n",
    "num_of_categories = len(target_names)\n",
    "\n",
    "print(target_names)\n",
    "print(target_dict)"
   ]
  },
  {
   "cell_type": "markdown",
   "metadata": {},
   "source": [
    "## Tanító adathalmaz előállítása\n",
    "A tanító adathalmazban minden egyes főkategóriából ugyanannyi kérdésnek kell szerepelnie (így fair). Itt pontosan ez történik `questions_from_each_category` darab kérdés kerül a tanító adathalmazba minden kategóriából, majd az eredményül kapott tömb véletlenszerűen összekeveredik.\n",
    "\n",
    "#### Shuffle together\n",
    "A shuffle_together függvény két listát véletlenszerűen kever össze, úgy, hogy az a keverés előtt az egyes listákban azonos indexen szereplő értékek a keverés után is azonos indexen lesznek."
   ]
  },
  {
   "cell_type": "code",
   "execution_count": 238,
   "metadata": {},
   "outputs": [],
   "source": [
    "def shuffle_together(list1, list2):\n",
    "    zipped = list(zip(list1, list2))\n",
    "    random.shuffle(zipped)\n",
    "    list1, list2 = zip(*zipped)\n",
    "    \n",
    "    return (list(list1), list(list2))"
   ]
  },
  {
   "cell_type": "code",
   "execution_count": 239,
   "metadata": {},
   "outputs": [],
   "source": [
    "train_ratio = 0.80\n",
    "test_ratio = 1.0 - train_ratio\n",
    "\n",
    "min_amount = float('inf')\n",
    "\n",
    "for target_name in target_names:\n",
    "    amount = len(data_frame[data_frame[\"kategoriak\"].apply(lambda x : x[0]) == target_name]['kategoriak'])\n",
    "    min_amount = min(amount, min_amount)\n",
    "\n",
    "train_each_ctg = int(min_amount * train_ratio)\n",
    "test_each_ctg = int(min_amount * test_ratio)"
   ]
  },
  {
   "cell_type": "code",
   "execution_count": 240,
   "metadata": {},
   "outputs": [],
   "source": [
    "import random\n",
    "\n",
    "train_size = train_each_ctg * num_of_categories\n",
    "train_questions = []\n",
    "train_target = []\n",
    "\n",
    "test_size = test_each_ctg * num_of_categories\n",
    "test_questions = []\n",
    "test_target = []\n",
    "\n",
    "# Shuffle rows\n",
    "data_frame = data_frame.sample(frac=1).reset_index(drop=True)\n",
    "\n",
    "\n",
    "for target_name in target_names:\n",
    "    train_questions += data_frame[data_frame[\"kategoriak\"].apply(lambda x: x[0]) == target_name][0:train_each_ctg][\"hosszu_kerdes\"].to_list()\n",
    "    train_target += [target_dict[target_name]] * train_each_ctg    \n",
    "    \n",
    "    test_questions += data_frame[data_frame[\"kategoriak\"].apply(lambda x: x[0]) == target_name][train_each_ctg:train_each_ctg + test_each_ctg][\"hosszu_kerdes\"].to_list()\n",
    "    test_target += [target_dict[target_name]] * test_each_ctg    \n",
    "   \n",
    "train_questions, train_target = shuffle_together(train_questions, train_target)\n",
    "test_questions, test_target = shuffle_together(test_questions, test_target)"
   ]
  },
  {
   "cell_type": "code",
   "execution_count": 241,
   "metadata": {},
   "outputs": [],
   "source": [
    "def unicode_to_ascii(data):\n",
    "    return unidecode.unidecode(re.sub(r\"[,.;@#?!&$]+\\ *\", \" \", data).lower()).split()"
   ]
  },
  {
   "cell_type": "code",
   "execution_count": 242,
   "metadata": {
    "scrolled": false
   },
   "outputs": [],
   "source": [
    "import unidecode\n",
    "import re\n",
    "from collections import Counter\n",
    "\n",
    "vocab = set()\n",
    "\n",
    "for idx, q in enumerate(train_questions):\n",
    "    words = unicode_to_ascii(q)\n",
    "\n",
    "    for idx in range(len(words)):\n",
    "        vocab.add(words[idx])\n",
    "\n",
    "    train_questions[idx] = \" \".join(words)\n",
    "\n",
    "vocab_size = len(vocab)\n",
    "\n",
    "index_to_word = {}\n",
    "\n",
    "for idx, word in enumerate(vocab):\n",
    "    index_to_word[word] = idx"
   ]
  },
  {
   "cell_type": "code",
   "execution_count": 243,
   "metadata": {},
   "outputs": [],
   "source": [
    "def get_batch(text, target, i, batch_size, input_size, index_to):\n",
    "\n",
    "    batches = []\n",
    "    results = []\n",
    "    \n",
    "    texts = text[i * batch_size : i * batch_size + batch_size]\n",
    "    categories = target[i * batch_size : i * batch_size + batch_size]\n",
    "\n",
    "    for text in texts:\n",
    "        layer = np.zeros(input_size , dtype=float)\n",
    "        words = unicode_to_ascii(text)\n",
    "        \n",
    "        for idx in range(len(words)):\n",
    "            if words[idx] in index_to:\n",
    "                layer[index_to[words[idx]]] += 1\n",
    "            \n",
    "        batches.append(layer)\n",
    "        \n",
    "    for category in categories:\n",
    "        results.append(category)\n",
    "     \n",
    "    return np.array(batches), np.array(results)"
   ]
  },
  {
   "cell_type": "code",
   "execution_count": 244,
   "metadata": {},
   "outputs": [],
   "source": [
    "learning_rate = 0.01\n",
    "num_epochs = 2\n",
    "batch_size = 200\n",
    "\n",
    "hidden_size = 100\n",
    "input_size = vocab_size\n",
    "num_classes = len(target_names)"
   ]
  },
  {
   "cell_type": "code",
   "execution_count": 245,
   "metadata": {},
   "outputs": [],
   "source": [
    "from torch.autograd import Variable\n",
    "import torch.nn as nn\n",
    "import torch"
   ]
  },
  {
   "cell_type": "code",
   "execution_count": 246,
   "metadata": {},
   "outputs": [],
   "source": [
    "class BOWClassification(nn.Module):\n",
    "     def __init__(self, input_size, hidden_size, num_classes):\n",
    "        super(BOWClassification, self).__init__()\n",
    "        self.layer_1 = nn.Linear(input_size, hidden_size, bias=True)\n",
    "        self.relu = nn.ReLU()\n",
    "        self.layer_2 = nn.Linear(hidden_size, hidden_size, bias=True)\n",
    "        self.output_layer = nn.Linear(hidden_size, num_classes, bias=True)\n",
    " \n",
    "     def forward(self, x):\n",
    "        out = self.layer_1(x)\n",
    "        out = self.relu(out)\n",
    "        out = self.layer_2(out)\n",
    "        out = self.relu(out)\n",
    "        out = self.output_layer(out)\n",
    "        return out"
   ]
  },
  {
   "cell_type": "code",
   "execution_count": 247,
   "metadata": {},
   "outputs": [
    {
     "name": "stdout",
     "output_type": "stream",
     "text": [
      "Epoch 1/2: \n",
      "[321/321] 100.00%\n",
      "Epoch 2/2: \n",
      "[321/321] 100.00%"
     ]
    }
   ],
   "source": [
    "net = BOWClassification(vocab_size, hidden_size, num_classes)\n",
    "\n",
    "criterion = nn.CrossEntropyLoss()  \n",
    "optimizer = torch.optim.Adam(net.parameters(), lr=learning_rate)  \n",
    "\n",
    "\n",
    "for epoch in range(num_epochs):\n",
    "    if epoch:\n",
    "        print()\n",
    "    print(\"Epoch %d/%d: \" % (epoch + 1, num_epochs))\n",
    "    total_batch = len(train_questions) // batch_size\n",
    "    for i in range(total_batch):\n",
    "        batch_x, batch_y = get_batch(train_questions, train_target, i, batch_size, vocab_size, index_to_word)\n",
    "        questions = Variable(torch.FloatTensor(batch_x))\n",
    "        themes = Variable(torch.LongTensor(batch_y))\n",
    "        \n",
    "        optimizer.zero_grad()\n",
    "        outputs = net(questions)\n",
    "        loss = criterion(outputs, themes)\n",
    "        loss.backward()\n",
    "        optimizer.step()\n",
    "        \n",
    "        print(\"\\r[%d/%d] %.2f%%\" % (i + 1, total_batch, (i + 1)/ total_batch * 100), end=\"\")"
   ]
  },
  {
   "cell_type": "code",
   "execution_count": 248,
   "metadata": {},
   "outputs": [
    {
     "name": "stdout",
     "output_type": "stream",
     "text": [
      "Testing... [80/80] 100.00%"
     ]
    }
   ],
   "source": [
    "total_batch = test_size // batch_size\n",
    "\n",
    "total_pred = []\n",
    "\n",
    "for i in range(total_batch):\n",
    "    test_batch_x, test_batch_y = get_batch(test_questions, test_target, i, batch_size, vocab_size, index_to_word)\n",
    "    print(\"\\rTesting... [%d/%d] %.2f%%\" % (i + 1, total_batch, (i + 1)/ total_batch * 100), end=\"\")\n",
    "    \n",
    "    questions = Variable(torch.FloatTensor(test_batch_x))\n",
    "    themes = Variable(torch.FloatTensor(test_batch_y))\n",
    "    \n",
    "    outputs = net(questions)\n",
    "    _, predicted = torch.max(outputs.data, 1)\n",
    "    total_pred += predicted.tolist()"
   ]
  },
  {
   "cell_type": "markdown",
   "metadata": {},
   "source": [
    "## Tesztelés eredémye\n",
    "\n",
    "### Confusion matrix\n",
    "Tévesztési mátrix magyarul. A mátrix `i` sorában, `j` oszlopában szereplő érték (ebben az esetben) azt jelenti, hogy a mondat a `i` kategóriájú, de a háló `j` kategóriát ismert fel."
   ]
  },
  {
   "cell_type": "code",
   "execution_count": 251,
   "metadata": {},
   "outputs": [
    {
     "data": {
      "image/png": "[encoded data removed]",
      "text/plain": [
       "<Figure size 720x576 with 1 Axes>"
      ]
     },
     "metadata": {
      "needs_background": "light"
     },
     "output_type": "display_data"
    }
   ],
   "source": [
    "from sklearn.metrics import confusion_matrix\n",
    "import seaborn as sn\n",
    "import matplotlib.pyplot as plt\n",
    "\n",
    "cm = confusion_matrix(test_target[0:len(total_pred)], total_pred)\n",
    "cm_df = pd.DataFrame(cm, index=target_names, columns=target_names)\n",
    "\n",
    "plt.figure(figsize = (10,8))\n",
    "heatmap = sn.heatmap(cm_df, annot=True, cmap='Reds', fmt='g', annot_kws={\"size\": 15}, cbar=False)\n",
    "plt.show()"
   ]
  },
  {
   "cell_type": "code",
   "execution_count": 254,
   "metadata": {},
   "outputs": [
    {
     "name": "stdout",
     "output_type": "stream",
     "text": [
      "                  precision    recall  f1-score   support\n",
      "\n",
      "Számítástechnika       0.95      0.82      0.88      4002\n",
      "        Egészség       0.85      0.96      0.90      4006\n",
      "      Szórakozás       0.85      0.91      0.88      3992\n",
      "         Állatok       0.97      0.90      0.93      4000\n",
      "\n",
      "        accuracy                           0.90     16000\n",
      "       macro avg       0.91      0.90      0.90     16000\n",
      "    weighted avg       0.91      0.90      0.90     16000\n",
      "\n"
     ]
    }
   ],
   "source": [
    "from sklearn.metrics import classification_report\n",
    "\n",
    "class_report = classification_report(test_target[0:len(total_pred)], total_pred, target_names=target_names)\n",
    "print(class_report)"
   ]
  },
  {
   "cell_type": "markdown",
   "metadata": {},
   "source": [
    "## Alkategória osztályozás"
   ]
  },
  {
   "cell_type": "code",
   "execution_count": 255,
   "metadata": {},
   "outputs": [],
   "source": [
    "target_names_subctg = {}\n",
    "target_dict_subctg = {}\n",
    "\n",
    "for mainctg in target_names:\n",
    "    mainctg_rows = data_frame[data_frame[\"kategoriak\"].apply(lambda x : x[0]) == mainctg]\n",
    "    list_of_subctg = mainctg_rows[\"kategoriak\"].apply(lambda x : x[1]).unique().tolist()\n",
    "\n",
    "    target_dict_subctg[mainctg] = {value: key for key, value in enumerate(list_of_subctg)}\n",
    "    target_names_subctg[mainctg] = list_of_subctg\n"
   ]
  },
  {
   "cell_type": "code",
   "execution_count": 256,
   "metadata": {},
   "outputs": [],
   "source": [
    "min_amount_subctg = {}\n",
    "train_each_subctg = {}\n",
    "test_each_subctg = {}\n",
    "\n",
    "num_of_subcategories = {}\n",
    "\n",
    "for mainctg in target_names:\n",
    "    \n",
    "    num_of_subcategories[mainctg] = len(target_names_subctg[mainctg])\n",
    "    \n",
    "    min_amount = float('inf')\n",
    "    for subctg in target_names_subctg[mainctg]:\n",
    "        amount = len(data_frame[data_frame[\"kategoriak\"].apply(tuple) == (mainctg, subctg)][\"kategoriak\"])\n",
    "        min_amount = min(min_amount, amount)\n",
    "\n",
    "    min_amount_subctg[mainctg] = min_amount\n",
    "    train_each_subctg[mainctg] = int(min_amount * train_ratio)\n",
    "    test_each_subctg[mainctg] = int(min_amount * test_ratio)"
   ]
  },
  {
   "cell_type": "code",
   "execution_count": 257,
   "metadata": {},
   "outputs": [],
   "source": [
    "train_questions_subctg = {}\n",
    "train_size_subctg = {}\n",
    "train_target_subctg = {}\n",
    "\n",
    "test_questions_subctg = {}\n",
    "test_size_subctg = {}\n",
    "test_target_subctg = {}\n",
    "\n",
    "for mainctg in target_names:\n",
    "    \n",
    "    train_size_subctg[mainctg] = train_each_subctg[mainctg] * num_of_subcategories[mainctg]\n",
    "    test_size_subctg[mainctg] = test_each_subctg[mainctg] * num_of_subcategories[mainctg]\n",
    "    \n",
    "    for subctg in target_names_subctg[mainctg]:\n",
    "        if mainctg not in train_questions_subctg:\n",
    "            train_questions_subctg[mainctg] = []\n",
    "            train_target_subctg[mainctg] = []\n",
    "            test_questions_subctg[mainctg] = []\n",
    "            test_target_subctg[mainctg] = []\n",
    "\n",
    "        train_questions_subctg[mainctg] += data_frame[data_frame[\"kategoriak\"].apply(tuple) == (mainctg, subctg)][0:train_each_subctg[mainctg]][\"hosszu_kerdes\"].to_list()\n",
    "        train_target_subctg[mainctg] += [target_dict_subctg[mainctg][subctg]] * train_each_subctg[mainctg] \n",
    "        \n",
    "        test_questions_subctg[mainctg] += data_frame[data_frame[\"kategoriak\"].apply(tuple) == (mainctg, subctg)][train_each_subctg[mainctg]:train_each_subctg[mainctg] + test_each_subctg[mainctg]][\"hosszu_kerdes\"].to_list()\n",
    "        test_target_subctg[mainctg] += [target_dict_subctg[mainctg][subctg]] * test_each_subctg[mainctg] \n",
    "\n",
    "    train_questions_subctg[mainctg], train_target_subctg[mainctg] = shuffle_together(train_questions_subctg[mainctg], train_target_subctg[mainctg])\n",
    "    test_questions_subctg[mainctg], test_target_subctg[mainctg] = shuffle_together(test_questions_subctg[mainctg], test_target_subctg[mainctg])"
   ]
  },
  {
   "cell_type": "code",
   "execution_count": 258,
   "metadata": {},
   "outputs": [],
   "source": [
    "vocab_subctg = {}\n",
    "vocab_size_subctg = {}\n",
    "index_to_word_subctg = {}\n",
    "\n",
    "for mainctg in target_names:\n",
    "    vocab_subctg[mainctg] = set()\n",
    "    \n",
    "    for idx, q in enumerate(train_questions_subctg[mainctg]):\n",
    "        words = unicode_to_ascii(q)\n",
    "        \n",
    "        for idx in range(len(words)):\n",
    "            vocab_subctg[mainctg].add(words[idx])\n",
    "            \n",
    "        train_questions_subctg[mainctg][idx] = \" \".join(words)\n",
    "    \n",
    "    vocab_size_subctg[mainctg] = len(vocab_subctg[mainctg])\n",
    "\n",
    "    index_to_word_subctg[mainctg] = {}\n",
    "    \n",
    "    for idx, word in enumerate(vocab_subctg[mainctg]):\n",
    "        index_to_word_subctg[mainctg][word] = idx"
   ]
  },
  {
   "cell_type": "code",
   "execution_count": 259,
   "metadata": {},
   "outputs": [],
   "source": [
    "learning_rate = 0.05\n",
    "num_epochs = 5\n",
    "batch_size = 50\n",
    "\n",
    "hidden_size = 200"
   ]
  },
  {
   "cell_type": "code",
   "execution_count": null,
   "metadata": {},
   "outputs": [
    {
     "name": "stdout",
     "output_type": "stream",
     "text": [
      "Számítástechnika\n",
      "Epoch 1/5: \n",
      "[72/72] 100.00%\n",
      "Epoch 2/5: \n",
      "[72/72] 100.00%\n",
      "Epoch 3/5: \n",
      "[72/72] 100.00%\n",
      "Epoch 4/5: \n",
      "[72/72] 100.00%\n",
      "Epoch 5/5: \n",
      "[72/72] 100.00%\n",
      "Egészség\n",
      "Epoch 1/5: \n",
      "[57/57] 100.00%\n",
      "Epoch 2/5: \n",
      "[57/57] 100.00%\n",
      "Epoch 3/5: \n",
      "[57/57] 100.00%\n",
      "Epoch 4/5: \n",
      "[57/57] 100.00%\n",
      "Epoch 5/5: \n",
      "[57/57] 100.00%\n",
      "Szórakozás\n",
      "Epoch 1/5: \n",
      "[109/109] 100.00%\n",
      "Epoch 2/5: \n",
      "[109/109] 100.00%\n",
      "Epoch 3/5: \n",
      "[109/109] 100.00%\n",
      "Epoch 4/5: \n",
      "[109/109] 100.00%\n",
      "Epoch 5/5: \n",
      "[32/109] 29.36%"
     ]
    }
   ],
   "source": [
    "net_subctg = {}\n",
    "\n",
    "for mainctg in target_names:\n",
    "    print(mainctg)\n",
    "    net_subctg[mainctg] = BOWClassification(vocab_size_subctg[mainctg], hidden_size, num_of_subcategories[mainctg])\n",
    "    criterion = nn.CrossEntropyLoss()\n",
    "    optimizer = torch.optim.Adam(net_subctg[mainctg].parameters(), lr=learning_rate)\n",
    "    \n",
    "    for epoch in range(num_epochs):\n",
    "        print(\"Epoch %d/%d: \" % (epoch + 1, num_epochs))\n",
    "        total_batch = train_size_subctg[mainctg] // batch_size\n",
    "        \n",
    "        for i in range(total_batch):\n",
    "            batch_x, batch_y = get_batch(train_questions_subctg[mainctg], train_target_subctg[mainctg], i, batch_size, vocab_size_subctg[mainctg], index_to_word_subctg[mainctg])\n",
    "            questions = Variable(torch.FloatTensor(batch_x))\n",
    "            themes = Variable(torch.LongTensor(batch_y))\n",
    "\n",
    "            optimizer.zero_grad()\n",
    "            outputs = net_subctg[mainctg](questions)\n",
    "            loss = criterion(outputs, themes)\n",
    "            loss.backward()\n",
    "            optimizer.step()\n",
    "            \n",
    "            print(\"\\r[%d/%d] %.2f%%\" % (i + 1, total_batch, (i + 1)/ total_batch * 100), end=\"\")\n",
    "        print()"
   ]
  },
  {
   "cell_type": "code",
   "execution_count": null,
   "metadata": {},
   "outputs": [],
   "source": [
    "total_pred_subctg = {}\n",
    "\n",
    "for mainctg in target_names:\n",
    "    total_batch = test_size_subctg[mainctg] // batch_size\n",
    "    total_pred_subctg[mainctg] = []\n",
    "    print(mainctg)\n",
    "    \n",
    "    for i in range(total_batch):\n",
    "        test_batch_x, test_batch_y = get_batch(test_questions_subctg[mainctg], test_target_subctg[mainctg], i, batch_size, vocab_size_subctg[mainctg], index_to_word_subctg[mainctg])\n",
    "        print(\"\\rTesting... [%d/%d] %.2f%%\" % (i + 1, total_batch, (i + 1)/ total_batch * 100), end=\"\")\n",
    "\n",
    "        questions = Variable(torch.FloatTensor(test_batch_x))\n",
    "        themes = Variable(torch.FloatTensor(test_batch_y))\n",
    "\n",
    "        outputs = net_subctg[mainctg](questions)\n",
    "        _, predicted = torch.max(outputs.data, 1)\n",
    "        total_pred_subctg[mainctg] += predicted.tolist()\n",
    "    print()"
   ]
  },
  {
   "cell_type": "code",
   "execution_count": null,
   "metadata": {},
   "outputs": [],
   "source": [
    "for mainctg in target_names:\n",
    "    cm = confusion_matrix(test_target_subctg[mainctg][0:len(total_pred_subctg[mainctg])], total_pred_subctg[mainctg])\n",
    "    cm_df = pd.DataFrame(cm, index=target_names_subctg[mainctg], columns=target_names_subctg[mainctg])\n",
    "\n",
    "    plt.figure(figsize = (10,8))\n",
    "    heatmap = sn.heatmap(cm_df, annot=True, cmap='Reds', fmt='g', annot_kws={\"size\": 15}, cbar=False)\n",
    "    plt.show()\n"
   ]
  },
  {
   "cell_type": "code",
   "execution_count": null,
   "metadata": {},
   "outputs": [],
   "source": [
    "for mainctg in target_names:\n",
    "    class_report = classification_report(test_target_subctg[mainctg][0:len(total_pred_subctg[mainctg])], total_pred_subctg[mainctg], target_names=target_names_subctg[mainctg])\n",
    "    print(class_report)"
   ]
  }
 ],
 "metadata": {
  "kernelspec": {
   "display_name": "Python 3",
   "language": "python",
   "name": "python3"
  },
  "language_info": {
   "codemirror_mode": {
    "name": "ipython",
    "version": 3
   },
   "file_extension": ".py",
   "mimetype": "text/x-python",
   "name": "python",
   "nbconvert_exporter": "python",
   "pygments_lexer": "ipython3",
   "version": "3.6.9"
  }
 },
 "nbformat": 4,
 "nbformat_minor": 4
}
