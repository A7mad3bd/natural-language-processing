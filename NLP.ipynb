{
 "cells": [
  {
   "cell_type": "code",
   "execution_count": 2,
   "metadata": {},
   "outputs": [],
   "source": [
    "import sys\n",
    "import os\n",
    "import glob\n",
    "import json\n",
    "import pandas as pd\n",
    "%matplotlib inline\n",
    "import matplotlib\n",
    "import numpy as np"
   ]
  },
  {
   "cell_type": "code",
   "execution_count": 3,
   "metadata": {},
   "outputs": [],
   "source": [
    "def find_files(path):\n",
    "    return glob.glob(path)"
   ]
  },
  {
   "cell_type": "code",
   "execution_count": 4,
   "metadata": {},
   "outputs": [],
   "source": [
    "def read_json(filename):\n",
    "    with open(filename) as json_file:\n",
    "        data = json.load(json_file)\n",
    "    return data"
   ]
  },
  {
   "cell_type": "markdown",
   "metadata": {},
   "source": [
    "### Az adathalmaz letöltése"
   ]
  },
  {
   "cell_type": "code",
   "execution_count": 5,
   "metadata": {},
   "outputs": [],
   "source": [
    "from torchtext.utils import download_from_url, extract_archive\n",
    "\n",
    "dataset_tar = download_from_url('https://drive.google.com/uc?id=1k7GfVRqrHFK00ABkit0oGQo62fCakMSZ', root='.data/')\n",
    "extracted_files = extract_archive(dataset_tar)"
   ]
  },
  {
   "cell_type": "markdown",
   "metadata": {},
   "source": [
    "## Adatok olvasása\n",
    "Adatok beolvasása JSON fájlként, majd egy nagy pandas-os DataFrame-mé alakítása."
   ]
  },
  {
   "cell_type": "code",
   "execution_count": 6,
   "metadata": {},
   "outputs": [
    {
     "name": "stdout",
     "output_type": "stream",
     "text": [
      "Reading file: .data/gyakori_szamitastechnika\n",
      "Reading file: .data/gyakori_egeszseg\n",
      "Reading file: .data/gyakori_egeszseg_20000\n",
      "Reading file: .data/gyakori_allatok_14000\n",
      "Reading file: .data/gyakori_szorakozas_30000\n"
     ]
    }
   ],
   "source": [
    "json_data = []\n",
    "\n",
    "for file in find_files('.data/gyakori_*'):\n",
    "    print(\"Reading file:\", file)\n",
    "    json_data.append(read_json(file))\n",
    "    \n",
    "data_frame = pd.DataFrame()\n",
    "\n",
    "for data in json_data:\n",
    "    frames  = [data_frame, pd.DataFrame(data)]\n",
    "    data_frame = pd.concat(frames).reset_index(drop=True)"
   ]
  },
  {
   "cell_type": "markdown",
   "metadata": {},
   "source": [
    "## Bepillantás a kérdésekbe\n",
    "Csak hogy tudjuk pontosan mivel is állunk szemben. Minden kérdéshez tartozik a kérdés rövid, illetve hosszú verziója, egy válasz, amit a felhasználók a leghasznosabbnak találtak. Ezeken kívül kategóriák és kulcsszavak is vannak a kérdéshez."
   ]
  },
  {
   "cell_type": "code",
   "execution_count": 7,
   "metadata": {
    "scrolled": true
   },
   "outputs": [
    {
     "data": {
      "text/html": [
       "<div>\n",
       "<style scoped>\n",
       "    .dataframe tbody tr th:only-of-type {\n",
       "        vertical-align: middle;\n",
       "    }\n",
       "\n",
       "    .dataframe tbody tr th {\n",
       "        vertical-align: top;\n",
       "    }\n",
       "\n",
       "    .dataframe thead th {\n",
       "        text-align: right;\n",
       "    }\n",
       "</style>\n",
       "<table border=\"1\" class=\"dataframe\">\n",
       "  <thead>\n",
       "    <tr style=\"text-align: right;\">\n",
       "      <th></th>\n",
       "      <th>valasz</th>\n",
       "      <th>kategoriak</th>\n",
       "      <th>hosszu_kerdes</th>\n",
       "      <th>rovid_kerdes</th>\n",
       "      <th>keywords</th>\n",
       "    </tr>\n",
       "  </thead>\n",
       "  <tbody>\n",
       "    <tr>\n",
       "      <th>0</th>\n",
       "      <td>Várak régen is voltak. Ha mindhárom tornyot le...</td>\n",
       "      <td>[Számítástechnika, Internet]</td>\n",
       "      <td>Miért lett ilyen sz@r a honfoglaló? Régen tök ...</td>\n",
       "      <td>Miért lett ilyen sz@r a honfoglaló?</td>\n",
       "      <td>[Honfoglaló, vár]</td>\n",
       "    </tr>\n",
       "    <tr>\n",
       "      <th>1</th>\n",
       "      <td>Ahogy írták, az stdio az a C-s függvénykönyvtá...</td>\n",
       "      <td>[Számítástechnika, Programozás]</td>\n",
       "      <td>C++-ban melyiket érdemesebb használni? Stdio v...</td>\n",
       "      <td>C++-ban melyiket érdemesebb használni? Stdio v...</td>\n",
       "      <td>[C++, iostream, konzol, Windows, Visual Studio]</td>\n",
       "    </tr>\n",
       "  </tbody>\n",
       "</table>\n",
       "</div>"
      ],
      "text/plain": [
       "                                              valasz  \\\n",
       "0  Várak régen is voltak. Ha mindhárom tornyot le...   \n",
       "1  Ahogy írták, az stdio az a C-s függvénykönyvtá...   \n",
       "\n",
       "                        kategoriak  \\\n",
       "0     [Számítástechnika, Internet]   \n",
       "1  [Számítástechnika, Programozás]   \n",
       "\n",
       "                                       hosszu_kerdes  \\\n",
       "0  Miért lett ilyen sz@r a honfoglaló? Régen tök ...   \n",
       "1  C++-ban melyiket érdemesebb használni? Stdio v...   \n",
       "\n",
       "                                        rovid_kerdes  \\\n",
       "0                Miért lett ilyen sz@r a honfoglaló?   \n",
       "1  C++-ban melyiket érdemesebb használni? Stdio v...   \n",
       "\n",
       "                                          keywords  \n",
       "0                                [Honfoglaló, vár]  \n",
       "1  [C++, iostream, konzol, Windows, Visual Studio]  "
      ]
     },
     "execution_count": 7,
     "metadata": {},
     "output_type": "execute_result"
    }
   ],
   "source": [
    "data_frame.head(2)"
   ]
  },
  {
   "cell_type": "markdown",
   "metadata": {},
   "source": [
    "### Túl kicsi kategóriák szűrése\n",
    "Ha egy kategóriához túl kevés kérdés tartozik, akkor nem érdemes a továbbiakban foglalkozni vele. A túl kicsi kategóriák szűrése következik."
   ]
  },
  {
   "cell_type": "code",
   "execution_count": 8,
   "metadata": {},
   "outputs": [],
   "source": [
    "target_names = data_frame['kategoriak'].apply(lambda x: x[0]).unique().tolist()\n",
    "\n",
    "minimum_questions_for_each_category = 3000\n",
    "\n",
    "for target in target_names:\n",
    "    target_size = data_frame[data_frame['kategoriak'].apply(lambda x : x[0]) == target].shape[0]\n",
    "    if target_size < minimum_questions_for_each_category:\n",
    "        data_frame = data_frame[data_frame['kategoriak'].apply(lambda x : x[0]) != target]\n"
   ]
  },
  {
   "cell_type": "markdown",
   "metadata": {},
   "source": [
    "### Túl rövid kérdések szűrése\n",
    "A túl rövid kérdések nem túl hasznosak. Az adathalmazban előfordul pár 2 szóból álló HOSSZÚ kérdés. Vegyük például a következő kérdéseket: `Militaryra appalosa?`, `Ivabradine vélemények?`. Ezek a kérdések nem meghatározóak a témájukra nézve."
   ]
  },
  {
   "cell_type": "code",
   "execution_count": 9,
   "metadata": {},
   "outputs": [],
   "source": [
    "minimum_words_per_question = 5\n",
    "data_frame = data_frame[data_frame['hosszu_kerdes'].apply(lambda x: len(x.split())) >= minimum_words_per_question]"
   ]
  },
  {
   "cell_type": "markdown",
   "metadata": {},
   "source": [
    "## \"Főkategóriák\" kigyűjtése\n",
    "Az egyes főkategóriák neveinek kigyűjtése, majd az egyes nevekhez egy azonosító szám rendelése."
   ]
  },
  {
   "cell_type": "code",
   "execution_count": 10,
   "metadata": {},
   "outputs": [],
   "source": [
    "def get_target_names(idx, data_frame):\n",
    "    target_names = data_frame['kategoriak'].apply(lambda x: x[idx]).unique().tolist()\n",
    "    target_dict =  {value: key for key, value in enumerate(target_names)}\n",
    "    \n",
    "    return target_names, target_dict, len(target_names)"
   ]
  },
  {
   "cell_type": "code",
   "execution_count": 11,
   "metadata": {},
   "outputs": [
    {
     "name": "stdout",
     "output_type": "stream",
     "text": [
      "['Számítástechnika', 'Egészség', 'Állatok', 'Szórakozás']\n",
      "{'Számítástechnika': 0, 'Egészség': 1, 'Állatok': 2, 'Szórakozás': 3}\n",
      "Kategóriák száma:  4\n"
     ]
    }
   ],
   "source": [
    "target_names, target_dict, num_of_categories = get_target_names(0, data_frame)\n",
    "\n",
    "print(target_names)\n",
    "print(target_dict)\n",
    "print(\"Kategóriák száma: \", num_of_categories)"
   ]
  },
  {
   "cell_type": "markdown",
   "metadata": {},
   "source": [
    "## Tanító adathalmaz előállítása\n",
    "A tanító adathalmazban minden egyes főkategóriából ugyanannyi kérdésnek kell szerepelnie (így fair). Itt pontosan ez történik `questions_from_each_category` darab kérdés kerül a tanító adathalmazba minden kategóriából, majd az eredményül kapott tömb véletlenszerűen összekeveredik.\n",
    "\n",
    "#### Shuffle together\n",
    "A shuffle_together függvény két listát véletlenszerűen kever össze, úgy, hogy az a keverés előtt az egyes listákban azonos indexen szereplő értékek a keverés után is azonos indexen lesznek."
   ]
  },
  {
   "cell_type": "code",
   "execution_count": 12,
   "metadata": {},
   "outputs": [],
   "source": [
    "import random\n",
    "\n",
    "def shuffle_together(list1, list2):\n",
    "    zipped = list(zip(list1, list2))\n",
    "    random.shuffle(zipped)\n",
    "    list1, list2 = zip(*zipped)\n",
    "    \n",
    "    return (list(list1), list(list2))"
   ]
  },
  {
   "cell_type": "markdown",
   "metadata": {},
   "source": [
    "#### Least questions in category\n",
    "Ez a találó nevű függvény azt akarja kiszámolni, hogy a legkevesebb kérdéssel rendelkező kategóriában mennyi kérdés van. Ezt azért számolom ki, hogy a tanító és tesztelő adathalmazokba ugyanannyi kérdés kerülhessen minden kategóriába.\n"
   ]
  },
  {
   "cell_type": "code",
   "execution_count": 13,
   "metadata": {},
   "outputs": [],
   "source": [
    "def least_questions_in_ctg(idx, target_names, data_frame):\n",
    "    min_amount = float('inf')\n",
    "\n",
    "    for target_name in target_names:\n",
    "        amount = len(data_frame[data_frame[\"kategoriak\"].apply(lambda x : x[idx]) == target_name]['kategoriak'])\n",
    "        min_amount = min(amount, min_amount)\n",
    "    return min_amount"
   ]
  },
  {
   "cell_type": "markdown",
   "metadata": {},
   "source": [
    "#### Split datasets"
   ]
  },
  {
   "cell_type": "code",
   "execution_count": 14,
   "metadata": {},
   "outputs": [],
   "source": [
    "def split_datasets(train_ratio, questions_size, ctg_idx, data_frame, num_of_categories, target_names, target_dict):\n",
    "    \n",
    "    train_each_ctg = int(train_ratio * questions_size)\n",
    "    train_size = train_each_ctg * num_of_categories\n",
    "    train_questions = []\n",
    "    train_target = []\n",
    "    \n",
    "    test_each_ctg = int((1.0 - train_ratio) * questions_size)\n",
    "    test_size = test_each_ctg * num_of_categories\n",
    "    test_questions = []\n",
    "    test_target = []\n",
    "    \n",
    "    for target_name in target_names:\n",
    "        train_questions += data_frame[data_frame[\"kategoriak\"].apply(lambda x: x[ctg_idx]) == target_name][0:train_each_ctg][\"hosszu_kerdes\"].to_list()\n",
    "        train_target += [target_dict[target_name]] * train_each_ctg    \n",
    "    \n",
    "        test_questions += data_frame[data_frame[\"kategoriak\"].apply(lambda x: x[ctg_idx]) == target_name][train_each_ctg:train_each_ctg + test_each_ctg][\"hosszu_kerdes\"].to_list()\n",
    "        test_target += [target_dict[target_name]] * test_each_ctg\n",
    "    \n",
    "    train_questions, train_target = shuffle_together(train_questions, train_target)\n",
    "    test_questions, test_target = shuffle_together(test_questions, test_target)\n",
    "    \n",
    "    return train_each_ctg, train_size, train_questions, train_target,\\\n",
    "        test_each_ctg, test_size, test_questions, test_target"
   ]
  },
  {
   "cell_type": "code",
   "execution_count": 15,
   "metadata": {},
   "outputs": [],
   "source": [
    "train_ratio = 0.80\n",
    "test_ratio = 1.0 - train_ratio\n",
    "\n",
    "min_amount = least_questions_in_ctg(0, target_names, data_frame)\n",
    "train_each_ctg, train_size, train_questions, train_target, \\\n",
    "    test_each_ctg, test_size, test_questions, test_target = \\\n",
    "        split_datasets(train_ratio, min_amount, 0, data_frame, num_of_categories, target_names, target_dict)"
   ]
  },
  {
   "cell_type": "code",
   "execution_count": 16,
   "metadata": {},
   "outputs": [],
   "source": [
    "import unidecode\n",
    "import re\n",
    "\n",
    "def unicode_to_ascii(data):\n",
    "    return unidecode.unidecode(re.sub(r\"[,.;@#?!&$]+\\ *\", \" \", data).lower()).split()"
   ]
  },
  {
   "cell_type": "markdown",
   "metadata": {},
   "source": [
    "#### Get vocab"
   ]
  },
  {
   "cell_type": "code",
   "execution_count": 17,
   "metadata": {},
   "outputs": [],
   "source": [
    "def get_vocab(questions):\n",
    "    vocab = set()\n",
    "    \n",
    "    for idx, question in enumerate(questions):\n",
    "        words = unicode_to_ascii(question)\n",
    "\n",
    "        for idx in range(len(words)):\n",
    "            vocab.add(words[idx])\n",
    "\n",
    "    vocab_size = len(vocab)\n",
    "\n",
    "    index_to_word = {}\n",
    "\n",
    "    for idx, word in enumerate(vocab):\n",
    "        index_to_word[word] = idx\n",
    "        \n",
    "    return vocab, vocab_size, index_to_word"
   ]
  },
  {
   "cell_type": "code",
   "execution_count": 18,
   "metadata": {
    "scrolled": false
   },
   "outputs": [],
   "source": [
    "vocab, vocab_size, index_to_word = get_vocab(train_questions)"
   ]
  },
  {
   "cell_type": "code",
   "execution_count": 19,
   "metadata": {},
   "outputs": [],
   "source": [
    "def get_batch(text, target, i, batch_size, input_size, index_to):\n",
    "\n",
    "    batches = []\n",
    "    results = []\n",
    "    \n",
    "    texts = text[i * batch_size : (i + 1) * batch_size]\n",
    "    categories = target[i * batch_size : (i + 1) * batch_size]\n",
    "\n",
    "    for text in texts:\n",
    "        layer = np.zeros(input_size, dtype=float)\n",
    "        words = unicode_to_ascii(text)\n",
    "        \n",
    "        for word in words:\n",
    "            if word in index_to:\n",
    "                layer[index_to[word]] += 1\n",
    "            \n",
    "        batches.append(layer)\n",
    "        \n",
    "    for category in categories:\n",
    "        results.append(category)\n",
    "     \n",
    "    return np.array(batches), np.array(results)"
   ]
  },
  {
   "cell_type": "code",
   "execution_count": 20,
   "metadata": {},
   "outputs": [],
   "source": [
    "learning_rate = 0.01\n",
    "num_epochs = 2\n",
    "batch_size = 200\n",
    "\n",
    "hidden_size = 100\n",
    "input_size = vocab_size\n",
    "num_classes = len(target_names)"
   ]
  },
  {
   "cell_type": "code",
   "execution_count": 21,
   "metadata": {},
   "outputs": [],
   "source": [
    "from torch.autograd import Variable\n",
    "import torch.nn as nn\n",
    "import torch\n",
    "\n",
    "class BOWClassification(nn.Module):\n",
    "     def __init__(self, input_size, hidden_size, num_classes):\n",
    "        super(BOWClassification, self).__init__()\n",
    "        self.layer_1 = nn.Linear(input_size, hidden_size, bias=True)\n",
    "        self.relu = nn.ReLU()\n",
    "        self.layer_2 = nn.Linear(hidden_size, hidden_size, bias=True)\n",
    "        self.output_layer = nn.Linear(hidden_size, num_classes, bias=True)\n",
    " \n",
    "     def forward(self, x):\n",
    "        out = self.layer_1(x)\n",
    "        out = self.relu(out)\n",
    "        out = self.layer_2(out)\n",
    "        out = self.relu(out)\n",
    "        out = self.output_layer(out)\n",
    "        return out"
   ]
  },
  {
   "cell_type": "markdown",
   "metadata": {},
   "source": [
    "#### Get net"
   ]
  },
  {
   "cell_type": "code",
   "execution_count": 22,
   "metadata": {},
   "outputs": [],
   "source": [
    "def get_net(vocab_size, hidden_size, num_classes, learning_rate, num_epochs, train_questions, train_target, batch_size, index_to_word):\n",
    "    net = BOWClassification(vocab_size, hidden_size, num_classes)\n",
    "\n",
    "    criterion = nn.CrossEntropyLoss()  \n",
    "    optimizer = torch.optim.Adam(net.parameters(), lr=learning_rate)  \n",
    "\n",
    "\n",
    "    for epoch in range(num_epochs):\n",
    "        if epoch:\n",
    "            print()\n",
    "        print(\"Epoch %d/%d: \" % (epoch + 1, num_epochs))\n",
    "        total_batch = len(train_questions) // batch_size\n",
    "        for i in range(total_batch):\n",
    "            batch_x, batch_y = get_batch(train_questions, train_target, i, batch_size, vocab_size, index_to_word)\n",
    "            questions = Variable(torch.FloatTensor(batch_x))\n",
    "            themes = Variable(torch.LongTensor(batch_y))\n",
    "\n",
    "            optimizer.zero_grad()\n",
    "            outputs = net(questions)\n",
    "            loss = criterion(outputs, themes)\n",
    "            loss.backward()\n",
    "            optimizer.step()\n",
    "\n",
    "            print(\"\\r[%d/%d] %.2f%%\" % (i + 1, total_batch, (i + 1)/ total_batch * 100), end=\"\")\n",
    "    \n",
    "    return net"
   ]
  },
  {
   "cell_type": "code",
   "execution_count": 23,
   "metadata": {},
   "outputs": [
    {
     "name": "stdout",
     "output_type": "stream",
     "text": [
      "Epoch 1/2: \n"
     ]
    },
    {
     "name": "stderr",
     "output_type": "stream",
     "text": [
      "/usr/local/lib/python3.9/site-packages/torch/autograd/__init__.py:130: UserWarning: CUDA initialization: Found no NVIDIA driver on your system. Please check that you have an NVIDIA GPU and installed a driver from http://www.nvidia.com/Download/index.aspx (Triggered internally at  /pytorch/c10/cuda/CUDAFunctions.cpp:100.)\n",
      "  Variable._execution_engine.run_backward(\n"
     ]
    },
    {
     "name": "stdout",
     "output_type": "stream",
     "text": [
      "[373/373] 100.00%\n",
      "Epoch 2/2: \n",
      "[373/373] 100.00%"
     ]
    }
   ],
   "source": [
    "net = get_net(vocab_size, hidden_size, num_classes, learning_rate, num_epochs, train_questions, train_target, batch_size, index_to_word)"
   ]
  },
  {
   "cell_type": "code",
   "execution_count": 24,
   "metadata": {},
   "outputs": [],
   "source": [
    "def test_net(net, test_q, test_t, batch_s, vocab_s, index2word):\n",
    "    total_batch = len(test_q) // batch_s\n",
    "\n",
    "    total_pred = []\n",
    "\n",
    "    for i in range(total_batch):\n",
    "        test_batch_x, test_batch_y = get_batch(test_q, test_t, i, batch_s, vocab_s, index2word)\n",
    "        print(\"\\rTesting... [%d/%d] %.2f%%\" % (i + 1, total_batch, (i + 1)/ total_batch * 100), end=\"\")\n",
    "\n",
    "        questions = Variable(torch.FloatTensor(test_batch_x))\n",
    "        themes = Variable(torch.FloatTensor(test_batch_y))\n",
    "\n",
    "        outputs = net(questions)\n",
    "        _, predicted = torch.max(outputs.data, 1)\n",
    "        total_pred += predicted.tolist()\n",
    "        \n",
    "    return total_pred"
   ]
  },
  {
   "cell_type": "code",
   "execution_count": 25,
   "metadata": {},
   "outputs": [
    {
     "name": "stdout",
     "output_type": "stream",
     "text": [
      "Testing... [93/93] 100.00%"
     ]
    }
   ],
   "source": [
    "total_predicted = test_net(net, test_questions, test_target, batch_size, vocab_size, index_to_word)"
   ]
  },
  {
   "cell_type": "markdown",
   "metadata": {},
   "source": [
    "## Tesztelés eredémye\n",
    "\n",
    "### Confusion matrix\n",
    "Tévesztési mátrix magyarul. A mátrix `i` sorában, `j` oszlopában szereplő érték (ebben az esetben) azt jelenti, hogy a mondat a `i` kategóriájú, de a háló `j` kategóriát ismert fel."
   ]
  },
  {
   "cell_type": "code",
   "execution_count": 26,
   "metadata": {},
   "outputs": [
    {
     "data": {
      "image/png": "[encoded data removed]",
      "text/plain": [
       "<Figure size 432x288 with 1 Axes>"
      ]
     },
     "metadata": {
      "needs_background": "light"
     },
     "output_type": "display_data"
    }
   ],
   "source": [
    "from sklearn.metrics import confusion_matrix\n",
    "import seaborn as sn\n",
    "import matplotlib.pyplot as plt\n",
    "\n",
    "cm = confusion_matrix(test_target[0:len(total_predicted)], total_predicted)\n",
    "cm_df = pd.DataFrame(cm, index=target_names, columns=target_names)\n",
    "\n",
    "heatmap = sn.heatmap(cm_df, annot=True, cmap='Reds', fmt='g', annot_kws={\"size\": 15}, cbar=False)\n",
    "plt.show()"
   ]
  },
  {
   "cell_type": "markdown",
   "metadata": {},
   "source": [
    "## Classification report\n",
    "#### Accuracy\n",
    "A accuracy érték jelentése: a kérdések mekkora részét sikerült helyesen osztályozni.\n",
    "#### Precision\n",
    "A Szórakozás kategóriához tartozó precision érték azt jelenti, hogy az összes Szórakozás kategóriába sorolt kérdés közül mekkora arányban vannak a ténylegesen Szórakozás kategóriájú kérdések.\n",
    "#### Recall\n",
    "A recall érték a precision értékhez eléggé hasonló. Az összes ténylegesen Szórakozás kategóriájú kérdés mekkora részét sorolta Szórakozás kategóriába az osztályozó."
   ]
  },
  {
   "cell_type": "code",
   "execution_count": 27,
   "metadata": {},
   "outputs": [
    {
     "name": "stdout",
     "output_type": "stream",
     "text": [
      "                  precision    recall  f1-score   support\n",
      "\n",
      "Számítástechnika       0.92      0.88      0.90      4650\n",
      "        Egészség       0.93      0.92      0.93      4647\n",
      "         Állatok       0.94      0.95      0.94      4652\n",
      "      Szórakozás       0.85      0.90      0.87      4651\n",
      "\n",
      "        accuracy                           0.91     18600\n",
      "       macro avg       0.91      0.91      0.91     18600\n",
      "    weighted avg       0.91      0.91      0.91     18600\n",
      "\n"
     ]
    }
   ],
   "source": [
    "from sklearn.metrics import classification_report\n",
    "\n",
    "class_report = classification_report(test_target[0:len(total_predicted)], total_predicted, target_names=target_names)\n",
    "print(class_report)"
   ]
  },
  {
   "cell_type": "markdown",
   "metadata": {},
   "source": [
    "## Alkategória osztályozás\n",
    "A főkategória osztályozáshoz hasonló módszerrel próbálkozva. A 4 főkategóriát most elkülönítjük egymástól, 1 tanító adathalamzban csak 1 főkategóriához tartozó kérdések lesznek. Ennek megfelelően az eddig látott dolgokból 4 fog kelleni (háló, tévesztési mátrix, tanító-, tesztelő halmaz stb.)\n",
    "\n",
    "#### Get target names"
   ]
  },
  {
   "cell_type": "code",
   "execution_count": 28,
   "metadata": {},
   "outputs": [],
   "source": [
    "target_names_sub = {}\n",
    "target_dict_sub = {}\n",
    "num_of_ctg_sub = {}\n",
    "\n",
    "filtered_df = {}\n",
    "\n",
    "for t in target_names:\n",
    "    filtered_df[t] = data_frame[data_frame['kategoriak'].apply(lambda x: x[0]) == t]\n",
    "    filtered_df[t] = filtered_df[t][filtered_df[t]['kategoriak'].apply(lambda x: x[1]) != 'Egyéb kérdések']\n",
    "    target_names_sub[t], target_dict_sub[t], num_of_ctg_sub[t] = get_target_names(1, filtered_df[t])\n"
   ]
  },
  {
   "cell_type": "markdown",
   "metadata": {},
   "source": [
    "#### Split datasets"
   ]
  },
  {
   "cell_type": "code",
   "execution_count": 29,
   "metadata": {},
   "outputs": [],
   "source": [
    "train_ratio = 0.8\n",
    "\n",
    "min_amount_sub = {}\n",
    "\n",
    "train_each_sub = {}\n",
    "train_questions_sub = {}\n",
    "train_size_sub = {}\n",
    "train_target_sub = {}\n",
    "\n",
    "test_each_sub = {}\n",
    "test_questions_sub = {}\n",
    "test_size_sub = {}\n",
    "test_target_sub = {}\n",
    "\n",
    "for t in target_names:\n",
    "    min_amount_sub[t] = least_questions_in_ctg(1, target_names_sub[t], filtered_df[t])\n",
    "    \n",
    "    train_each_sub[t], train_size_sub[t], train_questions_sub[t], train_target_sub[t], \\\n",
    "        test_each_sub[t], test_size_sub[t], test_questions_sub[t], test_target_sub[t] = \\\n",
    "            split_datasets(train_ratio, min_amount_sub[t], 1, filtered_df[t], num_of_ctg_sub[t], target_names_sub[t], target_dict_sub[t])\n"
   ]
  },
  {
   "cell_type": "markdown",
   "metadata": {},
   "source": [
    "#### Get vocab"
   ]
  },
  {
   "cell_type": "code",
   "execution_count": 30,
   "metadata": {},
   "outputs": [],
   "source": [
    "vocab_sub = {}\n",
    "vocab_size_sub = {}\n",
    "index_to_word_sub = {}\n",
    "\n",
    "for t in target_names:\n",
    "    vocab_sub[t], vocab_size_sub[t], index_to_word_sub[t] = get_vocab(train_questions_sub[t])"
   ]
  },
  {
   "cell_type": "code",
   "execution_count": 31,
   "metadata": {},
   "outputs": [],
   "source": [
    "learning_rate = 0.005\n",
    "num_epochs = 2\n",
    "batch_size = 75\n",
    "\n",
    "hidden_size = 200"
   ]
  },
  {
   "cell_type": "code",
   "execution_count": 32,
   "metadata": {
    "scrolled": false
   },
   "outputs": [
    {
     "name": "stdout",
     "output_type": "stream",
     "text": [
      "Számítástechnika\n",
      "Epoch 1/2: \n",
      "[49/49] 100.00%\n",
      "Epoch 2/2: \n",
      "[49/49] 100.00%\n",
      "Egészség\n",
      "Epoch 1/2: \n",
      "[46/46] 100.00%\n",
      "Epoch 2/2: \n",
      "[46/46] 100.00%\n",
      "Állatok\n",
      "Epoch 1/2: \n",
      "[77/77] 100.00%\n",
      "Epoch 2/2: \n",
      "[77/77] 100.00%\n",
      "Szórakozás\n",
      "Epoch 1/2: \n",
      "[80/80] 100.00%\n",
      "Epoch 2/2: \n",
      "[80/80] 100.00%\n"
     ]
    }
   ],
   "source": [
    "net_sub = {}\n",
    "\n",
    "for t in target_names:\n",
    "    print(t)\n",
    "    net_sub[t] = get_net(vocab_size_sub[t], hidden_size, num_of_ctg_sub[t], learning_rate, num_epochs, train_questions_sub[t], train_target_sub[t], batch_size, index_to_word_sub[t])\n",
    "    print()"
   ]
  },
  {
   "cell_type": "code",
   "execution_count": 33,
   "metadata": {},
   "outputs": [
    {
     "name": "stdout",
     "output_type": "stream",
     "text": [
      "Számítástechnika\n",
      "Testing... [12/12] 100.00%\n",
      "Egészség\n",
      "Testing... [11/11] 100.00%\n",
      "Állatok\n",
      "Testing... [19/19] 100.00%\n",
      "Szórakozás\n",
      "Testing... [20/20] 100.00%\n"
     ]
    }
   ],
   "source": [
    "total_pred_sub = {}\n",
    "\n",
    "for t in target_names:\n",
    "    print(t)\n",
    "    total_pred_sub[t] = test_net(net_sub[t], test_questions_sub[t], test_target_sub[t], batch_size, vocab_size_sub[t], index_to_word_sub[t])\n",
    "    print()"
   ]
  },
  {
   "cell_type": "code",
   "execution_count": 34,
   "metadata": {},
   "outputs": [
    {
     "data": {
      "image/png": "[encoded data removed]",
      "text/plain": [
       "<Figure size 720x576 with 1 Axes>"
      ]
     },
     "metadata": {
      "needs_background": "light"
     },
     "output_type": "display_data"
    },
    {
     "data": {
      "image/png": "[encoded data removed]",
      "text/plain": [
       "<Figure size 720x576 with 1 Axes>"
      ]
     },
     "metadata": {
      "needs_background": "light"
     },
     "output_type": "display_data"
    },
    {
     "data": {
      "image/png": "[encoded data removed]",
      "text/plain": [
       "<Figure size 720x576 with 1 Axes>"
      ]
     },
     "metadata": {
      "needs_background": "light"
     },
     "output_type": "display_data"
    },
    {
     "data": {
      "image/png": "[encoded data removed]",
      "text/plain": [
       "<Figure size 720x576 with 1 Axes>"
      ]
     },
     "metadata": {
      "needs_background": "light"
     },
     "output_type": "display_data"
    }
   ],
   "source": [
    "for t in target_names:\n",
    "    cm = confusion_matrix(test_target_sub[t][0:len(total_pred_sub[t])], total_pred_sub[t])\n",
    "    cm_df = pd.DataFrame(cm, index=target_names_sub[t], columns=target_names_sub[t])\n",
    "\n",
    "    plt.figure(figsize = (10,8))\n",
    "    heatmap = sn.heatmap(cm_df, annot=True, cmap='Reds', fmt='g', annot_kws={\"size\": 15}, cbar=False)\n",
    "    plt.show()\n"
   ]
  },
  {
   "cell_type": "code",
   "execution_count": 35,
   "metadata": {},
   "outputs": [
    {
     "name": "stdout",
     "output_type": "stream",
     "text": [
      "                precision    recall  f1-score   support\n",
      "\n",
      "      Internet       0.71      0.46      0.56       147\n",
      "   Programozás       0.52      0.67      0.59       147\n",
      "     Hardverek       0.80      0.79      0.79       149\n",
      "     Programok       0.58      0.53      0.55       151\n",
      "Weblapkészítés       0.65      0.74      0.69       155\n",
      "     Biztonság       0.63      0.65      0.64       151\n",
      "\n",
      "      accuracy                           0.64       900\n",
      "     macro avg       0.65      0.64      0.64       900\n",
      "  weighted avg       0.65      0.64      0.64       900\n",
      "\n",
      "                           precision    recall  f1-score   support\n",
      "\n",
      "     Sérülések, balesetek       0.69      0.33      0.45        54\n",
      "        Mentális egészség       0.34      0.30      0.32        57\n",
      "        Férfiak egészsége       0.85      0.42      0.56        53\n",
      "               Betegségek       0.17      0.59      0.26        56\n",
      "        Fogak, szájápolás       0.89      0.54      0.67        57\n",
      "            Szemproblémák       0.93      0.70      0.80        56\n",
      "            Nők egészsége       0.75      0.35      0.47        52\n",
      "   Egészségügyi ellátások       0.48      0.29      0.36        52\n",
      "Immunrendszer, fertőzések       0.59      0.23      0.33        56\n",
      "              Bio életmód       0.45      0.30      0.36        57\n",
      "              Táplálkozás       0.57      0.37      0.45        57\n",
      "       Általános közérzet       0.20      0.53      0.29        55\n",
      "                Dohányzás       0.90      0.65      0.76        55\n",
      "     Alternatív gyógyítás       0.26      0.38      0.31        55\n",
      "                Allergiák       0.75      0.40      0.52        53\n",
      "\n",
      "                 accuracy                           0.43       825\n",
      "                macro avg       0.59      0.42      0.46       825\n",
      "             weighted avg       0.59      0.43      0.46       825\n",
      "\n",
      "                      precision    recall  f1-score   support\n",
      "\n",
      "              Kutyák       0.76      0.65      0.70       131\n",
      "             Macskák       0.68      0.82      0.75       130\n",
      "          Kisemlősök       0.89      0.56      0.69       128\n",
      "               Lovak       0.83      0.77      0.80       128\n",
      "              Hüllők       0.79      0.62      0.70       130\n",
      "             Madarak       0.62      0.71      0.66       130\n",
      " Halak, akvarisztika       0.86      0.93      0.89       129\n",
      "       Haszonállatok       0.56      0.65      0.60       128\n",
      "          Vadállatok       0.58      0.67      0.62       131\n",
      "Rovarok, ízeltlábúak       0.64      0.78      0.70       130\n",
      "        Állatvédelem       0.52      0.43      0.47       130\n",
      "\n",
      "            accuracy                           0.69      1425\n",
      "           macro avg       0.70      0.69      0.69      1425\n",
      "        weighted avg       0.70      0.69      0.69      1425\n",
      "\n",
      "                    precision    recall  f1-score   support\n",
      "\n",
      " Filmek, sorozatok       0.65      0.65      0.65       251\n",
      "           Könyvek       0.82      0.81      0.82       252\n",
      "           Játékok       0.89      0.85      0.87       249\n",
      "              Zene       0.80      0.68      0.73       248\n",
      "   Sztárok, bulvár       0.71      0.65      0.68       250\n",
      "Tévék, tévéműsorok       0.51      0.66      0.58       250\n",
      "\n",
      "          accuracy                           0.72      1500\n",
      "         macro avg       0.73      0.72      0.72      1500\n",
      "      weighted avg       0.73      0.72      0.72      1500\n",
      "\n"
     ]
    }
   ],
   "source": [
    "for t in target_names:\n",
    "    class_report = classification_report(test_target_sub[t][0:len(total_pred_sub[t])], total_pred_sub[t], target_names=target_names_sub[t])\n",
    "    print(class_report)"
   ]
  },
  {
   "cell_type": "code",
   "execution_count": 169,
   "metadata": {},
   "outputs": [],
   "source": [
    "for idx, val in enumerate(train_questions):\n",
    "    train_questions[idx] = \" \".join(unicode_to_ascii(val))\n",
    "    \n",
    "for idx, val in enumerate(test_questions):\n",
    "    test_questions[idx] = \" \".join(unicode_to_ascii(val))"
   ]
  },
  {
   "cell_type": "code",
   "execution_count": 170,
   "metadata": {},
   "outputs": [],
   "source": [
    "train_df = pd.DataFrame(list(zip(train_target, train_questions)), columns =['Target', 'Question']) \n",
    "test_df = pd.DataFrame(list(zip(test_target, test_questions)), columns =['Target', 'Question'])\n",
    "\n",
    "train_df.to_csv(\"faq_train.csv\", index=False)\n",
    "test_df.to_csv(\"faq_test.csv\", index = False)"
   ]
  },
  {
   "cell_type": "code",
   "execution_count": 171,
   "metadata": {},
   "outputs": [],
   "source": [
    "from torchtext import data\n",
    "\n",
    "Question = data.Field()\n",
    "Target = data.LabelField(dtype = torch.long)"
   ]
  },
  {
   "cell_type": "code",
   "execution_count": 172,
   "metadata": {},
   "outputs": [],
   "source": [
    "fields = [('Target',Target),('Question', Question)]\n",
    "\n",
    "train, test = data.TabularDataset.splits(\n",
    "                                        path = '.',\n",
    "                                        train = 'faq_train.csv',\n",
    "                                        test = 'faq_test.csv',\n",
    "                                        format = 'csv',\n",
    "                                        fields = fields,\n",
    "                                        skip_header = True\n",
    ")"
   ]
  },
  {
   "cell_type": "code",
   "execution_count": 173,
   "metadata": {},
   "outputs": [],
   "source": [
    "train, valid = train.split()"
   ]
  },
  {
   "cell_type": "code",
   "execution_count": 174,
   "metadata": {},
   "outputs": [
    {
     "name": "stdout",
     "output_type": "stream",
     "text": [
      "Training examples:  52310\n",
      "Validation examples:  22418\n",
      "Testing examples:  18680\n"
     ]
    }
   ],
   "source": [
    "print(\"Training examples: \", len(train))\n",
    "print(\"Validation examples: \", len(valid))\n",
    "print(\"Testing examples: \", len(test))"
   ]
  },
  {
   "cell_type": "code",
   "execution_count": 175,
   "metadata": {},
   "outputs": [],
   "source": [
    "Question.build_vocab(train, vectors =\"glove.6B.100d\")  \n",
    "Target.build_vocab(train)"
   ]
  },
  {
   "cell_type": "code",
   "execution_count": 176,
   "metadata": {},
   "outputs": [
    {
     "name": "stdout",
     "output_type": "stream",
     "text": [
      "[('a', 172432), ('nem', 60501), ('hogy', 60334), ('es', 57535), ('az', 57047), ('egy', 39610), ('is', 37914), ('de', 32798), ('meg', 30055), ('van', 28628), ('ha', 22288), ('vagy', 19101), ('csak', 17626), ('mar', 16275), ('ez', 16184), ('lehet', 15567), ('volt', 13131), ('nagyon', 12399), ('akkor', 10964), ('mert', 10692)]\n"
     ]
    }
   ],
   "source": [
    "print(Question.vocab.freqs.most_common(20))"
   ]
  },
  {
   "cell_type": "code",
   "execution_count": 177,
   "metadata": {},
   "outputs": [],
   "source": [
    "device = torch.device('cuda' if torch.cuda.is_available() else 'cpu')\n"
   ]
  },
  {
   "cell_type": "code",
   "execution_count": 178,
   "metadata": {},
   "outputs": [],
   "source": [
    "BATCH_SIZE = 64\n",
    "\n",
    "device = torch.device('cuda' if torch.cuda.is_available() else 'cpu')\n",
    "\n",
    "train_iterator, valid_iterator, test_iterator = data.BucketIterator.splits((train, valid, test), batch_size = BATCH_SIZE,\n",
    "                                                                           sort_key = lambda x: len(x.Question),\n",
    "                                                                           sort_within_batch = False,\n",
    "                                                                           device = device)"
   ]
  },
  {
   "cell_type": "code",
   "execution_count": 179,
   "metadata": {},
   "outputs": [],
   "source": [
    "import torch.nn as nn\n",
    "from torch import autograd\n",
    "\n",
    "class LSTMClassifier(nn.Module):\n",
    "    def __init__(self, input_dim, embedding_dim, hidden_dim, output_dim):\n",
    "        \n",
    "        super(LSTMClassifier, self).__init__()\n",
    "        self.hidden_dim = hidden_dim\n",
    "        \n",
    "        self.embedding = nn.Embedding(input_dim, embedding_dim)\n",
    "        self.embedding.weight.data.copy_(Question.vocab.vectors)\n",
    "        self.embedding.weight.requires_grad=False\n",
    "        \n",
    "        self.lstm = nn.LSTM(embedding_dim, hidden_dim)\n",
    "        \n",
    "        self.fc = nn.Linear(hidden_dim, output_dim)\n",
    "\n",
    "        \n",
    "    def forward(self, text):\n",
    "\n",
    "        #text = [sent len, batch size]\n",
    "        \n",
    "        embedded = self.embedding(text)\n",
    "        \n",
    "        #embedded = [sent len, batch size, emb dim]\n",
    "        \n",
    "        output, hidden = self.lstm(embedded)\n",
    "\n",
    "        y = self.fc(output[-1])\n",
    "        \n",
    "        log_probs = F.log_softmax(y.squeeze(0))\n",
    "        return log_probs"
   ]
  },
  {
   "cell_type": "code",
   "execution_count": 180,
   "metadata": {},
   "outputs": [],
   "source": [
    "INPUT_DIM = len(Question.vocab)\n",
    "EMBEDDING_DIM = 100\n",
    "HIDDEN_DIM = 100\n",
    "OUTPUT_DIM = 4\n",
    "\n",
    "model = LSTMClassifier(INPUT_DIM, EMBEDDING_DIM, HIDDEN_DIM, OUTPUT_DIM)"
   ]
  },
  {
   "cell_type": "code",
   "execution_count": 181,
   "metadata": {},
   "outputs": [],
   "source": [
    "import torch.optim as optim\n",
    "\n",
    "optimizer = optim.Adam(model.parameters(), lr=1e-3)"
   ]
  },
  {
   "cell_type": "code",
   "execution_count": 182,
   "metadata": {},
   "outputs": [],
   "source": [
    "criterion = nn.NLLLoss()"
   ]
  },
  {
   "cell_type": "code",
   "execution_count": 183,
   "metadata": {},
   "outputs": [],
   "source": [
    "model = model.to(device)\n",
    "criterion = criterion.to(device)"
   ]
  },
  {
   "cell_type": "code",
   "execution_count": 184,
   "metadata": {},
   "outputs": [],
   "source": [
    "from sklearn.metrics import classification_report\n",
    "def class_accuracy(preds, y):\n",
    "    \"\"\"\n",
    "    Returns accuracy per batch\n",
    "    \"\"\"\n",
    "    rounded_preds = preds.argmax(1)\n",
    "    correct = (rounded_preds == y).float() #convert into float for division \n",
    "    #target_names = ['class 0', 'class 1', 'class 2', 'class 3']\n",
    "    #print(classification_report(rounded_preds.cpu().numpy(), y.cpu().numpy(), target_names=target_names))\n",
    "    acc = correct.sum() / len(correct)\n",
    "    return acc"
   ]
  },
  {
   "cell_type": "code",
   "execution_count": 185,
   "metadata": {},
   "outputs": [],
   "source": [
    "from sklearn.metrics import accuracy_score\n",
    "import torch.nn.functional as F\n",
    "def train(model, iterator, optimizer, criterion):\n",
    "    \n",
    "    epoch_loss = 0\n",
    "    epoch_acc = 0\n",
    "    \n",
    "    model.train()\n",
    "    \n",
    "    for batch in iterator:\n",
    "        \n",
    "        optimizer.zero_grad()\n",
    "\n",
    "        predictions = model(batch.Question)\n",
    "\n",
    "        loss = criterion(predictions, batch.Target)\n",
    "        \n",
    "        acc = class_accuracy(predictions, batch.Target)\n",
    "\n",
    "        loss.backward()\n",
    "        \n",
    "        optimizer.step()\n",
    "        \n",
    "        epoch_loss += loss.item()\n",
    "        epoch_acc += acc.item()\n",
    "        \n",
    "    return epoch_loss / len(iterator), epoch_acc / len(iterator)"
   ]
  },
  {
   "cell_type": "code",
   "execution_count": 186,
   "metadata": {},
   "outputs": [],
   "source": [
    "def evaluate(model, iterator, criterion):\n",
    "    \n",
    "    epoch_loss = 0\n",
    "    epoch_acc = 0\n",
    "    \n",
    "    model.eval()\n",
    "    \n",
    "    with torch.no_grad():\n",
    "    \n",
    "        for batch in iterator:\n",
    "\n",
    "            predictions = model(batch.Question)\n",
    "            \n",
    "            loss = criterion(predictions, batch.Target)\n",
    "            \n",
    "            acc = class_accuracy(predictions, batch.Target)\n",
    "\n",
    "            epoch_loss += loss.item()\n",
    "            epoch_acc += acc.item()\n",
    "        \n",
    "    return epoch_loss / len(iterator), epoch_acc / len(iterator)"
   ]
  },
  {
   "cell_type": "code",
   "execution_count": 187,
   "metadata": {},
   "outputs": [],
   "source": [
    "import time\n",
    "\n",
    "def epoch_time(start_time, end_time):\n",
    "    elapsed_time = end_time - start_time\n",
    "    elapsed_mins = int(elapsed_time / 60)\n",
    "    elapsed_secs = int(elapsed_time - (elapsed_mins * 60))\n",
    "    return elapsed_mins, elapsed_secs"
   ]
  },
  {
   "cell_type": "code",
   "execution_count": 188,
   "metadata": {},
   "outputs": [
    {
     "name": "stderr",
     "output_type": "stream",
     "text": [
      "<ipython-input-179-13d909db9b63>:31: UserWarning: Implicit dimension choice for log_softmax has been deprecated. Change the call to include dim=X as an argument.\n",
      "  log_probs = F.log_softmax(y.squeeze(0))\n"
     ]
    },
    {
     "name": "stdout",
     "output_type": "stream",
     "text": [
      "Epoch: 01 | Epoch Time: 3m 23s\n",
      "\tTrain Loss: 1.387 | Train Acc: 25.16%\n",
      "\t Val. Loss: 1.441 |  Val. Acc: 26.00%\n",
      "Epoch: 02 | Epoch Time: 3m 34s\n",
      "\tTrain Loss: 1.385 | Train Acc: 25.43%\n",
      "\t Val. Loss: 1.409 |  Val. Acc: 27.48%\n"
     ]
    }
   ],
   "source": [
    "N_EPOCHS = 15\n",
    "\n",
    "best_valid_loss = float('inf')\n",
    "\n",
    "for epoch in range(N_EPOCHS):\n",
    "\n",
    "    start_time = time.time()\n",
    "    \n",
    "    train_loss, train_acc = train(model, train_iterator, optimizer, criterion)\n",
    "    valid_loss, valid_acc = evaluate(model, valid_iterator, criterion)\n",
    "    \n",
    "    end_time = time.time()\n",
    "\n",
    "    epoch_mins, epoch_secs = epoch_time(start_time, end_time)\n",
    "    \n",
    "    if valid_loss < best_valid_loss:\n",
    "        best_valid_loss = valid_loss\n",
    "        torch.save(model.state_dict(), 'tut1-model.pt')\n",
    "    \n",
    "    print(f'Epoch: {epoch+1:02} | Epoch Time: {epoch_mins}m {epoch_secs}s')\n",
    "    print(f'\\tTrain Loss: {train_loss:.3f} | Train Acc: {train_acc*100:.2f}%')\n",
    "    print(f'\\t Val. Loss: {valid_loss:.3f} |  Val. Acc: {valid_acc*100:.2f}%')"
   ]
  },
  {
   "cell_type": "code",
   "execution_count": 189,
   "metadata": {},
   "outputs": [
    {
     "name": "stderr",
     "output_type": "stream",
     "text": [
      "<ipython-input-179-13d909db9b63>:31: UserWarning: Implicit dimension choice for log_softmax has been deprecated. Change the call to include dim=X as an argument.\n",
      "  log_probs = F.log_softmax(y.squeeze(0))\n"
     ]
    },
    {
     "name": "stdout",
     "output_type": "stream",
     "text": [
      "Test Loss: 1.406 | Test Acc: 28.04%\n"
     ]
    }
   ],
   "source": [
    "model.load_state_dict(torch.load('tut1-model.pt'))\n",
    "\n",
    "test_loss, test_acc = evaluate(model, test_iterator, criterion)\n",
    "\n",
    "print(f'Test Loss: {test_loss:.3f} | Test Acc: {test_acc*100:.2f}%')"
   ]
  }
 ],
 "metadata": {
  "kernelspec": {
   "display_name": "Python 3",
   "language": "python",
   "name": "python3"
  },
  "language_info": {
   "codemirror_mode": {
    "name": "ipython",
    "version": 3
   },
   "file_extension": ".py",
   "mimetype": "text/x-python",
   "name": "python",
   "nbconvert_exporter": "python",
   "pygments_lexer": "ipython3",
   "version": "3.9.1"
  }
 },
 "nbformat": 4,
 "nbformat_minor": 4
}
