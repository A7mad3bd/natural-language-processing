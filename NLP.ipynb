{
 "cells": [
  {
   "cell_type": "code",
   "execution_count": null,
   "metadata": {},
   "outputs": [],
   "source": [
    "import sys\n",
    "import os\n",
    "import glob\n",
    "import json\n",
    "import pandas as pd\n",
    "%matplotlib inline\n",
    "import matplotlib\n",
    "import numpy as np"
   ]
  },
  {
   "cell_type": "code",
   "execution_count": null,
   "metadata": {},
   "outputs": [],
   "source": [
    "def find_files(path):\n",
    "    return glob.glob(path)"
   ]
  },
  {
   "cell_type": "code",
   "execution_count": null,
   "metadata": {},
   "outputs": [],
   "source": [
    "def read_json(filename):\n",
    "    with open(filename) as json_file:\n",
    "        data = json.load(json_file)\n",
    "    return data"
   ]
  },
  {
   "cell_type": "markdown",
   "metadata": {},
   "source": [
    "### Adat beolvasása JSON fájlból"
   ]
  },
  {
   "cell_type": "code",
   "execution_count": null,
   "metadata": {},
   "outputs": [],
   "source": [
    "json_data = []\n",
    "\n",
    "for file in find_files('Data/*'):\n",
    "    print(\"Reading file:\", file)\n",
    "    json_data.append(read_json(file))"
   ]
  },
  {
   "cell_type": "markdown",
   "metadata": {},
   "source": [
    "### Dataframe-mé alakítás"
   ]
  },
  {
   "cell_type": "code",
   "execution_count": null,
   "metadata": {
    "scrolled": true
   },
   "outputs": [],
   "source": [
    "data_frames = []\n",
    "\n",
    "for data in json_data:\n",
    "    data_frames.append(pd.DataFrame(data))"
   ]
  },
  {
   "cell_type": "markdown",
   "metadata": {},
   "source": [
    "### Bepillantás a kérdésekbe"
   ]
  },
  {
   "cell_type": "code",
   "execution_count": null,
   "metadata": {},
   "outputs": [],
   "source": [
    "for frame in data_frames:\n",
    "    print(frame.head(2))\n",
    "    for i in range(0, 25):\n",
    "        print(\"--\", end=\"\")\n",
    "    print()"
   ]
  },
  {
   "cell_type": "markdown",
   "metadata": {},
   "source": [
    "### Kérdések megszámolása, átlagos hossz számolása"
   ]
  },
  {
   "cell_type": "code",
   "execution_count": null,
   "metadata": {},
   "outputs": [],
   "source": [
    "def calculate_avg(data_frames, label=\"rovid_kerdes\"):\n",
    "    avg = 0\n",
    "    count = 0\n",
    "    \n",
    "    for frame in data_frames:\n",
    "        for index, row in frame.iterrows():\n",
    "            avg += len(row[label])\n",
    "            count += 1\n",
    "\n",
    "    avg = avg / count\n",
    "    \n",
    "    return avg, count"
   ]
  },
  {
   "cell_type": "markdown",
   "metadata": {},
   "source": [
    "### Extrém rövid/hosszú kérdések eldobása"
   ]
  },
  {
   "cell_type": "code",
   "execution_count": null,
   "metadata": {},
   "outputs": [],
   "source": [
    "def drop_extreme(data_frames, min_, max_, label=\"rovid_kerdes\"):\n",
    "    dropped_messages = 0\n",
    "    for frame in data_frames:\n",
    "        \n",
    "        drop_indexes = []\n",
    "        for index, row in frame.iterrows():\n",
    "            if len(row[label]) <= min_ or len(row[label]) >= max_:\n",
    "                drop_indexes.append(index)\n",
    "                dropped_messages += 1\n",
    "        \n",
    "        for idx in reversed(drop_indexes):\n",
    "            frame.drop(idx, inplace=True)\n",
    "    return dropped_messages"
   ]
  },
  {
   "cell_type": "code",
   "execution_count": null,
   "metadata": {},
   "outputs": [],
   "source": [
    "short_questions_avg_len, questions_count = calculate_avg(data_frames, \"rovid_kerdes\")\n",
    "\n",
    "print(\"Number of questions: %d\" % questions_count)\n",
    "print(\"Average length: %f\" % short_questions_avg_len)\n"
   ]
  },
  {
   "cell_type": "code",
   "execution_count": null,
   "metadata": {},
   "outputs": [],
   "source": [
    "dropped = drop_extreme(data_frames, short_questions_avg_len / 4, short_questions_avg_len * 3, \"rovid_kerdes\")\n",
    "short_questions_avg_len, questions_count = calculate_avg(data_frames, \"rovid_kerdes\")\n",
    "\n",
    "print(\"Dropped %d message(s)\" % dropped)\n",
    "print(\"Number of questions: %d\" % questions_count)\n",
    "print(\"Average length: %f\" % short_questions_avg_len)"
   ]
  }
 ],
 "metadata": {
  "kernelspec": {
   "display_name": "Python 3",
   "language": "python",
   "name": "python3"
  },
  "language_info": {
   "codemirror_mode": {
    "name": "ipython",
    "version": 3
   },
   "file_extension": ".py",
   "mimetype": "text/x-python",
   "name": "python",
   "nbconvert_exporter": "python",
   "pygments_lexer": "ipython3",
   "version": "3.6.9"
  }
 },
 "nbformat": 4,
 "nbformat_minor": 4
}
