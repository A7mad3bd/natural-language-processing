{
 "cells": [
  {
   "cell_type": "code",
   "execution_count": null,
   "metadata": {},
   "outputs": [],
   "source": [
    "import sys\n",
    "import os\n",
    "import glob\n",
    "import json\n",
    "import pandas as pd\n",
    "%matplotlib inline\n",
    "import matplotlib\n",
    "import numpy as np"
   ]
  },
  {
   "cell_type": "code",
   "execution_count": null,
   "metadata": {},
   "outputs": [],
   "source": [
    "def find_files(path):\n",
    "    return glob.glob(path)"
   ]
  },
  {
   "cell_type": "code",
   "execution_count": null,
   "metadata": {},
   "outputs": [],
   "source": [
    "def read_json(filename):\n",
    "    with open(filename) as json_file:\n",
    "        data = json.load(json_file)\n",
    "    return data"
   ]
  },
  {
   "cell_type": "markdown",
   "metadata": {},
   "source": [
    "### Az adathalmaz letöltése"
   ]
  },
  {
   "cell_type": "code",
   "execution_count": null,
   "metadata": {},
   "outputs": [],
   "source": [
    "from torchtext.utils import download_from_url, extract_archive\n",
    "\n",
    "dataset_tar = download_from_url('https://drive.google.com/uc?id=1k7GfVRqrHFK00ABkit0oGQo62fCakMSZ', root='.data/')\n",
    "extracted_files = extract_archive(dataset_tar)"
   ]
  },
  {
   "cell_type": "markdown",
   "metadata": {},
   "source": [
    "## Adatok olvasása\n",
    "Adatok beolvasása JSON fájlként, majd egy nagy pandas-os DataFrame-mé alakítása."
   ]
  },
  {
   "cell_type": "code",
   "execution_count": null,
   "metadata": {},
   "outputs": [],
   "source": [
    "json_data = []\n",
    "\n",
    "for file in find_files('.data/gyakori_*'):\n",
    "    print(\"Reading file:\", file)\n",
    "    json_data.append(read_json(file))\n",
    "    \n",
    "data_frame = pd.DataFrame()\n",
    "\n",
    "for data in json_data:\n",
    "    frames  = [data_frame, pd.DataFrame(data)]\n",
    "    data_frame = pd.concat(frames).reset_index(drop=True)"
   ]
  },
  {
   "cell_type": "markdown",
   "metadata": {},
   "source": [
    "## Bepillantás a kérdésekbe\n",
    "Csak hogy tudjuk pontosan mivel is állunk szemben. Minden kérdéshez tartozik a kérdés rövid, illetve hosszú verziója, egy válasz, amit a felhasználók a leghasznosabbnak találtak. Ezeken kívül kategóriák és kulcsszavak is vannak a kérdéshez."
   ]
  },
  {
   "cell_type": "code",
   "execution_count": null,
   "metadata": {
    "scrolled": true
   },
   "outputs": [],
   "source": [
    "data_frame.head(2)"
   ]
  },
  {
   "cell_type": "markdown",
   "metadata": {},
   "source": [
    "### Túl kicsi kategóriák szűrése\n",
    "Ha egy kategóriához túl kevés kérdés tartozik, akkor nem érdemes a továbbiakban foglalkozni vele. A túl kicsi kategóriák szűrése következik."
   ]
  },
  {
   "cell_type": "code",
   "execution_count": null,
   "metadata": {},
   "outputs": [],
   "source": [
    "target_names = data_frame['kategoriak'].apply(lambda x: x[0]).unique().tolist()\n",
    "\n",
    "minimum_questions_for_each_category = 3000\n",
    "\n",
    "for target in target_names:\n",
    "    target_size = data_frame[data_frame['kategoriak'].apply(lambda x : x[0]) == target].shape[0]\n",
    "    if target_size < minimum_questions_for_each_category:\n",
    "        data_frame = data_frame[data_frame['kategoriak'].apply(lambda x : x[0]) != target]\n"
   ]
  },
  {
   "cell_type": "markdown",
   "metadata": {},
   "source": [
    "### Túl rövid kérdések szűrése\n",
    "A túl rövid kérdések nem túl hasznosak. Az adathalmazban előfordul pár 2 szóból álló HOSSZÚ kérdés. Vegyük például a következő kérdéseket: `Militaryra appalosa?`, `Ivabradine vélemények?`. Ezek a kérdések nem meghatározóak a témájukra nézve."
   ]
  },
  {
   "cell_type": "code",
   "execution_count": null,
   "metadata": {},
   "outputs": [],
   "source": [
    "minimum_words_per_question = 5\n",
    "data_frame = data_frame[data_frame['hosszu_kerdes'].apply(lambda x: len(x.split())) >= minimum_words_per_question]"
   ]
  },
  {
   "cell_type": "markdown",
   "metadata": {},
   "source": [
    "## \"Főkategóriák\" kigyűjtése\n",
    "Az egyes főkategóriák neveinek kigyűjtése, majd az egyes nevekhez egy azonosító szám rendelése."
   ]
  },
  {
   "cell_type": "code",
   "execution_count": null,
   "metadata": {},
   "outputs": [],
   "source": [
    "def get_target_names(idx, data_frame):\n",
    "    target_names = data_frame['kategoriak'].apply(lambda x: x[idx]).unique().tolist()\n",
    "    target_dict =  {value: key for key, value in enumerate(target_names)}\n",
    "    \n",
    "    return target_names, target_dict, len(target_names)"
   ]
  },
  {
   "cell_type": "code",
   "execution_count": null,
   "metadata": {},
   "outputs": [],
   "source": [
    "target_names, target_dict, num_of_categories = get_target_names(0, data_frame)\n",
    "\n",
    "print(target_names)\n",
    "print(target_dict)\n",
    "print(\"Kategóriák száma: \", num_of_categories)"
   ]
  },
  {
   "cell_type": "markdown",
   "metadata": {},
   "source": [
    "## Tanító adathalmaz előállítása\n",
    "A tanító adathalmazban minden egyes főkategóriából ugyanannyi kérdésnek kell szerepelnie (így fair). Itt pontosan ez történik `questions_from_each_category` darab kérdés kerül a tanító adathalmazba minden kategóriából, majd az eredményül kapott tömb véletlenszerűen összekeveredik.\n",
    "\n",
    "#### Shuffle together\n",
    "A shuffle_together függvény két listát véletlenszerűen kever össze, úgy, hogy az a keverés előtt az egyes listákban azonos indexen szereplő értékek a keverés után is azonos indexen lesznek."
   ]
  },
  {
   "cell_type": "code",
   "execution_count": null,
   "metadata": {},
   "outputs": [],
   "source": [
    "import random\n",
    "\n",
    "def shuffle_together(list1, list2):\n",
    "    zipped = list(zip(list1, list2))\n",
    "    random.shuffle(zipped)\n",
    "    list1, list2 = zip(*zipped)\n",
    "    \n",
    "    return (list(list1), list(list2))"
   ]
  },
  {
   "cell_type": "markdown",
   "metadata": {},
   "source": [
    "#### Least questions in category\n",
    "Ez a találó nevű függvény azt akarja kiszámolni, hogy a legkevesebb kérdéssel rendelkező kategóriában mennyi kérdés van. Ezt azért számolom ki, hogy a tanító és tesztelő adathalmazokba ugyanannyi kérdés kerülhessen minden kategóriába.\n"
   ]
  },
  {
   "cell_type": "code",
   "execution_count": null,
   "metadata": {},
   "outputs": [],
   "source": [
    "def least_questions_in_ctg(idx, target_names, data_frame):\n",
    "    min_amount = float('inf')\n",
    "\n",
    "    for target_name in target_names:\n",
    "        amount = len(data_frame[data_frame[\"kategoriak\"].apply(lambda x : x[idx]) == target_name]['kategoriak'])\n",
    "        min_amount = min(amount, min_amount)\n",
    "    return min_amount"
   ]
  },
  {
   "cell_type": "markdown",
   "metadata": {},
   "source": [
    "#### Split datasets"
   ]
  },
  {
   "cell_type": "code",
   "execution_count": null,
   "metadata": {},
   "outputs": [],
   "source": [
    "def split_datasets(train_ratio, questions_size, ctg_idx, data_frame, num_of_categories, target_names, target_dict):\n",
    "    \n",
    "    train_each_ctg = int(train_ratio * questions_size)\n",
    "    train_size = train_each_ctg * num_of_categories\n",
    "    train_questions = []\n",
    "    train_target = []\n",
    "    \n",
    "    test_each_ctg = int((1.0 - train_ratio) * questions_size)\n",
    "    test_size = test_each_ctg * num_of_categories\n",
    "    test_questions = []\n",
    "    test_target = []\n",
    "    \n",
    "    for target_name in target_names:\n",
    "        train_questions += data_frame[data_frame[\"kategoriak\"].apply(lambda x: x[ctg_idx]) == target_name][0:train_each_ctg][\"hosszu_kerdes\"].to_list()\n",
    "        train_target += [target_dict[target_name]] * train_each_ctg    \n",
    "    \n",
    "        test_questions += data_frame[data_frame[\"kategoriak\"].apply(lambda x: x[ctg_idx]) == target_name][train_each_ctg:train_each_ctg + test_each_ctg][\"hosszu_kerdes\"].to_list()\n",
    "        test_target += [target_dict[target_name]] * test_each_ctg\n",
    "    \n",
    "    train_questions, train_target = shuffle_together(train_questions, train_target)\n",
    "    test_questions, test_target = shuffle_together(test_questions, test_target)\n",
    "    \n",
    "    return train_each_ctg, train_size, train_questions, train_target,\\\n",
    "        test_each_ctg, test_size, test_questions, test_target"
   ]
  },
  {
   "cell_type": "code",
   "execution_count": null,
   "metadata": {},
   "outputs": [],
   "source": [
    "train_ratio = 0.80\n",
    "test_ratio = 1.0 - train_ratio\n",
    "\n",
    "min_amount = least_questions_in_ctg(0, target_names, data_frame)\n",
    "train_each_ctg, train_size, train_questions, train_target, \\\n",
    "    test_each_ctg, test_size, test_questions, test_target = \\\n",
    "        split_datasets(train_ratio, min_amount, 0, data_frame, num_of_categories, target_names, target_dict)"
   ]
  },
  {
   "cell_type": "code",
   "execution_count": null,
   "metadata": {},
   "outputs": [],
   "source": [
    "import unidecode\n",
    "import re\n",
    "\n",
    "def unicode_to_ascii(data):\n",
    "    return unidecode.unidecode(re.sub(r\"[,.;@#?!&$]+\\ *\", \" \", data).lower()).split()"
   ]
  },
  {
   "cell_type": "markdown",
   "metadata": {},
   "source": [
    "#### Get vocab"
   ]
  },
  {
   "cell_type": "code",
   "execution_count": null,
   "metadata": {},
   "outputs": [],
   "source": [
    "def get_vocab(questions):\n",
    "    vocab = set()\n",
    "    \n",
    "    for idx, question in enumerate(questions):\n",
    "        words = unicode_to_ascii(question)\n",
    "\n",
    "        for idx in range(len(words)):\n",
    "            vocab.add(words[idx])\n",
    "\n",
    "    vocab_size = len(vocab)\n",
    "\n",
    "    index_to_word = {}\n",
    "\n",
    "    for idx, word in enumerate(vocab):\n",
    "        index_to_word[word] = idx\n",
    "        \n",
    "    return vocab, vocab_size, index_to_word"
   ]
  },
  {
   "cell_type": "code",
   "execution_count": null,
   "metadata": {
    "scrolled": false
   },
   "outputs": [],
   "source": [
    "vocab, vocab_size, index_to_word = get_vocab(train_questions)"
   ]
  },
  {
   "cell_type": "code",
   "execution_count": null,
   "metadata": {},
   "outputs": [],
   "source": [
    "def get_batch(text, target, i, batch_size, input_size, index_to):\n",
    "\n",
    "    batches = []\n",
    "    results = []\n",
    "    \n",
    "    texts = text[i * batch_size : (i + 1) * batch_size]\n",
    "    categories = target[i * batch_size : (i + 1) * batch_size]\n",
    "\n",
    "    for text in texts:\n",
    "        layer = np.zeros(input_size, dtype=float)\n",
    "        words = unicode_to_ascii(text)\n",
    "        \n",
    "        for word in words:\n",
    "            if word in index_to:\n",
    "                layer[index_to[word]] += 1\n",
    "            \n",
    "        batches.append(layer)\n",
    "        \n",
    "    for category in categories:\n",
    "        results.append(category)\n",
    "     \n",
    "    return np.array(batches), np.array(results)"
   ]
  },
  {
   "cell_type": "code",
   "execution_count": null,
   "metadata": {},
   "outputs": [],
   "source": [
    "learning_rate = 0.01\n",
    "num_epochs = 2\n",
    "batch_size = 200\n",
    "\n",
    "hidden_size = 100\n",
    "input_size = vocab_size\n",
    "num_classes = len(target_names)"
   ]
  },
  {
   "cell_type": "code",
   "execution_count": null,
   "metadata": {},
   "outputs": [],
   "source": [
    "from torch.autograd import Variable\n",
    "import torch.nn as nn\n",
    "import torch\n",
    "\n",
    "class BOWClassification(nn.Module):\n",
    "     def __init__(self, input_size, hidden_size, num_classes):\n",
    "        super(BOWClassification, self).__init__()\n",
    "        self.layer_1 = nn.Linear(input_size, hidden_size, bias=True)\n",
    "        self.relu = nn.ReLU()\n",
    "        self.layer_2 = nn.Linear(hidden_size, hidden_size, bias=True)\n",
    "        self.output_layer = nn.Linear(hidden_size, num_classes, bias=True)\n",
    " \n",
    "     def forward(self, x):\n",
    "        out = self.layer_1(x)\n",
    "        out = self.relu(out)\n",
    "        out = self.layer_2(out)\n",
    "        out = self.relu(out)\n",
    "        out = self.output_layer(out)\n",
    "        return out"
   ]
  },
  {
   "cell_type": "markdown",
   "metadata": {},
   "source": [
    "#### Get net"
   ]
  },
  {
   "cell_type": "code",
   "execution_count": null,
   "metadata": {},
   "outputs": [],
   "source": [
    "def get_net(vocab_size, hidden_size, num_classes, learning_rate, num_epochs, train_questions, train_target, batch_size, index_to_word):\n",
    "    net = BOWClassification(vocab_size, hidden_size, num_classes)\n",
    "\n",
    "    criterion = nn.CrossEntropyLoss()  \n",
    "    optimizer = torch.optim.Adam(net.parameters(), lr=learning_rate)  \n",
    "\n",
    "\n",
    "    for epoch in range(num_epochs):\n",
    "        if epoch:\n",
    "            print()\n",
    "        print(\"Epoch %d/%d: \" % (epoch + 1, num_epochs))\n",
    "        total_batch = len(train_questions) // batch_size\n",
    "        for i in range(total_batch):\n",
    "            batch_x, batch_y = get_batch(train_questions, train_target, i, batch_size, vocab_size, index_to_word)\n",
    "            questions = Variable(torch.FloatTensor(batch_x))\n",
    "            themes = Variable(torch.LongTensor(batch_y))\n",
    "\n",
    "            optimizer.zero_grad()\n",
    "            outputs = net(questions)\n",
    "            loss = criterion(outputs, themes)\n",
    "            loss.backward()\n",
    "            optimizer.step()\n",
    "\n",
    "            print(\"\\r[%d/%d] %.2f%%\" % (i + 1, total_batch, (i + 1)/ total_batch * 100), end=\"\")\n",
    "    \n",
    "    return net"
   ]
  },
  {
   "cell_type": "code",
   "execution_count": null,
   "metadata": {},
   "outputs": [],
   "source": [
    "net = get_net(vocab_size, hidden_size, num_classes, learning_rate, num_epochs, train_questions, train_target, batch_size, index_to_word)"
   ]
  },
  {
   "cell_type": "code",
   "execution_count": null,
   "metadata": {},
   "outputs": [],
   "source": [
    "def test_net(net, test_q, test_t, batch_s, vocab_s, index2word):\n",
    "    total_batch = len(test_q) // batch_s\n",
    "\n",
    "    total_pred = []\n",
    "\n",
    "    for i in range(total_batch):\n",
    "        test_batch_x, test_batch_y = get_batch(test_q, test_t, i, batch_s, vocab_s, index2word)\n",
    "        print(\"\\rTesting... [%d/%d] %.2f%%\" % (i + 1, total_batch, (i + 1)/ total_batch * 100), end=\"\")\n",
    "\n",
    "        questions = Variable(torch.FloatTensor(test_batch_x))\n",
    "        themes = Variable(torch.FloatTensor(test_batch_y))\n",
    "\n",
    "        outputs = net(questions)\n",
    "        _, predicted = torch.max(outputs.data, 1)\n",
    "        total_pred += predicted.tolist()\n",
    "        \n",
    "    return total_pred"
   ]
  },
  {
   "cell_type": "code",
   "execution_count": null,
   "metadata": {},
   "outputs": [],
   "source": [
    "total_predicted = test_net(net, test_questions, test_target, batch_size, vocab_size, index_to_word)"
   ]
  },
  {
   "cell_type": "markdown",
   "metadata": {},
   "source": [
    "## Tesztelés eredémye\n",
    "\n",
    "### Confusion matrix\n",
    "Tévesztési mátrix magyarul. A mátrix `i` sorában, `j` oszlopában szereplő érték (ebben az esetben) azt jelenti, hogy a mondat a `i` kategóriájú, de a háló `j` kategóriát ismert fel."
   ]
  },
  {
   "cell_type": "code",
   "execution_count": null,
   "metadata": {},
   "outputs": [],
   "source": [
    "from sklearn.metrics import confusion_matrix\n",
    "import seaborn as sn\n",
    "import matplotlib.pyplot as plt\n",
    "\n",
    "cm = confusion_matrix(test_target[0:len(total_predicted)], total_predicted)\n",
    "cm_df = pd.DataFrame(cm, index=target_names, columns=target_names)\n",
    "\n",
    "heatmap = sn.heatmap(cm_df, annot=True, cmap='Reds', fmt='g', annot_kws={\"size\": 15}, cbar=False)\n",
    "plt.show()"
   ]
  },
  {
   "cell_type": "markdown",
   "metadata": {},
   "source": [
    "## Classification report\n",
    "#### Accuracy\n",
    "A accuracy érték jelentése: a kérdések mekkora részét sikerült helyesen osztályozni.\n",
    "#### Precision\n",
    "A Szórakozás kategóriához tartozó precision érték azt jelenti, hogy az összes Szórakozás kategóriába sorolt kérdés közül mekkora arányban vannak a ténylegesen Szórakozás kategóriájú kérdések.\n",
    "#### Recall\n",
    "A recall érték a precision értékhez eléggé hasonló. Az összes ténylegesen Szórakozás kategóriájú kérdés mekkora részét sorolta Szórakozás kategóriába az osztályozó."
   ]
  },
  {
   "cell_type": "code",
   "execution_count": null,
   "metadata": {},
   "outputs": [],
   "source": [
    "from sklearn.metrics import classification_report\n",
    "\n",
    "class_report = classification_report(test_target[0:len(total_predicted)], total_predicted, target_names=target_names)\n",
    "print(class_report)"
   ]
  },
  {
   "cell_type": "markdown",
   "metadata": {},
   "source": [
    "## Alkategória osztályozás\n",
    "A főkategória osztályozáshoz hasonló módszerrel próbálkozva. A 4 főkategóriát most elkülönítjük egymástól, 1 tanító adathalamzban csak 1 főkategóriához tartozó kérdések lesznek. Ennek megfelelően az eddig látott dolgokból 4 fog kelleni (háló, tévesztési mátrix, tanító-, tesztelő halmaz stb.)\n",
    "\n",
    "#### Get target names"
   ]
  },
  {
   "cell_type": "code",
   "execution_count": null,
   "metadata": {},
   "outputs": [],
   "source": [
    "target_names_sub = {}\n",
    "target_dict_sub = {}\n",
    "num_of_ctg_sub = {}\n",
    "\n",
    "filtered_df = {}\n",
    "\n",
    "for t in target_names:\n",
    "    filtered_df[t] = data_frame[data_frame['kategoriak'].apply(lambda x: x[0]) == t]\n",
    "    filtered_df[t] = filtered_df[t][filtered_df[t]['kategoriak'].apply(lambda x: x[1]) != 'Egyéb kérdések']\n",
    "    target_names_sub[t], target_dict_sub[t], num_of_ctg_sub[t] = get_target_names(1, filtered_df[t])\n"
   ]
  },
  {
   "cell_type": "markdown",
   "metadata": {},
   "source": [
    "#### Split datasets"
   ]
  },
  {
   "cell_type": "code",
   "execution_count": null,
   "metadata": {},
   "outputs": [],
   "source": [
    "train_ratio = 0.8\n",
    "\n",
    "min_amount_sub = {}\n",
    "\n",
    "train_each_sub = {}\n",
    "train_questions_sub = {}\n",
    "train_size_sub = {}\n",
    "train_target_sub = {}\n",
    "\n",
    "test_each_sub = {}\n",
    "test_questions_sub = {}\n",
    "test_size_sub = {}\n",
    "test_target_sub = {}\n",
    "\n",
    "for t in target_names:\n",
    "    min_amount_sub[t] = least_questions_in_ctg(1, target_names_sub[t], filtered_df[t])\n",
    "    \n",
    "    train_each_sub[t], train_size_sub[t], train_questions_sub[t], train_target_sub[t], \\\n",
    "        test_each_sub[t], test_size_sub[t], test_questions_sub[t], test_target_sub[t] = \\\n",
    "            split_datasets(train_ratio, min_amount_sub[t], 1, filtered_df[t], num_of_ctg_sub[t], target_names_sub[t], target_dict_sub[t])\n"
   ]
  },
  {
   "cell_type": "markdown",
   "metadata": {},
   "source": [
    "#### Get vocab"
   ]
  },
  {
   "cell_type": "code",
   "execution_count": null,
   "metadata": {},
   "outputs": [],
   "source": [
    "vocab_sub = {}\n",
    "vocab_size_sub = {}\n",
    "index_to_word_sub = {}\n",
    "\n",
    "for t in target_names:\n",
    "    vocab_sub[t], vocab_size_sub[t], index_to_word_sub[t] = get_vocab(train_questions_sub[t])"
   ]
  },
  {
   "cell_type": "code",
   "execution_count": null,
   "metadata": {},
   "outputs": [],
   "source": [
    "learning_rate = 0.005\n",
    "num_epochs = 2\n",
    "batch_size = 75\n",
    "\n",
    "hidden_size = 200"
   ]
  },
  {
   "cell_type": "code",
   "execution_count": null,
   "metadata": {
    "scrolled": false
   },
   "outputs": [],
   "source": [
    "net_sub = {}\n",
    "\n",
    "for t in target_names:\n",
    "    print(t)\n",
    "    net_sub[t] = get_net(vocab_size_sub[t], hidden_size, num_of_ctg_sub[t], learning_rate, num_epochs, train_questions_sub[t], train_target_sub[t], batch_size, index_to_word_sub[t])\n",
    "    print()"
   ]
  },
  {
   "cell_type": "code",
   "execution_count": null,
   "metadata": {},
   "outputs": [],
   "source": [
    "total_pred_sub = {}\n",
    "\n",
    "for t in target_names:\n",
    "    print(t)\n",
    "    total_pred_sub[t] = test_net(net_sub[t], test_questions_sub[t], test_target_sub[t], batch_size, vocab_size_sub[t], index_to_word_sub[t])\n",
    "    print()"
   ]
  },
  {
   "cell_type": "code",
   "execution_count": null,
   "metadata": {},
   "outputs": [],
   "source": [
    "for t in target_names:\n",
    "    cm = confusion_matrix(test_target_sub[t][0:len(total_pred_sub[t])], total_pred_sub[t])\n",
    "    cm_df = pd.DataFrame(cm, index=target_names_sub[t], columns=target_names_sub[t])\n",
    "\n",
    "    plt.figure(figsize = (10,8))\n",
    "    heatmap = sn.heatmap(cm_df, annot=True, cmap='Reds', fmt='g', annot_kws={\"size\": 15}, cbar=False)\n",
    "    plt.show()\n"
   ]
  },
  {
   "cell_type": "code",
   "execution_count": null,
   "metadata": {},
   "outputs": [],
   "source": [
    "for t in target_names:\n",
    "    class_report = classification_report(test_target_sub[t][0:len(total_pred_sub[t])], total_pred_sub[t], target_names=target_names_sub[t])\n",
    "    print(class_report)"
   ]
  },
  {
   "cell_type": "markdown",
   "metadata": {},
   "source": [
    "# Embedding\n",
    "Get hungarian glove file"
   ]
  },
  {
   "cell_type": "code",
   "execution_count": null,
   "metadata": {},
   "outputs": [],
   "source": [
    "download_from_url('https://drive.google.com/uc?id=19k2AACA90Qv1BeUBz8H6trCT4QTJ8OjW', root='.')"
   ]
  },
  {
   "cell_type": "code",
   "execution_count": null,
   "metadata": {},
   "outputs": [],
   "source": [
    "import gensim\n",
    "from gensim.test.utils import datapath, get_tmpfile\n",
    "from gensim.models import KeyedVectors\n",
    "from gensim.scripts.glove2word2vec import glove2word2vec\n",
    "\n",
    "glove_file = \"glove-hu.200k.200d.txt\"\n",
    "gensim_file = \"glove-hu.200k.200d_gensim\"\n",
    "\n",
    "_ = glove2word2vec(glove_file, gensim_file)"
   ]
  },
  {
   "cell_type": "code",
   "execution_count": null,
   "metadata": {},
   "outputs": [],
   "source": [
    "embedding = gensim.models.KeyedVectors.load_word2vec_format(gensim_file, binary=False)"
   ]
  },
  {
   "cell_type": "markdown",
   "metadata": {},
   "source": [
    "## Stemming"
   ]
  },
  {
   "cell_type": "code",
   "execution_count": null,
   "metadata": {},
   "outputs": [],
   "source": [
    "from nltk.corpus import stopwords\n",
    "from nltk.stem.snowball import HungarianStemmer\n",
    "from nltk.tokenize import RegexpTokenizer\n",
    "import nltk\n",
    "import hu_core_ud_lg\n",
    "\n",
    "tokenizer = RegexpTokenizer(r'\\w+')\n",
    "\n",
    "stemmer = HungarianStemmer()\n",
    "q = train_questions[0]\n",
    "\n",
    "nltk.download('stopwords')\n",
    "stop_words = set(stopwords.words('hungarian'))\n",
    "\n",
    "# tokenizálás\n",
    "tokenized_sentence = tokenizer.tokenize(q)\n",
    "\n",
    "# stop word szűrés\n",
    "filtered_sentence = [w for w in tokenized_sentence if not w in stop_words]\n",
    "\n",
    "# lemmatizáció\n",
    "lemmatizer = hu_core_ud_lg.load()\n",
    "\n",
    "lemmatizer.remove_pipe('parser')\n",
    "lemmatizer.remove_pipe('ner')\n",
    "lemmatizer.add_pipe(lemmatizer.create_pipe('sentencizer'))\n",
    "\n",
    "doc = lemmatizer(\" \".join(filtered_sentence))"
   ]
  },
  {
   "cell_type": "code",
   "execution_count": null,
   "metadata": {},
   "outputs": [],
   "source": [
    "print(\"Eredeti kérdés:\")\n",
    "print(q)\n",
    "\n",
    "print(\"\\nTokenizálás utáni kérdés:\")\n",
    "for w in tokenized_sentence:\n",
    "    print(w, end=\" \")\n",
    "\n",
    "print(\"\\n\\nStop Word szűrés utáni kérdés:\")\n",
    "for w in filtered_sentence:\n",
    "    print(w, end=\" \")\n",
    "\n",
    "print(\"\\n\\nLemmatizáció utáni kérdés:\")\n",
    "for w in doc:\n",
    "    print(w.lemma_, end=\" \")\n",
    "    \n",
    "print(\"\\n\\nStemming utáni kérdés:\")\n",
    "for w in tokenized_sentence:\n",
    "    print(stemmer.stem(w), end=\" \")"
   ]
  },
  {
   "cell_type": "code",
   "execution_count": null,
   "metadata": {},
   "outputs": [],
   "source": [
    "def lemmatize_question(question):\n",
    "    doc = lemmatizer(question)\n",
    "    lemmatized = []\n",
    "    \n",
    "    for w in doc:\n",
    "        lemmatized.append(w.lemma_.lower())\n",
    "    return \" \".join(lemmatized)"
   ]
  },
  {
   "cell_type": "code",
   "execution_count": null,
   "metadata": {},
   "outputs": [],
   "source": [
    "def stem_question(question):\n",
    "    stemmed = []\n",
    "    \n",
    "    for w in question.split():\n",
    "        stemmed.append(stemmer.stem(w))\n",
    "    return \" \".join(stemmed)"
   ]
  },
  {
   "cell_type": "code",
   "execution_count": null,
   "metadata": {},
   "outputs": [],
   "source": [
    "import time"
   ]
  },
  {
   "cell_type": "code",
   "execution_count": null,
   "metadata": {},
   "outputs": [],
   "source": [
    "def create_datasets(questions):\n",
    "    lemmatized_list = []\n",
    "    stemmed_list = []\n",
    "    lemmatized_filtered_list = []\n",
    "    stemmed_filtered_list = []\n",
    "    \n",
    "    start_time = int(time.time() * 1000)\n",
    "    \n",
    "    for idx, q in enumerate(questions):\n",
    "        tokenized = tokenizer.tokenize(q)\n",
    "        tokenized_q = \" \".join(tokenized)\n",
    "        filtered = [w for w in tokenized if not w in stop_words]\n",
    "\n",
    "        filtered_q = \" \".join(filtered)\n",
    "\n",
    "        lemmatized_list.append(lemmatize_question(tokenized_q))\n",
    "        stemmed_list.append(stem_question(tokenized_q))\n",
    "        \n",
    "        lemmatized_filtered_list.append(lemmatize_question(filtered_q))\n",
    "        stemmed_filtered_list.append(stem_question(filtered_q))\n",
    "\n",
    "        if idx % 100 == 0:\n",
    "            print(\"\\r%8d / %8d\" % (idx, len(questions)), end=\"\")\n",
    "\n",
    "    print()\n",
    "    end_time = int(time.time() * 1000)\n",
    "    print(\"Creating datasets took: %f seconds\" % ((end_time - start_time) / 1000.0))\n",
    "\n",
    "    return lemmatized_list, stemmed_list, lemmatized_filtered_list, stemmed_filtered_list"
   ]
  },
  {
   "cell_type": "code",
   "execution_count": null,
   "metadata": {},
   "outputs": [],
   "source": [
    "lemmatized_train = []\n",
    "lemmatized_test = []\n",
    "\n",
    "stemmed_train = []\n",
    "stemmed_test = []\n",
    "\n",
    "lemmatized_filtered_train = []\n",
    "lemmatized_filtered_test = []\n",
    "\n",
    "stemmed_filtered_train = []\n",
    "stemmed_filtered_test = []\n",
    "\n",
    "do_i_really_want_to_wait_6_minutes = False\n",
    "if do_i_really_want_to_wait_6_minutes:\n",
    "    lemmatized_train, stemmed_train, lemmatized_filtered_train, stemmed_filtered_train = create_datasets(train_questions)\n",
    "    print(\"Train datasets are ready\")\n",
    "    lemmatized_test, stemmed_test, lemmatized_filtered_test, stemmed_filtered_test = create_datasets(test_questions)\n",
    "    print(\"Test datasets are ready\")\n",
    "    \n",
    "    lemma_trdf = pd.DataFrame(list(zip(train_target, lemmatized_train)), columns =['Target', 'Question']) \n",
    "    lemma_tedf = pd.DataFrame(list(zip(test_target, lemmatized_test)), columns =['Target', 'Question'])\n",
    "\n",
    "    stem_trdf = pd.DataFrame(list(zip(train_target, stemmed_train)), columns =['Target', 'Question']) \n",
    "    stem_tedf = pd.DataFrame(list(zip(test_target, stemmed_test)), columns =['Target', 'Question'])\n",
    "\n",
    "    lemmaf_trdf = pd.DataFrame(list(zip(train_target, lemmatized_filtered_train)), columns =['Target', 'Question']) \n",
    "    lemmaf_tedf = pd.DataFrame(list(zip(test_target, lemmatized_filtered_test)), columns =['Target', 'Question'])\n",
    "\n",
    "    stemf_trdf = pd.DataFrame(list(zip(train_target, stemmed_filtered_train)), columns =['Target', 'Question']) \n",
    "    stemf_tedf = pd.DataFrame(list(zip(test_target, stemmed_filtered_test)), columns =['Target', 'Question'])\n",
    "\n",
    "    lemma_trdf.to_csv(\".csv/lemma_trdf.csv\", index=False)\n",
    "    lemma_tedf.to_csv(\".csv/lemma_tedf.csv\", index=False)\n",
    "\n",
    "    stem_trdf.to_csv(\".csv/stem_trdf.csv\", index=False)\n",
    "    stem_tedf.to_csv(\".csv/stem_tedf.csv\", index=False)\n",
    "\n",
    "    lemmaf_trdf.to_csv(\".csv/lemmaf_trdf.csv\", index=False)\n",
    "    lemmaf_tedf.to_csv(\".csv/lemmaf_tedf.csv\", index=False)\n",
    "\n",
    "    stemf_trdf.to_csv(\".csv/stemf_trdf.csv\", index=False)\n",
    "    stemf_tedf.to_csv(\".csv/stemf_tedf.csv\", index=False)"
   ]
  },
  {
   "cell_type": "code",
   "execution_count": null,
   "metadata": {},
   "outputs": [],
   "source": [
    "from torchtext.utils import download_from_url, extract_archive\n",
    "dataset_tar = download_from_url('https://drive.google.com/uc?id=1LQkdBq9KW0wqgT9NG0k0VpCGqAtCGFkB', root='.csv/')\n",
    "extracted_files = extract_archive(dataset_tar)"
   ]
  },
  {
   "cell_type": "code",
   "execution_count": null,
   "metadata": {},
   "outputs": [],
   "source": [
    "import hu_core_ud_lg\n",
    "\n",
    "from torchtext import data\n",
    "import torch\n",
    "\n",
    "SEED = 2021\n",
    "\n",
    "torch.manual_seed(SEED)\n",
    "torch.backends.cudnn.deterministic = True\n",
    "\n",
    "QUESTION = data.Field(tokenize = 'spacy', tokenizer_language = 'hu_core_ud_lg')\n",
    "TARGET = data.LabelField(dtype = torch.long)"
   ]
  },
  {
   "cell_type": "code",
   "execution_count": null,
   "metadata": {},
   "outputs": [],
   "source": [
    "fields = [('Target', TARGET),('Question', QUESTION)]\n",
    "\n",
    "train, test = data.TabularDataset.splits(\n",
    "                                        path = '.csv',\n",
    "                                        train = 'stem_trdf.csv',\n",
    "                                        test = 'stem_tedf.csv',\n",
    "                                        format = 'csv',\n",
    "                                        fields = fields,\n",
    "                                        skip_header = True\n",
    ")"
   ]
  },
  {
   "cell_type": "code",
   "execution_count": null,
   "metadata": {},
   "outputs": [],
   "source": [
    "import random\n",
    "\n",
    "train, valid = train.split(random_state = random.seed(SEED))"
   ]
  },
  {
   "cell_type": "code",
   "execution_count": null,
   "metadata": {},
   "outputs": [],
   "source": [
    "import torchtext\n",
    "\n",
    "vec = torchtext.vocab.Vectors('glove-hu.200k.200d_gensim', cache = '.')\n",
    "\n",
    "QUESTION.build_vocab(train, vectors = vec)  \n",
    "TARGET.build_vocab(train)"
   ]
  },
  {
   "cell_type": "code",
   "execution_count": null,
   "metadata": {},
   "outputs": [],
   "source": [
    "in_glove = 0 \n",
    "\n",
    "for w in QUESTION.vocab.stoi:\n",
    "    if w in embedding:\n",
    "        in_glove = in_glove + 1\n",
    "print(\"%.2f\" % (in_glove / len(QUESTION.vocab) * 100))\n",
    "print(\"%.2f\" % (in_glove / len(embedding.wv.vocab) * 100))"
   ]
  },
  {
   "cell_type": "code",
   "execution_count": null,
   "metadata": {},
   "outputs": [],
   "source": [
    "BATCH_SIZE = 64\n",
    "\n",
    "device = torch.device('cuda' if torch.cuda.is_available() else 'cpu')\n",
    "\n",
    "train_iterator, valid_iterator, test_iterator = data.BucketIterator.splits((train, valid, test), batch_size = BATCH_SIZE,\n",
    "                                                                           sort_key = lambda x: len(x.Question),\n",
    "                                                                           sort_within_batch = False,\n",
    "                                                                           device = device)"
   ]
  },
  {
   "cell_type": "code",
   "execution_count": null,
   "metadata": {},
   "outputs": [],
   "source": [
    "import torch.nn as nn\n",
    "from torch import autograd\n",
    "\n",
    "class LSTMClassifier(nn.Module):\n",
    "    def __init__(self, input_dim, embedding_dim, hidden_dim, output_dim):\n",
    "        \n",
    "        super(LSTMClassifier, self).__init__()\n",
    "        self.hidden_dim = hidden_dim\n",
    "        \n",
    "        self.embedding = nn.Embedding(input_dim, embedding_dim)\n",
    "        self.embedding.weight.data.copy_(QUESTION.vocab.vectors)\n",
    "        self.embedding.weight.requires_grad=True\n",
    "        \n",
    "        self.lstm = nn.LSTM(embedding_dim, hidden_dim)\n",
    "        \n",
    "        self.fc = nn.Linear(hidden_dim, output_dim)\n",
    "\n",
    "        \n",
    "    def forward(self, text):\n",
    "        \n",
    "        embedded = self.embedding(text)\n",
    "        \n",
    "        output, hidden = self.lstm(embedded)\n",
    "\n",
    "        y = self.fc(output[-1])\n",
    "        \n",
    "        log_probs = F.log_softmax(y.squeeze(0))\n",
    "        return log_probs"
   ]
  },
  {
   "cell_type": "code",
   "execution_count": null,
   "metadata": {},
   "outputs": [],
   "source": [
    "INPUT_DIM = len(QUESTION.vocab)\n",
    "EMBEDDING_DIM = 200\n",
    "HIDDEN_DIM = 100\n",
    "OUTPUT_DIM = 4\n",
    "\n",
    "model = LSTMClassifier(INPUT_DIM, EMBEDDING_DIM, HIDDEN_DIM, OUTPUT_DIM)"
   ]
  },
  {
   "cell_type": "code",
   "execution_count": null,
   "metadata": {},
   "outputs": [],
   "source": [
    "import torch.optim as optim\n",
    "\n",
    "optimizer = optim.Adam(model.parameters(), lr=1e-3)"
   ]
  },
  {
   "cell_type": "code",
   "execution_count": null,
   "metadata": {},
   "outputs": [],
   "source": [
    "criterion = nn.NLLLoss()"
   ]
  },
  {
   "cell_type": "code",
   "execution_count": null,
   "metadata": {},
   "outputs": [],
   "source": [
    "zmodel = model.to(device)\n",
    "criterion = criterion.to(device)"
   ]
  },
  {
   "cell_type": "code",
   "execution_count": null,
   "metadata": {},
   "outputs": [],
   "source": [
    "from sklearn.metrics import classification_report\n",
    "def class_accuracy(preds, y):\n",
    "    rounded_preds = preds.argmax(1)\n",
    "    correct = (rounded_preds == y).float()\n",
    "\n",
    "    acc = correct.sum() / len(correct)\n",
    "    return acc"
   ]
  },
  {
   "cell_type": "code",
   "execution_count": null,
   "metadata": {},
   "outputs": [],
   "source": [
    "from sklearn.metrics import accuracy_score\n",
    "import torch.nn.functional as F\n",
    "def train_(model, iterator, optimizer, criterion):\n",
    "    \n",
    "    epoch_loss = 0\n",
    "    epoch_acc = 0\n",
    "    \n",
    "    model.train()\n",
    "    \n",
    "    for batch in iterator:\n",
    "\n",
    "        optimizer.zero_grad()\n",
    "                \n",
    "        predictions = model(batch.Question)\n",
    "\n",
    "        loss = criterion(predictions, batch.Target)\n",
    "        \n",
    "        acc = class_accuracy(predictions, batch.Target)\n",
    "        \n",
    "        loss.backward()\n",
    "        \n",
    "        optimizer.step()\n",
    "        \n",
    "        epoch_loss += loss.item()\n",
    "        epoch_acc += acc.item()\n",
    "\n",
    "    return epoch_loss / len(iterator), epoch_acc / len(iterator)"
   ]
  },
  {
   "cell_type": "code",
   "execution_count": null,
   "metadata": {},
   "outputs": [],
   "source": [
    "def evaluate(model, iterator, criterion):\n",
    "    \n",
    "    epoch_loss = 0\n",
    "    epoch_acc = 0\n",
    "    \n",
    "    model.eval()\n",
    "    total_predicted = []\n",
    "    with torch.no_grad():\n",
    "    \n",
    "        for batch in iterator:\n",
    "            predictions = model(batch.Question)\n",
    "            loss = criterion(predictions, batch.Target)\n",
    "            \n",
    "            acc = class_accuracy(predictions, batch.Target)\n",
    "\n",
    "            epoch_loss += loss.item()\n",
    "            epoch_acc += acc.item()\n",
    "\n",
    "            _, predicted = torch.max(predictions.data, 1)\n",
    "            total_predicted += predicted.tolist()\n",
    "\n",
    "    return epoch_loss / len(iterator), epoch_acc / len(iterator), total_predicted"
   ]
  },
  {
   "cell_type": "code",
   "execution_count": null,
   "metadata": {},
   "outputs": [],
   "source": [
    "import time\n",
    "\n",
    "def epoch_time(start_time, end_time):\n",
    "    elapsed_time = end_time - start_time\n",
    "    elapsed_mins = int(elapsed_time / 60)\n",
    "    elapsed_secs = int(elapsed_time - (elapsed_mins * 60))\n",
    "    return elapsed_mins, elapsed_secs"
   ]
  },
  {
   "cell_type": "code",
   "execution_count": null,
   "metadata": {},
   "outputs": [],
   "source": [
    "N_EPOCHS = 30\n",
    "\n",
    "best_valid_loss = float('inf')\n",
    "\n",
    "for epoch in range(N_EPOCHS):\n",
    "\n",
    "    start_time = time.time()\n",
    "    \n",
    "    train_loss, train_acc = train_(model, train_iterator, optimizer, criterion)\n",
    "    valid_loss, valid_acc, _ = evaluate(model, valid_iterator, criterion)\n",
    "    \n",
    "    end_time = time.time()\n",
    "\n",
    "    epoch_mins, epoch_secs = epoch_time(start_time, end_time)\n",
    "    \n",
    "    if valid_loss < best_valid_loss:\n",
    "        best_valid_loss = valid_loss\n",
    "        torch.save(model.state_dict(), 'tut1-model.pt')\n",
    "\n",
    "    print(f'Epoch: {epoch+1:02} | Epoch Time: {epoch_mins}m {epoch_secs}s')\n",
    "    print(f'\\tTrain Loss: {train_loss:.3f} | Train Acc: {train_acc*100:.2f}%')\n",
    "    print(f'\\t Val. Loss: {valid_loss:.3f} |  Val. Acc: {valid_acc*100:.2f}%')"
   ]
  },
  {
   "cell_type": "code",
   "execution_count": null,
   "metadata": {},
   "outputs": [],
   "source": [
    "model.load_state_dict(torch.load('tut1-model.pt'))\n",
    "\n",
    "test_loss, test_acc, total_predicted = evaluate(model, test_iterator, criterion)\n",
    "\n",
    "print(f'Test Loss: {test_loss:.3f} | Test Acc: {test_acc*100:.2f}%')"
   ]
  },
  {
   "cell_type": "code",
   "execution_count": null,
   "metadata": {},
   "outputs": [],
   "source": [
    "from sklearn.metrics import confusion_matrix\n",
    "import seaborn as sn\n",
    "import matplotlib.pyplot as plt\n",
    "\n",
    "test_target = []\n",
    "for batch in test_iterator:\n",
    "    test_target += batch.Target.tolist()\n",
    "\n",
    "cm = confusion_matrix(test_target, total_predicted)\n",
    "cm_df = pd.DataFrame(cm, index=target_names, columns=target_names)\n",
    "\n",
    "heatmap = sn.heatmap(cm_df, annot=True, cmap='Reds', fmt='g', annot_kws={\"size\": 15}, cbar=False)\n",
    "plt.show()"
   ]
  }
 ],
 "metadata": {
  "kernelspec": {
   "display_name": "Python 3",
   "language": "python",
   "name": "python3"
  },
  "language_info": {
   "codemirror_mode": {
    "name": "ipython",
    "version": 3
   },
   "file_extension": ".py",
   "mimetype": "text/x-python",
   "name": "python",
   "nbconvert_exporter": "python",
   "pygments_lexer": "ipython3",
   "version": "3.8.5"
  }
 },
 "nbformat": 4,
 "nbformat_minor": 4
}
