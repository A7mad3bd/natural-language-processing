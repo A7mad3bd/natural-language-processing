{
 "cells": [
  {
   "cell_type": "code",
   "execution_count": 1,
   "metadata": {},
   "outputs": [],
   "source": [
    "import sys\n",
    "import os\n",
    "import glob\n",
    "import json\n",
    "import pandas as pd\n",
    "%matplotlib inline\n",
    "import matplotlib\n",
    "import numpy as np"
   ]
  },
  {
   "cell_type": "code",
   "execution_count": 2,
   "metadata": {},
   "outputs": [],
   "source": [
    "def find_files(path):\n",
    "    return glob.glob(path)"
   ]
  },
  {
   "cell_type": "code",
   "execution_count": 3,
   "metadata": {},
   "outputs": [],
   "source": [
    "def read_json(filename):\n",
    "    with open(filename) as json_file:\n",
    "        data = json.load(json_file)\n",
    "    return data"
   ]
  },
  {
   "cell_type": "markdown",
   "metadata": {},
   "source": [
    "### Adat beolvasása JSON fájlból"
   ]
  },
  {
   "cell_type": "code",
   "execution_count": 4,
   "metadata": {},
   "outputs": [
    {
     "name": "stdout",
     "output_type": "stream",
     "text": [
      "Reading file: Data/gyakori_szamitastechnika\n",
      "Reading file: Data/gyakori_egeszseg_20000\n",
      "Reading file: Data/gyakori_szorakozas_30000\n",
      "Reading file: Data/gyakori_egeszseg\n",
      "Reading file: Data/gyakori_allatok_14000\n"
     ]
    }
   ],
   "source": [
    "json_data = []\n",
    "\n",
    "for file in find_files('Data/*'):\n",
    "    print(\"Reading file:\", file)\n",
    "    json_data.append(read_json(file))"
   ]
  },
  {
   "cell_type": "markdown",
   "metadata": {},
   "source": [
    "### Dataframe-mé alakítás"
   ]
  },
  {
   "cell_type": "code",
   "execution_count": 5,
   "metadata": {
    "scrolled": true
   },
   "outputs": [],
   "source": [
    "data_frame = pd.DataFrame()\n",
    "\n",
    "for data in json_data:\n",
    "    frames  = [data_frame, pd.DataFrame(data)]\n",
    "    data_frame = pd.concat(frames).reset_index(drop=True)\n",
    "    \n",
    "for index, row in data_frame.iterrows():\n",
    "    row['kategoriak'] = row['kategoriak'][0]"
   ]
  },
  {
   "cell_type": "markdown",
   "metadata": {},
   "source": [
    "### Bepillantás a kérdésekbe"
   ]
  },
  {
   "cell_type": "code",
   "execution_count": 6,
   "metadata": {},
   "outputs": [
    {
     "data": {
      "text/html": [
       "<div>\n",
       "<style scoped>\n",
       "    .dataframe tbody tr th:only-of-type {\n",
       "        vertical-align: middle;\n",
       "    }\n",
       "\n",
       "    .dataframe tbody tr th {\n",
       "        vertical-align: top;\n",
       "    }\n",
       "\n",
       "    .dataframe thead th {\n",
       "        text-align: right;\n",
       "    }\n",
       "</style>\n",
       "<table border=\"1\" class=\"dataframe\">\n",
       "  <thead>\n",
       "    <tr style=\"text-align: right;\">\n",
       "      <th></th>\n",
       "      <th>valasz</th>\n",
       "      <th>kategoriak</th>\n",
       "      <th>hosszu_kerdes</th>\n",
       "      <th>rovid_kerdes</th>\n",
       "      <th>keywords</th>\n",
       "    </tr>\n",
       "  </thead>\n",
       "  <tbody>\n",
       "    <tr>\n",
       "      <th>0</th>\n",
       "      <td>Várak régen is voltak. Ha mindhárom tornyot le...</td>\n",
       "      <td>Számítástechnika</td>\n",
       "      <td>Miért lett ilyen sz@r a honfoglaló? Régen tök ...</td>\n",
       "      <td>Miért lett ilyen sz@r a honfoglaló?</td>\n",
       "      <td>[Honfoglaló, vár]</td>\n",
       "    </tr>\n",
       "    <tr>\n",
       "      <th>1</th>\n",
       "      <td>Ahogy írták, az stdio az a C-s függvénykönyvtá...</td>\n",
       "      <td>Számítástechnika</td>\n",
       "      <td>C++-ban melyiket érdemesebb használni? Stdio v...</td>\n",
       "      <td>C++-ban melyiket érdemesebb használni? Stdio v...</td>\n",
       "      <td>[C++, iostream, konzol, Windows, Visual Studio]</td>\n",
       "    </tr>\n",
       "  </tbody>\n",
       "</table>\n",
       "</div>"
      ],
      "text/plain": [
       "                                              valasz        kategoriak  \\\n",
       "0  Várak régen is voltak. Ha mindhárom tornyot le...  Számítástechnika   \n",
       "1  Ahogy írták, az stdio az a C-s függvénykönyvtá...  Számítástechnika   \n",
       "\n",
       "                                       hosszu_kerdes  \\\n",
       "0  Miért lett ilyen sz@r a honfoglaló? Régen tök ...   \n",
       "1  C++-ban melyiket érdemesebb használni? Stdio v...   \n",
       "\n",
       "                                        rovid_kerdes  \\\n",
       "0                Miért lett ilyen sz@r a honfoglaló?   \n",
       "1  C++-ban melyiket érdemesebb használni? Stdio v...   \n",
       "\n",
       "                                          keywords  \n",
       "0                                [Honfoglaló, vár]  \n",
       "1  [C++, iostream, konzol, Windows, Visual Studio]  "
      ]
     },
     "execution_count": 6,
     "metadata": {},
     "output_type": "execute_result"
    }
   ],
   "source": [
    "data_frame.head(2)"
   ]
  },
  {
   "cell_type": "markdown",
   "metadata": {},
   "source": [
    "### Kérdések megszámolása, átlagos hossz számolása"
   ]
  },
  {
   "cell_type": "code",
   "execution_count": 7,
   "metadata": {},
   "outputs": [],
   "source": [
    "def calculate_avg(data_frame, label=\"rovid_kerdes\"):\n",
    "    avg = 0\n",
    "    count = 0\n",
    "    \n",
    "    for index, row in data_frame.iterrows():\n",
    "        avg += len(row[label])\n",
    "        count += 1\n",
    "\n",
    "    avg = avg / count\n",
    "    \n",
    "    return avg"
   ]
  },
  {
   "cell_type": "markdown",
   "metadata": {},
   "source": [
    "### Extrém rövid/hosszú kérdések eldobása"
   ]
  },
  {
   "cell_type": "code",
   "execution_count": 8,
   "metadata": {},
   "outputs": [],
   "source": [
    "def drop_extreme(data_frame, min_, max_, label=\"rovid_kerdes\"):\n",
    "    data_frame = data_frame[data_frame[label].map(len) >= min_]\n",
    "    data_frame = data_frame[data_frame[label].map(len) <= max_]\n",
    "\n",
    "    return data_frame"
   ]
  },
  {
   "cell_type": "code",
   "execution_count": 9,
   "metadata": {},
   "outputs": [
    {
     "name": "stdout",
     "output_type": "stream",
     "text": [
      "Average length: 346.495816\n"
     ]
    }
   ],
   "source": [
    "long_questions_avg_len = calculate_avg(data_frame, \"hosszu_kerdes\")\n",
    "print(\"Average length: %f\" % long_questions_avg_len)"
   ]
  },
  {
   "cell_type": "code",
   "execution_count": 10,
   "metadata": {},
   "outputs": [
    {
     "name": "stdout",
     "output_type": "stream",
     "text": [
      "Average length: 326.753950\n"
     ]
    }
   ],
   "source": [
    "data_frame = drop_extreme(data_frame, long_questions_avg_len / 4, long_questions_avg_len * 3, \"hosszu_kerdes\")\n",
    "long_questions_avg_len = calculate_avg(data_frame, \"hosszu_kerdes\")\n",
    "\n",
    "print(\"Average length: %f\" % long_questions_avg_len)"
   ]
  },
  {
   "cell_type": "code",
   "execution_count": 11,
   "metadata": {},
   "outputs": [
    {
     "name": "stdout",
     "output_type": "stream",
     "text": [
      "['Számítástechnika', 'Egészség', 'Szórakozás', 'Állatok']\n"
     ]
    }
   ],
   "source": [
    "target_dir = {}\n",
    "target_names = []\n",
    "\n",
    "for idx in data_frame.index:\n",
    "    category = data_frame[\"kategoriak\"][idx]\n",
    "    if category not in target_names:\n",
    "        target_dir[category] = len(target_dir)\n",
    "        target_names.append(category)\n",
    "print(target_names)        "
   ]
  },
  {
   "cell_type": "code",
   "execution_count": 12,
   "metadata": {},
   "outputs": [],
   "source": [
    "import random\n",
    "\n",
    "questions_from_each_category = 1500\n",
    "\n",
    "long_questions = []\n",
    "target_values = []\n",
    "\n",
    "for target_name in target_names:\n",
    "    sample = data_frame[data_frame[\"kategoriak\"] == target_name].sample(n = questions_from_each_category)\n",
    "    long_questions += sample[\"hosszu_kerdes\"].tolist()\n",
    "    target_values += [target_dir[target_name]] * questions_from_each_category\n",
    "    \n",
    "zipped = list(zip(long_questions, target_values))\n",
    "\n",
    "random.shuffle(zipped)\n",
    "\n",
    "long_questions, target_values = zip(*zipped)\n",
    "\n",
    "long_questions = list(long_questions)\n",
    "target_values = list(target_values)"
   ]
  },
  {
   "cell_type": "code",
   "execution_count": 23,
   "metadata": {},
   "outputs": [],
   "source": [
    "def unicode_to_ascii(data):\n",
    "    return unidecode.unidecode(re.sub(r\"[,.;@#?!&$]+\\ *\", \" \", data).lower()).split()"
   ]
  },
  {
   "cell_type": "code",
   "execution_count": 24,
   "metadata": {
    "scrolled": false
   },
   "outputs": [],
   "source": [
    "import unidecode\n",
    "import re\n",
    "from collections import Counter\n",
    "\n",
    "vocab = set()\n",
    "\n",
    "for idx, q in enumerate(long_questions):\n",
    "    words = unicode_to_ascii(q)\n",
    "\n",
    "    for word in words:\n",
    "        vocab.add(word)\n",
    "\n",
    "    long_questions[idx] = \" \".join(words)\n",
    "\n",
    "total_words = len(vocab)\n",
    "\n",
    "index_of_word = {}\n",
    "\n",
    "for idx, word in enumerate(vocab):\n",
    "    index_of_word[word.lower()] = idx"
   ]
  },
  {
   "cell_type": "code",
   "execution_count": 26,
   "metadata": {},
   "outputs": [],
   "source": [
    "def get_batch(text, target=[0], i=0, batch_size=1):\n",
    "\n",
    "    batches = []\n",
    "    results = []\n",
    "    \n",
    "    texts = text[i * batch_size : i * batch_size + batch_size]\n",
    "    categories = target[i * batch_size : i * batch_size + batch_size]\n",
    "\n",
    "    for text in texts:\n",
    "        layer = np.zeros(input_size , dtype=float)\n",
    "        for word in text.split():\n",
    "            if word.lower() not in index_of_word:\n",
    "                index_of_word[word.lower()] = len(index_of_word)\n",
    "            layer[index_of_word[word.lower()]] += 1\n",
    "            \n",
    "        batches.append(layer)\n",
    "        \n",
    "    for category in categories:\n",
    "        results.append(category)\n",
    "     \n",
    "    return np.array(batches), np.array(results)"
   ]
  },
  {
   "cell_type": "code",
   "execution_count": 27,
   "metadata": {},
   "outputs": [],
   "source": [
    "learning_rate = 0.01\n",
    "num_epochs = 5\n",
    "batch_size = 150\n",
    "\n",
    "hidden_size = 100\n",
    "input_size = total_words + 100\n",
    "num_classes = len(target_names)"
   ]
  },
  {
   "cell_type": "code",
   "execution_count": 28,
   "metadata": {},
   "outputs": [],
   "source": [
    "from torch.autograd import Variable\n",
    "import torch.nn as nn\n",
    "import torch"
   ]
  },
  {
   "cell_type": "code",
   "execution_count": 29,
   "metadata": {},
   "outputs": [],
   "source": [
    "class Classification(nn.Module):\n",
    "     def __init__(self, input_size, hidden_size, num_classes):\n",
    "        super(Classification, self).__init__()\n",
    "        self.layer_1 = nn.Linear(input_size, hidden_size, bias=True)\n",
    "        self.relu = nn.ReLU()\n",
    "        self.layer_2 = nn.Linear(hidden_size, hidden_size, bias=True)\n",
    "        self.output_layer = nn.Linear(hidden_size, num_classes, bias=True)\n",
    " \n",
    "     def forward(self, x):\n",
    "        out = self.layer_1(x)\n",
    "        out = self.relu(out)\n",
    "        out = self.layer_2(out)\n",
    "        out = self.relu(out)\n",
    "        out = self.output_layer(out)\n",
    "        return out"
   ]
  },
  {
   "cell_type": "code",
   "execution_count": 30,
   "metadata": {},
   "outputs": [
    {
     "name": "stdout",
     "output_type": "stream",
     "text": [
      "Epoch [1/5], Step [4/40], Loss: 1.2696\n",
      "Epoch [1/5], Step [8/40], Loss: 0.9319\n",
      "Epoch [1/5], Step [12/40], Loss: 0.6414\n",
      "Epoch [1/5], Step [16/40], Loss: 0.4717\n",
      "Epoch [1/5], Step [20/40], Loss: 0.3818\n",
      "Epoch [1/5], Step [24/40], Loss: 0.5796\n",
      "Epoch [1/5], Step [28/40], Loss: 0.6062\n",
      "Epoch [1/5], Step [32/40], Loss: 0.4463\n",
      "Epoch [1/5], Step [36/40], Loss: 0.4505\n",
      "Epoch [1/5], Step [40/40], Loss: 0.5508\n",
      "Epoch [2/5], Step [4/40], Loss: 0.0723\n",
      "Epoch [2/5], Step [8/40], Loss: 0.0337\n",
      "Epoch [2/5], Step [12/40], Loss: 0.0669\n",
      "Epoch [2/5], Step [16/40], Loss: 0.0242\n",
      "Epoch [2/5], Step [20/40], Loss: 0.0107\n",
      "Epoch [2/5], Step [24/40], Loss: 0.0195\n",
      "Epoch [2/5], Step [28/40], Loss: 0.0243\n",
      "Epoch [2/5], Step [32/40], Loss: 0.0345\n",
      "Epoch [2/5], Step [36/40], Loss: 0.0142\n",
      "Epoch [2/5], Step [40/40], Loss: 0.0098\n",
      "Epoch [3/5], Step [4/40], Loss: 0.0004\n",
      "Epoch [3/5], Step [8/40], Loss: 0.0005\n",
      "Epoch [3/5], Step [12/40], Loss: 0.0007\n",
      "Epoch [3/5], Step [16/40], Loss: 0.0006\n",
      "Epoch [3/5], Step [20/40], Loss: 0.0003\n",
      "Epoch [3/5], Step [24/40], Loss: 0.0008\n",
      "Epoch [3/5], Step [28/40], Loss: 0.0002\n",
      "Epoch [3/5], Step [32/40], Loss: 0.0003\n",
      "Epoch [3/5], Step [36/40], Loss: 0.0003\n",
      "Epoch [3/5], Step [40/40], Loss: 0.0002\n",
      "Epoch [4/5], Step [4/40], Loss: 0.0001\n",
      "Epoch [4/5], Step [8/40], Loss: 0.0001\n",
      "Epoch [4/5], Step [12/40], Loss: 0.0001\n",
      "Epoch [4/5], Step [16/40], Loss: 0.0002\n",
      "Epoch [4/5], Step [20/40], Loss: 0.0001\n",
      "Epoch [4/5], Step [24/40], Loss: 0.0003\n",
      "Epoch [4/5], Step [28/40], Loss: 0.0001\n",
      "Epoch [4/5], Step [32/40], Loss: 0.0001\n",
      "Epoch [4/5], Step [36/40], Loss: 0.0001\n",
      "Epoch [4/5], Step [40/40], Loss: 0.0001\n",
      "Epoch [5/5], Step [4/40], Loss: 0.0000\n",
      "Epoch [5/5], Step [8/40], Loss: 0.0000\n",
      "Epoch [5/5], Step [12/40], Loss: 0.0000\n",
      "Epoch [5/5], Step [16/40], Loss: 0.0001\n",
      "Epoch [5/5], Step [20/40], Loss: 0.0000\n",
      "Epoch [5/5], Step [24/40], Loss: 0.0002\n",
      "Epoch [5/5], Step [28/40], Loss: 0.0000\n",
      "Epoch [5/5], Step [32/40], Loss: 0.0001\n",
      "Epoch [5/5], Step [36/40], Loss: 0.0001\n",
      "Epoch [5/5], Step [40/40], Loss: 0.0001\n"
     ]
    }
   ],
   "source": [
    "net = Classification(input_size, hidden_size, num_classes)\n",
    "\n",
    "criterion = nn.CrossEntropyLoss()  \n",
    "optimizer = torch.optim.Adam(net.parameters(), lr=learning_rate)  \n",
    "\n",
    "train_text = long_questions\n",
    "train_target = target_values\n",
    "\n",
    "for epoch in range(num_epochs):\n",
    "    total_batch = int(len(train_text) / batch_size)\n",
    "\n",
    "    for i in range(total_batch):\n",
    "        batch_x, batch_y = get_batch(train_text, train_target, i, batch_size)\n",
    "        questions = Variable(torch.FloatTensor(batch_x))\n",
    "        theme = Variable(torch.LongTensor(batch_y))\n",
    "        \n",
    "        optimizer.zero_grad()\n",
    "        outputs = net(questions)\n",
    "        loss = criterion(outputs, theme)\n",
    "        loss.backward()\n",
    "        optimizer.step()\n",
    "        \n",
    "        if (i + 1) % 4 == 0:\n",
    "            print ('Epoch [%d/%d], Step [%d/%d], Loss: %.4f' %(epoch + 1, num_epochs, i + 1, len(train_text) // batch_size, loss.data))"
   ]
  },
  {
   "cell_type": "code",
   "execution_count": null,
   "metadata": {},
   "outputs": [
    {
     "name": "stdout",
     "output_type": "stream",
     "text": [
      "Mennyi kérdésed van?\n"
     ]
    }
   ],
   "source": [
    "print(\"Mennyi kérdésed van?\")\n",
    "q_num = int(input())\n",
    "\n",
    "for q in range(0, q_num):\n",
    "    test_text = input()\n",
    "\n",
    "    test_data = unicode_to_ascii(test_text)\n",
    "\n",
    "    batch_x_test, _ = get_batch(test_data)\n",
    "    question = Variable(torch.FloatTensor(batch_x_test))\n",
    "    outputs = net(question)\n",
    "    _, predicted = torch.max(outputs.data, 1)\n",
    "\n",
    "    print(\"A kérdés %s témájú .. talán.\" % target_names[predicted.item()])"
   ]
  }
 ],
 "metadata": {
  "kernelspec": {
   "display_name": "Python 3",
   "language": "python",
   "name": "python3"
  },
  "language_info": {
   "codemirror_mode": {
    "name": "ipython",
    "version": 3
   },
   "file_extension": ".py",
   "mimetype": "text/x-python",
   "name": "python",
   "nbconvert_exporter": "python",
   "pygments_lexer": "ipython3",
   "version": "3.6.9"
  }
 },
 "nbformat": 4,
 "nbformat_minor": 4
}
