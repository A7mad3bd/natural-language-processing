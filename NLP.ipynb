{
 "cells": [
  {
   "cell_type": "code",
   "execution_count": 1,
   "metadata": {},
   "outputs": [],
   "source": [
    "import sys\n",
    "import os\n",
    "import glob\n",
    "import json\n",
    "import pandas as pd\n",
    "%matplotlib inline\n",
    "import matplotlib\n",
    "import numpy as np"
   ]
  },
  {
   "cell_type": "code",
   "execution_count": 2,
   "metadata": {},
   "outputs": [],
   "source": [
    "def find_files(path):\n",
    "    return glob.glob(path)"
   ]
  },
  {
   "cell_type": "code",
   "execution_count": 3,
   "metadata": {},
   "outputs": [],
   "source": [
    "def read_json(filename):\n",
    "    with open(filename) as json_file:\n",
    "        data = json.load(json_file)\n",
    "    return data"
   ]
  },
  {
   "cell_type": "markdown",
   "metadata": {},
   "source": [
    "### Reading data from JSON files"
   ]
  },
  {
   "cell_type": "code",
   "execution_count": 4,
   "metadata": {},
   "outputs": [
    {
     "name": "stdout",
     "output_type": "stream",
     "text": [
      "Data/gyakori_szamitastechnika\n",
      "Data/gyakori_egeszseg_20000\n",
      "Data/gyakori_szorakozas_30000\n",
      "Data/gyakori_egeszseg\n",
      "Data/gyakori_allatok_14000\n"
     ]
    }
   ],
   "source": [
    "json_data = []\n",
    "\n",
    "for file in find_files('Data/*'):\n",
    "    print(file)\n",
    "    json_data.append(read_json(file))"
   ]
  },
  {
   "cell_type": "code",
   "execution_count": 5,
   "metadata": {
    "scrolled": true
   },
   "outputs": [
    {
     "name": "stdout",
     "output_type": "stream",
     "text": [
      "                                              valasz  \\\n",
      "0  Várak régen is voltak. Ha mindhárom tornyot le...   \n",
      "1  Ahogy írták, az stdio az a C-s függvénykönyvtá...   \n",
      "\n",
      "                        kategoriak  \\\n",
      "0     [Számítástechnika, Internet]   \n",
      "1  [Számítástechnika, Programozás]   \n",
      "\n",
      "                                       hosszu_kerdes  \\\n",
      "0  Miért lett ilyen sz@r a honfoglaló? Régen tök ...   \n",
      "1  C++-ban melyiket érdemesebb használni? Stdio v...   \n",
      "\n",
      "                                        rovid_kerdes  \\\n",
      "0                Miért lett ilyen sz@r a honfoglaló?   \n",
      "1  C++-ban melyiket érdemesebb használni? Stdio v...   \n",
      "\n",
      "                                          keywords  \n",
      "0                                [Honfoglaló, vár]  \n",
      "1  [C++, iostream, konzol, Windows, Visual Studio]  \n",
      "--------------------------------------------------\n",
      "                                            keywords  \\\n",
      "0              [inzulinrezisztencia, diéta, reggeli]   \n",
      "1  [nőgyógyászat, kivizsgálás, fájdalom, magánren...   \n",
      "\n",
      "                                       hosszu_kerdes  \\\n",
      "0  Inzulinrezisztencia diétában mennyire kell kom...   \n",
      "1  Ha Borsod megyei vagyok, attól még mehetek mag...   \n",
      "\n",
      "                                              valasz  \\\n",
      "0  Eléggé. Az ébredéstől egy órán belül meg kelle...   \n",
      "1                        Akárkihez mehetsz, akárhol.   \n",
      "\n",
      "                                        rovid_kerdes  \\\n",
      "0  Inzulinrezisztencia diétában mennyire kell kom...   \n",
      "1  Ha Borsod megyei vagyok, attól még mehetek mag...   \n",
      "\n",
      "                  kategoriak  \n",
      "0    [Egészség, Táplálkozás]  \n",
      "1  [Egészség, Nők egészsége]  \n",
      "--------------------------------------------------\n",
      "                        kategoriak  \\\n",
      "0  [Szórakozás, Filmek, sorozatok]   \n",
      "1  [Szórakozás, Filmek, sorozatok]   \n",
      "\n",
      "                                       hosszu_kerdes  \\\n",
      "0  Milyen animék vannak amikben a tanulás szerepe...   \n",
      "1  Nem látta már valaki véletlen ezt a filmet? Ez...   \n",
      "\n",
      "                                        rovid_kerdes  \\\n",
      "0  Milyen animék vannak amikben a tanulás szerepe...   \n",
      "1  Nem látta már valaki véletlen ezt a filmet? Ez...   \n",
      "\n",
      "                              keywords  \\\n",
      "0       [rész, tanulás, iskola, anime]   \n",
      "1  [Tumblr, film, gif, mozgókép, csók]   \n",
      "\n",
      "                                              valasz  \n",
      "0  Baka To TestAnsatsu KyoushitsuBokutachi wa Ben...  \n",
      "1  Nagyon ügyes a barátod, én is szoktam vele bes...  \n",
      "--------------------------------------------------\n",
      "                         kategoriak  \\\n",
      "0  [Egészség, Sérülések, balesetek]   \n",
      "1     [Egészség, Mentális egészség]   \n",
      "\n",
      "                                              valasz  \\\n",
      "0  Komolyan az eszem megáll! Azt, hogy leforrázta...   \n",
      "1  Nekem sokat segített a pszichológus ebben a té...   \n",
      "\n",
      "                                       hosszu_kerdes  \\\n",
      "0  Ma sajnos leforráztam a kisbabám lábát! Úgy go...   \n",
      "1  Mi a neve ennek a mentális betegségnek? A pszi...   \n",
      "\n",
      "                                        rovid_kerdes  \\\n",
      "0  Ma sajnos leforráztam a kisbabám lábát! Úgy go...   \n",
      "1  Mi a neve ennek a mentális betegségnek? A pszi...   \n",
      "\n",
      "                                            keywords  \n",
      "0                      [baba, forró víz, leforrázás]  \n",
      "1  [pszichológia, pszichológus, lélek, elme, fóbi...  \n",
      "--------------------------------------------------\n",
      "                                        rovid_kerdes  \\\n",
      "0  Nagy terület őrzésére milyen kutyát javasolnát...   \n",
      "1  Az álllatorvosunkat alig lehet elérni. Ez szer...   \n",
      "\n",
      "                                       hosszu_kerdes  \\\n",
      "0  Nagy terület őrzésére milyen kutyát javasolnát...   \n",
      "1  Az álllatorvosunkat alig lehet elérni. Ez szer...   \n",
      "\n",
      "                                              valasz  \\\n",
      "0  A komondor/kuvasz páros kimondottan ezekre a f...   \n",
      "1                        Keress másik orvost. Ennyi.   \n",
      "\n",
      "                  kategoriak                 keywords  \n",
      "0          [Állatok, Kutyák]  [kutya, őrkutya, aktív]  \n",
      "1  [Állatok, Egyéb kérdések]    [állatorvos, időpont]  \n",
      "--------------------------------------------------\n"
     ]
    }
   ],
   "source": [
    "data_frames = []\n",
    "\n",
    "for data in json_data:\n",
    "    data_frames.append(pd.DataFrame(data))\n",
    "\n",
    "for frame in data_frames:\n",
    "    print(frame.head(2))\n",
    "    for i in range(0, 25):\n",
    "        print(\"--\", end=\"\")\n",
    "    print()"
   ]
  }
 ],
 "metadata": {
  "kernelspec": {
   "display_name": "Python 3",
   "language": "python",
   "name": "python3"
  },
  "language_info": {
   "codemirror_mode": {
    "name": "ipython",
    "version": 3
   },
   "file_extension": ".py",
   "mimetype": "text/x-python",
   "name": "python",
   "nbconvert_exporter": "python",
   "pygments_lexer": "ipython3",
   "version": "3.8.5"
  }
 },
 "nbformat": 4,
 "nbformat_minor": 4
}
