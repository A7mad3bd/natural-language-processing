{
 "cells": [
  {
   "cell_type": "code",
   "execution_count": 1,
   "id": "39b356a1",
   "metadata": {
    "scrolled": true
   },
   "outputs": [],
   "source": [
    "import random\n",
    "import time \n",
    "import os\n",
    "\n",
    "import numpy as np\n",
    "import pandas as pd\n",
    "import seaborn as sn\n",
    "from argparse import Namespace\n",
    "\n",
    "import torch\n",
    "from torch.nn import CrossEntropyLoss\n",
    "from torch.utils.data import TensorDataset, DataLoader, RandomSampler\n",
    "from torch.optim import AdamW\n",
    "from transformers import BertTokenizerFast, BertForSequenceClassification, \\\n",
    "    get_linear_schedule_with_warmup, BertConfig\n",
    "\n",
    "from sklearn.utils.class_weight import compute_class_weight\n",
    "from sklearn.metrics import accuracy_score, confusion_matrix, classification_report\n",
    "\n",
    "import matplotlib.pyplot as plt\n",
    "\n",
    "from tqdm.notebook import tqdm"
   ]
  },
  {
   "cell_type": "code",
   "execution_count": 2,
   "id": "a29ed7bc",
   "metadata": {
    "scrolled": true
   },
   "outputs": [],
   "source": [
    "args = Namespace(\n",
    "    dataset_dir = \".data\",\n",
    "    dataset_prefix = \"faq_with_splits_\",\n",
    "    dataset = \"lemmatized_filtered\",\n",
    "    models = [\"SZTAKI-HLT/hubert-base-cc\", \"bert-base-multilingual-uncased\"],\n",
    "    model_save_dir = \".model_storage/BERT\",\n",
    "    model_state_file = \"model\",\n",
    "    seed = 1234,\n",
    "    num_epochs = 3,\n",
    "    learning_rate = 5e-5,\n",
    "    hidden_size = 100,\n",
    "    batch_size = 16,\n",
    "    cuda = True,\n",
    "    train_column = ['short_question', 'long_question']\n",
    ")"
   ]
  },
  {
   "cell_type": "code",
   "execution_count": 3,
   "id": "e1192120",
   "metadata": {
    "scrolled": true
   },
   "outputs": [
    {
     "data": {
      "text/plain": [
       "device(type='cuda')"
      ]
     },
     "execution_count": 3,
     "metadata": {},
     "output_type": "execute_result"
    }
   ],
   "source": [
    "device = torch.device('cuda' if args.cuda & torch.cuda.is_available() else 'cpu')\n",
    "device"
   ]
  },
  {
   "cell_type": "code",
   "execution_count": 4,
   "id": "4fbe683b",
   "metadata": {
    "scrolled": true
   },
   "outputs": [],
   "source": [
    "args.model_state_file = os.path.join(args.model_save_dir, args.model_state_file)"
   ]
  },
  {
   "cell_type": "code",
   "execution_count": 5,
   "id": "c586f7b6",
   "metadata": {
    "scrolled": true
   },
   "outputs": [
    {
     "name": "stdout",
     "output_type": "stream",
     "text": [
      ".model_storage/BERT directory already exists\n"
     ]
    }
   ],
   "source": [
    "if not os.path.exists(args.model_save_dir):\n",
    "    os.makedirs(args.model_save_dir)\n",
    "    print(f\"Created directory {args.model_save_dir}\")\n",
    "else:\n",
    "    print(f\"{args.model_save_dir} directory already exists\")"
   ]
  },
  {
   "cell_type": "code",
   "execution_count": 6,
   "id": "87116c39",
   "metadata": {
    "scrolled": true
   },
   "outputs": [
    {
     "name": "stdout",
     "output_type": "stream",
     "text": [
      ".data\\faq_with_splits_lemmatized_filtered_mini\n"
     ]
    }
   ],
   "source": [
    "args.dataset = os.path.join(args.dataset_dir, args.dataset_prefix + args.dataset)\n",
    "print(args.dataset)"
   ]
  },
  {
   "cell_type": "code",
   "execution_count": 7,
   "id": "6f090921",
   "metadata": {
    "scrolled": true
   },
   "outputs": [],
   "source": [
    "random.seed(args.seed)\n",
    "np.random.seed(args.seed)\n",
    "torch.manual_seed(args.seed)\n",
    "torch.cuda.manual_seed_all(args.seed)"
   ]
  },
  {
   "cell_type": "code",
   "execution_count": 8,
   "id": "8cc17295",
   "metadata": {
    "scrolled": true
   },
   "outputs": [],
   "source": [
    "tokenizers = {}\n",
    "\n",
    "for model in args.models:\n",
    "    tokenizers[model] = BertTokenizerFast.from_pretrained(model)"
   ]
  },
  {
   "cell_type": "code",
   "execution_count": 9,
   "id": "20860c51",
   "metadata": {
    "scrolled": true
   },
   "outputs": [],
   "source": [
    "df = pd.read_csv(args.dataset + '.csv')"
   ]
  },
  {
   "cell_type": "code",
   "execution_count": 10,
   "id": "4e01281c",
   "metadata": {
    "scrolled": true
   },
   "outputs": [
    {
     "data": {
      "text/html": [
       "<div>\n",
       "<style scoped>\n",
       "    .dataframe tbody tr th:only-of-type {\n",
       "        vertical-align: middle;\n",
       "    }\n",
       "\n",
       "    .dataframe tbody tr th {\n",
       "        vertical-align: top;\n",
       "    }\n",
       "\n",
       "    .dataframe thead th {\n",
       "        text-align: right;\n",
       "    }\n",
       "</style>\n",
       "<table border=\"1\" class=\"dataframe\">\n",
       "  <thead>\n",
       "    <tr style=\"text-align: right;\">\n",
       "      <th></th>\n",
       "      <th>short_question</th>\n",
       "      <th>long_question</th>\n",
       "      <th>answer</th>\n",
       "      <th>main_category</th>\n",
       "      <th>sub_category</th>\n",
       "      <th>split</th>\n",
       "    </tr>\n",
       "  </thead>\n",
       "  <tbody>\n",
       "    <tr>\n",
       "      <th>0</th>\n",
       "      <td>van macska gazdi házi koszttal etet macsek mi ...</td>\n",
       "      <td>van macska gazdi házi koszttal etet macsek mi ...</td>\n",
       "      <td>Ez a két igen mire szól?</td>\n",
       "      <td>Állatok</td>\n",
       "      <td>Macskák</td>\n",
       "      <td>train</td>\n",
       "    </tr>\n",
       "    <tr>\n",
       "      <th>1</th>\n",
       "      <td>webfejlesztő android fejlesztő könnyű távmunka...</td>\n",
       "      <td>webfejlesztő android fejlesztő könnyű távmunka...</td>\n",
       "      <td>Miért lenne könyebb?  A java könnyen tanulható...</td>\n",
       "      <td>Számítástechnika</td>\n",
       "      <td>Programozás</td>\n",
       "      <td>train</td>\n",
       "    </tr>\n",
       "    <tr>\n",
       "      <th>2</th>\n",
       "      <td>php programozás matek</td>\n",
       "      <td>php programozás matek szeret elkezd itthol tan...</td>\n",
       "      <td>Ahhoz, hogy elkezdj PHP-tanulni, nem kell sok ...</td>\n",
       "      <td>Számítástechnika</td>\n",
       "      <td>Programozás</td>\n",
       "      <td>train</td>\n",
       "    </tr>\n",
       "    <tr>\n",
       "      <th>3</th>\n",
       "      <td>a diákmunka kér tüdőszűrés papír milyen orvos ...</td>\n",
       "      <td>a diákmunka kér tüdőszűrés papír milyen orvos ...</td>\n",
       "      <td>Nekem nem volt gond belőle hogy később lett</td>\n",
       "      <td>Egészség</td>\n",
       "      <td>Egészségügyi ellátások</td>\n",
       "      <td>train</td>\n",
       "    </tr>\n",
       "    <tr>\n",
       "      <th>4</th>\n",
       "      <td>a trónok harca mi pusztul valyria tud ez beteg...</td>\n",
       "      <td>a trónok harca mi pusztul valyria tud ez beteg...</td>\n",
       "      <td>Senki sem tudja, mitől pusztult el Valyria. Mi...</td>\n",
       "      <td>Szórakozás</td>\n",
       "      <td>Filmek, sorozatok</td>\n",
       "      <td>train</td>\n",
       "    </tr>\n",
       "  </tbody>\n",
       "</table>\n",
       "</div>"
      ],
      "text/plain": [
       "                                      short_question  \\\n",
       "0  van macska gazdi házi koszttal etet macsek mi ...   \n",
       "1  webfejlesztő android fejlesztő könnyű távmunka...   \n",
       "2                              php programozás matek   \n",
       "3  a diákmunka kér tüdőszűrés papír milyen orvos ...   \n",
       "4  a trónok harca mi pusztul valyria tud ez beteg...   \n",
       "\n",
       "                                       long_question  \\\n",
       "0  van macska gazdi házi koszttal etet macsek mi ...   \n",
       "1  webfejlesztő android fejlesztő könnyű távmunka...   \n",
       "2  php programozás matek szeret elkezd itthol tan...   \n",
       "3  a diákmunka kér tüdőszűrés papír milyen orvos ...   \n",
       "4  a trónok harca mi pusztul valyria tud ez beteg...   \n",
       "\n",
       "                                              answer     main_category  \\\n",
       "0                           Ez a két igen mire szól?           Állatok   \n",
       "1  Miért lenne könyebb?  A java könnyen tanulható...  Számítástechnika   \n",
       "2  Ahhoz, hogy elkezdj PHP-tanulni, nem kell sok ...  Számítástechnika   \n",
       "3        Nekem nem volt gond belőle hogy később lett          Egészség   \n",
       "4  Senki sem tudja, mitől pusztult el Valyria. Mi...        Szórakozás   \n",
       "\n",
       "             sub_category  split  \n",
       "0                 Macskák  train  \n",
       "1             Programozás  train  \n",
       "2             Programozás  train  \n",
       "3  Egészségügyi ellátások  train  \n",
       "4       Filmek, sorozatok  train  "
      ]
     },
     "execution_count": 10,
     "metadata": {},
     "output_type": "execute_result"
    }
   ],
   "source": [
    "df.head()"
   ]
  },
  {
   "cell_type": "code",
   "execution_count": 11,
   "id": "79052258",
   "metadata": {
    "scrolled": true
   },
   "outputs": [],
   "source": [
    "df = df[['main_category', *args.train_column, 'split']]"
   ]
  },
  {
   "cell_type": "code",
   "execution_count": 12,
   "id": "6eb30534",
   "metadata": {
    "scrolled": true
   },
   "outputs": [
    {
     "data": {
      "text/html": [
       "<div>\n",
       "<style scoped>\n",
       "    .dataframe tbody tr th:only-of-type {\n",
       "        vertical-align: middle;\n",
       "    }\n",
       "\n",
       "    .dataframe tbody tr th {\n",
       "        vertical-align: top;\n",
       "    }\n",
       "\n",
       "    .dataframe thead th {\n",
       "        text-align: right;\n",
       "    }\n",
       "</style>\n",
       "<table border=\"1\" class=\"dataframe\">\n",
       "  <thead>\n",
       "    <tr style=\"text-align: right;\">\n",
       "      <th></th>\n",
       "      <th>main_category</th>\n",
       "      <th>short_question</th>\n",
       "      <th>long_question</th>\n",
       "      <th>split</th>\n",
       "    </tr>\n",
       "  </thead>\n",
       "  <tbody>\n",
       "    <tr>\n",
       "      <th>0</th>\n",
       "      <td>Állatok</td>\n",
       "      <td>van macska gazdi házi koszttal etet macsek mi ...</td>\n",
       "      <td>van macska gazdi házi koszttal etet macsek mi ...</td>\n",
       "      <td>train</td>\n",
       "    </tr>\n",
       "    <tr>\n",
       "      <th>1</th>\n",
       "      <td>Számítástechnika</td>\n",
       "      <td>webfejlesztő android fejlesztő könnyű távmunka...</td>\n",
       "      <td>webfejlesztő android fejlesztő könnyű távmunka...</td>\n",
       "      <td>train</td>\n",
       "    </tr>\n",
       "    <tr>\n",
       "      <th>2</th>\n",
       "      <td>Számítástechnika</td>\n",
       "      <td>php programozás matek</td>\n",
       "      <td>php programozás matek szeret elkezd itthol tan...</td>\n",
       "      <td>train</td>\n",
       "    </tr>\n",
       "    <tr>\n",
       "      <th>3</th>\n",
       "      <td>Egészség</td>\n",
       "      <td>a diákmunka kér tüdőszűrés papír milyen orvos ...</td>\n",
       "      <td>a diákmunka kér tüdőszűrés papír milyen orvos ...</td>\n",
       "      <td>train</td>\n",
       "    </tr>\n",
       "    <tr>\n",
       "      <th>4</th>\n",
       "      <td>Szórakozás</td>\n",
       "      <td>a trónok harca mi pusztul valyria tud ez beteg...</td>\n",
       "      <td>a trónok harca mi pusztul valyria tud ez beteg...</td>\n",
       "      <td>train</td>\n",
       "    </tr>\n",
       "  </tbody>\n",
       "</table>\n",
       "</div>"
      ],
      "text/plain": [
       "      main_category                                     short_question  \\\n",
       "0           Állatok  van macska gazdi házi koszttal etet macsek mi ...   \n",
       "1  Számítástechnika  webfejlesztő android fejlesztő könnyű távmunka...   \n",
       "2  Számítástechnika                              php programozás matek   \n",
       "3          Egészség  a diákmunka kér tüdőszűrés papír milyen orvos ...   \n",
       "4        Szórakozás  a trónok harca mi pusztul valyria tud ez beteg...   \n",
       "\n",
       "                                       long_question  split  \n",
       "0  van macska gazdi házi koszttal etet macsek mi ...  train  \n",
       "1  webfejlesztő android fejlesztő könnyű távmunka...  train  \n",
       "2  php programozás matek szeret elkezd itthol tan...  train  \n",
       "3  a diákmunka kér tüdőszűrés papír milyen orvos ...  train  \n",
       "4  a trónok harca mi pusztul valyria tud ez beteg...  train  "
      ]
     },
     "execution_count": 12,
     "metadata": {},
     "output_type": "execute_result"
    }
   ],
   "source": [
    "df.head()"
   ]
  },
  {
   "cell_type": "code",
   "execution_count": 13,
   "id": "0f2408dd",
   "metadata": {
    "scrolled": true
   },
   "outputs": [
    {
     "name": "stdout",
     "output_type": "stream",
     "text": [
      "['Állatok', 'Számítástechnika', 'Egészség', 'Szórakozás']\n",
      "{'Állatok': 0, 'Számítástechnika': 1, 'Egészség': 2, 'Szórakozás': 3}\n"
     ]
    }
   ],
   "source": [
    "target_names = df.main_category.unique().tolist()\n",
    "target_dict = {k: v for v, k in enumerate(target_names)}\n",
    "\n",
    "print(target_names)\n",
    "print(target_dict)"
   ]
  },
  {
   "cell_type": "code",
   "execution_count": 14,
   "id": "9b78206a",
   "metadata": {
    "scrolled": true
   },
   "outputs": [],
   "source": [
    "df.main_category = df.main_category.apply(lambda x: target_dict[x])"
   ]
  },
  {
   "cell_type": "code",
   "execution_count": 15,
   "id": "2b6250b7",
   "metadata": {
    "scrolled": true
   },
   "outputs": [],
   "source": [
    "max_seq_len = 128"
   ]
  },
  {
   "cell_type": "code",
   "execution_count": 16,
   "id": "d7474632",
   "metadata": {
    "scrolled": true
   },
   "outputs": [],
   "source": [
    "def tokenize(df, tokenizer, train_column):\n",
    "    return tokenizer.batch_encode_plus(\n",
    "        df[train_column].tolist(),\n",
    "        max_length = max_seq_len,\n",
    "        padding='max_length',\n",
    "        truncation=True,\n",
    "        return_token_type_ids=False\n",
    ")"
   ]
  },
  {
   "cell_type": "code",
   "execution_count": 17,
   "id": "f159cadf",
   "metadata": {},
   "outputs": [],
   "source": [
    "dfs = {}\n",
    "\n",
    "for split in ['train', 'val', 'test']:\n",
    "    dfs[split] = df[df.split == split]"
   ]
  },
  {
   "cell_type": "code",
   "execution_count": 18,
   "id": "88e10fd5",
   "metadata": {
    "scrolled": true
   },
   "outputs": [
    {
     "name": "stdout",
     "output_type": "stream",
     "text": [
      "Encoding data for model 'SZTAKI-HLT/hubert-base-cc' column 'short_question' split 'train'\n",
      "Encoding data for model 'SZTAKI-HLT/hubert-base-cc' column 'short_question' split 'val'\n",
      "Encoding data for model 'SZTAKI-HLT/hubert-base-cc' column 'short_question' split 'test'\n",
      "Encoding data for model 'SZTAKI-HLT/hubert-base-cc' column 'long_question' split 'train'\n",
      "Encoding data for model 'SZTAKI-HLT/hubert-base-cc' column 'long_question' split 'val'\n",
      "Encoding data for model 'SZTAKI-HLT/hubert-base-cc' column 'long_question' split 'test'\n",
      "Encoding data for model 'bert-base-multilingual-uncased' column 'short_question' split 'train'\n",
      "Encoding data for model 'bert-base-multilingual-uncased' column 'short_question' split 'val'\n",
      "Encoding data for model 'bert-base-multilingual-uncased' column 'short_question' split 'test'\n",
      "Encoding data for model 'bert-base-multilingual-uncased' column 'long_question' split 'train'\n",
      "Encoding data for model 'bert-base-multilingual-uncased' column 'long_question' split 'val'\n",
      "Encoding data for model 'bert-base-multilingual-uncased' column 'long_question' split 'test'\n"
     ]
    }
   ],
   "source": [
    "encoded_data = {}\n",
    "\n",
    "for model in args.models:\n",
    "    tokenizer = tokenizers[model]\n",
    "\n",
    "    encoded_data[model] = {}\n",
    "    \n",
    "    for train_column in args.train_column:\n",
    "        encoded_data[model][train_column] = {}\n",
    "        \n",
    "        for split in ['train', 'val', 'test']:\n",
    "            print(f\"Encoding data for model '{model}' column '{train_column}' split '{split}'\")\n",
    "            encoded_data[model][train_column][split] = tokenize(dfs[split], tokenizer, train_column)"
   ]
  },
  {
   "cell_type": "code",
   "execution_count": 19,
   "id": "4e531a41",
   "metadata": {
    "scrolled": true
   },
   "outputs": [],
   "source": [
    "input_ids = {}\n",
    "attention_masks = {}\n",
    "\n",
    "for model in args.models:\n",
    "    input_ids[model] = {}\n",
    "    attention_masks[model] = {}\n",
    "    \n",
    "    for train_column in args.train_column:\n",
    "        input_ids[model][train_column] = {}\n",
    "        attention_masks[model][train_column] = {}\n",
    "    \n",
    "        for split in ['train', 'val', 'test']:\n",
    "            input_ids[model][train_column][split] = encoded_data[model][train_column][split]['input_ids']\n",
    "            attention_masks[model][train_column][split] = encoded_data[model][train_column][split]['attention_mask']"
   ]
  },
  {
   "cell_type": "code",
   "execution_count": 20,
   "id": "b553bd26",
   "metadata": {
    "scrolled": true
   },
   "outputs": [],
   "source": [
    "labels = {}\n",
    "\n",
    "for split in ['train', 'val', 'test']:\n",
    "    labels[split] = torch.tensor(dfs[split].main_category.values)"
   ]
  },
  {
   "cell_type": "code",
   "execution_count": 21,
   "id": "6292889f",
   "metadata": {},
   "outputs": [
    {
     "name": "stdout",
     "output_type": "stream",
     "text": [
      "Creating dataset for model 'SZTAKI-HLT/hubert-base-cc' column 'short_question' split 'train'\n",
      "Creating dataset for model 'SZTAKI-HLT/hubert-base-cc' column 'short_question' split 'val'\n",
      "Creating dataset for model 'SZTAKI-HLT/hubert-base-cc' column 'short_question' split 'test'\n",
      "Creating dataset for model 'SZTAKI-HLT/hubert-base-cc' column 'long_question' split 'train'\n",
      "Creating dataset for model 'SZTAKI-HLT/hubert-base-cc' column 'long_question' split 'val'\n",
      "Creating dataset for model 'SZTAKI-HLT/hubert-base-cc' column 'long_question' split 'test'\n",
      "Creating dataset for model 'bert-base-multilingual-uncased' column 'short_question' split 'train'\n",
      "Creating dataset for model 'bert-base-multilingual-uncased' column 'short_question' split 'val'\n",
      "Creating dataset for model 'bert-base-multilingual-uncased' column 'short_question' split 'test'\n",
      "Creating dataset for model 'bert-base-multilingual-uncased' column 'long_question' split 'train'\n",
      "Creating dataset for model 'bert-base-multilingual-uncased' column 'long_question' split 'val'\n",
      "Creating dataset for model 'bert-base-multilingual-uncased' column 'long_question' split 'test'\n"
     ]
    }
   ],
   "source": [
    "datasets = {}\n",
    "\n",
    "for model in args.models:\n",
    "    datasets[model] = {}\n",
    "    \n",
    "    for train_column in args.train_column:\n",
    "        datasets[model][train_column] = {}\n",
    "\n",
    "        for split in ['train', 'val', 'test']:\n",
    "            print(f\"Creating dataset for model '{model}' column '{train_column}' split '{split}'\")\n",
    "            datasets[model][train_column][split] = TensorDataset(\n",
    "                            torch.tensor(input_ids[model][train_column][split]),\n",
    "                            torch.tensor(attention_masks[model][train_column][split]),\n",
    "                            labels[split]\n",
    "            )"
   ]
  },
  {
   "cell_type": "code",
   "execution_count": 22,
   "id": "e3d248a1",
   "metadata": {
    "scrolled": true
   },
   "outputs": [
    {
     "name": "stdout",
     "output_type": "stream",
     "text": [
      "Creating loader fro model 'SZTAKI-HLT/hubert-base-cc' column 'short_question' split 'train'\n",
      "Creating loader fro model 'SZTAKI-HLT/hubert-base-cc' column 'short_question' split 'val'\n",
      "Creating loader fro model 'SZTAKI-HLT/hubert-base-cc' column 'short_question' split 'test'\n",
      "Creating loader fro model 'SZTAKI-HLT/hubert-base-cc' column 'long_question' split 'train'\n",
      "Creating loader fro model 'SZTAKI-HLT/hubert-base-cc' column 'long_question' split 'val'\n",
      "Creating loader fro model 'SZTAKI-HLT/hubert-base-cc' column 'long_question' split 'test'\n",
      "Creating loader fro model 'bert-base-multilingual-uncased' column 'short_question' split 'train'\n",
      "Creating loader fro model 'bert-base-multilingual-uncased' column 'short_question' split 'val'\n",
      "Creating loader fro model 'bert-base-multilingual-uncased' column 'short_question' split 'test'\n",
      "Creating loader fro model 'bert-base-multilingual-uncased' column 'long_question' split 'train'\n",
      "Creating loader fro model 'bert-base-multilingual-uncased' column 'long_question' split 'val'\n",
      "Creating loader fro model 'bert-base-multilingual-uncased' column 'long_question' split 'test'\n"
     ]
    }
   ],
   "source": [
    "dataloaders = {}\n",
    "\n",
    "for model in args.models:\n",
    "    dataloaders[model] = {}\n",
    "    \n",
    "    for train_column in args.train_column:\n",
    "        dataloaders[model][train_column] = {}\n",
    "\n",
    "        for split in ['train', 'val', 'test']:\n",
    "            print(f\"Creating loader fro model '{model}' column '{train_column}' split '{split}'\")\n",
    "            dataloaders[model][train_column][split] = DataLoader(\n",
    "                datasets[model][train_column][split],\n",
    "                sampler=RandomSampler(datasets[model][train_column][split]),\n",
    "                batch_size=args.batch_size\n",
    "            )"
   ]
  },
  {
   "cell_type": "code",
   "execution_count": 25,
   "id": "29adf744",
   "metadata": {
    "scrolled": true
   },
   "outputs": [
    {
     "name": "stdout",
     "output_type": "stream",
     "text": [
      "[1. 1. 1. 1.]\n"
     ]
    }
   ],
   "source": [
    "class_wts = compute_class_weight('balanced', np.unique(dfs['train'].main_category), \\\n",
    "                                 dfs['train'].main_category)\n",
    "\n",
    "print(class_wts)"
   ]
  },
  {
   "cell_type": "code",
   "execution_count": 26,
   "id": "57b0c133",
   "metadata": {
    "scrolled": true
   },
   "outputs": [],
   "source": [
    "weights = torch.tensor(class_wts, dtype=torch.float)\n",
    "weights = weights.to(device)"
   ]
  },
  {
   "cell_type": "code",
   "execution_count": 27,
   "id": "fbbad3dd",
   "metadata": {
    "scrolled": true
   },
   "outputs": [],
   "source": [
    "def class_accuracy(preds, labels):\n",
    "    preds_flat = np.argmax(preds, axis=1).flatten()\n",
    "    labels_flat = labels.flatten()\n",
    "    return accuracy_score(y_true=labels_flat, y_pred=preds_flat)  "
   ]
  },
  {
   "cell_type": "code",
   "execution_count": 28,
   "id": "717b56da",
   "metadata": {
    "scrolled": true
   },
   "outputs": [],
   "source": [
    "def show_data_to_model(model, optimizer, scheduler, criterion, bar, train):\n",
    "    epoch_loss = 0\n",
    "    epoch_acc = 0\n",
    "       \n",
    "    total_predicted = []\n",
    "    true_vals = []\n",
    "    idx = 0\n",
    "\n",
    "    for batch in bar:\n",
    "        idx += 1\n",
    "        if train:\n",
    "            optimizer.zero_grad()\n",
    "            model.zero_grad()\n",
    "\n",
    "        batch = tuple(b.to(device) for b in batch)\n",
    "\n",
    "        inputs = {\n",
    "            'input_ids':      batch[0],\n",
    "            'attention_mask': batch[1],\n",
    "            'labels':         batch[2],\n",
    "        }\n",
    "        \n",
    "        outputs = model(**inputs)\n",
    "        \n",
    "        logits = outputs[1]\n",
    "        label_ids = inputs['labels'].cpu().numpy()\n",
    "\n",
    "        loss = criterion(logits, batch[2])\n",
    "        logits = logits.detach().cpu().numpy()\n",
    "        acc = class_accuracy(logits, label_ids)\n",
    "\n",
    "        total_predicted += np.argmax(logits, axis=1).flatten().tolist()\n",
    "        true_vals += label_ids.flatten().tolist()\n",
    "\n",
    "        if train:\n",
    "            loss.backward()\n",
    "            optimizer.step()\n",
    "            scheduler.step()\n",
    "\n",
    "        del batch\n",
    "            \n",
    "        torch.nn.utils.clip_grad_norm_(model.parameters(), 1.0)\n",
    "            \n",
    "        epoch_loss += loss.item()\n",
    "        epoch_acc += acc.item()\n",
    "       \n",
    "        bar.set_postfix(loss=(epoch_loss / idx), acc=(epoch_acc / idx))\n",
    "\n",
    "    return epoch_loss / idx , epoch_acc / idx, total_predicted, true_vals"
   ]
  },
  {
   "cell_type": "code",
   "execution_count": 29,
   "id": "37e409b5",
   "metadata": {
    "scrolled": true
   },
   "outputs": [],
   "source": [
    "def train_model(model, optimizer, scheduler, criterion, bar):\n",
    "    model.train()\n",
    "    loss, acc, _, _ = show_data_to_model(model, optimizer, scheduler, criterion, bar, True)\n",
    "    \n",
    "    return loss, acc"
   ]
  },
  {
   "cell_type": "code",
   "execution_count": 30,
   "id": "8f9bf8d8",
   "metadata": {
    "scrolled": true
   },
   "outputs": [],
   "source": [
    "def evaluate_model(model, optimizer, scheduler, criterion, bar):\n",
    "    model.eval()\n",
    "    with torch.no_grad():\n",
    "        loss, acc, pred, true_vals = show_data_to_model(model, optimizer, scheduler, criterion, bar, False)\n",
    "            \n",
    "    return loss, acc, pred, true_vals"
   ]
  },
  {
   "cell_type": "code",
   "execution_count": 31,
   "id": "8bd882bc",
   "metadata": {
    "scrolled": true
   },
   "outputs": [],
   "source": [
    "from transformers import logging\n",
    "logging.set_verbosity_error()"
   ]
  },
  {
   "cell_type": "code",
   "execution_count": 32,
   "id": "fe93b5de",
   "metadata": {
    "scrolled": true
   },
   "outputs": [
    {
     "data": {
      "application/vnd.jupyter.widget-view+json": {
       "model_id": "d4a1ec69ce674e19929bdce3a207cffa",
       "version_major": 2,
       "version_minor": 0
      },
      "text/plain": [
       "'SZTAKI-HLT/hubert-base-cc' 'short_question' epoch:   0%|          | 0/1 [00:00<?, ?it/s]"
      ]
     },
     "metadata": {},
     "output_type": "display_data"
    },
    {
     "data": {
      "application/vnd.jupyter.widget-view+json": {
       "model_id": "",
       "version_major": 2,
       "version_minor": 0
      },
      "text/plain": [
       "'SZTAKI-HLT/hubert-base-cc' 'short_question' train:   0%|          | 0/263 [00:00<?, ?it/s]"
      ]
     },
     "metadata": {},
     "output_type": "display_data"
    },
    {
     "data": {
      "application/vnd.jupyter.widget-view+json": {
       "model_id": "",
       "version_major": 2,
       "version_minor": 0
      },
      "text/plain": [
       "'SZTAKI-HLT/hubert-base-cc' 'short_question' valid:   0%|          | 0/57 [00:00<?, ?it/s]"
      ]
     },
     "metadata": {},
     "output_type": "display_data"
    },
    {
     "data": {
      "application/vnd.jupyter.widget-view+json": {
       "model_id": "b369e04fea3d4ee88b97e4938dcdfb30",
       "version_major": 2,
       "version_minor": 0
      },
      "text/plain": [
       "'SZTAKI-HLT/hubert-base-cc' 'long_question' epoch:   0%|          | 0/1 [00:00<?, ?it/s]"
      ]
     },
     "metadata": {},
     "output_type": "display_data"
    },
    {
     "data": {
      "application/vnd.jupyter.widget-view+json": {
       "model_id": "",
       "version_major": 2,
       "version_minor": 0
      },
      "text/plain": [
       "'SZTAKI-HLT/hubert-base-cc' 'long_question' train:   0%|          | 0/263 [00:00<?, ?it/s]"
      ]
     },
     "metadata": {},
     "output_type": "display_data"
    },
    {
     "data": {
      "application/vnd.jupyter.widget-view+json": {
       "model_id": "",
       "version_major": 2,
       "version_minor": 0
      },
      "text/plain": [
       "'SZTAKI-HLT/hubert-base-cc' 'long_question' valid:   0%|          | 0/57 [00:00<?, ?it/s]"
      ]
     },
     "metadata": {},
     "output_type": "display_data"
    },
    {
     "data": {
      "application/vnd.jupyter.widget-view+json": {
       "model_id": "f740ebb4fba84fbcab60c04b316792e7",
       "version_major": 2,
       "version_minor": 0
      },
      "text/plain": [
       "'bert-base-multilingual-uncased' 'short_question' epoch:   0%|          | 0/1 [00:00<?, ?it/s]"
      ]
     },
     "metadata": {},
     "output_type": "display_data"
    },
    {
     "data": {
      "application/vnd.jupyter.widget-view+json": {
       "model_id": "",
       "version_major": 2,
       "version_minor": 0
      },
      "text/plain": [
       "'bert-base-multilingual-uncased' 'short_question' train:   0%|          | 0/263 [00:00<?, ?it/s]"
      ]
     },
     "metadata": {},
     "output_type": "display_data"
    },
    {
     "data": {
      "application/vnd.jupyter.widget-view+json": {
       "model_id": "",
       "version_major": 2,
       "version_minor": 0
      },
      "text/plain": [
       "'bert-base-multilingual-uncased' 'short_question' valid:   0%|          | 0/57 [00:00<?, ?it/s]"
      ]
     },
     "metadata": {},
     "output_type": "display_data"
    },
    {
     "data": {
      "application/vnd.jupyter.widget-view+json": {
       "model_id": "f089a87c6d194a918b568becc6c447ac",
       "version_major": 2,
       "version_minor": 0
      },
      "text/plain": [
       "'bert-base-multilingual-uncased' 'long_question' epoch:   0%|          | 0/1 [00:00<?, ?it/s]"
      ]
     },
     "metadata": {},
     "output_type": "display_data"
    },
    {
     "data": {
      "application/vnd.jupyter.widget-view+json": {
       "model_id": "",
       "version_major": 2,
       "version_minor": 0
      },
      "text/plain": [
       "'bert-base-multilingual-uncased' 'long_question' train:   0%|          | 0/263 [00:00<?, ?it/s]"
      ]
     },
     "metadata": {},
     "output_type": "display_data"
    },
    {
     "data": {
      "application/vnd.jupyter.widget-view+json": {
       "model_id": "",
       "version_major": 2,
       "version_minor": 0
      },
      "text/plain": [
       "'bert-base-multilingual-uncased' 'long_question' valid:   0%|          | 0/57 [00:00<?, ?it/s]"
      ]
     },
     "metadata": {},
     "output_type": "display_data"
    }
   ],
   "source": [
    "train_losses = {}\n",
    "train_accuracies = {}\n",
    "\n",
    "valid_losses = {}\n",
    "valid_accuracies = {}\n",
    "\n",
    "models = {}\n",
    "\n",
    "for model_ in args.models:\n",
    "    train_losses[model_] = {}\n",
    "    train_accuracies[model_] = {}\n",
    "\n",
    "    valid_losses[model_] = {}\n",
    "    valid_accuracies[model_] = {}\n",
    "    \n",
    "    models[model_] = {} \n",
    "    \n",
    "    for train_column in args.train_column:\n",
    "        train_losses[model_][train_column] = []\n",
    "        train_accuracies[model_][train_column] = []\n",
    "\n",
    "        valid_losses[model_][train_column] = []\n",
    "        valid_accuracies[model_][train_column] = []\n",
    "        \n",
    "        best_valid_loss = float('inf')\n",
    "        \n",
    "        train_dl = dataloaders[model_][train_column]['train']\n",
    "        valid_dl = dataloaders[model_][train_column]['val']    \n",
    "        \n",
    "        model = BertForSequenceClassification.from_pretrained(\n",
    "            model_,\n",
    "            num_labels = len(target_names),\n",
    "            output_attentions=False,\n",
    "            output_hidden_states=False   \n",
    "        )\n",
    "        \n",
    "        optimizer = AdamW(\n",
    "            model.parameters(),\n",
    "            args.learning_rate,\n",
    "            eps=1e-8\n",
    "        )\n",
    "    \n",
    "        scheduler = get_linear_schedule_with_warmup(\n",
    "            optimizer,\n",
    "            num_warmup_steps=0,\n",
    "            num_training_steps=len(train_dl) * args.num_epochs\n",
    "        )\n",
    "    \n",
    "        criterion = CrossEntropyLoss(weight=weights)\n",
    "    \n",
    "        model = model.to(device)\n",
    "        criterion = criterion.to(device)\n",
    "   \n",
    "        epoch_bar = tqdm(desc=f\"'{model_}' '{train_column}' epoch\", total=args.num_epochs, position=0, leave=True)\n",
    "        \n",
    "        for epoch in range(args.num_epochs):\n",
    "            train_bar = tqdm(train_dl, desc=f\"'{model_}' '{train_column}' train\", leave=False)\n",
    "            valid_bar = tqdm(valid_dl, desc=f\"'{model_}' '{train_column}' valid\", leave=False)\n",
    "\n",
    "            train_loss, train_acc = train_model(model, optimizer, scheduler, criterion, train_bar)\n",
    "            valid_loss, valid_acc, _, _ = evaluate_model(model, optimizer, scheduler, criterion, valid_bar)\n",
    "\n",
    "            train_losses[model_][train_column].append(train_loss)\n",
    "            train_accuracies[model_][train_column].append(train_acc)\n",
    "\n",
    "            valid_losses[model_][train_column].append(valid_loss)\n",
    "            valid_accuracies[model_][train_column].append(valid_acc)\n",
    "    \n",
    "            if valid_loss < best_valid_loss:\n",
    "                best_valid_loss = valid_loss\n",
    "\n",
    "                torch.save(model.state_dict(), args.model_state_file + \\\n",
    "                           \"_\" + model_.replace('/', '_') + \\\n",
    "                           '_' + train_column + \".pth\")\n",
    " \n",
    "            epoch_bar.update()\n",
    "        models[model_][train_column] = model.to(torch.device('cpu'))"
   ]
  },
  {
   "cell_type": "code",
   "execution_count": 34,
   "id": "38fdd737",
   "metadata": {
    "scrolled": true
   },
   "outputs": [
    {
     "data": {
      "image/png": "[encoded data removed]",
      "text/plain": [
       "<Figure size 1440x2880 with 8 Axes>"
      ]
     },
     "metadata": {
      "needs_background": "light"
     },
     "output_type": "display_data"
    }
   ],
   "source": [
    "rows = len(args.models) * len(args.train_column)\n",
    "\n",
    "fig, axs = plt.subplots(rows, 2, figsize=(10 * 2, 10 * rows))\n",
    "\n",
    "for i, col in enumerate(args.train_column):\n",
    "    for j, model_ in enumerate(args.models):\n",
    "        idx = i * len(args.train_column) + j\n",
    "        \n",
    "        axs[idx, 0].set_title(f\"Loss values for '{model_}' '{col}'\")\n",
    "        axs[idx, 0].plot([*range(args.num_epochs)], train_losses[model_][col], color = 'b', label='Train loss')\n",
    "        axs[idx, 0].plot([*range(args.num_epochs)], valid_losses[model_][col], color = 'r', label='Valid loss')\n",
    "        axs[idx, 0].legend(loc=\"upper center\", bbox_to_anchor=(0.0, 1.1), ncol=1)\n",
    "\n",
    "        axs[idx, 1].set_title(f\"Accuracy values for '{model_}' '{col}'\")\n",
    "        axs[idx, 1].axis(ymin = 0, ymax = 1)\n",
    "        axs[idx, 1].plot([*range(args.num_epochs)], train_accuracies[model_][col], color = 'b', label='Train accuracy')\n",
    "        axs[idx, 1].plot([*range(args.num_epochs)], valid_accuracies[model_][col], color = 'r', label='Valid accuracy')\n",
    "        axs[idx, 1].legend(loc=\"upper center\", bbox_to_anchor=(0.0, 1.1), ncol=1)\n",
    "    \n",
    "plt.show()"
   ]
  },
  {
   "cell_type": "code",
   "execution_count": 36,
   "id": "af6893c9",
   "metadata": {
    "scrolled": false
   },
   "outputs": [
    {
     "data": {
      "application/vnd.jupyter.widget-view+json": {
       "model_id": "",
       "version_major": 2,
       "version_minor": 0
      },
      "text/plain": [
       "'SZTAKI-HLT/hubert-base-cc' test:   0%|          | 0/57 [00:00<?, ?it/s]"
      ]
     },
     "metadata": {},
     "output_type": "display_data"
    },
    {
     "data": {
      "application/vnd.jupyter.widget-view+json": {
       "model_id": "",
       "version_major": 2,
       "version_minor": 0
      },
      "text/plain": [
       "'SZTAKI-HLT/hubert-base-cc' test:   0%|          | 0/57 [00:00<?, ?it/s]"
      ]
     },
     "metadata": {},
     "output_type": "display_data"
    },
    {
     "data": {
      "application/vnd.jupyter.widget-view+json": {
       "model_id": "",
       "version_major": 2,
       "version_minor": 0
      },
      "text/plain": [
       "'bert-base-multilingual-uncased' test:   0%|          | 0/57 [00:00<?, ?it/s]"
      ]
     },
     "metadata": {},
     "output_type": "display_data"
    },
    {
     "data": {
      "application/vnd.jupyter.widget-view+json": {
       "model_id": "",
       "version_major": 2,
       "version_minor": 0
      },
      "text/plain": [
       "'bert-base-multilingual-uncased' test:   0%|          | 0/57 [00:00<?, ?it/s]"
      ]
     },
     "metadata": {},
     "output_type": "display_data"
    }
   ],
   "source": [
    "predictions = {}\n",
    "test_target = {}\n",
    "\n",
    "for model_ in args.models:\n",
    "    test_target[model_] = {}\n",
    "    predictions[model_] = {}\n",
    "\n",
    "    config = BertConfig.from_pretrained(model_)\n",
    "    config.num_labels = len(target_names)\n",
    "    config.output_attentions = False\n",
    "    config.output_hidden_states = False\n",
    "    \n",
    "    for train_column in args.train_column:\n",
    "\n",
    "        \n",
    "        test_dl = dataloaders[model_][train_column]['test']\n",
    "    \n",
    "        model = models[model_][train_column]\n",
    "        model.load_state_dict(torch.load(args.model_state_file + \\\n",
    "                                         \"_\" + model_.replace('/', '_') + \\\n",
    "                                         '_' + train_column + \".pth\"))\n",
    "\n",
    "        criterion = CrossEntropyLoss(weight=weights)\n",
    "    \n",
    "        model = model.to(device)\n",
    "        criterion = criterion.to(device)\n",
    "    \n",
    "        test_bar = tqdm(test_dl, desc=f\"'{model_}' test\", leave=False)\n",
    "\n",
    "        _, _, predictions[model_][train_column], test_target[model_][train_column] = \\\n",
    "                    evaluate_model(model, None, None, criterion, test_bar)\n",
    "\n",
    "        del model"
   ]
  },
  {
   "cell_type": "code",
   "execution_count": 39,
   "id": "1e9520ce",
   "metadata": {
    "scrolled": true
   },
   "outputs": [
    {
     "data": {
      "image/png": "[encoded data removed]",
      "text/plain": [
       "<Figure size 1440x360 with 1 Axes>"
      ]
     },
     "metadata": {
      "needs_background": "light"
     },
     "output_type": "display_data"
    }
   ],
   "source": [
    "fig, ax = plt.subplots(1, 1, figsize=(20, 5))\n",
    "\n",
    "accuracy_scores = []\n",
    "plot_labels = []\n",
    "\n",
    "for train_column in args.train_column:\n",
    "    for model_ in args.models:\n",
    "        plot_labels.append(model_ + \" \" + train_column)\n",
    "        \n",
    "        prediction = predictions[model_][train_column]\n",
    "        target = test_target[model_][train_column]\n",
    "    \n",
    "        accuracy_scores.append(accuracy_score(target, prediction))\n",
    "    \n",
    "ax.axis(ymin = 0.80, ymax = 1)\n",
    "ax.bar(plot_labels, accuracy_scores, width=0.4)\n",
    "\n",
    "plt.show()"
   ]
  },
  {
   "cell_type": "code",
   "execution_count": 46,
   "id": "c4a44c3c",
   "metadata": {},
   "outputs": [
    {
     "data": {
      "image/png": "[encoded data removed]",
      "text/plain": [
       "<Figure size 1152x1152 with 4 Axes>"
      ]
     },
     "metadata": {
      "needs_background": "light"
     },
     "output_type": "display_data"
    }
   ],
   "source": [
    "fig, axs = plt.subplots(len(args.models), len(args.train_column), figsize=(8 * len(args.train_column), 8 * len(args.models)))\n",
    "\n",
    "for i, model_ in enumerate(args.models):\n",
    "    for j, train_column in enumerate(args.train_column):\n",
    "        axs[i, j].set_title(f\"Confusion matrix for '{model_}', '{train_column}'\")\n",
    "    \n",
    "        prediction = predictions[model_][train_column]\n",
    "        target = test_target[model_][train_column]\n",
    "        \n",
    "        cm = confusion_matrix(target, prediction)\n",
    "        cm_df = pd.DataFrame(cm, index=target_names, columns=target_names)\n",
    "    \n",
    "        heatmap = sn.heatmap(cm_df, annot=True, ax=axs[i, j], cmap='Reds', fmt='g', annot_kws={\"size\": 15}, cbar=False)\n",
    "\n",
    "plt.show()"
   ]
  },
  {
   "cell_type": "code",
   "execution_count": 47,
   "id": "870c0926",
   "metadata": {},
   "outputs": [
    {
     "name": "stdout",
     "output_type": "stream",
     "text": [
      "Classification report for 'SZTAKI-HLT/hubert-base-cc' 'short_question':\n",
      "                  precision    recall  f1-score   support\n",
      "\n",
      "         Állatok       0.94      0.92      0.93       225\n",
      "Számítástechnika       0.88      0.89      0.89       225\n",
      "        Egészség       0.91      0.91      0.91       225\n",
      "      Szórakozás       0.86      0.87      0.87       225\n",
      "\n",
      "        accuracy                           0.90       900\n",
      "       macro avg       0.90      0.90      0.90       900\n",
      "    weighted avg       0.90      0.90      0.90       900\n",
      "\n",
      "============================================================\n",
      "Classification report for 'bert-base-multilingual-uncased' 'short_question':\n",
      "                  precision    recall  f1-score   support\n",
      "\n",
      "         Állatok       0.84      0.84      0.84       225\n",
      "Számítástechnika       0.86      0.88      0.87       225\n",
      "        Egészség       0.80      0.89      0.84       225\n",
      "      Szórakozás       0.90      0.78      0.84       225\n",
      "\n",
      "        accuracy                           0.85       900\n",
      "       macro avg       0.85      0.85      0.85       900\n",
      "    weighted avg       0.85      0.85      0.85       900\n",
      "\n",
      "============================================================\n",
      "Classification report for 'SZTAKI-HLT/hubert-base-cc' 'long_question':\n",
      "                  precision    recall  f1-score   support\n",
      "\n",
      "         Állatok       0.98      0.95      0.96       225\n",
      "Számítástechnika       0.92      0.92      0.92       225\n",
      "        Egészség       0.95      0.95      0.95       225\n",
      "      Szórakozás       0.87      0.89      0.88       225\n",
      "\n",
      "        accuracy                           0.93       900\n",
      "       macro avg       0.93      0.93      0.93       900\n",
      "    weighted avg       0.93      0.93      0.93       900\n",
      "\n",
      "============================================================\n",
      "Classification report for 'bert-base-multilingual-uncased' 'long_question':\n",
      "                  precision    recall  f1-score   support\n",
      "\n",
      "         Állatok       0.90      0.92      0.91       225\n",
      "Számítástechnika       0.90      0.88      0.89       225\n",
      "        Egészség       0.86      0.87      0.87       225\n",
      "      Szórakozás       0.85      0.84      0.84       225\n",
      "\n",
      "        accuracy                           0.88       900\n",
      "       macro avg       0.88      0.88      0.88       900\n",
      "    weighted avg       0.88      0.88      0.88       900\n",
      "\n",
      "============================================================\n"
     ]
    }
   ],
   "source": [
    "for train_column in args.train_column:\n",
    "    for model_ in args.models:\n",
    "        prediction = predictions[model_][train_column]\n",
    "        target = test_target[model_][train_column]\n",
    "        \n",
    "        report = classification_report(target, prediction, target_names=target_names)\n",
    "        print(f\"Classification report for '{model_}' '{train_column}':\\n{report}\\n{'=' * 60}\")"
   ]
  }
 ],
 "metadata": {
  "kernelspec": {
   "display_name": "Python 3 (ipykernel)",
   "language": "python",
   "name": "python3"
  },
  "language_info": {
   "codemirror_mode": {
    "name": "ipython",
    "version": 3
   },
   "file_extension": ".py",
   "mimetype": "text/x-python",
   "name": "python",
   "nbconvert_exporter": "python",
   "pygments_lexer": "ipython3",
   "version": "3.9.7"
  }
 },
 "nbformat": 4,
 "nbformat_minor": 5
}
