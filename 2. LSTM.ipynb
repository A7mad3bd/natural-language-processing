{
 "cells": [
  {
   "cell_type": "code",
   "execution_count": 1,
   "id": "8110081d",
   "metadata": {},
   "outputs": [],
   "source": [
    "from torchtext.utils import download_from_url, extract_archive\n",
    "from argparse import Namespace\n",
    "from collections import Counter\n",
    "import json\n",
    "import os\n",
    "import re\n",
    "import string\n",
    "\n",
    "import numpy as np\n",
    "import pandas as pd\n",
    "import torch\n",
    "import torch.nn as nn\n",
    "import torch.nn.functional as F\n",
    "import torch.optim as optim\n",
    "from torch.utils.data import Dataset, DataLoader\n",
    "from tqdm import notebook\n",
    "\n",
    "from sklearn.metrics import confusion_matrix, classification_report, accuracy_score\n",
    "\n",
    "import seaborn as sn\n",
    "\n",
    "import gensim\n",
    "from gensim.test.utils import datapath, get_tmpfile\n",
    "from gensim.models import KeyedVectors\n",
    "from gensim.scripts.glove2word2vec import glove2word2vec\n",
    "\n",
    "from argparse import Namespace\n",
    "\n",
    "from torchtext.legacy import data\n",
    "from torchtext.vocab import Vectors\n",
    "\n",
    "import time"
   ]
  },
  {
   "cell_type": "code",
   "execution_count": 2,
   "id": "8ed71daa",
   "metadata": {},
   "outputs": [],
   "source": [
    "args = Namespace(\n",
    "    faq_csv = \".data/faq_with_splits_lemmatized_filtered.csv\",\n",
    "    save_dir = \".model_storage/lstm\",\n",
    "    model_state_file = \"model.pth\",\n",
    "    embedding_dir = '.embedding/',\n",
    "    glove_file = 'glove-hu.200k.200d.txt',\n",
    "    gensim_file = 'glove-hu.200k.200d_gensim',\n",
    "    seed = 1234,\n",
    "    num_epochs = 40,\n",
    "    learning_rate = 1e-3,\n",
    "    batch_size = 70,\n",
    "    cuda = True,\n",
    ")"
   ]
  },
  {
   "cell_type": "code",
   "execution_count": 3,
   "id": "b1d6ea5f",
   "metadata": {},
   "outputs": [],
   "source": [
    "args.model_state_file = os.path.join(args.save_dir, args.model_state_file)\n",
    "args.glove_file = os.path.join(args.embedding_dir, args.glove_file)\n",
    "args.gensim_file = os.path.join(args.embedding_dir, args.gensim_file)"
   ]
  },
  {
   "cell_type": "code",
   "execution_count": 4,
   "id": "53ce862f",
   "metadata": {},
   "outputs": [],
   "source": [
    "_ = download_from_url('https://drive.google.com/uc?id=19k2AACA90Qv1BeUBz8H6trCT4QTJ8OjW', root=args.embedding_dir)"
   ]
  },
  {
   "cell_type": "code",
   "execution_count": 5,
   "id": "f874290b",
   "metadata": {},
   "outputs": [],
   "source": [
    "_ = glove2word2vec(args.glove_file, args.gensim_file)"
   ]
  },
  {
   "cell_type": "code",
   "execution_count": 6,
   "id": "937f19e7",
   "metadata": {},
   "outputs": [],
   "source": [
    "embedding = gensim.models.KeyedVectors.load_word2vec_format(args.gensim_file, binary=False)"
   ]
  },
  {
   "cell_type": "code",
   "execution_count": 7,
   "id": "9e60257b",
   "metadata": {},
   "outputs": [],
   "source": [
    "faq_df = pd.read_csv(args.faq_csv, lineterminator='\\n')"
   ]
  },
  {
   "cell_type": "code",
   "execution_count": 8,
   "id": "338131c3",
   "metadata": {},
   "outputs": [],
   "source": [
    "train_df = faq_df[faq_df.split == 'train']\n",
    "val_df = faq_df[faq_df.split == 'val']\n",
    "test_df = faq_df[faq_df.split == 'test']"
   ]
  },
  {
   "cell_type": "code",
   "execution_count": 9,
   "id": "0dfe093e",
   "metadata": {},
   "outputs": [
    {
     "data": {
      "text/html": [
       "<div>\n",
       "<style scoped>\n",
       "    .dataframe tbody tr th:only-of-type {\n",
       "        vertical-align: middle;\n",
       "    }\n",
       "\n",
       "    .dataframe tbody tr th {\n",
       "        vertical-align: top;\n",
       "    }\n",
       "\n",
       "    .dataframe thead th {\n",
       "        text-align: right;\n",
       "    }\n",
       "</style>\n",
       "<table border=\"1\" class=\"dataframe\">\n",
       "  <thead>\n",
       "    <tr style=\"text-align: right;\">\n",
       "      <th></th>\n",
       "      <th>answer</th>\n",
       "      <th>long_question</th>\n",
       "      <th>short_question</th>\n",
       "      <th>keywords</th>\n",
       "      <th>main_category</th>\n",
       "      <th>sub_category</th>\n",
       "      <th>split</th>\n",
       "    </tr>\n",
       "  </thead>\n",
       "  <tbody>\n",
       "    <tr>\n",
       "      <th>0</th>\n",
       "      <td>Öreg.14 èves korom òta dolgozok,hogy amit a cs...</td>\n",
       "      <td>Írnátok nekem valami biztatót? Miután pár napj...</td>\n",
       "      <td>írnátok biztató</td>\n",
       "      <td>['depresszió', 'gödör', 'szerelem', 'bánat']</td>\n",
       "      <td>Egészség</td>\n",
       "      <td>Mentális egészség</td>\n",
       "      <td>train</td>\n",
       "    </tr>\n",
       "    <tr>\n",
       "      <th>1</th>\n",
       "      <td>2-esre ne hallgass.Segíteni fog, az AD másképp...</td>\n",
       "      <td>Vehetek be az antidepresszánssal egy időben ny...</td>\n",
       "      <td>vehet antidepresszáns idő nyugtató</td>\n",
       "      <td>['antidepresszáns', 'tea', 'nyugtató', 'gyógyn...</td>\n",
       "      <td>Egészség</td>\n",
       "      <td>Mentális egészség</td>\n",
       "      <td>train</td>\n",
       "    </tr>\n",
       "    <tr>\n",
       "      <th>2</th>\n",
       "      <td>Csak a hülyeséggel nem kell feküdni, azt lábon...</td>\n",
       "      <td>Azt halottam tüdőgyulladással nem nagyon kell ...</td>\n",
       "      <td>az halik tüdőgyulladás fekszik vese gyulladás ...</td>\n",
       "      <td>['tüdőgyulladás', 'vesegyulladás']</td>\n",
       "      <td>Egészség</td>\n",
       "      <td>Betegségek</td>\n",
       "      <td>train</td>\n",
       "    </tr>\n",
       "    <tr>\n",
       "      <th>3</th>\n",
       "      <td>Ignoráld. A közösségek ilyenek, kinéznek valak...</td>\n",
       "      <td>Mit csináljak, ha szekál az osztályom a miatt,...</td>\n",
       "      <td>mi csinál ha szekál osztály miatt sokatvagy be...</td>\n",
       "      <td>['szekálás', 'betegség', 'pajzsmirigy', 'hiány...</td>\n",
       "      <td>Egészség</td>\n",
       "      <td>Immunrendszer, fertőzések</td>\n",
       "      <td>train</td>\n",
       "    </tr>\n",
       "    <tr>\n",
       "      <th>4</th>\n",
       "      <td>Kedves kérdező!!Először is nem tudom hány éves...</td>\n",
       "      <td>Hirtelen nagyon erős lett a vérzésem, egyik pe...</td>\n",
       "      <td>hirtelen erős vérzésem perc amásikra ömlik kez...</td>\n",
       "      <td>['vérzés', 'darabos', 'nőgyógyász']</td>\n",
       "      <td>Egészség</td>\n",
       "      <td>Nők egészsége</td>\n",
       "      <td>train</td>\n",
       "    </tr>\n",
       "  </tbody>\n",
       "</table>\n",
       "</div>"
      ],
      "text/plain": [
       "                                              answer  \\\n",
       "0  Öreg.14 èves korom òta dolgozok,hogy amit a cs...   \n",
       "1  2-esre ne hallgass.Segíteni fog, az AD másképp...   \n",
       "2  Csak a hülyeséggel nem kell feküdni, azt lábon...   \n",
       "3  Ignoráld. A közösségek ilyenek, kinéznek valak...   \n",
       "4  Kedves kérdező!!Először is nem tudom hány éves...   \n",
       "\n",
       "                                       long_question  \\\n",
       "0  Írnátok nekem valami biztatót? Miután pár napj...   \n",
       "1  Vehetek be az antidepresszánssal egy időben ny...   \n",
       "2  Azt halottam tüdőgyulladással nem nagyon kell ...   \n",
       "3  Mit csináljak, ha szekál az osztályom a miatt,...   \n",
       "4  Hirtelen nagyon erős lett a vérzésem, egyik pe...   \n",
       "\n",
       "                                      short_question  \\\n",
       "0                                    írnátok biztató   \n",
       "1                 vehet antidepresszáns idő nyugtató   \n",
       "2  az halik tüdőgyulladás fekszik vese gyulladás ...   \n",
       "3  mi csinál ha szekál osztály miatt sokatvagy be...   \n",
       "4  hirtelen erős vérzésem perc amásikra ömlik kez...   \n",
       "\n",
       "                                            keywords main_category  \\\n",
       "0       ['depresszió', 'gödör', 'szerelem', 'bánat']      Egészség   \n",
       "1  ['antidepresszáns', 'tea', 'nyugtató', 'gyógyn...      Egészség   \n",
       "2                 ['tüdőgyulladás', 'vesegyulladás']      Egészség   \n",
       "3  ['szekálás', 'betegség', 'pajzsmirigy', 'hiány...      Egészség   \n",
       "4                ['vérzés', 'darabos', 'nőgyógyász']      Egészség   \n",
       "\n",
       "                sub_category  split  \n",
       "0          Mentális egészség  train  \n",
       "1          Mentális egészség  train  \n",
       "2                 Betegségek  train  \n",
       "3  Immunrendszer, fertőzések  train  \n",
       "4              Nők egészsége  train  "
      ]
     },
     "execution_count": 9,
     "metadata": {},
     "output_type": "execute_result"
    }
   ],
   "source": [
    "train_df.head()"
   ]
  },
  {
   "cell_type": "code",
   "execution_count": 10,
   "id": "ad7a9f49",
   "metadata": {},
   "outputs": [],
   "source": [
    "train_df = train_df[['short_question','main_category']]\n",
    "val_df = val_df[['short_question','main_category']]\n",
    "test_df = test_df[['short_question','main_category']]"
   ]
  },
  {
   "cell_type": "code",
   "execution_count": 11,
   "id": "c1af030f",
   "metadata": {},
   "outputs": [
    {
     "data": {
      "text/html": [
       "<div>\n",
       "<style scoped>\n",
       "    .dataframe tbody tr th:only-of-type {\n",
       "        vertical-align: middle;\n",
       "    }\n",
       "\n",
       "    .dataframe tbody tr th {\n",
       "        vertical-align: top;\n",
       "    }\n",
       "\n",
       "    .dataframe thead th {\n",
       "        text-align: right;\n",
       "    }\n",
       "</style>\n",
       "<table border=\"1\" class=\"dataframe\">\n",
       "  <thead>\n",
       "    <tr style=\"text-align: right;\">\n",
       "      <th></th>\n",
       "      <th>short_question</th>\n",
       "      <th>main_category</th>\n",
       "    </tr>\n",
       "  </thead>\n",
       "  <tbody>\n",
       "    <tr>\n",
       "      <th>0</th>\n",
       "      <td>írnátok biztató</td>\n",
       "      <td>Egészség</td>\n",
       "    </tr>\n",
       "    <tr>\n",
       "      <th>1</th>\n",
       "      <td>vehet antidepresszáns idő nyugtató</td>\n",
       "      <td>Egészség</td>\n",
       "    </tr>\n",
       "    <tr>\n",
       "      <th>2</th>\n",
       "      <td>az halik tüdőgyulladás fekszik vese gyulladás ...</td>\n",
       "      <td>Egészség</td>\n",
       "    </tr>\n",
       "    <tr>\n",
       "      <th>3</th>\n",
       "      <td>mi csinál ha szekál osztály miatt sokatvagy be...</td>\n",
       "      <td>Egészség</td>\n",
       "    </tr>\n",
       "    <tr>\n",
       "      <th>4</th>\n",
       "      <td>hirtelen erős vérzésem perc amásikra ömlik kez...</td>\n",
       "      <td>Egészség</td>\n",
       "    </tr>\n",
       "  </tbody>\n",
       "</table>\n",
       "</div>"
      ],
      "text/plain": [
       "                                      short_question main_category\n",
       "0                                    írnátok biztató      Egészség\n",
       "1                 vehet antidepresszáns idő nyugtató      Egészség\n",
       "2  az halik tüdőgyulladás fekszik vese gyulladás ...      Egészség\n",
       "3  mi csinál ha szekál osztály miatt sokatvagy be...      Egészség\n",
       "4  hirtelen erős vérzésem perc amásikra ömlik kez...      Egészség"
      ]
     },
     "execution_count": 11,
     "metadata": {},
     "output_type": "execute_result"
    }
   ],
   "source": [
    "train_df.head()"
   ]
  },
  {
   "cell_type": "code",
   "execution_count": null,
   "id": "fe6a081d",
   "metadata": {},
   "outputs": [],
   "source": [
    "QUESTION = data.Field(tokenize = 'spacy', tokenizer_language = 'hu_core_ud_lg')\n",
    "TARGET = data.LabelField(dtype = torch.long)"
   ]
  },
  {
   "cell_type": "code",
   "execution_count": 13,
   "id": "93e6e1ae",
   "metadata": {},
   "outputs": [],
   "source": [
    "vectors = Vectors(args.gensim_file)"
   ]
  },
  {
   "cell_type": "code",
   "execution_count": 14,
   "id": "9b48742e",
   "metadata": {},
   "outputs": [],
   "source": [
    "fields = [('short_question', QUESTION),('main_category', TARGET)]"
   ]
  },
  {
   "cell_type": "code",
   "execution_count": 15,
   "id": "063f1565",
   "metadata": {},
   "outputs": [],
   "source": [
    "class DataFrameDataset(data.Dataset):\n",
    "\n",
    "    def __init__(self, df, fields, is_test=False, **kwargs):\n",
    "        examples = []\n",
    "        for i, row in df.iterrows():\n",
    "            label = row.main_category\n",
    "            text = row.short_question\n",
    "            examples.append(data.Example.fromlist([text, label], fields))\n",
    "\n",
    "        super().__init__(examples, fields, **kwargs)\n",
    "\n",
    "    @staticmethod\n",
    "    def sort_key(ex):\n",
    "        return len(ex.text)"
   ]
  },
  {
   "cell_type": "code",
   "execution_count": 16,
   "id": "4b008bea",
   "metadata": {},
   "outputs": [],
   "source": [
    "train = DataFrameDataset(df = train_df, fields = fields)"
   ]
  },
  {
   "cell_type": "code",
   "execution_count": 17,
   "id": "105e8b49",
   "metadata": {},
   "outputs": [],
   "source": [
    "valid = DataFrameDataset(df = val_df, fields = fields)"
   ]
  },
  {
   "cell_type": "code",
   "execution_count": 18,
   "id": "cc1a6e58",
   "metadata": {},
   "outputs": [],
   "source": [
    "test = DataFrameDataset(df = test_df, fields = fields)"
   ]
  },
  {
   "cell_type": "code",
   "execution_count": 19,
   "id": "1a733bd1",
   "metadata": {},
   "outputs": [],
   "source": [
    "QUESTION.build_vocab(train, vectors = vectors)  \n",
    "TARGET.build_vocab(train)"
   ]
  },
  {
   "cell_type": "code",
   "execution_count": 20,
   "id": "da5cb5b3",
   "metadata": {},
   "outputs": [],
   "source": [
    "args.device = torch.device(\"cuda\" if args.cuda else \"cpu\")"
   ]
  },
  {
   "cell_type": "code",
   "execution_count": 21,
   "id": "36328703",
   "metadata": {},
   "outputs": [],
   "source": [
    "train_iterator, valid_iterator, test_iterator = data.BucketIterator.splits(\n",
    "    (train, valid, test), batch_size = args.batch_size,\n",
    "    sort_key = lambda x: len(x.short_question),\n",
    "    sort_within_batch = False,\n",
    "    device = args.device)"
   ]
  },
  {
   "cell_type": "code",
   "execution_count": 22,
   "id": "d1ec1af0",
   "metadata": {},
   "outputs": [],
   "source": [
    "class LSTMClassifier(nn.Module):\n",
    "    def __init__(self, input_dim, embedding_dim, hidden_dim, output_dim):\n",
    "        \n",
    "        super(LSTMClassifier, self).__init__()\n",
    "        self.hidden_dim = hidden_dim\n",
    "        \n",
    "        self.embedding = nn.Embedding(input_dim, embedding_dim)\n",
    "        self.embedding.weight.data.copy_(QUESTION.vocab.vectors)\n",
    "        self.embedding.weight.requires_grad=True\n",
    "        \n",
    "        self.lstm = nn.LSTM(embedding_dim, hidden_dim)\n",
    "        \n",
    "        self.fc = nn.Linear(hidden_dim, output_dim)\n",
    "\n",
    "        \n",
    "    def forward(self, text):\n",
    "        \n",
    "        embedded = self.embedding(text)\n",
    "\n",
    "        output, hidden = self.lstm(embedded)\n",
    "\n",
    "        y = self.fc(output[-1])\n",
    "        \n",
    "        log_probs = F.log_softmax(y.squeeze(0))\n",
    "        return log_probs"
   ]
  },
  {
   "cell_type": "code",
   "execution_count": 23,
   "id": "45c52e71",
   "metadata": {},
   "outputs": [],
   "source": [
    "INPUT_DIM = len(QUESTION.vocab)\n",
    "EMBEDDING_DIM = 200\n",
    "HIDDEN_DIM = 100\n",
    "OUTPUT_DIM = 4"
   ]
  },
  {
   "cell_type": "code",
   "execution_count": 45,
   "id": "5d4d2449",
   "metadata": {},
   "outputs": [],
   "source": [
    "model = LSTMClassifier(INPUT_DIM, EMBEDDING_DIM, HIDDEN_DIM, OUTPUT_DIM)\n",
    "\n",
    "optimizer = optim.Adam(model.parameters(), lr=args.learning_rate)\n",
    "criterion = nn.NLLLoss()\n",
    "\n",
    "model = model.to(args.device)\n",
    "criterion = criterion.to(args.device)"
   ]
  },
  {
   "cell_type": "code",
   "execution_count": 46,
   "id": "5ff2ff14",
   "metadata": {},
   "outputs": [],
   "source": [
    "def class_accuracy(preds, y):\n",
    "    rounded_preds = preds.argmax(1)\n",
    "    correct = (rounded_preds == y).float()\n",
    "\n",
    "    acc = correct.sum() / len(correct)\n",
    "    return acc"
   ]
  },
  {
   "cell_type": "code",
   "execution_count": 53,
   "id": "a8a3bfd9",
   "metadata": {},
   "outputs": [],
   "source": [
    "def train_(model, iterator, optimizer, criterion, bar):\n",
    "    \n",
    "    epoch_loss = 0\n",
    "    epoch_acc = 0\n",
    "    \n",
    "    model.train()\n",
    "    \n",
    "    \n",
    "    for idx, batch in enumerate(iterator):\n",
    "\n",
    "        optimizer.zero_grad()\n",
    "                \n",
    "        predictions = model(batch.short_question)\n",
    "\n",
    "        loss = criterion(predictions, batch.main_category)\n",
    "        acc = class_accuracy(predictions, batch.main_category)\n",
    "        \n",
    "        loss.backward()\n",
    "        \n",
    "        optimizer.step()\n",
    "        \n",
    "        epoch_loss += loss.item()\n",
    "        epoch_acc += acc.item()\n",
    "\n",
    "        bar.set_postfix(loss=epoch_loss / (idx + 1), acc=epoch_acc / (idx + 1))\n",
    "        bar.update()\n",
    "    return epoch_loss / len(iterator), epoch_acc / len(iterator)"
   ]
  },
  {
   "cell_type": "code",
   "execution_count": 54,
   "id": "226d1194",
   "metadata": {},
   "outputs": [],
   "source": [
    "def evaluate(model, iterator, criterion, bar = None):\n",
    "    \n",
    "    epoch_loss = 0\n",
    "    epoch_acc = 0\n",
    "    \n",
    "    model.eval()\n",
    "    total_predicted = []\n",
    "    with torch.no_grad():\n",
    "    \n",
    "        for idx, batch in enumerate(iterator):\n",
    "            predictions = model(batch.short_question)\n",
    "\n",
    "            loss = criterion(predictions, batch.main_category)\n",
    "            acc = class_accuracy(predictions, batch.main_category)\n",
    "\n",
    "            epoch_loss += loss.item()\n",
    "            epoch_acc += acc.item()\n",
    "\n",
    "            _, predicted = torch.max(predictions.data, 1)\n",
    "            total_predicted += predicted.tolist()\n",
    "            \n",
    "            bar.set_postfix(loss=epoch_loss / (idx + 1), acc=epoch_acc / (idx + 1))\n",
    "            bar.update()\n",
    "            \n",
    "    return epoch_loss / len(iterator), epoch_acc / len(iterator), total_predicted"
   ]
  },
  {
   "cell_type": "code",
   "execution_count": 49,
   "id": "bedd0ed8",
   "metadata": {},
   "outputs": [],
   "source": [
    "def epoch_time(start_time, end_time):\n",
    "    elapsed_time = end_time - start_time\n",
    "    elapsed_mins = int(elapsed_time / 60)\n",
    "    elapsed_secs = int(elapsed_time - (elapsed_mins * 60))\n",
    "    return elapsed_mins, elapsed_secs"
   ]
  },
  {
   "cell_type": "code",
   "execution_count": 50,
   "id": "6b87aae1",
   "metadata": {},
   "outputs": [
    {
     "data": {
      "application/vnd.jupyter.widget-view+json": {
       "model_id": "0e0f9d74edc94292bc8c007d7ebe296d",
       "version_major": 2,
       "version_minor": 0
      },
      "text/plain": [
       "training routine:   0%|          | 0/40 [00:00<?, ?it/s]"
      ]
     },
     "metadata": {},
     "output_type": "display_data"
    },
    {
     "data": {
      "application/vnd.jupyter.widget-view+json": {
       "model_id": "8355cad5191843c4a0ed4b90ae084449",
       "version_major": 2,
       "version_minor": 0
      },
      "text/plain": [
       "split=train:   0%|          | 0/1682 [00:00<?, ?it/s]"
      ]
     },
     "metadata": {},
     "output_type": "display_data"
    },
    {
     "data": {
      "application/vnd.jupyter.widget-view+json": {
       "model_id": "dca9ac3c8a424b3f818596e0eec20f91",
       "version_major": 2,
       "version_minor": 0
      },
      "text/plain": [
       "split=val:   0%|          | 0/361 [00:00<?, ?it/s]"
      ]
     },
     "metadata": {},
     "output_type": "display_data"
    },
    {
     "name": "stderr",
     "output_type": "stream",
     "text": [
      "/tmp/ipykernel_39425/186954189.py:24: UserWarning: Implicit dimension choice for log_softmax has been deprecated. Change the call to include dim=X as an argument.\n",
      "  log_probs = F.log_softmax(y.squeeze(0))\n"
     ]
    }
   ],
   "source": [
    "best_valid_loss = float('inf')\n",
    "\n",
    "epoch_bar = notebook.tqdm(desc='training routine', \n",
    "                          total=args.num_epochs,\n",
    "                          position=0)\n",
    "\n",
    "train_bar = notebook.tqdm(desc='split=train',\n",
    "                          total=len(train_iterator), \n",
    "                          position=1, \n",
    "                          leave=True)\n",
    "\n",
    "val_bar = notebook.tqdm(desc='split=val',\n",
    "                        total=len(valid_iterator), \n",
    "                        position=1, \n",
    "                        leave=True)\n",
    "\n",
    "for epoch in range(args.num_epochs):\n",
    "\n",
    "    start_time = time.time()\n",
    "    \n",
    "    train_loss, train_acc = train_(model, train_iterator, optimizer, criterion, train_bar)\n",
    "    valid_loss, valid_acc, _ = evaluate(model, valid_iterator, criterion, val_bar)\n",
    "    \n",
    "    end_time = time.time()\n",
    "\n",
    "    epoch_mins, epoch_secs = epoch_time(start_time, end_time)\n",
    "    \n",
    "    if valid_loss < best_valid_loss:\n",
    "        best_valid_loss = valid_loss\n",
    "        torch.save(model.state_dict(), 'LSTM.pt')\n",
    "\n",
    "    train_bar.n = 0\n",
    "    val_bar.n = 0    \n",
    "    epoch_bar.update()"
   ]
  },
  {
   "cell_type": "code",
   "execution_count": 55,
   "id": "dd919cfd",
   "metadata": {},
   "outputs": [
    {
     "data": {
      "application/vnd.jupyter.widget-view+json": {
       "model_id": "581a1d9b362f411cbad94b169f1f3246",
       "version_major": 2,
       "version_minor": 0
      },
      "text/plain": [
       "split=train:   0%|          | 0/361 [00:00<?, ?it/s]"
      ]
     },
     "metadata": {},
     "output_type": "display_data"
    },
    {
     "name": "stderr",
     "output_type": "stream",
     "text": [
      "/tmp/ipykernel_39425/186954189.py:24: UserWarning: Implicit dimension choice for log_softmax has been deprecated. Change the call to include dim=X as an argument.\n",
      "  log_probs = F.log_softmax(y.squeeze(0))\n"
     ]
    },
    {
     "name": "stdout",
     "output_type": "stream",
     "text": [
      "Test Loss: 0.347 | Test Acc: 89.11%\n"
     ]
    }
   ],
   "source": [
    "model.load_state_dict(torch.load('LSTM.pt'))\n",
    "test_bar = notebook.tqdm(desc='split=train',\n",
    "                        total=len(test_iterator), \n",
    "                        position=1, \n",
    "                        leave=True)\n",
    "test_loss, test_acc, total_predicted = evaluate(model, test_iterator, criterion, test_bar)\n",
    "\n",
    "print(f'Test Loss: {test_loss:.3f} | Test Acc: {test_acc*100:.2f}%')"
   ]
  },
  {
   "cell_type": "code",
   "execution_count": 59,
   "id": "34da4964",
   "metadata": {},
   "outputs": [
    {
     "data": {
      "image/png": "[encoded data removed]",
      "text/plain": [
       "<Figure size 432x288 with 1 Axes>"
      ]
     },
     "metadata": {
      "needs_background": "light"
     },
     "output_type": "display_data"
    }
   ],
   "source": [
    "test_target = []\n",
    "\n",
    "for batch in test_iterator:\n",
    "    test_target += batch.main_category.tolist()\n",
    "\n",
    "cm = confusion_matrix(test_target, total_predicted)\n",
    "cm_df = pd.DataFrame(cm)\n",
    "\n",
    "heatmap = sn.heatmap(cm_df, annot=True, cmap='Reds', fmt='g', annot_kws={\"size\": 15}, cbar=False)"
   ]
  },
  {
   "cell_type": "code",
   "execution_count": 60,
   "id": "13488a58",
   "metadata": {},
   "outputs": [
    {
     "name": "stdout",
     "output_type": "stream",
     "text": [
      "              precision    recall  f1-score   support\n",
      "\n",
      "           0       0.90      0.91      0.90      7934\n",
      "           1       0.93      0.89      0.91      7721\n",
      "           2       0.86      0.90      0.88      6049\n",
      "           3       0.84      0.83      0.83      3519\n",
      "\n",
      "    accuracy                           0.89     25223\n",
      "   macro avg       0.88      0.88      0.88     25223\n",
      "weighted avg       0.89      0.89      0.89     25223\n",
      "\n"
     ]
    }
   ],
   "source": [
    "class_report = classification_report(test_target, total_predicted)\n",
    "print(class_report)"
   ]
  }
 ],
 "metadata": {
  "kernelspec": {
   "display_name": "Python 3 (ipykernel)",
   "language": "python",
   "name": "python3"
  },
  "language_info": {
   "codemirror_mode": {
    "name": "ipython",
    "version": 3
   },
   "file_extension": ".py",
   "mimetype": "text/x-python",
   "name": "python",
   "nbconvert_exporter": "python",
   "pygments_lexer": "ipython3",
   "version": "3.8.10"
  }
 },
 "nbformat": 4,
 "nbformat_minor": 5
}
