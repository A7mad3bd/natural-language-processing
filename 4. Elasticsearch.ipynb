{
 "cells": [
  {
   "cell_type": "code",
   "execution_count": 35,
   "id": "941b4096",
   "metadata": {},
   "outputs": [],
   "source": [
    "import pandas as pd\n",
    "\n",
    "from elasticsearch import Elasticsearch, helpers\n",
    "from elasticsearch_dsl import Search, Q\n",
    "from elasticsearch.helpers import bulk\n",
    "\n",
    "import csv\n",
    "\n",
    "import unidecode"
   ]
  },
  {
   "cell_type": "code",
   "execution_count": 36,
   "id": "debeb32d",
   "metadata": {},
   "outputs": [],
   "source": [
    "es = Elasticsearch(\"http://localhost:9200\")"
   ]
  },
  {
   "cell_type": "code",
   "execution_count": 37,
   "id": "52dffa21",
   "metadata": {},
   "outputs": [],
   "source": [
    "faq_csv = \".data/faq_with_splits_tokenized.csv\""
   ]
  },
  {
   "cell_type": "code",
   "execution_count": 38,
   "id": "c558aaec",
   "metadata": {},
   "outputs": [],
   "source": [
    "df = pd.read_csv(faq_csv)"
   ]
  },
  {
   "cell_type": "code",
   "execution_count": 39,
   "id": "7b3ca066",
   "metadata": {},
   "outputs": [
    {
     "data": {
      "text/html": [
       "<div>\n",
       "<style scoped>\n",
       "    .dataframe tbody tr th:only-of-type {\n",
       "        vertical-align: middle;\n",
       "    }\n",
       "\n",
       "    .dataframe tbody tr th {\n",
       "        vertical-align: top;\n",
       "    }\n",
       "\n",
       "    .dataframe thead th {\n",
       "        text-align: right;\n",
       "    }\n",
       "</style>\n",
       "<table border=\"1\" class=\"dataframe\">\n",
       "  <thead>\n",
       "    <tr style=\"text-align: right;\">\n",
       "      <th></th>\n",
       "      <th>short_question</th>\n",
       "      <th>long_question</th>\n",
       "      <th>answer</th>\n",
       "      <th>main_category</th>\n",
       "      <th>sub_category</th>\n",
       "      <th>split</th>\n",
       "    </tr>\n",
       "  </thead>\n",
       "  <tbody>\n",
       "    <tr>\n",
       "      <th>0</th>\n",
       "      <td>Vállsérülés gyógytorna</td>\n",
       "      <td>Vállsérülés gyógytorna Az lenne a kérdésem hog...</td>\n",
       "      <td>edzeni kénealapjába véve mindent váll, hát, tr...</td>\n",
       "      <td>Egészség</td>\n",
       "      <td>Sérülések, balesetek</td>\n",
       "      <td>train</td>\n",
       "    </tr>\n",
       "    <tr>\n",
       "      <th>1</th>\n",
       "      <td>Heti hányszor dehidtratáljam a szervezetemet c...</td>\n",
       "      <td>Heti hányszor dehidtratáljam a szervezetemet c...</td>\n",
       "      <td>Nem értem miért akarod magad dehidratálni, nem...</td>\n",
       "      <td>Egészség</td>\n",
       "      <td>Bio életmód</td>\n",
       "      <td>train</td>\n",
       "    </tr>\n",
       "    <tr>\n",
       "      <th>2</th>\n",
       "      <td>A Doctor Who ban ki a vörös hajú lány</td>\n",
       "      <td>A Doctor Who ban ki a vörös hajú lány</td>\n",
       "      <td>Vagy Amy Pond vagy Donna Noble</td>\n",
       "      <td>Szórakozás</td>\n",
       "      <td>Filmek, sorozatok</td>\n",
       "      <td>train</td>\n",
       "    </tr>\n",
       "    <tr>\n",
       "      <th>3</th>\n",
       "      <td>Vettem 2 törpenyuszit a szobamba 4 5 honapja d...</td>\n",
       "      <td>Vettem 2 törpenyuszit a szobamba 4 5 honapja d...</td>\n",
       "      <td>Egy törpenyuszihoz nagyon sok türelem kell. Pr...</td>\n",
       "      <td>Állatok</td>\n",
       "      <td>Kisemlősök</td>\n",
       "      <td>train</td>\n",
       "    </tr>\n",
       "    <tr>\n",
       "      <th>4</th>\n",
       "      <td>Fityma szűkületem van</td>\n",
       "      <td>Fityma szűkületem van 15 éves fiú vagyok és mi...</td>\n",
       "      <td>Valószínű. Esetleg még a fitymaféked lehet röv...</td>\n",
       "      <td>Egészség</td>\n",
       "      <td>Férfiak egészsége</td>\n",
       "      <td>train</td>\n",
       "    </tr>\n",
       "  </tbody>\n",
       "</table>\n",
       "</div>"
      ],
      "text/plain": [
       "                                      short_question  \\\n",
       "0                             Vállsérülés gyógytorna   \n",
       "1  Heti hányszor dehidtratáljam a szervezetemet c...   \n",
       "2              A Doctor Who ban ki a vörös hajú lány   \n",
       "3  Vettem 2 törpenyuszit a szobamba 4 5 honapja d...   \n",
       "4                              Fityma szűkületem van   \n",
       "\n",
       "                                       long_question  \\\n",
       "0  Vállsérülés gyógytorna Az lenne a kérdésem hog...   \n",
       "1  Heti hányszor dehidtratáljam a szervezetemet c...   \n",
       "2              A Doctor Who ban ki a vörös hajú lány   \n",
       "3  Vettem 2 törpenyuszit a szobamba 4 5 honapja d...   \n",
       "4  Fityma szűkületem van 15 éves fiú vagyok és mi...   \n",
       "\n",
       "                                              answer main_category  \\\n",
       "0  edzeni kénealapjába véve mindent váll, hát, tr...      Egészség   \n",
       "1  Nem értem miért akarod magad dehidratálni, nem...      Egészség   \n",
       "2                     Vagy Amy Pond vagy Donna Noble    Szórakozás   \n",
       "3  Egy törpenyuszihoz nagyon sok türelem kell. Pr...       Állatok   \n",
       "4  Valószínű. Esetleg még a fitymaféked lehet röv...      Egészség   \n",
       "\n",
       "           sub_category  split  \n",
       "0  Sérülések, balesetek  train  \n",
       "1           Bio életmód  train  \n",
       "2     Filmek, sorozatok  train  \n",
       "3            Kisemlősök  train  \n",
       "4     Férfiak egészsége  train  "
      ]
     },
     "execution_count": 39,
     "metadata": {},
     "output_type": "execute_result"
    }
   ],
   "source": [
    "df.head()"
   ]
  },
  {
   "cell_type": "code",
   "execution_count": 40,
   "id": "f22feb76",
   "metadata": {},
   "outputs": [
    {
     "name": "stderr",
     "output_type": "stream",
     "text": [
      "C:\\Users\\User\\anaconda3\\lib\\site-packages\\elasticsearch\\connection\\base.py:208: ElasticsearchWarning: Elasticsearch built-in security features are not enabled. Without authentication, your cluster could be accessible to anyone. See https://www.elastic.co/guide/en/elasticsearch/reference/7.15/security-minimal-setup.html to enable security.\n",
      "  warnings.warn(message, category=ElasticsearchWarning)\n"
     ]
    }
   ],
   "source": [
    "indices = es.indices.get('questions*')\n",
    "\n",
    "for index in indices:\n",
    "    es.indices.delete(index=index, ignore=[404])"
   ]
  },
  {
   "cell_type": "code",
   "execution_count": 41,
   "id": "985d20f6",
   "metadata": {},
   "outputs": [],
   "source": [
    "def generate_data():\n",
    "    \n",
    "    for index, row in df.iterrows():\n",
    "        yield {\n",
    "            \"_index\": \"questions_\" + unidecode.unidecode(row.main_category.lower()),\n",
    "            \"short_question\": row.short_question,\n",
    "            \"long_question\": row.long_question,\n",
    "            \"category\": row.main_category,\n",
    "            \"answer\": row.answer\n",
    "        }"
   ]
  },
  {
   "cell_type": "code",
   "execution_count": 42,
   "id": "afb13f28",
   "metadata": {},
   "outputs": [
    {
     "data": {
      "text/plain": [
       "(153556, [])"
      ]
     },
     "execution_count": 42,
     "metadata": {},
     "output_type": "execute_result"
    }
   ],
   "source": [
    "bulk(es, generate_data())"
   ]
  },
  {
   "cell_type": "code",
   "execution_count": 56,
   "id": "146be785",
   "metadata": {},
   "outputs": [],
   "source": [
    "def generate_query_body(question):\n",
    "    return {\n",
    "        \"query\": {\n",
    "            \"match\": {\n",
    "                \"long_question\": {\n",
    "                    \"query\": question,\n",
    "                }\n",
    "            }\n",
    "        }\n",
    "    }\n",
    "    \n",
    "def find_answer(query_param, generate_query, index=\"questions*\"):\n",
    "    body = generate_query_body(query_param)\n",
    "    res = es.search(index=index, body=body)\n",
    "    \n",
    "    return res['hits']['hits'][0]['_source']"
   ]
  },
  {
   "cell_type": "code",
   "execution_count": 58,
   "id": "e1d43263",
   "metadata": {
    "scrolled": false
   },
   "outputs": [
    {
     "name": "stdout",
     "output_type": "stream",
     "text": [
      "Miért fáj minden hétfőn a kutyám lába?\n",
      "Short question:\n",
      "Miért dagadhat be a sharpei kölyök kutyám hátsó lába\n",
      "\n",
      "Long question:\n",
      "Miért dagadhat be a sharpei kölyök kutyám hátsó lába Nem hiszem h shar pei láza lenne mert nem lázas csak a bal hátsó lába fel van dagadva a bokájánál vagy csánk Nem igazán tudom hogy hívják pontosan Láthatóan fáj neki de étvágya van eszik iszik rendesen Lehet a lépcsőzés a baj\n",
      "\n",
      "Answer:\n",
      "Gondoltál màr arra, hogy orvoshoz vidd?\n"
     ]
    }
   ],
   "source": [
    "question = input()\n",
    "\n",
    "result = find_answer(question, generate_query)\n",
    "\n",
    "print(f\"Short question:\\n{result['short_question']}\")\n",
    "print()\n",
    "print(f\"Long question:\\n{result['long_question']}\")\n",
    "print()\n",
    "print(f\"Answer:\\n{result['answer']}\")"
   ]
  },
  {
   "cell_type": "markdown",
   "id": "2b5df60c",
   "metadata": {},
   "source": [
    "-------------------------------------------------------------------------------------"
   ]
  },
  {
   "cell_type": "code",
   "execution_count": null,
   "id": "083044e5",
   "metadata": {},
   "outputs": [],
   "source": [
    "INDEX_NAME = \"questions\"\n",
    "INDEX_FILE = \"index.json\"\n",
    "DATA_FILE = faq_csv\n",
    "BATCH_SIZE = 1000"
   ]
  },
  {
   "cell_type": "code",
   "execution_count": null,
   "id": "22548c59",
   "metadata": {},
   "outputs": [],
   "source": [
    "import hu_core_ud_lg\n",
    "import numpy as np\n",
    "\n",
    "import pandas as pd"
   ]
  },
  {
   "cell_type": "code",
   "execution_count": null,
   "id": "46ae2c7d",
   "metadata": {},
   "outputs": [],
   "source": [
    "data_frame = pd.read_csv(DATA_FILE)"
   ]
  },
  {
   "cell_type": "code",
   "execution_count": null,
   "id": "ff51ecac",
   "metadata": {},
   "outputs": [],
   "source": [
    "nlp = hu_core_ud_lg.load()"
   ]
  },
  {
   "cell_type": "code",
   "execution_count": null,
   "id": "9fa74a02",
   "metadata": {},
   "outputs": [],
   "source": [
    "import nltk\n",
    "from nltk.corpus import stopwords\n",
    "\n",
    "nltk.download('stopwords', quiet=True)\n",
    "stop_words = set(stopwords.words('hungarian'))\n",
    "\n",
    "def stop_word_filter(text):\n",
    "    return \" \". join([w for w in text if not w in stop_words])"
   ]
  },
  {
   "cell_type": "code",
   "execution_count": null,
   "id": "301d1e21",
   "metadata": {},
   "outputs": [],
   "source": [
    "def embed_docs(docs):\n",
    "    return [embed(stop_word_filter(doc)) for doc in docs]"
   ]
  },
  {
   "cell_type": "code",
   "execution_count": null,
   "id": "051c1a26",
   "metadata": {},
   "outputs": [],
   "source": [
    "def embed(sentence):\n",
    "    doc = nlp(sentence)\n",
    "    lemmatized = \" \".join([w.lemma_.lower() for w in doc])\n",
    "    doc = nlp(lemmatized)\n",
    "    helper = [doc[idx].vector for idx in range(len(doc))]\n",
    "    query_vector = np.add.reduce(helper) / len(doc)\n",
    "    \n",
    "    return query_vector"
   ]
  },
  {
   "cell_type": "code",
   "execution_count": null,
   "id": "1d6a7248",
   "metadata": {},
   "outputs": [],
   "source": [
    "def index_data(df):\n",
    "    es.indices.delete(index=INDEX_NAME, ignore=[404])\n",
    "\n",
    "    with open(INDEX_FILE) as index_file:\n",
    "        source = index_file.read().strip()\n",
    "        es.indices.create(index=INDEX_NAME, body=source)\n",
    "    \n",
    "    docs = []\n",
    "    count = 0\n",
    "    \n",
    "    for index, row in df.iterrows():\n",
    "        docs.append(row.to_dict())\n",
    "        count += 1\n",
    "            \n",
    "        if count % BATCH_SIZE == 0:\n",
    "            index_batch(docs)\n",
    "            docs = []\n",
    "            print(f\"\\rIndexed {count} documents.\", end=\"\")\n",
    "\n",
    "    if docs:\n",
    "        index_batch(docs)\n",
    "        docs = []\n",
    "        print(f\"\\rIndexed {count} documents.\", end=\"\")\n",
    "\n",
    "    print()\n",
    "    es.indices.refresh(index=INDEX_NAME)\n",
    "    print(\"Done indexing.\")"
   ]
  },
  {
   "cell_type": "code",
   "execution_count": null,
   "id": "47eefdaf",
   "metadata": {},
   "outputs": [],
   "source": [
    "def index_batch(docs):\n",
    "    short_questions = [doc[\"short_question\"] for doc in docs]\n",
    "    \n",
    "    short_question_vectors = embed_docs(short_questions)\n",
    "\n",
    "    requests = []\n",
    "    \n",
    "    for i, doc, in enumerate(docs):\n",
    "        request = doc\n",
    "        request[\"_op_type\"] = \"index\"\n",
    "        request[\"_index\"] = INDEX_NAME\n",
    "        request[\"short_question_vector\"] = short_question_vectors[i]\n",
    "        requests.append(request)\n",
    "    helpers.bulk(es, requests)"
   ]
  },
  {
   "cell_type": "code",
   "execution_count": null,
   "id": "5788683a",
   "metadata": {},
   "outputs": [],
   "source": [
    "index_data(data_frame)"
   ]
  },
  {
   "cell_type": "code",
   "execution_count": null,
   "id": "d62a9c15",
   "metadata": {},
   "outputs": [],
   "source": [
    "script_query = {\n",
    "    \"script_score\": {\n",
    "        \"query\": {\"match_all\": {}},\n",
    "        \"script\": {\n",
    "            \"source\": \"cosineSimilarity(params.query_vector, doc['short_question_vector']) + 1.0\",\n",
    "            \"params\": {\"query_vector\": embed(stop_word_filter(question))}\n",
    "        }\n",
    "    }\n",
    "}\n",
    "\n",
    "response = es.search(\n",
    "    index=INDEX_NAME,\n",
    "    body={\n",
    "        \"size\": 10,\n",
    "        \"query\": script_query\n",
    "    }\n",
    ")"
   ]
  },
  {
   "cell_type": "code",
   "execution_count": null,
   "id": "9a2fd142",
   "metadata": {},
   "outputs": [],
   "source": [
    "for hit in response[\"hits\"][\"hits\"]:\n",
    "    print(\"id: {}, score: {}\".format(hit[\"_id\"], hit[\"_score\"]))\n",
    "    print(hit[\"_source\"][\"short_question\"])\n",
    "    print(hit[\"_source\"][\"answer\"])\n",
    "    print()"
   ]
  }
 ],
 "metadata": {
  "kernelspec": {
   "display_name": "Python 3 (ipykernel)",
   "language": "python",
   "name": "python3"
  },
  "language_info": {
   "codemirror_mode": {
    "name": "ipython",
    "version": 3
   },
   "file_extension": ".py",
   "mimetype": "text/x-python",
   "name": "python",
   "nbconvert_exporter": "python",
   "pygments_lexer": "ipython3",
   "version": "3.9.7"
  }
 },
 "nbformat": 4,
 "nbformat_minor": 5
}
