{
 "cells": [
  {
   "cell_type": "code",
   "execution_count": 2,
   "id": "941b4096",
   "metadata": {},
   "outputs": [],
   "source": [
    "import csv\n",
    "import random\n",
    "from unidecode import unidecode\n",
    "import warnings\n",
    "\n",
    "import pandas as pd\n",
    "import numpy as np\n",
    "\n",
    "import hu_core_ud_lg\n",
    "\n",
    "import nltk\n",
    "from nltk.corpus import stopwords\n",
    "\n",
    "from elasticsearch import Elasticsearch\n",
    "from elasticsearch_dsl import Search, Q\n",
    "from elasticsearch.helpers import bulk\n",
    "from elasticsearch.exceptions import ElasticsearchWarning\n",
    "\n",
    "from tqdm.notebook import tqdm"
   ]
  },
  {
   "cell_type": "code",
   "execution_count": 3,
   "id": "debeb32d",
   "metadata": {},
   "outputs": [],
   "source": [
    "es = Elasticsearch(\"http://localhost:9200\")"
   ]
  },
  {
   "cell_type": "code",
   "execution_count": 4,
   "id": "52dffa21",
   "metadata": {},
   "outputs": [],
   "source": [
    "faq_csv = \".data/faq_with_splits_tokenized.csv\""
   ]
  },
  {
   "cell_type": "code",
   "execution_count": 5,
   "id": "5651a122",
   "metadata": {},
   "outputs": [],
   "source": [
    "df = pd.read_csv(faq_csv)"
   ]
  },
  {
   "cell_type": "code",
   "execution_count": 6,
   "id": "dd0085e6",
   "metadata": {},
   "outputs": [
    {
     "data": {
      "text/html": [
       "<div>\n",
       "<style scoped>\n",
       "    .dataframe tbody tr th:only-of-type {\n",
       "        vertical-align: middle;\n",
       "    }\n",
       "\n",
       "    .dataframe tbody tr th {\n",
       "        vertical-align: top;\n",
       "    }\n",
       "\n",
       "    .dataframe thead th {\n",
       "        text-align: right;\n",
       "    }\n",
       "</style>\n",
       "<table border=\"1\" class=\"dataframe\">\n",
       "  <thead>\n",
       "    <tr style=\"text-align: right;\">\n",
       "      <th></th>\n",
       "      <th>short_question</th>\n",
       "      <th>long_question</th>\n",
       "      <th>answer</th>\n",
       "      <th>main_category</th>\n",
       "      <th>sub_category</th>\n",
       "      <th>split</th>\n",
       "    </tr>\n",
       "  </thead>\n",
       "  <tbody>\n",
       "    <tr>\n",
       "      <th>0</th>\n",
       "      <td>Vállsérülés gyógytorna</td>\n",
       "      <td>Vállsérülés gyógytorna Az lenne a kérdésem hog...</td>\n",
       "      <td>edzeni kénealapjába véve mindent váll, hát, tr...</td>\n",
       "      <td>Egészség</td>\n",
       "      <td>Sérülések, balesetek</td>\n",
       "      <td>train</td>\n",
       "    </tr>\n",
       "    <tr>\n",
       "      <th>1</th>\n",
       "      <td>Heti hányszor dehidtratáljam a szervezetemet c...</td>\n",
       "      <td>Heti hányszor dehidtratáljam a szervezetemet c...</td>\n",
       "      <td>Nem értem miért akarod magad dehidratálni, nem...</td>\n",
       "      <td>Egészség</td>\n",
       "      <td>Bio életmód</td>\n",
       "      <td>train</td>\n",
       "    </tr>\n",
       "    <tr>\n",
       "      <th>2</th>\n",
       "      <td>A Doctor Who ban ki a vörös hajú lány</td>\n",
       "      <td>A Doctor Who ban ki a vörös hajú lány</td>\n",
       "      <td>Vagy Amy Pond vagy Donna Noble</td>\n",
       "      <td>Szórakozás</td>\n",
       "      <td>Filmek, sorozatok</td>\n",
       "      <td>train</td>\n",
       "    </tr>\n",
       "    <tr>\n",
       "      <th>3</th>\n",
       "      <td>Vettem 2 törpenyuszit a szobamba 4 5 honapja d...</td>\n",
       "      <td>Vettem 2 törpenyuszit a szobamba 4 5 honapja d...</td>\n",
       "      <td>Egy törpenyuszihoz nagyon sok türelem kell. Pr...</td>\n",
       "      <td>Állatok</td>\n",
       "      <td>Kisemlősök</td>\n",
       "      <td>train</td>\n",
       "    </tr>\n",
       "    <tr>\n",
       "      <th>4</th>\n",
       "      <td>Fityma szűkületem van</td>\n",
       "      <td>Fityma szűkületem van 15 éves fiú vagyok és mi...</td>\n",
       "      <td>Valószínű. Esetleg még a fitymaféked lehet röv...</td>\n",
       "      <td>Egészség</td>\n",
       "      <td>Férfiak egészsége</td>\n",
       "      <td>train</td>\n",
       "    </tr>\n",
       "  </tbody>\n",
       "</table>\n",
       "</div>"
      ],
      "text/plain": [
       "                                      short_question  \\\n",
       "0                             Vállsérülés gyógytorna   \n",
       "1  Heti hányszor dehidtratáljam a szervezetemet c...   \n",
       "2              A Doctor Who ban ki a vörös hajú lány   \n",
       "3  Vettem 2 törpenyuszit a szobamba 4 5 honapja d...   \n",
       "4                              Fityma szűkületem van   \n",
       "\n",
       "                                       long_question  \\\n",
       "0  Vállsérülés gyógytorna Az lenne a kérdésem hog...   \n",
       "1  Heti hányszor dehidtratáljam a szervezetemet c...   \n",
       "2              A Doctor Who ban ki a vörös hajú lány   \n",
       "3  Vettem 2 törpenyuszit a szobamba 4 5 honapja d...   \n",
       "4  Fityma szűkületem van 15 éves fiú vagyok és mi...   \n",
       "\n",
       "                                              answer main_category  \\\n",
       "0  edzeni kénealapjába véve mindent váll, hát, tr...      Egészség   \n",
       "1  Nem értem miért akarod magad dehidratálni, nem...      Egészség   \n",
       "2                     Vagy Amy Pond vagy Donna Noble    Szórakozás   \n",
       "3  Egy törpenyuszihoz nagyon sok türelem kell. Pr...       Állatok   \n",
       "4  Valószínű. Esetleg még a fitymaféked lehet röv...      Egészség   \n",
       "\n",
       "           sub_category  split  \n",
       "0  Sérülések, balesetek  train  \n",
       "1           Bio életmód  train  \n",
       "2     Filmek, sorozatok  train  \n",
       "3            Kisemlősök  train  \n",
       "4     Férfiak egészsége  train  "
      ]
     },
     "execution_count": 6,
     "metadata": {},
     "output_type": "execute_result"
    }
   ],
   "source": [
    "df.head()"
   ]
  },
  {
   "cell_type": "code",
   "execution_count": 7,
   "id": "c0f5d289",
   "metadata": {},
   "outputs": [],
   "source": [
    "df = df[['short_question', 'long_question', 'answer', 'main_category']]"
   ]
  },
  {
   "cell_type": "code",
   "execution_count": 12,
   "id": "847a776a",
   "metadata": {},
   "outputs": [
    {
     "data": {
      "text/html": [
       "<div>\n",
       "<style scoped>\n",
       "    .dataframe tbody tr th:only-of-type {\n",
       "        vertical-align: middle;\n",
       "    }\n",
       "\n",
       "    .dataframe tbody tr th {\n",
       "        vertical-align: top;\n",
       "    }\n",
       "\n",
       "    .dataframe thead th {\n",
       "        text-align: right;\n",
       "    }\n",
       "</style>\n",
       "<table border=\"1\" class=\"dataframe\">\n",
       "  <thead>\n",
       "    <tr style=\"text-align: right;\">\n",
       "      <th></th>\n",
       "      <th>short_question</th>\n",
       "      <th>long_question</th>\n",
       "      <th>answer</th>\n",
       "      <th>_index</th>\n",
       "    </tr>\n",
       "  </thead>\n",
       "  <tbody>\n",
       "    <tr>\n",
       "      <th>0</th>\n",
       "      <td>Vállsérülés gyógytorna</td>\n",
       "      <td>Vállsérülés gyógytorna Az lenne a kérdésem hog...</td>\n",
       "      <td>edzeni kénealapjába véve mindent váll, hát, tr...</td>\n",
       "      <td>Egészség</td>\n",
       "    </tr>\n",
       "    <tr>\n",
       "      <th>1</th>\n",
       "      <td>Heti hányszor dehidtratáljam a szervezetemet c...</td>\n",
       "      <td>Heti hányszor dehidtratáljam a szervezetemet c...</td>\n",
       "      <td>Nem értem miért akarod magad dehidratálni, nem...</td>\n",
       "      <td>Egészség</td>\n",
       "    </tr>\n",
       "    <tr>\n",
       "      <th>2</th>\n",
       "      <td>A Doctor Who ban ki a vörös hajú lány</td>\n",
       "      <td>A Doctor Who ban ki a vörös hajú lány</td>\n",
       "      <td>Vagy Amy Pond vagy Donna Noble</td>\n",
       "      <td>Szórakozás</td>\n",
       "    </tr>\n",
       "    <tr>\n",
       "      <th>3</th>\n",
       "      <td>Vettem 2 törpenyuszit a szobamba 4 5 honapja d...</td>\n",
       "      <td>Vettem 2 törpenyuszit a szobamba 4 5 honapja d...</td>\n",
       "      <td>Egy törpenyuszihoz nagyon sok türelem kell. Pr...</td>\n",
       "      <td>Állatok</td>\n",
       "    </tr>\n",
       "    <tr>\n",
       "      <th>4</th>\n",
       "      <td>Fityma szűkületem van</td>\n",
       "      <td>Fityma szűkületem van 15 éves fiú vagyok és mi...</td>\n",
       "      <td>Valószínű. Esetleg még a fitymaféked lehet röv...</td>\n",
       "      <td>Egészség</td>\n",
       "    </tr>\n",
       "  </tbody>\n",
       "</table>\n",
       "</div>"
      ],
      "text/plain": [
       "                                      short_question  \\\n",
       "0                             Vállsérülés gyógytorna   \n",
       "1  Heti hányszor dehidtratáljam a szervezetemet c...   \n",
       "2              A Doctor Who ban ki a vörös hajú lány   \n",
       "3  Vettem 2 törpenyuszit a szobamba 4 5 honapja d...   \n",
       "4                              Fityma szűkületem van   \n",
       "\n",
       "                                       long_question  \\\n",
       "0  Vállsérülés gyógytorna Az lenne a kérdésem hog...   \n",
       "1  Heti hányszor dehidtratáljam a szervezetemet c...   \n",
       "2              A Doctor Who ban ki a vörös hajú lány   \n",
       "3  Vettem 2 törpenyuszit a szobamba 4 5 honapja d...   \n",
       "4  Fityma szűkületem van 15 éves fiú vagyok és mi...   \n",
       "\n",
       "                                              answer      _index  \n",
       "0  edzeni kénealapjába véve mindent váll, hát, tr...    Egészség  \n",
       "1  Nem értem miért akarod magad dehidratálni, nem...    Egészség  \n",
       "2                     Vagy Amy Pond vagy Donna Noble  Szórakozás  \n",
       "3  Egy törpenyuszihoz nagyon sok türelem kell. Pr...     Állatok  \n",
       "4  Valószínű. Esetleg még a fitymaféked lehet röv...    Egészség  "
      ]
     },
     "execution_count": 12,
     "metadata": {},
     "output_type": "execute_result"
    }
   ],
   "source": [
    "df.head()"
   ]
  },
  {
   "cell_type": "code",
   "execution_count": 13,
   "id": "0feb7451",
   "metadata": {},
   "outputs": [],
   "source": [
    "df.rename(columns = {'main_category': '_index'}, inplace=True)"
   ]
  },
  {
   "cell_type": "code",
   "execution_count": 17,
   "id": "f05794cb",
   "metadata": {},
   "outputs": [],
   "source": [
    "df['_index'] = df['_index'].apply(lambda x : \"questions_\" + unidecode(x.lower()))"
   ]
  },
  {
   "cell_type": "code",
   "execution_count": 18,
   "id": "be06f0a7",
   "metadata": {},
   "outputs": [
    {
     "data": {
      "text/html": [
       "<div>\n",
       "<style scoped>\n",
       "    .dataframe tbody tr th:only-of-type {\n",
       "        vertical-align: middle;\n",
       "    }\n",
       "\n",
       "    .dataframe tbody tr th {\n",
       "        vertical-align: top;\n",
       "    }\n",
       "\n",
       "    .dataframe thead th {\n",
       "        text-align: right;\n",
       "    }\n",
       "</style>\n",
       "<table border=\"1\" class=\"dataframe\">\n",
       "  <thead>\n",
       "    <tr style=\"text-align: right;\">\n",
       "      <th></th>\n",
       "      <th>short_question</th>\n",
       "      <th>long_question</th>\n",
       "      <th>answer</th>\n",
       "      <th>_index</th>\n",
       "    </tr>\n",
       "  </thead>\n",
       "  <tbody>\n",
       "    <tr>\n",
       "      <th>0</th>\n",
       "      <td>Vállsérülés gyógytorna</td>\n",
       "      <td>Vállsérülés gyógytorna Az lenne a kérdésem hog...</td>\n",
       "      <td>edzeni kénealapjába véve mindent váll, hát, tr...</td>\n",
       "      <td>questions_egeszseg</td>\n",
       "    </tr>\n",
       "    <tr>\n",
       "      <th>1</th>\n",
       "      <td>Heti hányszor dehidtratáljam a szervezetemet c...</td>\n",
       "      <td>Heti hányszor dehidtratáljam a szervezetemet c...</td>\n",
       "      <td>Nem értem miért akarod magad dehidratálni, nem...</td>\n",
       "      <td>questions_egeszseg</td>\n",
       "    </tr>\n",
       "    <tr>\n",
       "      <th>2</th>\n",
       "      <td>A Doctor Who ban ki a vörös hajú lány</td>\n",
       "      <td>A Doctor Who ban ki a vörös hajú lány</td>\n",
       "      <td>Vagy Amy Pond vagy Donna Noble</td>\n",
       "      <td>questions_szorakozas</td>\n",
       "    </tr>\n",
       "    <tr>\n",
       "      <th>3</th>\n",
       "      <td>Vettem 2 törpenyuszit a szobamba 4 5 honapja d...</td>\n",
       "      <td>Vettem 2 törpenyuszit a szobamba 4 5 honapja d...</td>\n",
       "      <td>Egy törpenyuszihoz nagyon sok türelem kell. Pr...</td>\n",
       "      <td>questions_allatok</td>\n",
       "    </tr>\n",
       "    <tr>\n",
       "      <th>4</th>\n",
       "      <td>Fityma szűkületem van</td>\n",
       "      <td>Fityma szűkületem van 15 éves fiú vagyok és mi...</td>\n",
       "      <td>Valószínű. Esetleg még a fitymaféked lehet röv...</td>\n",
       "      <td>questions_egeszseg</td>\n",
       "    </tr>\n",
       "  </tbody>\n",
       "</table>\n",
       "</div>"
      ],
      "text/plain": [
       "                                      short_question  \\\n",
       "0                             Vállsérülés gyógytorna   \n",
       "1  Heti hányszor dehidtratáljam a szervezetemet c...   \n",
       "2              A Doctor Who ban ki a vörös hajú lány   \n",
       "3  Vettem 2 törpenyuszit a szobamba 4 5 honapja d...   \n",
       "4                              Fityma szűkületem van   \n",
       "\n",
       "                                       long_question  \\\n",
       "0  Vállsérülés gyógytorna Az lenne a kérdésem hog...   \n",
       "1  Heti hányszor dehidtratáljam a szervezetemet c...   \n",
       "2              A Doctor Who ban ki a vörös hajú lány   \n",
       "3  Vettem 2 törpenyuszit a szobamba 4 5 honapja d...   \n",
       "4  Fityma szűkületem van 15 éves fiú vagyok és mi...   \n",
       "\n",
       "                                              answer                _index  \n",
       "0  edzeni kénealapjába véve mindent váll, hát, tr...    questions_egeszseg  \n",
       "1  Nem értem miért akarod magad dehidratálni, nem...    questions_egeszseg  \n",
       "2                     Vagy Amy Pond vagy Donna Noble  questions_szorakozas  \n",
       "3  Egy törpenyuszihoz nagyon sok türelem kell. Pr...     questions_allatok  \n",
       "4  Valószínű. Esetleg még a fitymaféked lehet röv...    questions_egeszseg  "
      ]
     },
     "execution_count": 18,
     "metadata": {},
     "output_type": "execute_result"
    }
   ],
   "source": [
    "df.head()"
   ]
  },
  {
   "cell_type": "code",
   "execution_count": 19,
   "id": "d9763e63",
   "metadata": {},
   "outputs": [],
   "source": [
    "warnings.simplefilter('ignore', ElasticsearchWarning)"
   ]
  },
  {
   "cell_type": "code",
   "execution_count": 20,
   "id": "411351e9",
   "metadata": {},
   "outputs": [],
   "source": [
    "def delete_indices():\n",
    "    indices = es.indices.get('questions*')\n",
    "\n",
    "    for index in indices:\n",
    "        print(f\"Deleting index '{index}'\")\n",
    "        es.indices.delete(index=index, ignore=[404])"
   ]
  },
  {
   "cell_type": "code",
   "execution_count": 21,
   "id": "abedba7b",
   "metadata": {},
   "outputs": [
    {
     "name": "stdout",
     "output_type": "stream",
     "text": [
      "Deleting index 'questions_allatok'\n",
      "Deleting index 'questions_egeszseg'\n",
      "Deleting index 'questions_szamitastechnika'\n",
      "Deleting index 'questions_szorakozas'\n"
     ]
    }
   ],
   "source": [
    "delete_indices()"
   ]
  },
  {
   "cell_type": "code",
   "execution_count": 24,
   "id": "707d16cd",
   "metadata": {},
   "outputs": [],
   "source": [
    "def generate_data():\n",
    "    \n",
    "    for index, row in df.iterrows():\n",
    "        yield {\n",
    "            \"_index\": row['_index'],\n",
    "            \"short_question\": row.short_question,\n",
    "            \"long_question\": row.long_question,\n",
    "            \"answer\": row.answer\n",
    "        }"
   ]
  },
  {
   "cell_type": "code",
   "execution_count": 25,
   "id": "9995c0d4",
   "metadata": {},
   "outputs": [
    {
     "data": {
      "text/plain": [
       "(153556, [])"
      ]
     },
     "execution_count": 25,
     "metadata": {},
     "output_type": "execute_result"
    }
   ],
   "source": [
    "bulk(es, generate_data())"
   ]
  },
  {
   "cell_type": "code",
   "execution_count": 26,
   "id": "146be785",
   "metadata": {},
   "outputs": [],
   "source": [
    "def generate_query(question):\n",
    "    return {\n",
    "        \"query\": {\n",
    "            \"match\": {\n",
    "                \"long_question\": {\n",
    "                    \"query\": question,\n",
    "                }\n",
    "            }\n",
    "        }\n",
    "    }\n",
    "    \n",
    "def find_answer(question, index=\"questions*\"):\n",
    "    body = generate_query(question)\n",
    "    res = es.search(index=index, body=body)\n",
    "    \n",
    "    return res['hits']['hits'][0]['_source']"
   ]
  },
  {
   "cell_type": "code",
   "execution_count": 27,
   "id": "e1d43263",
   "metadata": {
    "scrolled": false
   },
   "outputs": [
    {
     "name": "stdout",
     "output_type": "stream",
     "text": [
      "Miért fáj a lábam futás közben?\n",
      "Short question:\n",
      "Miért fáj a lábfejem futás közben\n",
      "\n",
      "Long question:\n",
      "Miért fáj a lábfejem futás közben Sziasztok Miért fáj a lábfejem és a talp alsó része futás közben Régen amikor nyáron rendszeresen fociztam akkor nem fájt De most elkezdődött az iskola és testnevelés órán sokat futunk Sétáláskor nem fáj csak ha futáskor és a futás után Miért fáj Miért van ez Lúdtalpam nincs Várom a válaszokat Előre is köszönöm a segítséget\n",
      "\n",
      "Answer:\n",
      "Nekem volt a lábfejemben szalaghúzódásom, de az álláskor is fájt, bár ha ültem, akkor bármit tehettem vele, nem éreztem semmit.\n"
     ]
    }
   ],
   "source": [
    "question = input()\n",
    "\n",
    "result = find_answer(question)\n",
    "\n",
    "print(f\"Short question:\\n{result['short_question']}\")\n",
    "print()\n",
    "print(f\"Long question:\\n{result['long_question']}\")\n",
    "print()\n",
    "print(f\"Answer:\\n{result['answer']}\")"
   ]
  },
  {
   "cell_type": "markdown",
   "id": "e38adbc2",
   "metadata": {},
   "source": [
    "-------------------------------------------------------------------------------------\n",
    "-------------------------------------------------------------------------------------"
   ]
  },
  {
   "cell_type": "code",
   "execution_count": 28,
   "id": "083044e5",
   "metadata": {},
   "outputs": [],
   "source": [
    "index_file = \"index.json\"\n",
    "batch_size = 1000"
   ]
  },
  {
   "cell_type": "code",
   "execution_count": 29,
   "id": "46ae2c7d",
   "metadata": {},
   "outputs": [
    {
     "data": {
      "text/html": [
       "<div>\n",
       "<style scoped>\n",
       "    .dataframe tbody tr th:only-of-type {\n",
       "        vertical-align: middle;\n",
       "    }\n",
       "\n",
       "    .dataframe tbody tr th {\n",
       "        vertical-align: top;\n",
       "    }\n",
       "\n",
       "    .dataframe thead th {\n",
       "        text-align: right;\n",
       "    }\n",
       "</style>\n",
       "<table border=\"1\" class=\"dataframe\">\n",
       "  <thead>\n",
       "    <tr style=\"text-align: right;\">\n",
       "      <th></th>\n",
       "      <th>short_question</th>\n",
       "      <th>long_question</th>\n",
       "      <th>answer</th>\n",
       "      <th>_index</th>\n",
       "    </tr>\n",
       "  </thead>\n",
       "  <tbody>\n",
       "    <tr>\n",
       "      <th>0</th>\n",
       "      <td>Vállsérülés gyógytorna</td>\n",
       "      <td>Vállsérülés gyógytorna Az lenne a kérdésem hog...</td>\n",
       "      <td>edzeni kénealapjába véve mindent váll, hát, tr...</td>\n",
       "      <td>questions_egeszseg</td>\n",
       "    </tr>\n",
       "    <tr>\n",
       "      <th>1</th>\n",
       "      <td>Heti hányszor dehidtratáljam a szervezetemet c...</td>\n",
       "      <td>Heti hányszor dehidtratáljam a szervezetemet c...</td>\n",
       "      <td>Nem értem miért akarod magad dehidratálni, nem...</td>\n",
       "      <td>questions_egeszseg</td>\n",
       "    </tr>\n",
       "    <tr>\n",
       "      <th>2</th>\n",
       "      <td>A Doctor Who ban ki a vörös hajú lány</td>\n",
       "      <td>A Doctor Who ban ki a vörös hajú lány</td>\n",
       "      <td>Vagy Amy Pond vagy Donna Noble</td>\n",
       "      <td>questions_szorakozas</td>\n",
       "    </tr>\n",
       "    <tr>\n",
       "      <th>3</th>\n",
       "      <td>Vettem 2 törpenyuszit a szobamba 4 5 honapja d...</td>\n",
       "      <td>Vettem 2 törpenyuszit a szobamba 4 5 honapja d...</td>\n",
       "      <td>Egy törpenyuszihoz nagyon sok türelem kell. Pr...</td>\n",
       "      <td>questions_allatok</td>\n",
       "    </tr>\n",
       "    <tr>\n",
       "      <th>4</th>\n",
       "      <td>Fityma szűkületem van</td>\n",
       "      <td>Fityma szűkületem van 15 éves fiú vagyok és mi...</td>\n",
       "      <td>Valószínű. Esetleg még a fitymaféked lehet röv...</td>\n",
       "      <td>questions_egeszseg</td>\n",
       "    </tr>\n",
       "  </tbody>\n",
       "</table>\n",
       "</div>"
      ],
      "text/plain": [
       "                                      short_question  \\\n",
       "0                             Vállsérülés gyógytorna   \n",
       "1  Heti hányszor dehidtratáljam a szervezetemet c...   \n",
       "2              A Doctor Who ban ki a vörös hajú lány   \n",
       "3  Vettem 2 törpenyuszit a szobamba 4 5 honapja d...   \n",
       "4                              Fityma szűkületem van   \n",
       "\n",
       "                                       long_question  \\\n",
       "0  Vállsérülés gyógytorna Az lenne a kérdésem hog...   \n",
       "1  Heti hányszor dehidtratáljam a szervezetemet c...   \n",
       "2              A Doctor Who ban ki a vörös hajú lány   \n",
       "3  Vettem 2 törpenyuszit a szobamba 4 5 honapja d...   \n",
       "4  Fityma szűkületem van 15 éves fiú vagyok és mi...   \n",
       "\n",
       "                                              answer                _index  \n",
       "0  edzeni kénealapjába véve mindent váll, hát, tr...    questions_egeszseg  \n",
       "1  Nem értem miért akarod magad dehidratálni, nem...    questions_egeszseg  \n",
       "2                     Vagy Amy Pond vagy Donna Noble  questions_szorakozas  \n",
       "3  Egy törpenyuszihoz nagyon sok türelem kell. Pr...     questions_allatok  \n",
       "4  Valószínű. Esetleg még a fitymaféked lehet röv...    questions_egeszseg  "
      ]
     },
     "execution_count": 29,
     "metadata": {},
     "output_type": "execute_result"
    }
   ],
   "source": [
    "df.head()"
   ]
  },
  {
   "cell_type": "code",
   "execution_count": 32,
   "id": "ff51ecac",
   "metadata": {},
   "outputs": [],
   "source": [
    "nlp = hu_core_ud_lg.load()"
   ]
  },
  {
   "cell_type": "code",
   "execution_count": 33,
   "id": "7d7ed712",
   "metadata": {},
   "outputs": [
    {
     "data": {
      "text/plain": [
       "['lenni', 'nagyon', 'kell', 'össze', 'pedig']"
      ]
     },
     "execution_count": 33,
     "metadata": {},
     "output_type": "execute_result"
    }
   ],
   "source": [
    "nltk.download('stopwords', quiet=True)\n",
    "stop_words = set(stopwords.words('hungarian'))\n",
    "\n",
    "list(stop_words)[:5]"
   ]
  },
  {
   "cell_type": "code",
   "execution_count": 34,
   "id": "9fa74a02",
   "metadata": {},
   "outputs": [],
   "source": [
    "def filter_stopwords(text):\n",
    "    return \" \". join([w for w in text if not w in stop_words])"
   ]
  },
  {
   "cell_type": "code",
   "execution_count": 35,
   "id": "051c1a26",
   "metadata": {},
   "outputs": [],
   "source": [
    "def embed(sentence):\n",
    "    docs = nlp(sentence)  \n",
    "    avg = sum([doc.vector for doc in docs]) / len(docs)\n",
    "    return avg"
   ]
  },
  {
   "cell_type": "code",
   "execution_count": 36,
   "id": "db5a05d1",
   "metadata": {},
   "outputs": [],
   "source": [
    "def embed_docs(docs):\n",
    "    return [embed(filter_stopwords(doc)) for doc in docs]"
   ]
  },
  {
   "cell_type": "code",
   "execution_count": 39,
   "id": "01d34c06",
   "metadata": {},
   "outputs": [
    {
     "data": {
      "text/plain": [
       "['questions_egeszseg',\n",
       " 'questions_szorakozas',\n",
       " 'questions_allatok',\n",
       " 'questions_szamitastechnika']"
      ]
     },
     "execution_count": 39,
     "metadata": {},
     "output_type": "execute_result"
    }
   ],
   "source": [
    "index_names = df['_index'].unique().tolist()\n",
    "index_names"
   ]
  },
  {
   "cell_type": "code",
   "execution_count": 52,
   "id": "e56efbf1",
   "metadata": {},
   "outputs": [
    {
     "name": "stdout",
     "output_type": "stream",
     "text": [
      "Deleting index 'questions_allatok'\n",
      "Deleting index 'questions_egeszseg'\n",
      "Deleting index 'questions_szamitastechnika'\n",
      "Deleting index 'questions_szorakozas'\n"
     ]
    }
   ],
   "source": [
    "delete_indices()"
   ]
  },
  {
   "cell_type": "code",
   "execution_count": 53,
   "id": "d5cba68c",
   "metadata": {},
   "outputs": [
    {
     "name": "stdout",
     "output_type": "stream",
     "text": [
      "Creating index 'questions_egeszseg'\n",
      "Creating index 'questions_szorakozas'\n",
      "Creating index 'questions_allatok'\n",
      "Creating index 'questions_szamitastechnika'\n"
     ]
    }
   ],
   "source": [
    "with open(index_file) as index:\n",
    "    source = index.read().strip()\n",
    "    \n",
    "    for index_name in index_names:\n",
    "        print(f\"Creating index '{index_name}'\")\n",
    "        es.indices.create(index=index_name, body=source)"
   ]
  },
  {
   "cell_type": "code",
   "execution_count": 54,
   "id": "f0cf33a0",
   "metadata": {},
   "outputs": [],
   "source": [
    "def index_batch(docs):\n",
    "    short_questions = [doc[\"short_question\"] for doc in docs]\n",
    "    short_questions_vectors = embed_docs(short_questions)\n",
    "\n",
    "    requests = []\n",
    "    \n",
    "    for i, doc, in enumerate(docs):\n",
    "        request = doc\n",
    "        request[\"_op_type\"] = \"index\"\n",
    "        request[\"short_question_vector\"] = short_questions_vectors[i]\n",
    "        requests.append(request)\n",
    "    bulk(es, requests)"
   ]
  },
  {
   "cell_type": "code",
   "execution_count": 55,
   "id": "ad8a50d4",
   "metadata": {},
   "outputs": [],
   "source": [
    "def index_data(df):\n",
    "    num_of_batches = df.shape[0] // batch_size\n",
    "    \n",
    "    if df.shape[0] % batch_size != 0:\n",
    "        num_of_batches += 1\n",
    "\n",
    "    progress_bar = tqdm(desc=f\"Indexing batches\", total=num_of_batches, leave=True)\n",
    "        \n",
    "    for i in range(num_of_batches):\n",
    "        batch = df[i * batch_size : (i + 1) * batch_size]\n",
    "        batch_as_dict = batch.apply(lambda row: row.to_dict(), axis = 1).tolist()\n",
    "\n",
    "        index_batch(batch_as_dict)\n",
    "        \n",
    "        progress_bar.update()\n",
    "        progress_bar.refresh()"
   ]
  },
  {
   "cell_type": "code",
   "execution_count": 56,
   "id": "5788683a",
   "metadata": {},
   "outputs": [
    {
     "data": {
      "application/vnd.jupyter.widget-view+json": {
       "model_id": "6431329e66d8449b9a8d6a17e3dbc69f",
       "version_major": 2,
       "version_minor": 0
      },
      "text/plain": [
       "Indexing batches:   0%|          | 0/154 [00:00<?, ?it/s]"
      ]
     },
     "metadata": {},
     "output_type": "display_data"
    }
   ],
   "source": [
    "index_data(df)"
   ]
  },
  {
   "cell_type": "code",
   "execution_count": 57,
   "id": "d62a9c15",
   "metadata": {},
   "outputs": [],
   "source": [
    "script_query = {\n",
    "    \"script_score\": {\n",
    "        \"query\": {\"match_all\": {}},\n",
    "        \"script\": {\n",
    "            \"source\": \"cosineSimilarity(params.query_vector, 'short_question_vector') + 1.0\",\n",
    "            \"params\": {\"query_vector\": embed(filter_stopwords(question))}\n",
    "        }\n",
    "    }\n",
    "}\n",
    "\n",
    "\n",
    "response = es.search(\n",
    "    index='questions*',\n",
    "    body={\n",
    "        \"size\": 10,\n",
    "        \"query\": script_query\n",
    "    }\n",
    ")"
   ]
  },
  {
   "cell_type": "code",
   "execution_count": 58,
   "id": "9a2fd142",
   "metadata": {},
   "outputs": [
    {
     "name": "stdout",
     "output_type": "stream",
     "text": [
      "id: bH2OMoABX4M0dKrGwsk1, score: 1.9935963\n",
      "Miért fáj a lábfejem futás közben\n",
      "Nekem volt a lábfejemben szalaghúzódásom, de az álláskor is fájt, bár ha ültem, akkor bármit tehettem vele, nem éreztem semmit.\n",
      "\n",
      "id: SH2PMoABX4M0dKrGRdnx, score: 1.9854285\n",
      "Miért akar a kutyám inkább az óljában aludni és nem a fűtött szobában\n",
      "Kellő mennyiségű aljszőrzetet növesztett és nem fázik kint. Nincs mit tenned, ha ő jól érzi kint magát, akkor nyugodtan hagyjátok. legyen meg a lehetősége, hogy bemenjen, ha akar, de ha nem akar, akkor békén kell hagyni.\n",
      "\n",
      "id: U36SMoABX4M0dKrG9ksN, score: 1.9847063\n",
      "Maszturbálás közben miért fáj a fejem 20f\n",
      "Rossz keringésre utal. Nekem csak nagyon másnaposan szokott lenni. (ami nyilván megmagyarázza)\n",
      "\n",
      "id: n36VMoABX4M0dKrGwaFK, score: 1.9834182\n",
      "Menstruáció első két napján furcsa fájdalomszerű érzés lábakban mitől\n",
      "Nekem is minden alkalommal ilyen szokott lenni.Olyan érzés, mintha nem.jutna oda elég vér.Igen, azt mondta a nődoki is, keringési probléma, és lassabban termeli vissza a szervezetem a menstruáció által elvesztett vért.\n",
      "\n",
      "id: vX6UMoABX4M0dKrGvYG5, score: 1.9831629\n",
      "Miért van a bajszán túl hátrébb a kis pofáján a macskámnak két két bajsza pluszban\n",
      "Szerintem mindegyik macskának van, sőt, kutyáknak is csak nekik nem olyan nagy, ahogy az orrukon lévő se. Ugyanaz a funkciója mint a rendes bajusznak, érzékel vele. Egyébként a szemük felett a \"szemöldökük\" környékén is egy helyről vannak bajuszszálak ugyanezzel a funkcióval. Amikor a cica bebújik valami szűkebb helyre ezekkel kiválóan érzékel.\n",
      "\n",
      "id: UX-gMoABX4M0dKrGaudK, score: 1.9828591\n",
      "Maszturbáció után néha miért kezd el fájni égni\n",
      "Menj el orvoshoz hátha tud mondani valami okosat\n",
      "\n",
      "id: jX6UMoABX4M0dKrGvYG5, score: 1.9822266\n",
      "Miért fájnak a kutyám lábai\n",
      "Vidd már orvoshozte idióta!!\n",
      "\n",
      "id: J3-bMoABX4M0dKrGWk5J, score: 1.9821315\n",
      "Mit csináljak ha rágó ragadt a kutyám szőrébe\n",
      "Ne ne ess neki ollóval. Egy amstaffos csopirtba volt pont tegnap előtt egy ilyen eset. Ott az kapta tanácsul a srác, hogy jéggel hűtés le és úgy ki tudja szedni mert megdermed vagy az olaj illetve a seb benzin is oldja a ragot. Múltkor pont olyan videót láttam hogy kókusz olajjal jól körbe kentek a szőrét a kutyának és egy fesuvel kitudtak fesulni  belőle. Az olló legyen az utolsó.\n",
      "\n",
      "id: _H-gMoABX4M0dKrG7vg7, score: 1.9819692\n",
      "Miért rágcsálja a macskám a szobanövényeket\n",
      "A biológia órán azt tanultam, hogy az emésztéshez könnyítéséhez szükségesek a növényekben megtalálható rostok és tápanyagok. Hús, állati fehérje nem rendelkezik növényi rosttal.Ezen kívül tájékozódtam az állatokról, mielőtt örökbe fogadtam őket.\n",
      "\n",
      "id: _3-eMoABX4M0dKrGIqF8, score: 1.9818778\n",
      "Mit csináljak amikor rágyujtanék leszokás fázisában\n",
      "Rágózz, egyél valami zöldség/gyümölcsdarabkát, igyál édesítetlen teát, kezdj el énekelni - lényeg, hogy a szád el legyen foglalva:) Viszont csak olyasmit egyél - ha eszel -, ami nem sok kalóriát tartalmaz, mert különben elhízol.\n",
      "\n"
     ]
    }
   ],
   "source": [
    "for hit in response[\"hits\"][\"hits\"]:\n",
    "    print(\"id: {}, score: {}\".format(hit[\"_id\"], hit[\"_score\"]))\n",
    "    print(hit[\"_source\"][\"short_question\"])\n",
    "    print(hit[\"_source\"][\"answer\"])\n",
    "    print()"
   ]
  }
 ],
 "metadata": {
  "kernelspec": {
   "display_name": "Python 3 (ipykernel)",
   "language": "python",
   "name": "python3"
  },
  "language_info": {
   "codemirror_mode": {
    "name": "ipython",
    "version": 3
   },
   "file_extension": ".py",
   "mimetype": "text/x-python",
   "name": "python",
   "nbconvert_exporter": "python",
   "pygments_lexer": "ipython3",
   "version": "3.9.7"
  }
 },
 "nbformat": 4,
 "nbformat_minor": 5
}
