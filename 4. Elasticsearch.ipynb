{
 "cells": [
  {
   "cell_type": "code",
   "execution_count": 1,
   "id": "941b4096",
   "metadata": {},
   "outputs": [
    {
     "name": "stderr",
     "output_type": "stream",
     "text": [
      "C:\\Users\\User\\anaconda3\\lib\\site-packages\\spacy\\util.py:275: UserWarning: [W031] Model 'hu_core_ud_lg' (0.3.1) requires spaCy v2.1 and is incompatible with the current spaCy version (2.3.7). This may lead to unexpected results or runtime errors. To resolve this, download a newer compatible model or retrain your custom model with the current spaCy version. For more details and available updates, run: python -m spacy validate\n",
      "  warnings.warn(warn_msg)\n"
     ]
    }
   ],
   "source": [
    "import csv\n",
    "import random\n",
    "import unidecode\n",
    "import warnings\n",
    "\n",
    "import pandas as pd\n",
    "import numpy as np\n",
    "\n",
    "import hu_core_ud_lg\n",
    "\n",
    "import nltk\n",
    "from nltk.corpus import stopwords\n",
    "\n",
    "from elasticsearch import Elasticsearch, helpers\n",
    "from elasticsearch_dsl import Search, Q\n",
    "from elasticsearch.helpers import bulk\n",
    "from elasticsearch.exceptions import ElasticsearchWarning\n",
    "\n",
    "from tqdm.notebook import tqdm"
   ]
  },
  {
   "cell_type": "code",
   "execution_count": 2,
   "id": "debeb32d",
   "metadata": {},
   "outputs": [],
   "source": [
    "es = Elasticsearch(\"http://localhost:9200\")"
   ]
  },
  {
   "cell_type": "code",
   "execution_count": 3,
   "id": "52dffa21",
   "metadata": {},
   "outputs": [],
   "source": [
    "faq_csv = \".data/faq_with_splits_tokenized.csv\""
   ]
  },
  {
   "cell_type": "code",
   "execution_count": 4,
   "id": "5651a122",
   "metadata": {},
   "outputs": [],
   "source": [
    "df = pd.read_csv(faq_csv)"
   ]
  },
  {
   "cell_type": "code",
   "execution_count": 5,
   "id": "be06f0a7",
   "metadata": {},
   "outputs": [
    {
     "data": {
      "text/html": [
       "<div>\n",
       "<style scoped>\n",
       "    .dataframe tbody tr th:only-of-type {\n",
       "        vertical-align: middle;\n",
       "    }\n",
       "\n",
       "    .dataframe tbody tr th {\n",
       "        vertical-align: top;\n",
       "    }\n",
       "\n",
       "    .dataframe thead th {\n",
       "        text-align: right;\n",
       "    }\n",
       "</style>\n",
       "<table border=\"1\" class=\"dataframe\">\n",
       "  <thead>\n",
       "    <tr style=\"text-align: right;\">\n",
       "      <th></th>\n",
       "      <th>short_question</th>\n",
       "      <th>long_question</th>\n",
       "      <th>answer</th>\n",
       "      <th>main_category</th>\n",
       "      <th>sub_category</th>\n",
       "      <th>split</th>\n",
       "    </tr>\n",
       "  </thead>\n",
       "  <tbody>\n",
       "    <tr>\n",
       "      <th>0</th>\n",
       "      <td>Vállsérülés gyógytorna</td>\n",
       "      <td>Vállsérülés gyógytorna Az lenne a kérdésem hog...</td>\n",
       "      <td>edzeni kénealapjába véve mindent váll, hát, tr...</td>\n",
       "      <td>Egészség</td>\n",
       "      <td>Sérülések, balesetek</td>\n",
       "      <td>train</td>\n",
       "    </tr>\n",
       "    <tr>\n",
       "      <th>1</th>\n",
       "      <td>Heti hányszor dehidtratáljam a szervezetemet c...</td>\n",
       "      <td>Heti hányszor dehidtratáljam a szervezetemet c...</td>\n",
       "      <td>Nem értem miért akarod magad dehidratálni, nem...</td>\n",
       "      <td>Egészség</td>\n",
       "      <td>Bio életmód</td>\n",
       "      <td>train</td>\n",
       "    </tr>\n",
       "    <tr>\n",
       "      <th>2</th>\n",
       "      <td>A Doctor Who ban ki a vörös hajú lány</td>\n",
       "      <td>A Doctor Who ban ki a vörös hajú lány</td>\n",
       "      <td>Vagy Amy Pond vagy Donna Noble</td>\n",
       "      <td>Szórakozás</td>\n",
       "      <td>Filmek, sorozatok</td>\n",
       "      <td>train</td>\n",
       "    </tr>\n",
       "    <tr>\n",
       "      <th>3</th>\n",
       "      <td>Vettem 2 törpenyuszit a szobamba 4 5 honapja d...</td>\n",
       "      <td>Vettem 2 törpenyuszit a szobamba 4 5 honapja d...</td>\n",
       "      <td>Egy törpenyuszihoz nagyon sok türelem kell. Pr...</td>\n",
       "      <td>Állatok</td>\n",
       "      <td>Kisemlősök</td>\n",
       "      <td>train</td>\n",
       "    </tr>\n",
       "    <tr>\n",
       "      <th>4</th>\n",
       "      <td>Fityma szűkületem van</td>\n",
       "      <td>Fityma szűkületem van 15 éves fiú vagyok és mi...</td>\n",
       "      <td>Valószínű. Esetleg még a fitymaféked lehet röv...</td>\n",
       "      <td>Egészség</td>\n",
       "      <td>Férfiak egészsége</td>\n",
       "      <td>train</td>\n",
       "    </tr>\n",
       "  </tbody>\n",
       "</table>\n",
       "</div>"
      ],
      "text/plain": [
       "                                      short_question  \\\n",
       "0                             Vállsérülés gyógytorna   \n",
       "1  Heti hányszor dehidtratáljam a szervezetemet c...   \n",
       "2              A Doctor Who ban ki a vörös hajú lány   \n",
       "3  Vettem 2 törpenyuszit a szobamba 4 5 honapja d...   \n",
       "4                              Fityma szűkületem van   \n",
       "\n",
       "                                       long_question  \\\n",
       "0  Vállsérülés gyógytorna Az lenne a kérdésem hog...   \n",
       "1  Heti hányszor dehidtratáljam a szervezetemet c...   \n",
       "2              A Doctor Who ban ki a vörös hajú lány   \n",
       "3  Vettem 2 törpenyuszit a szobamba 4 5 honapja d...   \n",
       "4  Fityma szűkületem van 15 éves fiú vagyok és mi...   \n",
       "\n",
       "                                              answer main_category  \\\n",
       "0  edzeni kénealapjába véve mindent váll, hát, tr...      Egészség   \n",
       "1  Nem értem miért akarod magad dehidratálni, nem...      Egészség   \n",
       "2                     Vagy Amy Pond vagy Donna Noble    Szórakozás   \n",
       "3  Egy törpenyuszihoz nagyon sok türelem kell. Pr...       Állatok   \n",
       "4  Valószínű. Esetleg még a fitymaféked lehet röv...      Egészség   \n",
       "\n",
       "           sub_category  split  \n",
       "0  Sérülések, balesetek  train  \n",
       "1           Bio életmód  train  \n",
       "2     Filmek, sorozatok  train  \n",
       "3            Kisemlősök  train  \n",
       "4     Férfiak egészsége  train  "
      ]
     },
     "execution_count": 5,
     "metadata": {},
     "output_type": "execute_result"
    }
   ],
   "source": [
    "df.head()"
   ]
  },
  {
   "cell_type": "code",
   "execution_count": 6,
   "id": "d9763e63",
   "metadata": {},
   "outputs": [],
   "source": [
    "warnings.simplefilter('ignore', ElasticsearchWarning)"
   ]
  },
  {
   "cell_type": "code",
   "execution_count": 7,
   "id": "411351e9",
   "metadata": {},
   "outputs": [],
   "source": [
    "def delete_indices():\n",
    "    indices = es.indices.get('questions*')\n",
    "\n",
    "    for index in indices:\n",
    "        print(f\"Deleting index '{index}'\")\n",
    "        es.indices.delete(index=index, ignore=[404])"
   ]
  },
  {
   "cell_type": "code",
   "execution_count": 8,
   "id": "abedba7b",
   "metadata": {},
   "outputs": [
    {
     "name": "stdout",
     "output_type": "stream",
     "text": [
      "Deleting index 'questions_allatok'\n",
      "Deleting index 'questions_egeszseg'\n",
      "Deleting index 'questions_szamitastechnika'\n",
      "Deleting index 'questions_szorakozas'\n"
     ]
    }
   ],
   "source": [
    "delete_indices()"
   ]
  },
  {
   "cell_type": "code",
   "execution_count": 9,
   "id": "707d16cd",
   "metadata": {},
   "outputs": [],
   "source": [
    "def generate_data():\n",
    "    \n",
    "    for index, row in df.iterrows():\n",
    "        yield {\n",
    "            \"_index\": \"questions_\" + unidecode.unidecode(row.main_category.lower()),\n",
    "            \"short_question\": row.short_question,\n",
    "            \"long_question\": row.long_question,\n",
    "            \"category\": row.main_category,\n",
    "            \"answer\": row.answer\n",
    "        }"
   ]
  },
  {
   "cell_type": "code",
   "execution_count": 10,
   "id": "9995c0d4",
   "metadata": {},
   "outputs": [],
   "source": [
    "_ = bulk(es, generate_data())"
   ]
  },
  {
   "cell_type": "code",
   "execution_count": 11,
   "id": "146be785",
   "metadata": {},
   "outputs": [],
   "source": [
    "def generate_query(question):\n",
    "    return {\n",
    "        \"query\": {\n",
    "            \"match\": {\n",
    "                \"long_question\": {\n",
    "                    \"query\": question,\n",
    "                }\n",
    "            }\n",
    "        }\n",
    "    }\n",
    "    \n",
    "def find_answer(question, index=\"questions*\"):\n",
    "    body = generate_query(question)\n",
    "    res = es.search(index=index, body=body)\n",
    "    \n",
    "    return res['hits']['hits'][0]['_source']"
   ]
  },
  {
   "cell_type": "code",
   "execution_count": 12,
   "id": "e1d43263",
   "metadata": {
    "scrolled": false
   },
   "outputs": [
    {
     "name": "stdout",
     "output_type": "stream",
     "text": [
      "Miért ilyen nehéz megtartani az életkedvem a BME-n?\n",
      "Short question:\n",
      "Miért van a BME GPK n igény olyan jellegű alpári rendezvényekre mint pl a Slip\n",
      "\n",
      "Long question:\n",
      "Miért van a BME GPK n igény olyan jellegű alpári rendezvényekre mint pl a Slip\n",
      "\n",
      "Answer:\n",
      "Két tippem van: vagy kármános vagy és idegesít a felhajtás, vagy simán savanyú a szőlő. Más egyebet nem tudok elképzelni, miért írtad ki ezt a kérdést. A választ ugyanis nyilván te is tudod: népes egyetemi kar rengeteg fiatallal, akik között elég sok bulizni vágyót találni, a te szemedben alpári igényekkel.\n"
     ]
    }
   ],
   "source": [
    "question = input()\n",
    "\n",
    "result = find_answer(question)\n",
    "\n",
    "print(f\"Short question:\\n{result['short_question']}\")\n",
    "print()\n",
    "print(f\"Long question:\\n{result['long_question']}\")\n",
    "print()\n",
    "print(f\"Answer:\\n{result['answer']}\")"
   ]
  },
  {
   "cell_type": "markdown",
   "id": "e38adbc2",
   "metadata": {},
   "source": [
    "-------------------------------------------------------------------------------------\n",
    "-------------------------------------------------------------------------------------"
   ]
  },
  {
   "cell_type": "code",
   "execution_count": 13,
   "id": "083044e5",
   "metadata": {},
   "outputs": [],
   "source": [
    "index_file = \"index.json\"\n",
    "batch_size = 1000"
   ]
  },
  {
   "cell_type": "code",
   "execution_count": 14,
   "id": "46ae2c7d",
   "metadata": {},
   "outputs": [
    {
     "data": {
      "text/html": [
       "<div>\n",
       "<style scoped>\n",
       "    .dataframe tbody tr th:only-of-type {\n",
       "        vertical-align: middle;\n",
       "    }\n",
       "\n",
       "    .dataframe tbody tr th {\n",
       "        vertical-align: top;\n",
       "    }\n",
       "\n",
       "    .dataframe thead th {\n",
       "        text-align: right;\n",
       "    }\n",
       "</style>\n",
       "<table border=\"1\" class=\"dataframe\">\n",
       "  <thead>\n",
       "    <tr style=\"text-align: right;\">\n",
       "      <th></th>\n",
       "      <th>short_question</th>\n",
       "      <th>long_question</th>\n",
       "      <th>answer</th>\n",
       "      <th>main_category</th>\n",
       "      <th>sub_category</th>\n",
       "      <th>split</th>\n",
       "    </tr>\n",
       "  </thead>\n",
       "  <tbody>\n",
       "    <tr>\n",
       "      <th>0</th>\n",
       "      <td>Vállsérülés gyógytorna</td>\n",
       "      <td>Vállsérülés gyógytorna Az lenne a kérdésem hog...</td>\n",
       "      <td>edzeni kénealapjába véve mindent váll, hát, tr...</td>\n",
       "      <td>Egészség</td>\n",
       "      <td>Sérülések, balesetek</td>\n",
       "      <td>train</td>\n",
       "    </tr>\n",
       "    <tr>\n",
       "      <th>1</th>\n",
       "      <td>Heti hányszor dehidtratáljam a szervezetemet c...</td>\n",
       "      <td>Heti hányszor dehidtratáljam a szervezetemet c...</td>\n",
       "      <td>Nem értem miért akarod magad dehidratálni, nem...</td>\n",
       "      <td>Egészség</td>\n",
       "      <td>Bio életmód</td>\n",
       "      <td>train</td>\n",
       "    </tr>\n",
       "    <tr>\n",
       "      <th>2</th>\n",
       "      <td>A Doctor Who ban ki a vörös hajú lány</td>\n",
       "      <td>A Doctor Who ban ki a vörös hajú lány</td>\n",
       "      <td>Vagy Amy Pond vagy Donna Noble</td>\n",
       "      <td>Szórakozás</td>\n",
       "      <td>Filmek, sorozatok</td>\n",
       "      <td>train</td>\n",
       "    </tr>\n",
       "    <tr>\n",
       "      <th>3</th>\n",
       "      <td>Vettem 2 törpenyuszit a szobamba 4 5 honapja d...</td>\n",
       "      <td>Vettem 2 törpenyuszit a szobamba 4 5 honapja d...</td>\n",
       "      <td>Egy törpenyuszihoz nagyon sok türelem kell. Pr...</td>\n",
       "      <td>Állatok</td>\n",
       "      <td>Kisemlősök</td>\n",
       "      <td>train</td>\n",
       "    </tr>\n",
       "    <tr>\n",
       "      <th>4</th>\n",
       "      <td>Fityma szűkületem van</td>\n",
       "      <td>Fityma szűkületem van 15 éves fiú vagyok és mi...</td>\n",
       "      <td>Valószínű. Esetleg még a fitymaféked lehet röv...</td>\n",
       "      <td>Egészség</td>\n",
       "      <td>Férfiak egészsége</td>\n",
       "      <td>train</td>\n",
       "    </tr>\n",
       "  </tbody>\n",
       "</table>\n",
       "</div>"
      ],
      "text/plain": [
       "                                      short_question  \\\n",
       "0                             Vállsérülés gyógytorna   \n",
       "1  Heti hányszor dehidtratáljam a szervezetemet c...   \n",
       "2              A Doctor Who ban ki a vörös hajú lány   \n",
       "3  Vettem 2 törpenyuszit a szobamba 4 5 honapja d...   \n",
       "4                              Fityma szűkületem van   \n",
       "\n",
       "                                       long_question  \\\n",
       "0  Vállsérülés gyógytorna Az lenne a kérdésem hog...   \n",
       "1  Heti hányszor dehidtratáljam a szervezetemet c...   \n",
       "2              A Doctor Who ban ki a vörös hajú lány   \n",
       "3  Vettem 2 törpenyuszit a szobamba 4 5 honapja d...   \n",
       "4  Fityma szűkületem van 15 éves fiú vagyok és mi...   \n",
       "\n",
       "                                              answer main_category  \\\n",
       "0  edzeni kénealapjába véve mindent váll, hát, tr...      Egészség   \n",
       "1  Nem értem miért akarod magad dehidratálni, nem...      Egészség   \n",
       "2                     Vagy Amy Pond vagy Donna Noble    Szórakozás   \n",
       "3  Egy törpenyuszihoz nagyon sok türelem kell. Pr...       Állatok   \n",
       "4  Valószínű. Esetleg még a fitymaféked lehet röv...      Egészség   \n",
       "\n",
       "           sub_category  split  \n",
       "0  Sérülések, balesetek  train  \n",
       "1           Bio életmód  train  \n",
       "2     Filmek, sorozatok  train  \n",
       "3            Kisemlősök  train  \n",
       "4     Férfiak egészsége  train  "
      ]
     },
     "execution_count": 14,
     "metadata": {},
     "output_type": "execute_result"
    }
   ],
   "source": [
    "df.head()"
   ]
  },
  {
   "cell_type": "code",
   "execution_count": 15,
   "id": "ff51ecac",
   "metadata": {},
   "outputs": [
    {
     "name": "stderr",
     "output_type": "stream",
     "text": [
      "C:\\Users\\User\\anaconda3\\lib\\site-packages\\spacy\\util.py:275: UserWarning: [W031] Model 'hu_core_ud_lg' (0.3.1) requires spaCy v2.1 and is incompatible with the current spaCy version (2.3.7). This may lead to unexpected results or runtime errors. To resolve this, download a newer compatible model or retrain your custom model with the current spaCy version. For more details and available updates, run: python -m spacy validate\n",
      "  warnings.warn(warn_msg)\n"
     ]
    }
   ],
   "source": [
    "nlp = hu_core_ud_lg.load()"
   ]
  },
  {
   "cell_type": "code",
   "execution_count": 16,
   "id": "7d7ed712",
   "metadata": {},
   "outputs": [
    {
     "data": {
      "text/plain": [
       "['alatt', 'ki', 'szinte', 'át', 'vissza']"
      ]
     },
     "execution_count": 16,
     "metadata": {},
     "output_type": "execute_result"
    }
   ],
   "source": [
    "nltk.download('stopwords', quiet=True)\n",
    "stop_words = set(stopwords.words('hungarian'))\n",
    "\n",
    "list(stop_words)[:5]"
   ]
  },
  {
   "cell_type": "code",
   "execution_count": 17,
   "id": "9fa74a02",
   "metadata": {},
   "outputs": [],
   "source": [
    "def filter_stopwords(text):\n",
    "    return \" \". join([w for w in text if not w in stop_words])"
   ]
  },
  {
   "cell_type": "code",
   "execution_count": 18,
   "id": "051c1a26",
   "metadata": {},
   "outputs": [],
   "source": [
    "def embed(sentence):\n",
    "    docs = nlp(sentence)  \n",
    "    avg = sum([doc.vector for doc in docs]) / len(docs)\n",
    "    return avg"
   ]
  },
  {
   "cell_type": "code",
   "execution_count": 19,
   "id": "db5a05d1",
   "metadata": {},
   "outputs": [],
   "source": [
    "def embed_docs(docs):\n",
    "    return [embed(filter_stopwords(doc)) for doc in docs]"
   ]
  },
  {
   "cell_type": "code",
   "execution_count": 20,
   "id": "01d34c06",
   "metadata": {},
   "outputs": [
    {
     "data": {
      "text/plain": [
       "['egeszseg', 'szorakozas', 'allatok', 'szamitastechnika']"
      ]
     },
     "execution_count": 20,
     "metadata": {},
     "output_type": "execute_result"
    }
   ],
   "source": [
    "mc = df.main_category.unique().tolist()\n",
    "main_categories = [unidecode.unidecode(c.lower()) for c in mc] \n",
    "main_categories"
   ]
  },
  {
   "cell_type": "code",
   "execution_count": 21,
   "id": "e56efbf1",
   "metadata": {},
   "outputs": [
    {
     "name": "stdout",
     "output_type": "stream",
     "text": [
      "Deleting index 'questions_allatok'\n",
      "Deleting index 'questions_egeszseg'\n",
      "Deleting index 'questions_szamitastechnika'\n",
      "Deleting index 'questions_szorakozas'\n"
     ]
    }
   ],
   "source": [
    "delete_indices()"
   ]
  },
  {
   "cell_type": "code",
   "execution_count": 22,
   "id": "d5cba68c",
   "metadata": {},
   "outputs": [
    {
     "name": "stdout",
     "output_type": "stream",
     "text": [
      "Creating index 'questions_egeszseg'\n",
      "Creating index 'questions_szorakozas'\n",
      "Creating index 'questions_allatok'\n",
      "Creating index 'questions_szamitastechnika'\n"
     ]
    }
   ],
   "source": [
    "with open(index_file) as index:\n",
    "    source = index.read().strip()\n",
    "    \n",
    "    for category in main_categories:\n",
    "        index_name = \"questions_\" + category\n",
    "        print(f\"Creating index '{index_name}'\")\n",
    "        es.indices.create(index=index_name, body=source)"
   ]
  },
  {
   "cell_type": "code",
   "execution_count": 23,
   "id": "f0cf33a0",
   "metadata": {},
   "outputs": [],
   "source": [
    "def index_batch(docs):\n",
    "    short_questions = [doc[\"short_question\"] for doc in docs]\n",
    "    short_questions_vectors = embed_docs(short_questions)\n",
    "\n",
    "    index_names = [\"questions_\" + unidecode.unidecode(doc[\"main_category\"].lower()) for doc in docs]\n",
    "\n",
    "    requests = []\n",
    "    \n",
    "    for i, doc, in enumerate(docs):\n",
    "        request = doc\n",
    "        request[\"_op_type\"] = \"index\"\n",
    "        request[\"_index\"] = index_names[i]\n",
    "        request[\"short_question_vector\"] = short_questions_vectors[i]\n",
    "        requests.append(request)\n",
    "    helpers.bulk(es, requests)"
   ]
  },
  {
   "cell_type": "code",
   "execution_count": 24,
   "id": "ad8a50d4",
   "metadata": {},
   "outputs": [],
   "source": [
    "def index_data(df):\n",
    "    num_of_batches = 10 #df.shape[0] // batch_size\n",
    "    \n",
    "    if df.shape[0] % batch_size != 0:\n",
    "        num_of_batches += 1\n",
    "\n",
    "    progress_bar = tqdm(desc=f\"Indexing batches\", total=num_of_batches, leave=True)\n",
    "        \n",
    "    for i in range(num_of_batches):\n",
    "        batch = df[i * batch_size : (i + 1) * batch_size]\n",
    "        batch_as_dict = batch.apply(lambda row: row.to_dict(), axis = 1).tolist()\n",
    "\n",
    "        index_batch(batch_as_dict)\n",
    "        \n",
    "        progress_bar.update()\n",
    "        progress_bar.refresh()"
   ]
  },
  {
   "cell_type": "code",
   "execution_count": 25,
   "id": "5788683a",
   "metadata": {},
   "outputs": [
    {
     "data": {
      "application/vnd.jupyter.widget-view+json": {
       "model_id": "cf258eebc64043449e096fc3fb539750",
       "version_major": 2,
       "version_minor": 0
      },
      "text/plain": [
       "Indexing batches:   0%|          | 0/11 [00:00<?, ?it/s]"
      ]
     },
     "metadata": {},
     "output_type": "display_data"
    }
   ],
   "source": [
    "index_data(df)"
   ]
  },
  {
   "cell_type": "code",
   "execution_count": 26,
   "id": "d62a9c15",
   "metadata": {},
   "outputs": [],
   "source": [
    "script_query = {\n",
    "    \"script_score\": {\n",
    "        \"query\": {\"match_all\": {}},\n",
    "        \"script\": {\n",
    "            \"source\": \"cosineSimilarity(params.query_vector, 'short_question_vector') + 1.0\",\n",
    "            \"params\": {\"query_vector\": embed(filter_stopwords(question))}\n",
    "        }\n",
    "    }\n",
    "}\n",
    "\n",
    "\n",
    "response = es.search(\n",
    "    index='questions*',\n",
    "    body={\n",
    "        \"size\": 10,\n",
    "        \"query\": script_query\n",
    "    }\n",
    ")"
   ]
  },
  {
   "cell_type": "code",
   "execution_count": 27,
   "id": "9a2fd142",
   "metadata": {},
   "outputs": [
    {
     "name": "stdout",
     "output_type": "stream",
     "text": [
      "id: uRSUFIABYO0TvOV9zBaK, score: 1.9856137\n",
      "Újra szeretném telepíteni a gépem és a boot menüben nem érzékeli a pendrive ot Ez miért van Mit lehet vele csinálni\n",
      "„Laptopom van”Kár volt vesződnöd ezzel a túl precíz típusmeghatározással, elég lett volna annyi, hogy „fekete”.\n",
      "\n",
      "id: HRSUFIABYO0TvOV9awuP, score: 1.9854136\n",
      "Milyen játékokat vinne el és mit érdemes rajta fejleszteni GTA V esetleg\n",
      "Kb a gt730 viszi full lowon 25-30fps-el.Ez meg ugy sem... Vegyel jobb procit meg egy gtx 750-et ha jatszani akarsz a Gta-val.Gt amugy sem jatekra valo.\n",
      "\n",
      "id: UhSUFIABYO0TvOV9agrT, score: 1.9852462\n",
      "Szent Johanna Gimi Fanok A második rész Együtt 2 felébe mi történt\n",
      "1. Elmész könyvtárba és kiveszed2. Megveszed.Választhatsz. De azt ne várd, hogy majd valaki elkezdi begépelni...\n",
      "\n",
      "id: DBSUFIABYO0TvOV9agrT, score: 1.984168\n",
      "Léteznek még ilyen tini magazinok mint pl Az IM es a bravo\n",
      "Kedves kérdést kiíró leányzó!Az én veled egykorú lányom a Joy-t, A Bravo Girl-t és az Instyle-t lapozgatja naphosszatt!Remélem még aktuális a kérdésed és tudtam segíteni.33/L\n",
      "\n",
      "id: XxSUFIABYO0TvOV97BsK, score: 1.9839867\n",
      "Miért nem lehetek olyan szép mint a többi lány\n",
      "Ha másokkal hasonlítgatod magas és rossz kedved lesz, akkor az is kiül az arcodra, ha elfogadnád magad és meglátnád magadon a szépet is, mert mindenkin van valami szép, akkor magabiztosabb leszel és a kisugárzásod is szebb lesz, mindjárt megszépülsz. Emeld ki magadon azt ami szép, és mosolyogj sokat, máris szebb lesz a világ.\n",
      "\n",
      "id: ExOTFIABYO0TvOV9x_nK, score: 1.9832859\n",
      "Szerintetek mennyire passzol Stohl András hangja Mark Hamill mostani kinézetéhez\n",
      "Régen is ö volt a hangja... jobb mint valaki új lenne :D\n",
      "\n",
      "id: IRSUFIABYO0TvOV9qxGH, score: 1.982999\n",
      "Egy ilyen fiatal és szép színésznő mint Emma Watson miért milyen indíttatásból lesz vérfeminista\n",
      "Azt csinál, amit akar. Ő úgy érzi még van min javítani a nők helyzetében (pl. a fizetés egységesítése), ezért aktívan részt vesz a reklámban. Egyébként az is nagy szó hogy elmegy ilyen előadásokra és ő maga is tart ilyeneket, mert a legtöbb színész sosem áll ki ilyen szinten egy téma mellett.\n",
      "\n",
      "id: NBSUFIABYO0TvOV9rBRB, score: 1.9829326\n",
      "Demcsák Zsuzsa miért ment be részegen műsort vezetni Miért nem szólt neki senki hogy nem kéne\n",
      "Az alkoholizmus ilyen...elég gáz, ha valakinél kialakul az alkoholizmus, de neki bónuszban még olyan melója is van, ahol egy egész ország élőben nézheti végig ezt a nagyon jellemző mélyrepülést. Másoknak is gáz a részegen munkahelyre beténfergés, de azok legalább megússzák az ilyen ziccereket egy aránylag szűk ismerősi körben. A megnyilvánulásaiból amúgy arra lehet következtetni, hogy finoman szólva is tagadásban él a betegségével kapcsolatban, fel sem fogja mi történik vele. Szomorú.\n",
      "\n",
      "id: ZhSUFIABYO0TvOV9yxbE, score: 1.9827746\n",
      "Miért tart ilyen sokáig a menzeszem\n",
      "nyugi, én tampon mellett (aminek semmi köze a menzeszed hosszához) 1,5 hétig menstruálok és már 37 vagyok...\n",
      "\n",
      "id: HhSUFIABYO0TvOV9KQSR, score: 1.9827462\n",
      "Mit csinálhatnék szegény hörimmel\n",
      "Azért te is megbeszélhetted volna anyáddal, hogy mit kaphat enni, főleg ha ennyire nem ért hozzá.\n",
      "\n"
     ]
    }
   ],
   "source": [
    "for hit in response[\"hits\"][\"hits\"]:\n",
    "    print(\"id: {}, score: {}\".format(hit[\"_id\"], hit[\"_score\"]))\n",
    "    print(hit[\"_source\"][\"short_question\"])\n",
    "    print(hit[\"_source\"][\"answer\"])\n",
    "    print()"
   ]
  }
 ],
 "metadata": {
  "kernelspec": {
   "display_name": "Python 3 (ipykernel)",
   "language": "python",
   "name": "python3"
  },
  "language_info": {
   "codemirror_mode": {
    "name": "ipython",
    "version": 3
   },
   "file_extension": ".py",
   "mimetype": "text/x-python",
   "name": "python",
   "nbconvert_exporter": "python",
   "pygments_lexer": "ipython3",
   "version": "3.9.7"
  }
 },
 "nbformat": 4,
 "nbformat_minor": 5
}
