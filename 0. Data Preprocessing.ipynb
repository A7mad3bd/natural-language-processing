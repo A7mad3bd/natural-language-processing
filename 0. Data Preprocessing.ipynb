{
 "cells": [
  {
   "cell_type": "code",
   "execution_count": 1,
   "id": "973b263d",
   "metadata": {},
   "outputs": [],
   "source": [
    "import collections\n",
    "import numpy as np\n",
    "import pandas as pd\n",
    "import re\n",
    "import glob\n",
    "import json\n",
    "\n",
    "from argparse import Namespace\n",
    "\n",
    "from torchtext.utils import download_from_url, extract_archive"
   ]
  },
  {
   "cell_type": "code",
   "execution_count": 2,
   "id": "31855148",
   "metadata": {},
   "outputs": [],
   "source": [
    "dataset_tar = download_from_url('https://drive.google.com/uc?id=1k7GfVRqrHFK00ABkit0oGQo62fCakMSZ', root='data/')\n",
    "extracted_files = extract_archive(dataset_tar)"
   ]
  },
  {
   "cell_type": "code",
   "execution_count": 3,
   "id": "8e76f5ee",
   "metadata": {},
   "outputs": [],
   "source": [
    "args = Namespace(\n",
    "    train_proportion=0.7,\n",
    "    val_proportion=0.15,\n",
    "    test_proportion=0.15,\n",
    "    output_munged_csv=\"data/faq_with_splits.csv\",\n",
    "    seed=1234,\n",
    "    min_questions_per_category=3000\n",
    ")"
   ]
  },
  {
   "cell_type": "code",
   "execution_count": 4,
   "id": "1c18f600",
   "metadata": {},
   "outputs": [],
   "source": [
    "def find_files(path):\n",
    "    return glob.glob(path)\n",
    "\n",
    "def read_json(filename):\n",
    "    with open(filename) as json_file:\n",
    "        data = json.load(json_file)\n",
    "    return data"
   ]
  },
  {
   "cell_type": "code",
   "execution_count": 5,
   "id": "92e921e4",
   "metadata": {},
   "outputs": [
    {
     "name": "stdout",
     "output_type": "stream",
     "text": [
      "Reading file: .data/gyakori_szamitastechnika\n",
      "Reading file: .data/gyakori_egeszseg\n",
      "Reading file: .data/gyakori_egeszseg_20000\n",
      "Reading file: .data/gyakori_allatok_14000\n",
      "Reading file: .data/gyakori_szorakozas_30000\n"
     ]
    }
   ],
   "source": [
    "json_data = []\n",
    "\n",
    "for file in find_files('.data/gyakori_*'):\n",
    "    print(\"Reading file:\", file)\n",
    "    json_data.append(read_json(file))\n",
    "    \n",
    "faq = pd.DataFrame()\n",
    "\n",
    "for data in json_data:\n",
    "    frames  = [faq, pd.DataFrame(data)]\n",
    "    faq = pd.concat(frames).reset_index(drop=True)"
   ]
  },
  {
   "cell_type": "code",
   "execution_count": 6,
   "id": "af7a4e4f",
   "metadata": {},
   "outputs": [
    {
     "data": {
      "text/html": [
       "<div>\n",
       "<style scoped>\n",
       "    .dataframe tbody tr th:only-of-type {\n",
       "        vertical-align: middle;\n",
       "    }\n",
       "\n",
       "    .dataframe tbody tr th {\n",
       "        vertical-align: top;\n",
       "    }\n",
       "\n",
       "    .dataframe thead th {\n",
       "        text-align: right;\n",
       "    }\n",
       "</style>\n",
       "<table border=\"1\" class=\"dataframe\">\n",
       "  <thead>\n",
       "    <tr style=\"text-align: right;\">\n",
       "      <th></th>\n",
       "      <th>answer</th>\n",
       "      <th>long_question</th>\n",
       "      <th>short_question</th>\n",
       "      <th>keywords</th>\n",
       "      <th>main_category</th>\n",
       "      <th>sub_category</th>\n",
       "    </tr>\n",
       "  </thead>\n",
       "  <tbody>\n",
       "    <tr>\n",
       "      <th>0</th>\n",
       "      <td>Várak régen is voltak. Ha mindhárom tornyot le...</td>\n",
       "      <td>Miért lett ilyen sz@r a honfoglaló? Régen tök ...</td>\n",
       "      <td>Miért lett ilyen sz@r a honfoglaló?</td>\n",
       "      <td>[Honfoglaló, vár]</td>\n",
       "      <td>Számítástechnika</td>\n",
       "      <td>Internet</td>\n",
       "    </tr>\n",
       "    <tr>\n",
       "      <th>1</th>\n",
       "      <td>Ahogy írták, az stdio az a C-s függvénykönyvtá...</td>\n",
       "      <td>C++-ban melyiket érdemesebb használni? Stdio v...</td>\n",
       "      <td>C++-ban melyiket érdemesebb használni? Stdio v...</td>\n",
       "      <td>[C++, iostream, konzol, Windows, Visual Studio]</td>\n",
       "      <td>Számítástechnika</td>\n",
       "      <td>Programozás</td>\n",
       "    </tr>\n",
       "    <tr>\n",
       "      <th>2</th>\n",
       "      <td>c++-ban olyat használsz, amilyet akarsz.</td>\n",
       "      <td>Lehet-e más programozási nyelvben megírt alapp...</td>\n",
       "      <td>Lehet-e más programozási nyelvben megírt alapp...</td>\n",
       "      <td>[Java, programozás, C++]</td>\n",
       "      <td>Számítástechnika</td>\n",
       "      <td>Programozás</td>\n",
       "    </tr>\n",
       "    <tr>\n",
       "      <th>3</th>\n",
       "      <td>Minden megfelel, amin fut az általad használni...</td>\n",
       "      <td>A 2016os Macbook Air megfelel egy programozást...</td>\n",
       "      <td>A 2016os Macbook Air megfelel egy programozást...</td>\n",
       "      <td>[MacBook Air, egyetem, programozás]</td>\n",
       "      <td>Számítástechnika</td>\n",
       "      <td>Hardverek</td>\n",
       "    </tr>\n",
       "    <tr>\n",
       "      <th>4</th>\n",
       "      <td>Felejtsd el,ennyiért nem kapni normálisat,vagy...</td>\n",
       "      <td>Mi a legjobb számítógépház? 10000ft körül lehe...</td>\n",
       "      <td>Mi a legjobb számítógépház?</td>\n",
       "      <td>[AMD, Intel, PC, Radeon, NVIDIA]</td>\n",
       "      <td>Számítástechnika</td>\n",
       "      <td>Hardverek</td>\n",
       "    </tr>\n",
       "  </tbody>\n",
       "</table>\n",
       "</div>"
      ],
      "text/plain": [
       "                                              answer  \\\n",
       "0  Várak régen is voltak. Ha mindhárom tornyot le...   \n",
       "1  Ahogy írták, az stdio az a C-s függvénykönyvtá...   \n",
       "2           c++-ban olyat használsz, amilyet akarsz.   \n",
       "3  Minden megfelel, amin fut az általad használni...   \n",
       "4  Felejtsd el,ennyiért nem kapni normálisat,vagy...   \n",
       "\n",
       "                                       long_question  \\\n",
       "0  Miért lett ilyen sz@r a honfoglaló? Régen tök ...   \n",
       "1  C++-ban melyiket érdemesebb használni? Stdio v...   \n",
       "2  Lehet-e más programozási nyelvben megírt alapp...   \n",
       "3  A 2016os Macbook Air megfelel egy programozást...   \n",
       "4  Mi a legjobb számítógépház? 10000ft körül lehe...   \n",
       "\n",
       "                                      short_question  \\\n",
       "0                Miért lett ilyen sz@r a honfoglaló?   \n",
       "1  C++-ban melyiket érdemesebb használni? Stdio v...   \n",
       "2  Lehet-e más programozási nyelvben megírt alapp...   \n",
       "3  A 2016os Macbook Air megfelel egy programozást...   \n",
       "4                        Mi a legjobb számítógépház?   \n",
       "\n",
       "                                          keywords     main_category  \\\n",
       "0                                [Honfoglaló, vár]  Számítástechnika   \n",
       "1  [C++, iostream, konzol, Windows, Visual Studio]  Számítástechnika   \n",
       "2                         [Java, programozás, C++]  Számítástechnika   \n",
       "3              [MacBook Air, egyetem, programozás]  Számítástechnika   \n",
       "4                 [AMD, Intel, PC, Radeon, NVIDIA]  Számítástechnika   \n",
       "\n",
       "  sub_category  \n",
       "0     Internet  \n",
       "1  Programozás  \n",
       "2  Programozás  \n",
       "3    Hardverek  \n",
       "4    Hardverek  "
      ]
     },
     "execution_count": 6,
     "metadata": {},
     "output_type": "execute_result"
    }
   ],
   "source": [
    "faq.rename(columns = {\n",
    "        \"valasz\": \"answer\",\n",
    "        \"kategoriak\": \"categories\",\n",
    "        \"hosszu_kerdes\": \"long_question\",\n",
    "        \"rovid_kerdes\": \"short_question\"\n",
    "    }, inplace = True)\n",
    "\n",
    "faq['main_category'] = faq.apply(lambda row: row.categories[0], axis = 1)\n",
    "faq['sub_category'] = faq.apply(lambda row: row.categories[1], axis = 1)\n",
    "\n",
    "faq.drop('categories', axis = 1, inplace = True)\n",
    "\n",
    "faq.head()"
   ]
  },
  {
   "cell_type": "code",
   "execution_count": 7,
   "id": "7412f58e",
   "metadata": {},
   "outputs": [
    {
     "name": "stdout",
     "output_type": "stream",
     "text": [
      "{'Egészség', 'Szórakozás', 'Számítástechnika', 'Gyerekvállalás, nevelés', 'Állatok'}\n"
     ]
    }
   ],
   "source": [
    "categories = set(faq.main_category)\n",
    "print(categories)"
   ]
  },
  {
   "cell_type": "code",
   "execution_count": 8,
   "id": "28dead07",
   "metadata": {},
   "outputs": [],
   "source": [
    "for category in categories:\n",
    "    category_size = faq[faq.main_category == category].shape[0]\n",
    "    if category_size < args.min_questions_per_category:\n",
    "        faq = faq[faq.main_category != category]"
   ]
  },
  {
   "cell_type": "code",
   "execution_count": 9,
   "id": "37c27560",
   "metadata": {},
   "outputs": [],
   "source": [
    "import unidecode\n",
    "def unicode_to_ascii(data):\n",
    "    return unidecode.unidecode(re.sub(r\"[,.;@#?!&$]+\\ *\", \" \", data).lower())"
   ]
  },
  {
   "cell_type": "code",
   "execution_count": 10,
   "id": "f617862b",
   "metadata": {},
   "outputs": [
    {
     "name": "stderr",
     "output_type": "stream",
     "text": [
      "/home/migeran/.local/lib/python3.8/site-packages/unidecode/__init__.py:131: RuntimeWarning: Surrogate character '\\ud83d' will be ignored. You might be using a narrow Python build.\n",
      "  repl = _get_repl_str(char)\n",
      "/home/migeran/.local/lib/python3.8/site-packages/unidecode/__init__.py:131: RuntimeWarning: Surrogate character '\\ude0f' will be ignored. You might be using a narrow Python build.\n",
      "  repl = _get_repl_str(char)\n"
     ]
    }
   ],
   "source": [
    "faq.long_question = faq.long_question.apply(lambda x: unicode_to_ascii(x))\n",
    "faq.short_question = faq.short_question.apply(lambda x: unicode_to_ascii(x))\n",
    "faq.answer = faq.answer.apply(lambda x: unicode_to_ascii(x))"
   ]
  },
  {
   "cell_type": "code",
   "execution_count": 11,
   "id": "c2ed4d9d",
   "metadata": {},
   "outputs": [],
   "source": [
    "by_main_category = collections.defaultdict(list)\n",
    "\n",
    "for _, row in faq.iterrows():\n",
    "    by_main_category[row.main_category].append(row.to_dict())"
   ]
  },
  {
   "cell_type": "code",
   "execution_count": 12,
   "id": "ef01938e",
   "metadata": {},
   "outputs": [],
   "source": [
    "final_list = []\n",
    "np.random.seed(args.seed)\n",
    "\n",
    "for _, item_list in sorted(by_main_category.items()):\n",
    "    np.random.shuffle(item_list)\n",
    "    n = len(item_list)\n",
    "    n_train = int(args.train_proportion * n)\n",
    "    n_val = int(args.val_proportion * n)\n",
    "    n_test = int(args.test_proportion * n)\n",
    "    \n",
    "    for item in item_list[:n_train]:\n",
    "        item['split'] = 'train'\n",
    "    for item in item_list[n_train:n_train+n_val]:\n",
    "        item['split'] = 'val'\n",
    "    for item in item_list[n_train+n_val:]:\n",
    "        item['split'] = 'test'  \n",
    "    \n",
    "    final_list.extend(item_list)"
   ]
  },
  {
   "cell_type": "code",
   "execution_count": 13,
   "id": "c97c839c",
   "metadata": {},
   "outputs": [],
   "source": [
    "final_faq = pd.DataFrame(final_list)"
   ]
  },
  {
   "cell_type": "code",
   "execution_count": 14,
   "id": "753c711a",
   "metadata": {},
   "outputs": [
    {
     "data": {
      "text/plain": [
       "train    117686\n",
       "test      25223\n",
       "val       25217\n",
       "Name: split, dtype: int64"
      ]
     },
     "execution_count": 14,
     "metadata": {},
     "output_type": "execute_result"
    }
   ],
   "source": [
    "final_faq.split.value_counts()"
   ]
  },
  {
   "cell_type": "code",
   "execution_count": 15,
   "id": "ed4f6db4",
   "metadata": {},
   "outputs": [
    {
     "data": {
      "text/html": [
       "<div>\n",
       "<style scoped>\n",
       "    .dataframe tbody tr th:only-of-type {\n",
       "        vertical-align: middle;\n",
       "    }\n",
       "\n",
       "    .dataframe tbody tr th {\n",
       "        vertical-align: top;\n",
       "    }\n",
       "\n",
       "    .dataframe thead th {\n",
       "        text-align: right;\n",
       "    }\n",
       "</style>\n",
       "<table border=\"1\" class=\"dataframe\">\n",
       "  <thead>\n",
       "    <tr style=\"text-align: right;\">\n",
       "      <th></th>\n",
       "      <th>answer</th>\n",
       "      <th>long_question</th>\n",
       "      <th>short_question</th>\n",
       "      <th>keywords</th>\n",
       "      <th>main_category</th>\n",
       "      <th>sub_category</th>\n",
       "      <th>split</th>\n",
       "    </tr>\n",
       "  </thead>\n",
       "  <tbody>\n",
       "    <tr>\n",
       "      <th>0</th>\n",
       "      <td>oreg 14 eves korom ota dolgozok hogy amit a cs...</td>\n",
       "      <td>irnatok nekem valami biztatot miutan par napja...</td>\n",
       "      <td>irnatok nekem valami biztatot</td>\n",
       "      <td>[depresszió, gödör, szerelem, bánat]</td>\n",
       "      <td>Egészség</td>\n",
       "      <td>Mentális egészség</td>\n",
       "      <td>train</td>\n",
       "    </tr>\n",
       "    <tr>\n",
       "      <th>1</th>\n",
       "      <td>2-esre ne hallgass segiteni fog az ad maskepp ...</td>\n",
       "      <td>vehetek be az antidepresszanssal egy idoben ny...</td>\n",
       "      <td>vehetek be az antidepresszanssal egy idoben ny...</td>\n",
       "      <td>[antidepresszáns, tea, nyugtató, gyógynövény]</td>\n",
       "      <td>Egészség</td>\n",
       "      <td>Mentális egészség</td>\n",
       "      <td>train</td>\n",
       "    </tr>\n",
       "    <tr>\n",
       "      <th>2</th>\n",
       "      <td>csak a hulyeseggel nem kell fekudni azt labon ...</td>\n",
       "      <td>azt halottam tudogyulladassal nem nagyon kell ...</td>\n",
       "      <td>azt halottam tudogyulladassal nem nagyon kell ...</td>\n",
       "      <td>[tüdőgyulladás, vesegyulladás]</td>\n",
       "      <td>Egészség</td>\n",
       "      <td>Betegségek</td>\n",
       "      <td>train</td>\n",
       "    </tr>\n",
       "    <tr>\n",
       "      <th>3</th>\n",
       "      <td>ignorald a kozossegek ilyenek kineznek valakit...</td>\n",
       "      <td>mit csinaljak ha szekal az osztalyom a miatt h...</td>\n",
       "      <td>mit csinaljak ha szekal az osztalyom a miatt h...</td>\n",
       "      <td>[szekálás, betegség, pajzsmirigy, hiányzás]</td>\n",
       "      <td>Egészség</td>\n",
       "      <td>Immunrendszer, fertőzések</td>\n",
       "      <td>train</td>\n",
       "    </tr>\n",
       "    <tr>\n",
       "      <th>4</th>\n",
       "      <td>kedves kerdezo eloszor is nem tudom hany eves ...</td>\n",
       "      <td>hirtelen nagyon eros lett a verzesem egyik per...</td>\n",
       "      <td>hirtelen nagyon eros lett a verzesem egyik per...</td>\n",
       "      <td>[vérzés, darabos, nőgyógyász]</td>\n",
       "      <td>Egészség</td>\n",
       "      <td>Nők egészsége</td>\n",
       "      <td>train</td>\n",
       "    </tr>\n",
       "  </tbody>\n",
       "</table>\n",
       "</div>"
      ],
      "text/plain": [
       "                                              answer  \\\n",
       "0  oreg 14 eves korom ota dolgozok hogy amit a cs...   \n",
       "1  2-esre ne hallgass segiteni fog az ad maskepp ...   \n",
       "2  csak a hulyeseggel nem kell fekudni azt labon ...   \n",
       "3  ignorald a kozossegek ilyenek kineznek valakit...   \n",
       "4  kedves kerdezo eloszor is nem tudom hany eves ...   \n",
       "\n",
       "                                       long_question  \\\n",
       "0  irnatok nekem valami biztatot miutan par napja...   \n",
       "1  vehetek be az antidepresszanssal egy idoben ny...   \n",
       "2  azt halottam tudogyulladassal nem nagyon kell ...   \n",
       "3  mit csinaljak ha szekal az osztalyom a miatt h...   \n",
       "4  hirtelen nagyon eros lett a verzesem egyik per...   \n",
       "\n",
       "                                      short_question  \\\n",
       "0                     irnatok nekem valami biztatot    \n",
       "1  vehetek be az antidepresszanssal egy idoben ny...   \n",
       "2  azt halottam tudogyulladassal nem nagyon kell ...   \n",
       "3  mit csinaljak ha szekal az osztalyom a miatt h...   \n",
       "4  hirtelen nagyon eros lett a verzesem egyik per...   \n",
       "\n",
       "                                        keywords main_category  \\\n",
       "0           [depresszió, gödör, szerelem, bánat]      Egészség   \n",
       "1  [antidepresszáns, tea, nyugtató, gyógynövény]      Egészség   \n",
       "2                 [tüdőgyulladás, vesegyulladás]      Egészség   \n",
       "3    [szekálás, betegség, pajzsmirigy, hiányzás]      Egészség   \n",
       "4                  [vérzés, darabos, nőgyógyász]      Egészség   \n",
       "\n",
       "                sub_category  split  \n",
       "0          Mentális egészség  train  \n",
       "1          Mentális egészség  train  \n",
       "2                 Betegségek  train  \n",
       "3  Immunrendszer, fertőzések  train  \n",
       "4              Nők egészsége  train  "
      ]
     },
     "execution_count": 15,
     "metadata": {},
     "output_type": "execute_result"
    }
   ],
   "source": [
    "final_faq.head()"
   ]
  },
  {
   "cell_type": "code",
   "execution_count": 16,
   "id": "14e6f4ab",
   "metadata": {},
   "outputs": [],
   "source": [
    "final_faq.to_csv(args.output_munged_csv, index=False)"
   ]
  }
 ],
 "metadata": {
  "kernelspec": {
   "display_name": "Python 3 (ipykernel)",
   "language": "python",
   "name": "python3"
  },
  "language_info": {
   "codemirror_mode": {
    "name": "ipython",
    "version": 3
   },
   "file_extension": ".py",
   "mimetype": "text/x-python",
   "name": "python",
   "nbconvert_exporter": "python",
   "pygments_lexer": "ipython3",
   "version": "3.8.10"
  }
 },
 "nbformat": 4,
 "nbformat_minor": 5
}
