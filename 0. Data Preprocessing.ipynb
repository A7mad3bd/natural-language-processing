{
 "cells": [
  {
   "cell_type": "code",
   "execution_count": 3,
   "id": "973b263d",
   "metadata": {},
   "outputs": [],
   "source": [
    "import collections\n",
    "import numpy as np\n",
    "import pandas as pd\n",
    "import re\n",
    "import glob\n",
    "import json\n",
    "\n",
    "%matplotlib inline\n",
    "import matplotlib.pyplot as plt\n",
    "\n",
    "from argparse import Namespace\n",
    "\n",
    "from torchtext.utils import download_from_url, extract_archive\n",
    "\n",
    "from wordcloud import WordCloud\n",
    "\n",
    "from collections import Counter"
   ]
  },
  {
   "cell_type": "markdown",
   "id": "b2775050",
   "metadata": {},
   "source": [
    "Download the data from the [here](https://drive.google.com/uc?id=1k7GfVRqrHFK00ABkit0oGQo62fCakMSZ).   \n",
    "\n",
    "Extract it to the folder called `.data`"
   ]
  },
  {
   "cell_type": "code",
   "execution_count": 4,
   "id": "8e76f5ee",
   "metadata": {},
   "outputs": [],
   "source": [
    "args = Namespace(\n",
    "    train_proportion=0.7,\n",
    "    val_proportion=0.15,\n",
    "    test_proportion=0.15,\n",
    "    output_processed_csv_prefix=\".data/faq_with_splits_\",\n",
    "    seed=1234,\n",
    "    min_questions_per_category=3000\n",
    ")"
   ]
  },
  {
   "cell_type": "code",
   "execution_count": 5,
   "id": "2318c418",
   "metadata": {},
   "outputs": [],
   "source": [
    "def find_files(path):\n",
    "    return glob.glob(path)\n",
    "\n",
    "def read_json(filename):\n",
    "    with open(filename, encoding='utf-8', errors='ignore') as json_file:\n",
    "        data = json.load(json_file)\n",
    "    return data"
   ]
  },
  {
   "cell_type": "code",
   "execution_count": 6,
   "id": "92e921e4",
   "metadata": {},
   "outputs": [
    {
     "name": "stdout",
     "output_type": "stream",
     "text": [
      "Reading file: .data\\gyakori_allatok_14000\n",
      "Reading file: .data\\gyakori_egeszseg\n",
      "Reading file: .data\\gyakori_egeszseg_20000\n",
      "Reading file: .data\\gyakori_szamitastechnika\n",
      "Reading file: .data\\gyakori_szorakozas_30000\n"
     ]
    }
   ],
   "source": [
    "frames = []\n",
    "\n",
    "for file in find_files('.data/gyakori_*'):\n",
    "    print(\"Reading file:\", file)\n",
    "    frames.append(pd.DataFrame(read_json(file)))\n",
    "    \n",
    "faq = pd.concat(frames).reset_index(drop=True)"
   ]
  },
  {
   "cell_type": "code",
   "execution_count": 7,
   "id": "991b84fa",
   "metadata": {},
   "outputs": [
    {
     "data": {
      "text/html": [
       "<div>\n",
       "<style scoped>\n",
       "    .dataframe tbody tr th:only-of-type {\n",
       "        vertical-align: middle;\n",
       "    }\n",
       "\n",
       "    .dataframe tbody tr th {\n",
       "        vertical-align: top;\n",
       "    }\n",
       "\n",
       "    .dataframe thead th {\n",
       "        text-align: right;\n",
       "    }\n",
       "</style>\n",
       "<table border=\"1\" class=\"dataframe\">\n",
       "  <thead>\n",
       "    <tr style=\"text-align: right;\">\n",
       "      <th></th>\n",
       "      <th>rovid_kerdes</th>\n",
       "      <th>hosszu_kerdes</th>\n",
       "      <th>valasz</th>\n",
       "      <th>kategoriak</th>\n",
       "      <th>keywords</th>\n",
       "    </tr>\n",
       "  </thead>\n",
       "  <tbody>\n",
       "    <tr>\n",
       "      <th>0</th>\n",
       "      <td>Nagy terület őrzésére milyen kutyát javasolnát...</td>\n",
       "      <td>Nagy terület őrzésére milyen kutyát javasolnát...</td>\n",
       "      <td>A komondor/kuvasz páros kimondottan ezekre a f...</td>\n",
       "      <td>[Állatok, Kutyák]</td>\n",
       "      <td>[kutya, őrkutya, aktív]</td>\n",
       "    </tr>\n",
       "    <tr>\n",
       "      <th>1</th>\n",
       "      <td>Az álllatorvosunkat alig lehet elérni. Ez szer...</td>\n",
       "      <td>Az álllatorvosunkat alig lehet elérni. Ez szer...</td>\n",
       "      <td>Keress másik orvost. Ennyi.</td>\n",
       "      <td>[Állatok, Egyéb kérdések]</td>\n",
       "      <td>[állatorvos, időpont]</td>\n",
       "    </tr>\n",
       "    <tr>\n",
       "      <th>2</th>\n",
       "      <td>Huskyval össze lehet szoktatni cicákat?</td>\n",
       "      <td>Huskyval össze lehet szoktatni cicákat? A cica...</td>\n",
       "      <td>Persze, hogy össze lehet.A kutyának az első pi...</td>\n",
       "      <td>[Állatok, Kutyák]</td>\n",
       "      <td>[husky, kutya, cica, összeszoktatás]</td>\n",
       "    </tr>\n",
       "    <tr>\n",
       "      <th>3</th>\n",
       "      <td>Jár a kutyám feje jobbra balra és a szeme is m...</td>\n",
       "      <td>Jár a kutyám feje jobbra balra és a szeme is m...</td>\n",
       "      <td>Akkor a fenti youtube video es az alatta levo ...</td>\n",
       "      <td>[Állatok, Kutyák]</td>\n",
       "      <td>[kutya, betegség, szem, állat, orvos]</td>\n",
       "    </tr>\n",
       "    <tr>\n",
       "      <th>4</th>\n",
       "      <td>Vadászok! Vennék egy vizslát hobbi célra de el...</td>\n",
       "      <td>Vadászok! Vennék egy vizslát hobbi célra de el...</td>\n",
       "      <td>Normál esetben egy jó idegrendszerű kutyát nem...</td>\n",
       "      <td>[Állatok, Kutyák]</td>\n",
       "      <td>[vadászat, vizsla, kutya, állat, vad, lövés, p...</td>\n",
       "    </tr>\n",
       "  </tbody>\n",
       "</table>\n",
       "</div>"
      ],
      "text/plain": [
       "                                        rovid_kerdes  \\\n",
       "0  Nagy terület őrzésére milyen kutyát javasolnát...   \n",
       "1  Az álllatorvosunkat alig lehet elérni. Ez szer...   \n",
       "2            Huskyval össze lehet szoktatni cicákat?   \n",
       "3  Jár a kutyám feje jobbra balra és a szeme is m...   \n",
       "4  Vadászok! Vennék egy vizslát hobbi célra de el...   \n",
       "\n",
       "                                       hosszu_kerdes  \\\n",
       "0  Nagy terület őrzésére milyen kutyát javasolnát...   \n",
       "1  Az álllatorvosunkat alig lehet elérni. Ez szer...   \n",
       "2  Huskyval össze lehet szoktatni cicákat? A cica...   \n",
       "3  Jár a kutyám feje jobbra balra és a szeme is m...   \n",
       "4  Vadászok! Vennék egy vizslát hobbi célra de el...   \n",
       "\n",
       "                                              valasz  \\\n",
       "0  A komondor/kuvasz páros kimondottan ezekre a f...   \n",
       "1                        Keress másik orvost. Ennyi.   \n",
       "2  Persze, hogy össze lehet.A kutyának az első pi...   \n",
       "3  Akkor a fenti youtube video es az alatta levo ...   \n",
       "4  Normál esetben egy jó idegrendszerű kutyát nem...   \n",
       "\n",
       "                  kategoriak  \\\n",
       "0          [Állatok, Kutyák]   \n",
       "1  [Állatok, Egyéb kérdések]   \n",
       "2          [Állatok, Kutyák]   \n",
       "3          [Állatok, Kutyák]   \n",
       "4          [Állatok, Kutyák]   \n",
       "\n",
       "                                            keywords  \n",
       "0                            [kutya, őrkutya, aktív]  \n",
       "1                              [állatorvos, időpont]  \n",
       "2               [husky, kutya, cica, összeszoktatás]  \n",
       "3              [kutya, betegség, szem, állat, orvos]  \n",
       "4  [vadászat, vizsla, kutya, állat, vad, lövés, p...  "
      ]
     },
     "execution_count": 7,
     "metadata": {},
     "output_type": "execute_result"
    }
   ],
   "source": [
    "faq.head()"
   ]
  },
  {
   "cell_type": "code",
   "execution_count": 8,
   "id": "3f6eb240",
   "metadata": {},
   "outputs": [],
   "source": [
    "faq.rename(columns = {\n",
    "        \"valasz\": \"answer\",\n",
    "        \"kategoriak\": \"categories\",\n",
    "        \"hosszu_kerdes\": \"long_question\",\n",
    "        \"rovid_kerdes\": \"short_question\"\n",
    "    }, inplace = True)"
   ]
  },
  {
   "cell_type": "code",
   "execution_count": 9,
   "id": "a73da927",
   "metadata": {},
   "outputs": [],
   "source": [
    "faq['main_category'] = faq.apply(lambda row: row.categories[0], axis = 1)\n",
    "faq['sub_category'] = faq.apply(lambda row: row.categories[1], axis = 1)"
   ]
  },
  {
   "cell_type": "code",
   "execution_count": 36,
   "id": "a10f9c30",
   "metadata": {},
   "outputs": [],
   "source": [
    "counter = Counter()\n",
    "cs_faq = faq[faq.main_category == \"Számítástechnika\"]\n",
    "_ = cs_faq.keywords.apply(lambda words: counter.update(words))"
   ]
  },
  {
   "cell_type": "code",
   "execution_count": 39,
   "id": "5fb1696f",
   "metadata": {},
   "outputs": [
    {
     "data": {
      "image/png": "[encoded data removed]",
      "text/plain": [
       "<Figure size 1152x360 with 1 Axes>"
      ]
     },
     "metadata": {
      "needs_background": "light"
     },
     "output_type": "display_data"
    }
   ],
   "source": [
    "wordcloud = WordCloud(background_color=\"white\", scale=5, colormap=\"plasma\")\n",
    "wordcloud.generate_from_frequencies(frequencies=counter)\n",
    "plt.figure(figsize=(16, 5))\n",
    "plt.imshow(wordcloud)\n",
    "plt.axis(\"off\")\n",
    "plt.show()"
   ]
  },
  {
   "cell_type": "code",
   "execution_count": 8,
   "id": "ae9f2668",
   "metadata": {},
   "outputs": [],
   "source": [
    "faq = faq.drop('keywords', axis = 1)\n",
    "faq = faq.drop('categories', axis = 1)"
   ]
  },
  {
   "cell_type": "code",
   "execution_count": 9,
   "id": "405094bf",
   "metadata": {},
   "outputs": [
    {
     "data": {
      "text/html": [
       "<div>\n",
       "<style scoped>\n",
       "    .dataframe tbody tr th:only-of-type {\n",
       "        vertical-align: middle;\n",
       "    }\n",
       "\n",
       "    .dataframe tbody tr th {\n",
       "        vertical-align: top;\n",
       "    }\n",
       "\n",
       "    .dataframe thead th {\n",
       "        text-align: right;\n",
       "    }\n",
       "</style>\n",
       "<table border=\"1\" class=\"dataframe\">\n",
       "  <thead>\n",
       "    <tr style=\"text-align: right;\">\n",
       "      <th></th>\n",
       "      <th>short_question</th>\n",
       "      <th>long_question</th>\n",
       "      <th>answer</th>\n",
       "      <th>main_category</th>\n",
       "      <th>sub_category</th>\n",
       "    </tr>\n",
       "  </thead>\n",
       "  <tbody>\n",
       "    <tr>\n",
       "      <th>0</th>\n",
       "      <td>Nagy terület őrzésére milyen kutyát javasolnát...</td>\n",
       "      <td>Nagy terület őrzésére milyen kutyát javasolnát...</td>\n",
       "      <td>A komondor/kuvasz páros kimondottan ezekre a f...</td>\n",
       "      <td>Állatok</td>\n",
       "      <td>Kutyák</td>\n",
       "    </tr>\n",
       "    <tr>\n",
       "      <th>1</th>\n",
       "      <td>Az álllatorvosunkat alig lehet elérni. Ez szer...</td>\n",
       "      <td>Az álllatorvosunkat alig lehet elérni. Ez szer...</td>\n",
       "      <td>Keress másik orvost. Ennyi.</td>\n",
       "      <td>Állatok</td>\n",
       "      <td>Egyéb kérdések</td>\n",
       "    </tr>\n",
       "    <tr>\n",
       "      <th>2</th>\n",
       "      <td>Huskyval össze lehet szoktatni cicákat?</td>\n",
       "      <td>Huskyval össze lehet szoktatni cicákat? A cica...</td>\n",
       "      <td>Persze, hogy össze lehet.A kutyának az első pi...</td>\n",
       "      <td>Állatok</td>\n",
       "      <td>Kutyák</td>\n",
       "    </tr>\n",
       "    <tr>\n",
       "      <th>3</th>\n",
       "      <td>Jár a kutyám feje jobbra balra és a szeme is m...</td>\n",
       "      <td>Jár a kutyám feje jobbra balra és a szeme is m...</td>\n",
       "      <td>Akkor a fenti youtube video es az alatta levo ...</td>\n",
       "      <td>Állatok</td>\n",
       "      <td>Kutyák</td>\n",
       "    </tr>\n",
       "    <tr>\n",
       "      <th>4</th>\n",
       "      <td>Vadászok! Vennék egy vizslát hobbi célra de el...</td>\n",
       "      <td>Vadászok! Vennék egy vizslát hobbi célra de el...</td>\n",
       "      <td>Normál esetben egy jó idegrendszerű kutyát nem...</td>\n",
       "      <td>Állatok</td>\n",
       "      <td>Kutyák</td>\n",
       "    </tr>\n",
       "  </tbody>\n",
       "</table>\n",
       "</div>"
      ],
      "text/plain": [
       "                                      short_question  \\\n",
       "0  Nagy terület őrzésére milyen kutyát javasolnát...   \n",
       "1  Az álllatorvosunkat alig lehet elérni. Ez szer...   \n",
       "2            Huskyval össze lehet szoktatni cicákat?   \n",
       "3  Jár a kutyám feje jobbra balra és a szeme is m...   \n",
       "4  Vadászok! Vennék egy vizslát hobbi célra de el...   \n",
       "\n",
       "                                       long_question  \\\n",
       "0  Nagy terület őrzésére milyen kutyát javasolnát...   \n",
       "1  Az álllatorvosunkat alig lehet elérni. Ez szer...   \n",
       "2  Huskyval össze lehet szoktatni cicákat? A cica...   \n",
       "3  Jár a kutyám feje jobbra balra és a szeme is m...   \n",
       "4  Vadászok! Vennék egy vizslát hobbi célra de el...   \n",
       "\n",
       "                                              answer main_category  \\\n",
       "0  A komondor/kuvasz páros kimondottan ezekre a f...       Állatok   \n",
       "1                        Keress másik orvost. Ennyi.       Állatok   \n",
       "2  Persze, hogy össze lehet.A kutyának az első pi...       Állatok   \n",
       "3  Akkor a fenti youtube video es az alatta levo ...       Állatok   \n",
       "4  Normál esetben egy jó idegrendszerű kutyát nem...       Állatok   \n",
       "\n",
       "     sub_category  \n",
       "0          Kutyák  \n",
       "1  Egyéb kérdések  \n",
       "2          Kutyák  \n",
       "3          Kutyák  \n",
       "4          Kutyák  "
      ]
     },
     "execution_count": 9,
     "metadata": {},
     "output_type": "execute_result"
    }
   ],
   "source": [
    "faq.head()"
   ]
  },
  {
   "cell_type": "code",
   "execution_count": 10,
   "id": "a4d3d42b",
   "metadata": {},
   "outputs": [
    {
     "data": {
      "text/html": [
       "<div>\n",
       "<style scoped>\n",
       "    .dataframe tbody tr th:only-of-type {\n",
       "        vertical-align: middle;\n",
       "    }\n",
       "\n",
       "    .dataframe tbody tr th {\n",
       "        vertical-align: top;\n",
       "    }\n",
       "\n",
       "    .dataframe thead th {\n",
       "        text-align: right;\n",
       "    }\n",
       "</style>\n",
       "<table border=\"1\" class=\"dataframe\">\n",
       "  <thead>\n",
       "    <tr style=\"text-align: right;\">\n",
       "      <th></th>\n",
       "      <th>short_question</th>\n",
       "      <th>long_question</th>\n",
       "      <th>answer</th>\n",
       "      <th>main_category</th>\n",
       "      <th>sub_category</th>\n",
       "    </tr>\n",
       "  </thead>\n",
       "  <tbody>\n",
       "    <tr>\n",
       "      <th>153117</th>\n",
       "      <td>Tényleg ez történik a Star Wars-ban?\\r\\n\\r\\nSP...</td>\n",
       "      <td>Tényleg ez történik a Star Wars-ban?\\r \\r SPOI...</td>\n",
       "      <td>Azert most mar jo ideje kint van a film, unnep...</td>\n",
       "      <td>Szórakozás</td>\n",
       "      <td>Filmek, sorozatok</td>\n",
       "    </tr>\n",
       "  </tbody>\n",
       "</table>\n",
       "</div>"
      ],
      "text/plain": [
       "                                           short_question  \\\n",
       "153117  Tényleg ez történik a Star Wars-ban?\\r\\n\\r\\nSP...   \n",
       "\n",
       "                                            long_question  \\\n",
       "153117  Tényleg ez történik a Star Wars-ban?\\r \\r SPOI...   \n",
       "\n",
       "                                                   answer main_category  \\\n",
       "153117  Azert most mar jo ideje kint van a film, unnep...    Szórakozás   \n",
       "\n",
       "             sub_category  \n",
       "153117  Filmek, sorozatok  "
      ]
     },
     "execution_count": 10,
     "metadata": {},
     "output_type": "execute_result"
    }
   ],
   "source": [
    "faq[faq.short_question.str.contains('\\r')]"
   ]
  },
  {
   "cell_type": "code",
   "execution_count": 11,
   "id": "0a7b5939",
   "metadata": {},
   "outputs": [],
   "source": [
    "def clear_escaped_characters(text):\n",
    "    text = text.replace('\\n', ' ')\n",
    "    return text.replace('\\r', ' ')"
   ]
  },
  {
   "cell_type": "code",
   "execution_count": 12,
   "id": "af7a4e4f",
   "metadata": {},
   "outputs": [],
   "source": [
    "faq.long_question = faq.long_question.apply(lambda x: clear_escaped_characters(x))\n",
    "faq.short_question = faq.short_question.apply(lambda x: clear_escaped_characters(x))\n",
    "faq.answer = faq.answer.apply(lambda x: clear_escaped_characters(x))"
   ]
  },
  {
   "cell_type": "code",
   "execution_count": 13,
   "id": "da47b29a",
   "metadata": {},
   "outputs": [],
   "source": [
    "faq = faq[~faq.long_question.str.contains('\\[link\\]') & ~faq.answer.str.contains('\\[link\\]')]"
   ]
  },
  {
   "cell_type": "code",
   "execution_count": 14,
   "id": "7412f58e",
   "metadata": {},
   "outputs": [
    {
     "name": "stdout",
     "output_type": "stream",
     "text": [
      "{'Egészség', 'Számítástechnika', 'Szórakozás', 'Állatok', 'Gyerekvállalás, nevelés'}\n"
     ]
    }
   ],
   "source": [
    "categories = set(faq.main_category)\n",
    "print(categories)"
   ]
  },
  {
   "cell_type": "code",
   "execution_count": 32,
   "id": "dcaf4840",
   "metadata": {},
   "outputs": [],
   "source": [
    "def number_of_questions_by_category():\n",
    "    fig, ax = plt.subplots(1, 2, figsize=(15, 5))\n",
    "\n",
    "    fig.suptitle('Number of questions per categories')\n",
    "\n",
    "    grouped_faq = faq.groupby(faq.main_category)\n",
    "    data_to_plot = grouped_faq.size().sort_values()\n",
    "\n",
    "    data_to_plot.plot(kind='pie', ax=ax[0], autopct='%1.1f%%')\n",
    "    data_to_plot.plot(kind='bar', ax=ax[1])\n",
    "\n",
    "    y_axis_0 = ax[0].axes.get_yaxis()\n",
    "    y_axis_0.set_visible(False)\n",
    "\n",
    "    ax[1].set_xlabel(\"\")\n",
    "    ax[1].bar_label(ax[1].containers[0])\n",
    "    \n",
    "    for tick in ax[1].get_xticklabels():\n",
    "        tick.set_rotation(0)\n",
    "\n",
    "    plt.show()"
   ]
  },
  {
   "cell_type": "code",
   "execution_count": 33,
   "id": "501a9ae8",
   "metadata": {},
   "outputs": [
    {
     "data": {
      "image/png": "[encoded data removed]",
      "text/plain": [
       "<Figure size 1080x360 with 2 Axes>"
      ]
     },
     "metadata": {
      "needs_background": "light"
     },
     "output_type": "display_data"
    }
   ],
   "source": [
    "number_of_questions_by_category()"
   ]
  },
  {
   "cell_type": "code",
   "execution_count": 34,
   "id": "28dead07",
   "metadata": {},
   "outputs": [],
   "source": [
    "for category in categories:\n",
    "    category_size = faq[faq.main_category == category].shape[0]\n",
    "    if category_size < args.min_questions_per_category:\n",
    "        faq = faq[faq.main_category != category]"
   ]
  },
  {
   "cell_type": "code",
   "execution_count": 35,
   "id": "bc62e87a",
   "metadata": {},
   "outputs": [
    {
     "data": {
      "image/png": "[encoded data removed]",
      "text/plain": [
       "<Figure size 1080x360 with 2 Axes>"
      ]
     },
     "metadata": {
      "needs_background": "light"
     },
     "output_type": "display_data"
    }
   ],
   "source": [
    "number_of_questions_by_category()"
   ]
  },
  {
   "cell_type": "code",
   "execution_count": 19,
   "id": "d822ce49",
   "metadata": {},
   "outputs": [],
   "source": [
    "faq = faq.reset_index(drop=True)"
   ]
  },
  {
   "cell_type": "code",
   "execution_count": 20,
   "id": "0aa2a191",
   "metadata": {},
   "outputs": [],
   "source": [
    "def add_splits(df):\n",
    "    categories = set(df.main_category)\n",
    "\n",
    "    for category in categories:\n",
    "        df_ctg = df[df.main_category == category]\n",
    "        df_ctg = df_ctg.sample(frac=1)\n",
    "        \n",
    "        n = df_ctg.shape[0]\n",
    "        n_train = int(args.train_proportion * n)\n",
    "        n_val = int(args.val_proportion * n)\n",
    "        n_test = int(args.test_proportion * n)\n",
    "\n",
    "        df.loc[df_ctg[:n_train].index.values, 'split'] = 'train'\n",
    "        df.loc[df_ctg[n_train:n_train+n_val].index.values, 'split'] = 'val'\n",
    "        df.loc[df_ctg[n_train+n_val:].index.values, 'split'] = 'test'\n",
    "                \n",
    "    return df"
   ]
  },
  {
   "cell_type": "code",
   "execution_count": 21,
   "id": "8d396403",
   "metadata": {},
   "outputs": [],
   "source": [
    "faq_with_splits = add_splits(faq)"
   ]
  },
  {
   "cell_type": "code",
   "execution_count": 22,
   "id": "01645121",
   "metadata": {},
   "outputs": [
    {
     "data": {
      "text/html": [
       "<div>\n",
       "<style scoped>\n",
       "    .dataframe tbody tr th:only-of-type {\n",
       "        vertical-align: middle;\n",
       "    }\n",
       "\n",
       "    .dataframe tbody tr th {\n",
       "        vertical-align: top;\n",
       "    }\n",
       "\n",
       "    .dataframe thead th {\n",
       "        text-align: right;\n",
       "    }\n",
       "</style>\n",
       "<table border=\"1\" class=\"dataframe\">\n",
       "  <thead>\n",
       "    <tr style=\"text-align: right;\">\n",
       "      <th></th>\n",
       "      <th>short_question</th>\n",
       "      <th>long_question</th>\n",
       "      <th>answer</th>\n",
       "      <th>main_category</th>\n",
       "      <th>sub_category</th>\n",
       "      <th>split</th>\n",
       "    </tr>\n",
       "  </thead>\n",
       "  <tbody>\n",
       "    <tr>\n",
       "      <th>0</th>\n",
       "      <td>Nagy terület őrzésére milyen kutyát javasolnát...</td>\n",
       "      <td>Nagy terület őrzésére milyen kutyát javasolnát...</td>\n",
       "      <td>A komondor/kuvasz páros kimondottan ezekre a f...</td>\n",
       "      <td>Állatok</td>\n",
       "      <td>Kutyák</td>\n",
       "      <td>train</td>\n",
       "    </tr>\n",
       "    <tr>\n",
       "      <th>1</th>\n",
       "      <td>Az álllatorvosunkat alig lehet elérni. Ez szer...</td>\n",
       "      <td>Az álllatorvosunkat alig lehet elérni. Ez szer...</td>\n",
       "      <td>Keress másik orvost. Ennyi.</td>\n",
       "      <td>Állatok</td>\n",
       "      <td>Egyéb kérdések</td>\n",
       "      <td>val</td>\n",
       "    </tr>\n",
       "    <tr>\n",
       "      <th>2</th>\n",
       "      <td>Huskyval össze lehet szoktatni cicákat?</td>\n",
       "      <td>Huskyval össze lehet szoktatni cicákat? A cica...</td>\n",
       "      <td>Persze, hogy össze lehet.A kutyának az első pi...</td>\n",
       "      <td>Állatok</td>\n",
       "      <td>Kutyák</td>\n",
       "      <td>train</td>\n",
       "    </tr>\n",
       "    <tr>\n",
       "      <th>3</th>\n",
       "      <td>Vadászok! Vennék egy vizslát hobbi célra de el...</td>\n",
       "      <td>Vadászok! Vennék egy vizslát hobbi célra de el...</td>\n",
       "      <td>Normál esetben egy jó idegrendszerű kutyát nem...</td>\n",
       "      <td>Állatok</td>\n",
       "      <td>Kutyák</td>\n",
       "      <td>train</td>\n",
       "    </tr>\n",
       "    <tr>\n",
       "      <th>4</th>\n",
       "      <td>Elszállásolhatok kutyát panellakásban néhány n...</td>\n",
       "      <td>Elszállásolhatok kutyát panellakásban néhány n...</td>\n",
       "      <td>Az a házirend rész érvénytelen, amiben ilyent ...</td>\n",
       "      <td>Állatok</td>\n",
       "      <td>Egyéb kérdések</td>\n",
       "      <td>train</td>\n",
       "    </tr>\n",
       "  </tbody>\n",
       "</table>\n",
       "</div>"
      ],
      "text/plain": [
       "                                      short_question  \\\n",
       "0  Nagy terület őrzésére milyen kutyát javasolnát...   \n",
       "1  Az álllatorvosunkat alig lehet elérni. Ez szer...   \n",
       "2            Huskyval össze lehet szoktatni cicákat?   \n",
       "3  Vadászok! Vennék egy vizslát hobbi célra de el...   \n",
       "4  Elszállásolhatok kutyát panellakásban néhány n...   \n",
       "\n",
       "                                       long_question  \\\n",
       "0  Nagy terület őrzésére milyen kutyát javasolnát...   \n",
       "1  Az álllatorvosunkat alig lehet elérni. Ez szer...   \n",
       "2  Huskyval össze lehet szoktatni cicákat? A cica...   \n",
       "3  Vadászok! Vennék egy vizslát hobbi célra de el...   \n",
       "4  Elszállásolhatok kutyát panellakásban néhány n...   \n",
       "\n",
       "                                              answer main_category  \\\n",
       "0  A komondor/kuvasz páros kimondottan ezekre a f...       Állatok   \n",
       "1                        Keress másik orvost. Ennyi.       Állatok   \n",
       "2  Persze, hogy össze lehet.A kutyának az első pi...       Állatok   \n",
       "3  Normál esetben egy jó idegrendszerű kutyát nem...       Állatok   \n",
       "4  Az a házirend rész érvénytelen, amiben ilyent ...       Állatok   \n",
       "\n",
       "     sub_category  split  \n",
       "0          Kutyák  train  \n",
       "1  Egyéb kérdések    val  \n",
       "2          Kutyák  train  \n",
       "3          Kutyák  train  \n",
       "4  Egyéb kérdések  train  "
      ]
     },
     "execution_count": 22,
     "metadata": {},
     "output_type": "execute_result"
    }
   ],
   "source": [
    "faq_with_splits.head()"
   ]
  },
  {
   "cell_type": "code",
   "execution_count": 31,
   "id": "23d8e899",
   "metadata": {},
   "outputs": [
    {
     "data": {
      "image/png": "[encoded data removed]",
      "text/plain": [
       "<Figure size 720x432 with 1 Axes>"
      ]
     },
     "metadata": {},
     "output_type": "display_data"
    }
   ],
   "source": [
    "fig, ax = plt.subplots(1, figsize=(10, 6))\n",
    "\n",
    "fig.suptitle('The proportion of questions in each group')\n",
    "data_to_plot = faq_with_splits.groupby(faq_with_splits.split).size().sort_values()\n",
    "\n",
    "data_to_plot.plot(kind='pie', ax=ax, autopct='%1.1f%%')\n",
    "\n",
    "y_axis_0 = ax.axes.get_yaxis()\n",
    "y_axis_0.set_visible(False)\n",
    "\n",
    "plt.show()"
   ]
  },
  {
   "cell_type": "code",
   "execution_count": 24,
   "id": "d633eebf",
   "metadata": {},
   "outputs": [
    {
     "data": {
      "image/png": "[encoded data removed]",
      "text/plain": [
       "<Figure size 1152x360 with 1 Axes>"
      ]
     },
     "metadata": {
      "needs_background": "light"
     },
     "output_type": "display_data"
    }
   ],
   "source": [
    "fig, ax = plt.subplots(1, figsize=(16, 5))\n",
    "\n",
    "splits = list(set(faq_with_splits.split))\n",
    "\n",
    "index = set(faq_with_splits.main_category)\n",
    "questions_in = {}\n",
    "\n",
    "for split in splits:\n",
    "    questions_in[split] = []\n",
    "    faq_split = faq_with_splits[faq_with_splits.split == split]\n",
    "    \n",
    "    for category in index:\n",
    "        questions_in[split].append(faq_split[faq_split.main_category == category].shape[0])\n",
    "\n",
    "df = pd.DataFrame({split: questions_in[split] for split in splits}, index=index)        \n",
    "df.head()\n",
    "\n",
    "df.plot(kind='bar',ax=ax)\n",
    "\n",
    "for tick in ax.get_xticklabels():\n",
    "    tick.set_rotation(0)\n",
    "\n",
    "for label in ax.containers:\n",
    "    ax.bar_label(label)\n",
    "\n",
    "plt.show()"
   ]
  },
  {
   "cell_type": "markdown",
   "id": "e20969bf",
   "metadata": {},
   "source": [
    "### Lemmatization, stemming, stop-word filtering"
   ]
  },
  {
   "cell_type": "markdown",
   "id": "624b6a4d",
   "metadata": {},
   "source": [
    "Install [Hungarian spaCy modell](https://github.com/huspacy/huspacy)\n",
    "```\n",
    "pip install https://github.com/huspacy/huspacy/releases/download/hu_core_ud_lg-0.3.1/hu_core_ud_lg-0.3.1-py3-none-any.whl\n",
    "```"
   ]
  },
  {
   "cell_type": "code",
   "execution_count": 28,
   "id": "798d6c31",
   "metadata": {},
   "outputs": [],
   "source": [
    "from nltk.tokenize import RegexpTokenizer\n",
    "from nltk.stem.snowball import HungarianStemmer\n",
    "from nltk.corpus import stopwords\n",
    "\n",
    "import nltk\n",
    "\n",
    "import hu_core_ud_lg"
   ]
  },
  {
   "cell_type": "code",
   "execution_count": 29,
   "id": "4988ea8a",
   "metadata": {},
   "outputs": [],
   "source": [
    "nltk.download('stopwords', quiet=True)\n",
    "stop_words = set(stopwords.words('hungarian'))"
   ]
  },
  {
   "cell_type": "code",
   "execution_count": 30,
   "id": "00934574",
   "metadata": {},
   "outputs": [],
   "source": [
    "tokenizer = RegexpTokenizer(r'\\w+')\n",
    "\n",
    "stemmer = HungarianStemmer()\n",
    "\n",
    "question = faq_with_splits.iloc[2]['long_question']\n",
    "\n",
    "# Tokenization\n",
    "tokenized_sentence = tokenizer.tokenize(question)\n",
    "\n",
    "# Stopword filtering\n",
    "filtered_sentence = [w for w in tokenized_sentence if not w in stop_words]\n",
    "\n",
    "# Lemmatization\n",
    "lemmatizer = hu_core_ud_lg.load()\n",
    "\n",
    "lemmatizer.remove_pipe('parser')\n",
    "lemmatizer.remove_pipe('ner')\n",
    "lemmatizer.add_pipe(lemmatizer.create_pipe('sentencizer'))\n",
    "\n",
    "doc = lemmatizer(\" \".join(filtered_sentence))"
   ]
  },
  {
   "cell_type": "code",
   "execution_count": 36,
   "id": "8bf9d9d1",
   "metadata": {},
   "outputs": [
    {
     "name": "stdout",
     "output_type": "stream",
     "text": [
      "Original question:\n",
      "Huskyval össze lehet szoktatni cicákat? A cica lenne először, utána a kutyus. Össze lehet őket szoktatni vagy esélytelen próbálkoznom? Valakinek sikerült már? Hogy?\n",
      "\n",
      "After tokenization:\n",
      "Huskyval össze lehet szoktatni cicákat A cica lenne először utána a kutyus Össze lehet őket szoktatni vagy esélytelen próbálkoznom Valakinek sikerült már Hogy \n",
      "\n",
      "After stopword filtering:\n",
      "Huskyval szoktatni cicákat A cica először kutyus Össze őket szoktatni esélytelen próbálkoznom Valakinek sikerült Hogy \n",
      "\n",
      "After lemmatization:\n",
      "husky szoktat cica a cica először kutyus össze ők szoktat esélytelen próbálkozik valaki sikerül hogy \n",
      "\n",
      "After stemming:\n",
      "husky össz leh szoktatn cica a cic lenn először után a kutyus össz leh őket szoktatn vagy esélytel próbálkozn val sikerül már hogy "
     ]
    }
   ],
   "source": [
    "print(f\"Original question:\\n{question}\\n\")\n",
    "\n",
    "print(\"After tokenization:\")\n",
    "for w in tokenized_sentence:\n",
    "    print(w, end=\" \")\n",
    "\n",
    "print(\"\\n\\nAfter stopword filtering:\")\n",
    "for w in filtered_sentence:\n",
    "    print(w, end=\" \")\n",
    "\n",
    "print(\"\\n\\nAfter lemmatization:\")\n",
    "for w in doc:\n",
    "    print(w.lemma_.lower(), end=\" \")\n",
    "    \n",
    "print(\"\\n\\nAfter stemming:\")\n",
    "for w in tokenized_sentence:\n",
    "    print(stemmer.stem(w), end=\" \")"
   ]
  },
  {
   "cell_type": "code",
   "execution_count": 37,
   "id": "ce73eb1a",
   "metadata": {},
   "outputs": [],
   "source": [
    "import time"
   ]
  },
  {
   "cell_type": "code",
   "execution_count": 38,
   "id": "878faa5a",
   "metadata": {},
   "outputs": [],
   "source": [
    "def tokenize_question(question):\n",
    "    tokenized = tokenizer.tokenize(question)\n",
    "    return \" \".join(tokenized)"
   ]
  },
  {
   "cell_type": "code",
   "execution_count": 39,
   "id": "530cca8c",
   "metadata": {},
   "outputs": [],
   "source": [
    "def lemmatize_question(question):\n",
    "    doc = lemmatizer(question)\n",
    "    lemmatized = [w.lemma_.lower() for w in doc]\n",
    "    return \" \".join(lemmatized)"
   ]
  },
  {
   "cell_type": "code",
   "execution_count": 40,
   "id": "a40612a7",
   "metadata": {},
   "outputs": [],
   "source": [
    "def stem_question(question):\n",
    "    stemmed = [stemmer.stem(w) for w in question.split()]\n",
    "    return \" \".join(stemmed)"
   ]
  },
  {
   "cell_type": "code",
   "execution_count": 41,
   "id": "f2572aa3",
   "metadata": {},
   "outputs": [],
   "source": [
    "def filter_question(question):\n",
    "    tokenized_question = \" \".join(tokenizer.tokenize(question))\n",
    "    filtered = [w for w in tokenized_question.split() if not w in stop_words]\n",
    "\n",
    "    return \" \".join(filtered)"
   ]
  },
  {
   "cell_type": "code",
   "execution_count": 42,
   "id": "680f67e4",
   "metadata": {},
   "outputs": [],
   "source": [
    "def create_dataset(questions, func, name):\n",
    "    result = []\n",
    "\n",
    "    start_time = int(time.time() * 1000)\n",
    "       \n",
    "    for idx, q in enumerate(questions):\n",
    "        result.append(func(q))\n",
    "    \n",
    "    end_time = int(time.time() * 1000)\n",
    "    print(f\"Creating dataset called '{name}' took: {(end_time - start_time) / 1000.0} seconds\")\n",
    "    \n",
    "    return result"
   ]
  },
  {
   "cell_type": "code",
   "execution_count": 43,
   "id": "ad1c2071",
   "metadata": {},
   "outputs": [],
   "source": [
    "def create_datasets(questions):\n",
    "    result = {}\n",
    "    \n",
    "    result['tokenized'] = create_dataset(questions, tokenize_question, \"tokenized\")\n",
    "    \n",
    "    result['stemmed'] = create_dataset(questions, stem_question, \"stemmed\")\n",
    "    result['lemmatized'] = create_dataset(questions, lemmatize_question, \"lemmatized\")\n",
    "    \n",
    "    result['filtered'] = create_dataset(questions, filter_question, \"filtered\")\n",
    "    \n",
    "    result['stemmed_filtered'] = create_dataset(result['filtered'], stem_question, \"stemmed_filtered\")\n",
    "    result['lemmatized_filtered'] = create_dataset(result['filtered'], lemmatize_question, \"lemmatized_filtered\")\n",
    "    \n",
    "    return result"
   ]
  },
  {
   "cell_type": "code",
   "execution_count": 44,
   "id": "dbd406a7",
   "metadata": {},
   "outputs": [],
   "source": [
    "short_questions = faq_with_splits['short_question'].tolist()\n",
    "long_questions = faq_with_splits['long_question'].tolist()"
   ]
  },
  {
   "cell_type": "code",
   "execution_count": 45,
   "id": "c50937ad",
   "metadata": {},
   "outputs": [
    {
     "name": "stdout",
     "output_type": "stream",
     "text": [
      "Creating dataset called 'tokenized' took: 0.81 seconds\n",
      "Creating dataset called 'stemmed' took: 38.097 seconds\n",
      "Creating dataset called 'lemmatized' took: 570.156 seconds\n",
      "Creating dataset called 'filtered' took: 1.336 seconds\n",
      "Creating dataset called 'stemmed_filtered' took: 28.235 seconds\n",
      "Creating dataset called 'lemmatized_filtered' took: 495.029 seconds\n"
     ]
    }
   ],
   "source": [
    "short_questions_datasets = create_datasets(short_questions)"
   ]
  },
  {
   "cell_type": "code",
   "execution_count": 46,
   "id": "16ccc653",
   "metadata": {},
   "outputs": [
    {
     "name": "stdout",
     "output_type": "stream",
     "text": [
      "Creating dataset called 'tokenized' took: 3.82 seconds\n",
      "Creating dataset called 'stemmed' took: 205.204 seconds\n",
      "Creating dataset called 'lemmatized' took: 1047.797 seconds\n",
      "Creating dataset called 'filtered' took: 5.695 seconds\n",
      "Creating dataset called 'stemmed_filtered' took: 137.842 seconds\n",
      "Creating dataset called 'lemmatized_filtered' took: 800.885 seconds\n"
     ]
    }
   ],
   "source": [
    "long_questions_datasets = create_datasets(long_questions)"
   ]
  },
  {
   "cell_type": "code",
   "execution_count": 47,
   "id": "342bc10c",
   "metadata": {},
   "outputs": [],
   "source": [
    "dataset_keys = list(short_questions_datasets.keys())"
   ]
  },
  {
   "cell_type": "code",
   "execution_count": 48,
   "id": "21c5dfc7",
   "metadata": {},
   "outputs": [],
   "source": [
    "dataframes = {}\n",
    "for key in dataset_keys:\n",
    "    dataframe = faq_with_splits.copy()\n",
    "    \n",
    "    dataframe['short_question'] = short_questions_datasets[key]\n",
    "    dataframe['long_question'] = long_questions_datasets[key]\n",
    "\n",
    "    dataframes[key] = dataframe"
   ]
  },
  {
   "cell_type": "code",
   "execution_count": 49,
   "id": "1caf719b",
   "metadata": {},
   "outputs": [
    {
     "data": {
      "image/png": "[encoded data removed]",
      "text/plain": [
       "<Figure size 1152x360 with 1 Axes>"
      ]
     },
     "metadata": {
      "needs_background": "light"
     },
     "output_type": "display_data"
    }
   ],
   "source": [
    "fig, ax = plt.subplots(1, figsize=(16, 5))\n",
    "fig.suptitle('Average length of short & long questions per dataset')\n",
    "\n",
    "index = dataset_keys\n",
    "short_len = []\n",
    "long_len = []\n",
    "for key in dataset_keys:\n",
    "    long_len.append(round(dataframes[key].long_question.str.len().mean()))\n",
    "    short_len.append(round(dataframes[key].short_question.str.len().mean()))\n",
    "\n",
    "df = pd.DataFrame({'avg short question length': short_len, 'avg long question length': long_len}, index=index)        \n",
    "\n",
    "df.plot(kind='bar', ax=ax)\n",
    "\n",
    "for tick in ax.get_xticklabels():\n",
    "    tick.set_rotation(0)\n",
    "\n",
    "for label in ax.containers:\n",
    "    ax.bar_label(label)\n",
    "\n",
    "plt.show()"
   ]
  },
  {
   "cell_type": "code",
   "execution_count": 50,
   "id": "8c9c2b05",
   "metadata": {},
   "outputs": [
    {
     "data": {
      "text/html": [
       "<div>\n",
       "<style scoped>\n",
       "    .dataframe tbody tr th:only-of-type {\n",
       "        vertical-align: middle;\n",
       "    }\n",
       "\n",
       "    .dataframe tbody tr th {\n",
       "        vertical-align: top;\n",
       "    }\n",
       "\n",
       "    .dataframe thead th {\n",
       "        text-align: right;\n",
       "    }\n",
       "</style>\n",
       "<table border=\"1\" class=\"dataframe\">\n",
       "  <thead>\n",
       "    <tr style=\"text-align: right;\">\n",
       "      <th></th>\n",
       "      <th>short_question</th>\n",
       "      <th>long_question</th>\n",
       "      <th>answer</th>\n",
       "      <th>main_category</th>\n",
       "      <th>sub_category</th>\n",
       "      <th>split</th>\n",
       "    </tr>\n",
       "  </thead>\n",
       "  <tbody>\n",
       "    <tr>\n",
       "      <th>0</th>\n",
       "      <td>Nagy terület őrzésére kutyát javasolnátok Bőve...</td>\n",
       "      <td>Nagy terület őrzésére kutyát javasolnátok Bőve...</td>\n",
       "      <td>A komondor/kuvasz páros kimondottan ezekre a f...</td>\n",
       "      <td>Állatok</td>\n",
       "      <td>Kutyák</td>\n",
       "      <td>train</td>\n",
       "    </tr>\n",
       "    <tr>\n",
       "      <th>1</th>\n",
       "      <td>Az álllatorvosunkat alig elérni Ez szerintetek...</td>\n",
       "      <td>Az álllatorvosunkat alig elérni Ez szerintetek...</td>\n",
       "      <td>Keress másik orvost. Ennyi.</td>\n",
       "      <td>Állatok</td>\n",
       "      <td>Egyéb kérdések</td>\n",
       "      <td>val</td>\n",
       "    </tr>\n",
       "    <tr>\n",
       "      <th>2</th>\n",
       "      <td>Huskyval szoktatni cicákat</td>\n",
       "      <td>Huskyval szoktatni cicákat A cica először kuty...</td>\n",
       "      <td>Persze, hogy össze lehet.A kutyának az első pi...</td>\n",
       "      <td>Állatok</td>\n",
       "      <td>Kutyák</td>\n",
       "      <td>train</td>\n",
       "    </tr>\n",
       "    <tr>\n",
       "      <th>3</th>\n",
       "      <td>Vadászok Vennék vizslát hobbi célra elvinném v...</td>\n",
       "      <td>Vadászok Vennék vizslát hobbi célra elvinném v...</td>\n",
       "      <td>Normál esetben egy jó idegrendszerű kutyát nem...</td>\n",
       "      <td>Állatok</td>\n",
       "      <td>Kutyák</td>\n",
       "      <td>train</td>\n",
       "    </tr>\n",
       "    <tr>\n",
       "      <th>4</th>\n",
       "      <td>Elszállásolhatok kutyát panellakásban napra</td>\n",
       "      <td>Elszállásolhatok kutyát panellakásban napra A ...</td>\n",
       "      <td>Az a házirend rész érvénytelen, amiben ilyent ...</td>\n",
       "      <td>Állatok</td>\n",
       "      <td>Egyéb kérdések</td>\n",
       "      <td>train</td>\n",
       "    </tr>\n",
       "  </tbody>\n",
       "</table>\n",
       "</div>"
      ],
      "text/plain": [
       "                                      short_question  \\\n",
       "0  Nagy terület őrzésére kutyát javasolnátok Bőve...   \n",
       "1  Az álllatorvosunkat alig elérni Ez szerintetek...   \n",
       "2                         Huskyval szoktatni cicákat   \n",
       "3  Vadászok Vennék vizslát hobbi célra elvinném v...   \n",
       "4        Elszállásolhatok kutyát panellakásban napra   \n",
       "\n",
       "                                       long_question  \\\n",
       "0  Nagy terület őrzésére kutyát javasolnátok Bőve...   \n",
       "1  Az álllatorvosunkat alig elérni Ez szerintetek...   \n",
       "2  Huskyval szoktatni cicákat A cica először kuty...   \n",
       "3  Vadászok Vennék vizslát hobbi célra elvinném v...   \n",
       "4  Elszállásolhatok kutyát panellakásban napra A ...   \n",
       "\n",
       "                                              answer main_category  \\\n",
       "0  A komondor/kuvasz páros kimondottan ezekre a f...       Állatok   \n",
       "1                        Keress másik orvost. Ennyi.       Állatok   \n",
       "2  Persze, hogy össze lehet.A kutyának az első pi...       Állatok   \n",
       "3  Normál esetben egy jó idegrendszerű kutyát nem...       Állatok   \n",
       "4  Az a házirend rész érvénytelen, amiben ilyent ...       Állatok   \n",
       "\n",
       "     sub_category  split  \n",
       "0          Kutyák  train  \n",
       "1  Egyéb kérdések    val  \n",
       "2          Kutyák  train  \n",
       "3          Kutyák  train  \n",
       "4  Egyéb kérdések  train  "
      ]
     },
     "execution_count": 50,
     "metadata": {},
     "output_type": "execute_result"
    }
   ],
   "source": [
    "dataframes['filtered'].head()"
   ]
  },
  {
   "cell_type": "code",
   "execution_count": 51,
   "id": "6c7ecec0",
   "metadata": {},
   "outputs": [
    {
     "data": {
      "text/html": [
       "<div>\n",
       "<style scoped>\n",
       "    .dataframe tbody tr th:only-of-type {\n",
       "        vertical-align: middle;\n",
       "    }\n",
       "\n",
       "    .dataframe tbody tr th {\n",
       "        vertical-align: top;\n",
       "    }\n",
       "\n",
       "    .dataframe thead th {\n",
       "        text-align: right;\n",
       "    }\n",
       "</style>\n",
       "<table border=\"1\" class=\"dataframe\">\n",
       "  <thead>\n",
       "    <tr style=\"text-align: right;\">\n",
       "      <th></th>\n",
       "      <th>short_question</th>\n",
       "      <th>long_question</th>\n",
       "      <th>answer</th>\n",
       "      <th>main_category</th>\n",
       "      <th>sub_category</th>\n",
       "      <th>split</th>\n",
       "    </tr>\n",
       "  </thead>\n",
       "  <tbody>\n",
       "    <tr>\n",
       "      <th>0</th>\n",
       "      <td>nagy terül őrzés mily kuty javasolnátok? bőveb...</td>\n",
       "      <td>nagy terül őrzés mily kuty javasolnátok? bőveb...</td>\n",
       "      <td>A komondor/kuvasz páros kimondottan ezekre a f...</td>\n",
       "      <td>Állatok</td>\n",
       "      <td>Kutyák</td>\n",
       "      <td>train</td>\n",
       "    </tr>\n",
       "    <tr>\n",
       "      <th>1</th>\n",
       "      <td>az álllatorvos al leh elérni. ez szerintet nor...</td>\n",
       "      <td>az álllatorvos al leh elérni. ez szerintet nor...</td>\n",
       "      <td>Keress másik orvost. Ennyi.</td>\n",
       "      <td>Állatok</td>\n",
       "      <td>Egyéb kérdések</td>\n",
       "      <td>val</td>\n",
       "    </tr>\n",
       "    <tr>\n",
       "      <th>2</th>\n",
       "      <td>husky össz leh szoktatn cicákat?</td>\n",
       "      <td>husky össz leh szoktatn cicákat? a cic lenn el...</td>\n",
       "      <td>Persze, hogy össze lehet.A kutyának az első pi...</td>\n",
       "      <td>Állatok</td>\n",
       "      <td>Kutyák</td>\n",
       "      <td>train</td>\n",
       "    </tr>\n",
       "    <tr>\n",
       "      <th>3</th>\n",
       "      <td>vadászok! venne egy vizsl hobb cél de elvinne ...</td>\n",
       "      <td>vadászok! venne egy vizsl hobb cél de elvinne ...</td>\n",
       "      <td>Normál esetben egy jó idegrendszerű kutyát nem...</td>\n",
       "      <td>Állatok</td>\n",
       "      <td>Kutyák</td>\n",
       "      <td>train</td>\n",
       "    </tr>\n",
       "    <tr>\n",
       "      <th>4</th>\n",
       "      <td>elszállásolhat kuty panellakás néhány napra?</td>\n",
       "      <td>elszállásolhat kuty panellakás néhány napra? a...</td>\n",
       "      <td>Az a házirend rész érvénytelen, amiben ilyent ...</td>\n",
       "      <td>Állatok</td>\n",
       "      <td>Egyéb kérdések</td>\n",
       "      <td>train</td>\n",
       "    </tr>\n",
       "  </tbody>\n",
       "</table>\n",
       "</div>"
      ],
      "text/plain": [
       "                                      short_question  \\\n",
       "0  nagy terül őrzés mily kuty javasolnátok? bőveb...   \n",
       "1  az álllatorvos al leh elérni. ez szerintet nor...   \n",
       "2                   husky össz leh szoktatn cicákat?   \n",
       "3  vadászok! venne egy vizsl hobb cél de elvinne ...   \n",
       "4       elszállásolhat kuty panellakás néhány napra?   \n",
       "\n",
       "                                       long_question  \\\n",
       "0  nagy terül őrzés mily kuty javasolnátok? bőveb...   \n",
       "1  az álllatorvos al leh elérni. ez szerintet nor...   \n",
       "2  husky össz leh szoktatn cicákat? a cic lenn el...   \n",
       "3  vadászok! venne egy vizsl hobb cél de elvinne ...   \n",
       "4  elszállásolhat kuty panellakás néhány napra? a...   \n",
       "\n",
       "                                              answer main_category  \\\n",
       "0  A komondor/kuvasz páros kimondottan ezekre a f...       Állatok   \n",
       "1                        Keress másik orvost. Ennyi.       Állatok   \n",
       "2  Persze, hogy össze lehet.A kutyának az első pi...       Állatok   \n",
       "3  Normál esetben egy jó idegrendszerű kutyát nem...       Állatok   \n",
       "4  Az a házirend rész érvénytelen, amiben ilyent ...       Állatok   \n",
       "\n",
       "     sub_category  split  \n",
       "0          Kutyák  train  \n",
       "1  Egyéb kérdések    val  \n",
       "2          Kutyák  train  \n",
       "3          Kutyák  train  \n",
       "4  Egyéb kérdések  train  "
      ]
     },
     "execution_count": 51,
     "metadata": {},
     "output_type": "execute_result"
    }
   ],
   "source": [
    "dataframes['stemmed'].head()"
   ]
  },
  {
   "cell_type": "code",
   "execution_count": 52,
   "id": "15fa117b",
   "metadata": {},
   "outputs": [
    {
     "data": {
      "text/html": [
       "<div>\n",
       "<style scoped>\n",
       "    .dataframe tbody tr th:only-of-type {\n",
       "        vertical-align: middle;\n",
       "    }\n",
       "\n",
       "    .dataframe tbody tr th {\n",
       "        vertical-align: top;\n",
       "    }\n",
       "\n",
       "    .dataframe thead th {\n",
       "        text-align: right;\n",
       "    }\n",
       "</style>\n",
       "<table border=\"1\" class=\"dataframe\">\n",
       "  <thead>\n",
       "    <tr style=\"text-align: right;\">\n",
       "      <th></th>\n",
       "      <th>short_question</th>\n",
       "      <th>long_question</th>\n",
       "      <th>answer</th>\n",
       "      <th>main_category</th>\n",
       "      <th>sub_category</th>\n",
       "      <th>split</th>\n",
       "    </tr>\n",
       "  </thead>\n",
       "  <tbody>\n",
       "    <tr>\n",
       "      <th>0</th>\n",
       "      <td>nagy terület őrzés milyen kutya javasolnát ? b...</td>\n",
       "      <td>nagy terület őrzés milyen kutya javasolnát ? b...</td>\n",
       "      <td>A komondor/kuvasz páros kimondottan ezekre a f...</td>\n",
       "      <td>Állatok</td>\n",
       "      <td>Kutyák</td>\n",
       "      <td>train</td>\n",
       "    </tr>\n",
       "    <tr>\n",
       "      <th>1</th>\n",
       "      <td>az álllatorvos alig lehet elér . ez szerintet ...</td>\n",
       "      <td>az álllatorvos alig lehet elér . ez szerintet ...</td>\n",
       "      <td>Keress másik orvost. Ennyi.</td>\n",
       "      <td>Állatok</td>\n",
       "      <td>Egyéb kérdések</td>\n",
       "      <td>val</td>\n",
       "    </tr>\n",
       "    <tr>\n",
       "      <th>2</th>\n",
       "      <td>husky össze lehet szoktat cica ?</td>\n",
       "      <td>husky össze lehet szoktat cica ? a cica lenne ...</td>\n",
       "      <td>Persze, hogy össze lehet.A kutyának az első pi...</td>\n",
       "      <td>Állatok</td>\n",
       "      <td>Kutyák</td>\n",
       "      <td>train</td>\n",
       "    </tr>\n",
       "    <tr>\n",
       "      <th>3</th>\n",
       "      <td>vadászok ! vesz egy vizslát hobbi cél de elvis...</td>\n",
       "      <td>vadászok ! vesz egy vizslát hobbi cél de elvis...</td>\n",
       "      <td>Normál esetben egy jó idegrendszerű kutyát nem...</td>\n",
       "      <td>Állatok</td>\n",
       "      <td>Kutyák</td>\n",
       "      <td>train</td>\n",
       "    </tr>\n",
       "    <tr>\n",
       "      <th>4</th>\n",
       "      <td>elszállásolhatok kutya panellakás néhány nap ?</td>\n",
       "      <td>elszállásolhatok kutya panellakás néhány nap ?...</td>\n",
       "      <td>Az a házirend rész érvénytelen, amiben ilyent ...</td>\n",
       "      <td>Állatok</td>\n",
       "      <td>Egyéb kérdések</td>\n",
       "      <td>train</td>\n",
       "    </tr>\n",
       "  </tbody>\n",
       "</table>\n",
       "</div>"
      ],
      "text/plain": [
       "                                      short_question  \\\n",
       "0  nagy terület őrzés milyen kutya javasolnát ? b...   \n",
       "1  az álllatorvos alig lehet elér . ez szerintet ...   \n",
       "2                   husky össze lehet szoktat cica ?   \n",
       "3  vadászok ! vesz egy vizslát hobbi cél de elvis...   \n",
       "4     elszállásolhatok kutya panellakás néhány nap ?   \n",
       "\n",
       "                                       long_question  \\\n",
       "0  nagy terület őrzés milyen kutya javasolnát ? b...   \n",
       "1  az álllatorvos alig lehet elér . ez szerintet ...   \n",
       "2  husky össze lehet szoktat cica ? a cica lenne ...   \n",
       "3  vadászok ! vesz egy vizslát hobbi cél de elvis...   \n",
       "4  elszállásolhatok kutya panellakás néhány nap ?...   \n",
       "\n",
       "                                              answer main_category  \\\n",
       "0  A komondor/kuvasz páros kimondottan ezekre a f...       Állatok   \n",
       "1                        Keress másik orvost. Ennyi.       Állatok   \n",
       "2  Persze, hogy össze lehet.A kutyának az első pi...       Állatok   \n",
       "3  Normál esetben egy jó idegrendszerű kutyát nem...       Állatok   \n",
       "4  Az a házirend rész érvénytelen, amiben ilyent ...       Állatok   \n",
       "\n",
       "     sub_category  split  \n",
       "0          Kutyák  train  \n",
       "1  Egyéb kérdések    val  \n",
       "2          Kutyák  train  \n",
       "3          Kutyák  train  \n",
       "4  Egyéb kérdések  train  "
      ]
     },
     "execution_count": 52,
     "metadata": {},
     "output_type": "execute_result"
    }
   ],
   "source": [
    "dataframes['lemmatized'].head()"
   ]
  },
  {
   "cell_type": "code",
   "execution_count": 53,
   "id": "2d00c7d9",
   "metadata": {},
   "outputs": [
    {
     "data": {
      "text/html": [
       "<div>\n",
       "<style scoped>\n",
       "    .dataframe tbody tr th:only-of-type {\n",
       "        vertical-align: middle;\n",
       "    }\n",
       "\n",
       "    .dataframe tbody tr th {\n",
       "        vertical-align: top;\n",
       "    }\n",
       "\n",
       "    .dataframe thead th {\n",
       "        text-align: right;\n",
       "    }\n",
       "</style>\n",
       "<table border=\"1\" class=\"dataframe\">\n",
       "  <thead>\n",
       "    <tr style=\"text-align: right;\">\n",
       "      <th></th>\n",
       "      <th>short_question</th>\n",
       "      <th>long_question</th>\n",
       "      <th>answer</th>\n",
       "      <th>main_category</th>\n",
       "      <th>sub_category</th>\n",
       "      <th>split</th>\n",
       "    </tr>\n",
       "  </thead>\n",
       "  <tbody>\n",
       "    <tr>\n",
       "      <th>0</th>\n",
       "      <td>Nagy terület őrzésére kutyát javasolnátok Bőve...</td>\n",
       "      <td>Nagy terület őrzésére kutyát javasolnátok Bőve...</td>\n",
       "      <td>A komondor/kuvasz páros kimondottan ezekre a f...</td>\n",
       "      <td>Állatok</td>\n",
       "      <td>Kutyák</td>\n",
       "      <td>train</td>\n",
       "    </tr>\n",
       "    <tr>\n",
       "      <th>1</th>\n",
       "      <td>Az álllatorvosunkat alig elérni Ez szerintetek...</td>\n",
       "      <td>Az álllatorvosunkat alig elérni Ez szerintetek...</td>\n",
       "      <td>Keress másik orvost. Ennyi.</td>\n",
       "      <td>Állatok</td>\n",
       "      <td>Egyéb kérdések</td>\n",
       "      <td>val</td>\n",
       "    </tr>\n",
       "    <tr>\n",
       "      <th>2</th>\n",
       "      <td>Huskyval szoktatni cicákat</td>\n",
       "      <td>Huskyval szoktatni cicákat A cica először kuty...</td>\n",
       "      <td>Persze, hogy össze lehet.A kutyának az első pi...</td>\n",
       "      <td>Állatok</td>\n",
       "      <td>Kutyák</td>\n",
       "      <td>train</td>\n",
       "    </tr>\n",
       "    <tr>\n",
       "      <th>3</th>\n",
       "      <td>Vadászok Vennék vizslát hobbi célra elvinném v...</td>\n",
       "      <td>Vadászok Vennék vizslát hobbi célra elvinném v...</td>\n",
       "      <td>Normál esetben egy jó idegrendszerű kutyát nem...</td>\n",
       "      <td>Állatok</td>\n",
       "      <td>Kutyák</td>\n",
       "      <td>train</td>\n",
       "    </tr>\n",
       "    <tr>\n",
       "      <th>4</th>\n",
       "      <td>Elszállásolhatok kutyát panellakásban napra</td>\n",
       "      <td>Elszállásolhatok kutyát panellakásban napra A ...</td>\n",
       "      <td>Az a házirend rész érvénytelen, amiben ilyent ...</td>\n",
       "      <td>Állatok</td>\n",
       "      <td>Egyéb kérdések</td>\n",
       "      <td>train</td>\n",
       "    </tr>\n",
       "  </tbody>\n",
       "</table>\n",
       "</div>"
      ],
      "text/plain": [
       "                                      short_question  \\\n",
       "0  Nagy terület őrzésére kutyát javasolnátok Bőve...   \n",
       "1  Az álllatorvosunkat alig elérni Ez szerintetek...   \n",
       "2                         Huskyval szoktatni cicákat   \n",
       "3  Vadászok Vennék vizslát hobbi célra elvinném v...   \n",
       "4        Elszállásolhatok kutyát panellakásban napra   \n",
       "\n",
       "                                       long_question  \\\n",
       "0  Nagy terület őrzésére kutyát javasolnátok Bőve...   \n",
       "1  Az álllatorvosunkat alig elérni Ez szerintetek...   \n",
       "2  Huskyval szoktatni cicákat A cica először kuty...   \n",
       "3  Vadászok Vennék vizslát hobbi célra elvinném v...   \n",
       "4  Elszállásolhatok kutyát panellakásban napra A ...   \n",
       "\n",
       "                                              answer main_category  \\\n",
       "0  A komondor/kuvasz páros kimondottan ezekre a f...       Állatok   \n",
       "1                        Keress másik orvost. Ennyi.       Állatok   \n",
       "2  Persze, hogy össze lehet.A kutyának az első pi...       Állatok   \n",
       "3  Normál esetben egy jó idegrendszerű kutyát nem...       Állatok   \n",
       "4  Az a házirend rész érvénytelen, amiben ilyent ...       Állatok   \n",
       "\n",
       "     sub_category  split  \n",
       "0          Kutyák  train  \n",
       "1  Egyéb kérdések    val  \n",
       "2          Kutyák  train  \n",
       "3          Kutyák  train  \n",
       "4  Egyéb kérdések  train  "
      ]
     },
     "execution_count": 53,
     "metadata": {},
     "output_type": "execute_result"
    }
   ],
   "source": [
    "dataframes['filtered'].head()"
   ]
  },
  {
   "cell_type": "code",
   "execution_count": 54,
   "id": "22209822",
   "metadata": {},
   "outputs": [
    {
     "data": {
      "text/html": [
       "<div>\n",
       "<style scoped>\n",
       "    .dataframe tbody tr th:only-of-type {\n",
       "        vertical-align: middle;\n",
       "    }\n",
       "\n",
       "    .dataframe tbody tr th {\n",
       "        vertical-align: top;\n",
       "    }\n",
       "\n",
       "    .dataframe thead th {\n",
       "        text-align: right;\n",
       "    }\n",
       "</style>\n",
       "<table border=\"1\" class=\"dataframe\">\n",
       "  <thead>\n",
       "    <tr style=\"text-align: right;\">\n",
       "      <th></th>\n",
       "      <th>short_question</th>\n",
       "      <th>long_question</th>\n",
       "      <th>answer</th>\n",
       "      <th>main_category</th>\n",
       "      <th>sub_category</th>\n",
       "      <th>split</th>\n",
       "    </tr>\n",
       "  </thead>\n",
       "  <tbody>\n",
       "    <tr>\n",
       "      <th>0</th>\n",
       "      <td>nagy terül őrzés kuty javasolnát bőveb len</td>\n",
       "      <td>nagy terül őrzés kuty javasolnát bőveb len rég...</td>\n",
       "      <td>A komondor/kuvasz páros kimondottan ezekre a f...</td>\n",
       "      <td>Állatok</td>\n",
       "      <td>Kutyák</td>\n",
       "      <td>train</td>\n",
       "    </tr>\n",
       "    <tr>\n",
       "      <th>1</th>\n",
       "      <td>az álllatorvos al elérn ez szerintet normális</td>\n",
       "      <td>az álllatorvos al elérn ez szerintet normális ...</td>\n",
       "      <td>Keress másik orvost. Ennyi.</td>\n",
       "      <td>Állatok</td>\n",
       "      <td>Egyéb kérdések</td>\n",
       "      <td>val</td>\n",
       "    </tr>\n",
       "    <tr>\n",
       "      <th>2</th>\n",
       "      <td>husky szoktatn cica</td>\n",
       "      <td>husky szoktatn cica a cic először kutyus össz ...</td>\n",
       "      <td>Persze, hogy össze lehet.A kutyának az első pi...</td>\n",
       "      <td>Állatok</td>\n",
       "      <td>Kutyák</td>\n",
       "      <td>train</td>\n",
       "    </tr>\n",
       "    <tr>\n",
       "      <th>3</th>\n",
       "      <td>vadász venne vizsl hobb cél elvinne vadászat i...</td>\n",
       "      <td>vadász venne vizsl hobb cél elvinne vadászat i...</td>\n",
       "      <td>Normál esetben egy jó idegrendszerű kutyát nem...</td>\n",
       "      <td>Állatok</td>\n",
       "      <td>Kutyák</td>\n",
       "      <td>train</td>\n",
       "    </tr>\n",
       "    <tr>\n",
       "      <th>4</th>\n",
       "      <td>elszállásolhat kuty panellakás nap</td>\n",
       "      <td>elszállásolhat kuty panellakás nap a testvérem...</td>\n",
       "      <td>Az a házirend rész érvénytelen, amiben ilyent ...</td>\n",
       "      <td>Állatok</td>\n",
       "      <td>Egyéb kérdések</td>\n",
       "      <td>train</td>\n",
       "    </tr>\n",
       "  </tbody>\n",
       "</table>\n",
       "</div>"
      ],
      "text/plain": [
       "                                      short_question  \\\n",
       "0         nagy terül őrzés kuty javasolnát bőveb len   \n",
       "1      az álllatorvos al elérn ez szerintet normális   \n",
       "2                                husky szoktatn cica   \n",
       "3  vadász venne vizsl hobb cél elvinne vadászat i...   \n",
       "4                 elszállásolhat kuty panellakás nap   \n",
       "\n",
       "                                       long_question  \\\n",
       "0  nagy terül őrzés kuty javasolnát bőveb len rég...   \n",
       "1  az álllatorvos al elérn ez szerintet normális ...   \n",
       "2  husky szoktatn cica a cic először kutyus össz ...   \n",
       "3  vadász venne vizsl hobb cél elvinne vadászat i...   \n",
       "4  elszállásolhat kuty panellakás nap a testvérem...   \n",
       "\n",
       "                                              answer main_category  \\\n",
       "0  A komondor/kuvasz páros kimondottan ezekre a f...       Állatok   \n",
       "1                        Keress másik orvost. Ennyi.       Állatok   \n",
       "2  Persze, hogy össze lehet.A kutyának az első pi...       Állatok   \n",
       "3  Normál esetben egy jó idegrendszerű kutyát nem...       Állatok   \n",
       "4  Az a házirend rész érvénytelen, amiben ilyent ...       Állatok   \n",
       "\n",
       "     sub_category  split  \n",
       "0          Kutyák  train  \n",
       "1  Egyéb kérdések    val  \n",
       "2          Kutyák  train  \n",
       "3          Kutyák  train  \n",
       "4  Egyéb kérdések  train  "
      ]
     },
     "execution_count": 54,
     "metadata": {},
     "output_type": "execute_result"
    }
   ],
   "source": [
    "dataframes['stemmed_filtered'].head()"
   ]
  },
  {
   "cell_type": "code",
   "execution_count": 55,
   "id": "181436c5",
   "metadata": {},
   "outputs": [
    {
     "data": {
      "text/html": [
       "<div>\n",
       "<style scoped>\n",
       "    .dataframe tbody tr th:only-of-type {\n",
       "        vertical-align: middle;\n",
       "    }\n",
       "\n",
       "    .dataframe tbody tr th {\n",
       "        vertical-align: top;\n",
       "    }\n",
       "\n",
       "    .dataframe thead th {\n",
       "        text-align: right;\n",
       "    }\n",
       "</style>\n",
       "<table border=\"1\" class=\"dataframe\">\n",
       "  <thead>\n",
       "    <tr style=\"text-align: right;\">\n",
       "      <th></th>\n",
       "      <th>short_question</th>\n",
       "      <th>long_question</th>\n",
       "      <th>answer</th>\n",
       "      <th>main_category</th>\n",
       "      <th>sub_category</th>\n",
       "      <th>split</th>\n",
       "    </tr>\n",
       "  </thead>\n",
       "  <tbody>\n",
       "    <tr>\n",
       "      <th>0</th>\n",
       "      <td>nagy terület őrzés kutya javasolnát bőveb lent</td>\n",
       "      <td>nagy terület őrzés kutya javasolnát bőveb lent...</td>\n",
       "      <td>A komondor/kuvasz páros kimondottan ezekre a f...</td>\n",
       "      <td>Állatok</td>\n",
       "      <td>Kutyák</td>\n",
       "      <td>train</td>\n",
       "    </tr>\n",
       "    <tr>\n",
       "      <th>1</th>\n",
       "      <td>az álllatorvos alig elér ez szerintet normális</td>\n",
       "      <td>az álllatorvos alig elér ez szerintet normális...</td>\n",
       "      <td>Keress másik orvost. Ennyi.</td>\n",
       "      <td>Állatok</td>\n",
       "      <td>Egyéb kérdések</td>\n",
       "      <td>val</td>\n",
       "    </tr>\n",
       "    <tr>\n",
       "      <th>2</th>\n",
       "      <td>husky szoktat cica</td>\n",
       "      <td>husky szoktat cica a cica először kutyus össze...</td>\n",
       "      <td>Persze, hogy össze lehet.A kutyának az első pi...</td>\n",
       "      <td>Állatok</td>\n",
       "      <td>Kutyák</td>\n",
       "      <td>train</td>\n",
       "    </tr>\n",
       "    <tr>\n",
       "      <th>3</th>\n",
       "      <td>vadászok vennék vizslát hobbi cél elvisz vadás...</td>\n",
       "      <td>vadászok vennék vizslát hobbi cél elvisz vadás...</td>\n",
       "      <td>Normál esetben egy jó idegrendszerű kutyát nem...</td>\n",
       "      <td>Állatok</td>\n",
       "      <td>Kutyák</td>\n",
       "      <td>train</td>\n",
       "    </tr>\n",
       "    <tr>\n",
       "      <th>4</th>\n",
       "      <td>elszállásolhatok kutya panellakás nap</td>\n",
       "      <td>elszállásolhatok kutya panellakás nap a testvé...</td>\n",
       "      <td>Az a házirend rész érvénytelen, amiben ilyent ...</td>\n",
       "      <td>Állatok</td>\n",
       "      <td>Egyéb kérdések</td>\n",
       "      <td>train</td>\n",
       "    </tr>\n",
       "  </tbody>\n",
       "</table>\n",
       "</div>"
      ],
      "text/plain": [
       "                                      short_question  \\\n",
       "0     nagy terület őrzés kutya javasolnát bőveb lent   \n",
       "1     az álllatorvos alig elér ez szerintet normális   \n",
       "2                                 husky szoktat cica   \n",
       "3  vadászok vennék vizslát hobbi cél elvisz vadás...   \n",
       "4              elszállásolhatok kutya panellakás nap   \n",
       "\n",
       "                                       long_question  \\\n",
       "0  nagy terület őrzés kutya javasolnát bőveb lent...   \n",
       "1  az álllatorvos alig elér ez szerintet normális...   \n",
       "2  husky szoktat cica a cica először kutyus össze...   \n",
       "3  vadászok vennék vizslát hobbi cél elvisz vadás...   \n",
       "4  elszállásolhatok kutya panellakás nap a testvé...   \n",
       "\n",
       "                                              answer main_category  \\\n",
       "0  A komondor/kuvasz páros kimondottan ezekre a f...       Állatok   \n",
       "1                        Keress másik orvost. Ennyi.       Állatok   \n",
       "2  Persze, hogy össze lehet.A kutyának az első pi...       Állatok   \n",
       "3  Normál esetben egy jó idegrendszerű kutyát nem...       Állatok   \n",
       "4  Az a házirend rész érvénytelen, amiben ilyent ...       Állatok   \n",
       "\n",
       "     sub_category  split  \n",
       "0          Kutyák  train  \n",
       "1  Egyéb kérdések    val  \n",
       "2          Kutyák  train  \n",
       "3          Kutyák  train  \n",
       "4  Egyéb kérdések  train  "
      ]
     },
     "execution_count": 55,
     "metadata": {},
     "output_type": "execute_result"
    }
   ],
   "source": [
    "dataframes['lemmatized_filtered'].head()"
   ]
  },
  {
   "cell_type": "code",
   "execution_count": 56,
   "id": "42316c51",
   "metadata": {},
   "outputs": [
    {
     "data": {
      "text/html": [
       "<div>\n",
       "<style scoped>\n",
       "    .dataframe tbody tr th:only-of-type {\n",
       "        vertical-align: middle;\n",
       "    }\n",
       "\n",
       "    .dataframe tbody tr th {\n",
       "        vertical-align: top;\n",
       "    }\n",
       "\n",
       "    .dataframe thead th {\n",
       "        text-align: right;\n",
       "    }\n",
       "</style>\n",
       "<table border=\"1\" class=\"dataframe\">\n",
       "  <thead>\n",
       "    <tr style=\"text-align: right;\">\n",
       "      <th></th>\n",
       "      <th>short_question</th>\n",
       "      <th>long_question</th>\n",
       "      <th>answer</th>\n",
       "      <th>main_category</th>\n",
       "      <th>sub_category</th>\n",
       "      <th>split</th>\n",
       "    </tr>\n",
       "  </thead>\n",
       "  <tbody>\n",
       "    <tr>\n",
       "      <th>0</th>\n",
       "      <td>nagy terül őrzés kuty javasolnát bőveb len</td>\n",
       "      <td>nagy terül őrzés kuty javasolnát bőveb len rég...</td>\n",
       "      <td>A komondor/kuvasz páros kimondottan ezekre a f...</td>\n",
       "      <td>Állatok</td>\n",
       "      <td>Kutyák</td>\n",
       "      <td>train</td>\n",
       "    </tr>\n",
       "    <tr>\n",
       "      <th>1</th>\n",
       "      <td>az álllatorvos al elérn ez szerintet normális</td>\n",
       "      <td>az álllatorvos al elérn ez szerintet normális ...</td>\n",
       "      <td>Keress másik orvost. Ennyi.</td>\n",
       "      <td>Állatok</td>\n",
       "      <td>Egyéb kérdések</td>\n",
       "      <td>val</td>\n",
       "    </tr>\n",
       "    <tr>\n",
       "      <th>2</th>\n",
       "      <td>husky szoktatn cica</td>\n",
       "      <td>husky szoktatn cica a cic először kutyus össz ...</td>\n",
       "      <td>Persze, hogy össze lehet.A kutyának az első pi...</td>\n",
       "      <td>Állatok</td>\n",
       "      <td>Kutyák</td>\n",
       "      <td>train</td>\n",
       "    </tr>\n",
       "    <tr>\n",
       "      <th>3</th>\n",
       "      <td>vadász venne vizsl hobb cél elvinne vadászat i...</td>\n",
       "      <td>vadász venne vizsl hobb cél elvinne vadászat i...</td>\n",
       "      <td>Normál esetben egy jó idegrendszerű kutyát nem...</td>\n",
       "      <td>Állatok</td>\n",
       "      <td>Kutyák</td>\n",
       "      <td>train</td>\n",
       "    </tr>\n",
       "    <tr>\n",
       "      <th>4</th>\n",
       "      <td>elszállásolhat kuty panellakás nap</td>\n",
       "      <td>elszállásolhat kuty panellakás nap a testvérem...</td>\n",
       "      <td>Az a házirend rész érvénytelen, amiben ilyent ...</td>\n",
       "      <td>Állatok</td>\n",
       "      <td>Egyéb kérdések</td>\n",
       "      <td>train</td>\n",
       "    </tr>\n",
       "  </tbody>\n",
       "</table>\n",
       "</div>"
      ],
      "text/plain": [
       "                                      short_question  \\\n",
       "0         nagy terül őrzés kuty javasolnát bőveb len   \n",
       "1      az álllatorvos al elérn ez szerintet normális   \n",
       "2                                husky szoktatn cica   \n",
       "3  vadász venne vizsl hobb cél elvinne vadászat i...   \n",
       "4                 elszállásolhat kuty panellakás nap   \n",
       "\n",
       "                                       long_question  \\\n",
       "0  nagy terül őrzés kuty javasolnát bőveb len rég...   \n",
       "1  az álllatorvos al elérn ez szerintet normális ...   \n",
       "2  husky szoktatn cica a cic először kutyus össz ...   \n",
       "3  vadász venne vizsl hobb cél elvinne vadászat i...   \n",
       "4  elszállásolhat kuty panellakás nap a testvérem...   \n",
       "\n",
       "                                              answer main_category  \\\n",
       "0  A komondor/kuvasz páros kimondottan ezekre a f...       Állatok   \n",
       "1                        Keress másik orvost. Ennyi.       Állatok   \n",
       "2  Persze, hogy össze lehet.A kutyának az első pi...       Állatok   \n",
       "3  Normál esetben egy jó idegrendszerű kutyát nem...       Állatok   \n",
       "4  Az a házirend rész érvénytelen, amiben ilyent ...       Állatok   \n",
       "\n",
       "     sub_category  split  \n",
       "0          Kutyák  train  \n",
       "1  Egyéb kérdések    val  \n",
       "2          Kutyák  train  \n",
       "3          Kutyák  train  \n",
       "4  Egyéb kérdések  train  "
      ]
     },
     "execution_count": 56,
     "metadata": {},
     "output_type": "execute_result"
    }
   ],
   "source": [
    "dataframes['stemmed_filtered'].head()"
   ]
  },
  {
   "cell_type": "code",
   "execution_count": 57,
   "id": "ace90fc3",
   "metadata": {},
   "outputs": [
    {
     "name": "stdout",
     "output_type": "stream",
     "text": [
      "Creating .data/faq_with_splits_tokenized.csv\n",
      "Creating .data/faq_with_splits_stemmed.csv\n",
      "Creating .data/faq_with_splits_lemmatized.csv\n",
      "Creating .data/faq_with_splits_filtered.csv\n",
      "Creating .data/faq_with_splits_stemmed_filtered.csv\n",
      "Creating .data/faq_with_splits_lemmatized_filtered.csv\n"
     ]
    }
   ],
   "source": [
    "for dataframe_key in dataframes:\n",
    "    filename = f\"{args.output_processed_csv_prefix}{dataframe_key}.csv\"\n",
    "    print(f\"Creating {filename}\")\n",
    "    dataframes[dataframe_key].to_csv(filename, index=False, encoding='utf-8', errors='ignore')"
   ]
  }
 ],
 "metadata": {
  "kernelspec": {
   "display_name": "Python 3 (ipykernel)",
   "language": "python",
   "name": "python3"
  },
  "language_info": {
   "codemirror_mode": {
    "name": "ipython",
    "version": 3
   },
   "file_extension": ".py",
   "mimetype": "text/x-python",
   "name": "python",
   "nbconvert_exporter": "python",
   "pygments_lexer": "ipython3",
   "version": "3.9.7"
  }
 },
 "nbformat": 4,
 "nbformat_minor": 5
}
