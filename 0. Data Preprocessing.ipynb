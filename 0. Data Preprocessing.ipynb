{
 "cells": [
  {
   "cell_type": "code",
   "execution_count": 12,
   "metadata": {},
   "outputs": [],
   "source": [
    "import collections\n",
    "import numpy as np\n",
    "import pandas as pd\n",
    "import re\n",
    "import glob\n",
    "import json\n",
    "\n",
    "from argparse import Namespace\n",
    "\n",
    "from torchtext.utils import download_from_url, extract_archive"
   ]
  },
  {
   "cell_type": "code",
   "execution_count": 13,
   "metadata": {},
   "outputs": [],
   "source": [
    "dataset_tar = download_from_url('https://drive.google.com/uc?id=1k7GfVRqrHFK00ABkit0oGQo62fCakMSZ', root='.data/')\n",
    "extracted_files = extract_archive(dataset_tar)"
   ]
  },
  {
   "cell_type": "code",
   "execution_count": 14,
   "metadata": {},
   "outputs": [],
   "source": [
    "args = Namespace(\n",
    "    train_proportion=0.7,\n",
    "    val_proportion=0.15,\n",
    "    test_proportion=0.15,\n",
    "    output_munged_csv=\".data/faq_with_splits.csv\",\n",
    "    seed=1234,\n",
    "    min_questions_per_category=3000\n",
    ")"
   ]
  },
  {
   "cell_type": "code",
   "execution_count": 15,
   "metadata": {},
   "outputs": [],
   "source": [
    "def find_files(path):\n",
    "    return glob.glob(path)\n",
    "\n",
    "def read_json(filename):\n",
    "    with open(filename) as json_file:\n",
    "        data = json.load(json_file)\n",
    "    return data"
   ]
  },
  {
   "cell_type": "code",
   "execution_count": 16,
   "metadata": {},
   "outputs": [
    {
     "name": "stdout",
     "output_type": "stream",
     "text": [
      "Reading file: data/gyakori_egeszseg_20000\n",
      "Reading file: data/gyakori_egeszseg\n",
      "Reading file: data/gyakori_szamitastechnika\n",
      "Reading file: data/gyakori_szorakozas_30000\n",
      "Reading file: data/gyakori_allatok_14000\n"
     ]
    }
   ],
   "source": [
    "json_data = []\n",
    "\n",
    "for file in find_files('data/gyakori_*'):\n",
    "    print(\"Reading file:\", file)\n",
    "    json_data.append(read_json(file))\n",
    "    \n",
    "faq = pd.DataFrame()\n",
    "\n",
    "for data in json_data:\n",
    "    frames  = [faq, pd.DataFrame(data)]\n",
    "    faq = pd.concat(frames).reset_index(drop=True)"
   ]
  },
  {
   "cell_type": "code",
   "execution_count": 17,
   "metadata": {},
   "outputs": [
    {
     "data": {
      "text/html": [
       "<div>\n",
       "<style scoped>\n",
       "    .dataframe tbody tr th:only-of-type {\n",
       "        vertical-align: middle;\n",
       "    }\n",
       "\n",
       "    .dataframe tbody tr th {\n",
       "        vertical-align: top;\n",
       "    }\n",
       "\n",
       "    .dataframe thead th {\n",
       "        text-align: right;\n",
       "    }\n",
       "</style>\n",
       "<table border=\"1\" class=\"dataframe\">\n",
       "  <thead>\n",
       "    <tr style=\"text-align: right;\">\n",
       "      <th></th>\n",
       "      <th>keywords</th>\n",
       "      <th>hosszu_kerdes</th>\n",
       "      <th>valasz</th>\n",
       "      <th>rovid_kerdes</th>\n",
       "      <th>kategoriak</th>\n",
       "    </tr>\n",
       "  </thead>\n",
       "  <tbody>\n",
       "    <tr>\n",
       "      <th>0</th>\n",
       "      <td>[inzulinrezisztencia, diéta, reggeli]</td>\n",
       "      <td>Inzulinrezisztencia diétában mennyire kell kom...</td>\n",
       "      <td>Eléggé. Az ébredéstől egy órán belül meg kelle...</td>\n",
       "      <td>Inzulinrezisztencia diétában mennyire kell kom...</td>\n",
       "      <td>[Egészség, Táplálkozás]</td>\n",
       "    </tr>\n",
       "    <tr>\n",
       "      <th>1</th>\n",
       "      <td>[nőgyógyászat, kivizsgálás, fájdalom, magánren...</td>\n",
       "      <td>Ha Borsod megyei vagyok, attól még mehetek mag...</td>\n",
       "      <td>Akárkihez mehetsz, akárhol.</td>\n",
       "      <td>Ha Borsod megyei vagyok, attól még mehetek mag...</td>\n",
       "      <td>[Egészség, Nők egészsége]</td>\n",
       "    </tr>\n",
       "    <tr>\n",
       "      <th>2</th>\n",
       "      <td>[növény, halál]</td>\n",
       "      <td>Melyik az a növény amelyet, ha bent tartasz a ...</td>\n",
       "      <td>Az akasztó FA.</td>\n",
       "      <td>Melyik az a növény amelyet, ha bent tartasz a ...</td>\n",
       "      <td>[Egészség, Egyéb kérdések]</td>\n",
       "    </tr>\n",
       "    <tr>\n",
       "      <th>3</th>\n",
       "      <td>[fibróma, eltávolítás, tépés]</td>\n",
       "      <td>Fibróma eltávolítás házilag, így szabad? Van a...</td>\n",
       "      <td>Ha tényleg az, nyugodtan leszedheted. Gyakran ...</td>\n",
       "      <td>Fibróma eltávolítás házilag, így szabad?</td>\n",
       "      <td>[Egészség, Betegségek]</td>\n",
       "    </tr>\n",
       "    <tr>\n",
       "      <th>4</th>\n",
       "      <td>[élet, víz, egészség, folyadék]</td>\n",
       "      <td>Ti meg tudtok inni egy nap minimum 2 lier vize...</td>\n",
       "      <td>Igen, én megiszok annyit, de nem azért mert er...</td>\n",
       "      <td>Ti meg tudtok inni egy nap minimum 2 lier vizet?</td>\n",
       "      <td>[Egészség, Táplálkozás]</td>\n",
       "    </tr>\n",
       "  </tbody>\n",
       "</table>\n",
       "</div>"
      ],
      "text/plain": [
       "                                            keywords  \\\n",
       "0              [inzulinrezisztencia, diéta, reggeli]   \n",
       "1  [nőgyógyászat, kivizsgálás, fájdalom, magánren...   \n",
       "2                                    [növény, halál]   \n",
       "3                      [fibróma, eltávolítás, tépés]   \n",
       "4                    [élet, víz, egészség, folyadék]   \n",
       "\n",
       "                                       hosszu_kerdes  \\\n",
       "0  Inzulinrezisztencia diétában mennyire kell kom...   \n",
       "1  Ha Borsod megyei vagyok, attól még mehetek mag...   \n",
       "2  Melyik az a növény amelyet, ha bent tartasz a ...   \n",
       "3  Fibróma eltávolítás házilag, így szabad? Van a...   \n",
       "4  Ti meg tudtok inni egy nap minimum 2 lier vize...   \n",
       "\n",
       "                                              valasz  \\\n",
       "0  Eléggé. Az ébredéstől egy órán belül meg kelle...   \n",
       "1                        Akárkihez mehetsz, akárhol.   \n",
       "2                                     Az akasztó FA.   \n",
       "3  Ha tényleg az, nyugodtan leszedheted. Gyakran ...   \n",
       "4  Igen, én megiszok annyit, de nem azért mert er...   \n",
       "\n",
       "                                        rovid_kerdes  \\\n",
       "0  Inzulinrezisztencia diétában mennyire kell kom...   \n",
       "1  Ha Borsod megyei vagyok, attól még mehetek mag...   \n",
       "2  Melyik az a növény amelyet, ha bent tartasz a ...   \n",
       "3           Fibróma eltávolítás házilag, így szabad?   \n",
       "4   Ti meg tudtok inni egy nap minimum 2 lier vizet?   \n",
       "\n",
       "                   kategoriak  \n",
       "0     [Egészség, Táplálkozás]  \n",
       "1   [Egészség, Nők egészsége]  \n",
       "2  [Egészség, Egyéb kérdések]  \n",
       "3      [Egészség, Betegségek]  \n",
       "4     [Egészség, Táplálkozás]  "
      ]
     },
     "execution_count": 17,
     "metadata": {},
     "output_type": "execute_result"
    }
   ],
   "source": [
    "faq.head()"
   ]
  },
  {
   "cell_type": "code",
   "execution_count": 18,
   "metadata": {},
   "outputs": [
    {
     "data": {
      "text/html": [
       "<div>\n",
       "<style scoped>\n",
       "    .dataframe tbody tr th:only-of-type {\n",
       "        vertical-align: middle;\n",
       "    }\n",
       "\n",
       "    .dataframe tbody tr th {\n",
       "        vertical-align: top;\n",
       "    }\n",
       "\n",
       "    .dataframe thead th {\n",
       "        text-align: right;\n",
       "    }\n",
       "</style>\n",
       "<table border=\"1\" class=\"dataframe\">\n",
       "  <thead>\n",
       "    <tr style=\"text-align: right;\">\n",
       "      <th></th>\n",
       "      <th>keywords</th>\n",
       "      <th>long_question</th>\n",
       "      <th>answer</th>\n",
       "      <th>short_question</th>\n",
       "      <th>main_category</th>\n",
       "      <th>sub_category</th>\n",
       "    </tr>\n",
       "  </thead>\n",
       "  <tbody>\n",
       "    <tr>\n",
       "      <th>0</th>\n",
       "      <td>[inzulinrezisztencia, diéta, reggeli]</td>\n",
       "      <td>Inzulinrezisztencia diétában mennyire kell kom...</td>\n",
       "      <td>Eléggé. Az ébredéstől egy órán belül meg kelle...</td>\n",
       "      <td>Inzulinrezisztencia diétában mennyire kell kom...</td>\n",
       "      <td>Egészség</td>\n",
       "      <td>Táplálkozás</td>\n",
       "    </tr>\n",
       "    <tr>\n",
       "      <th>1</th>\n",
       "      <td>[nőgyógyászat, kivizsgálás, fájdalom, magánren...</td>\n",
       "      <td>Ha Borsod megyei vagyok, attól még mehetek mag...</td>\n",
       "      <td>Akárkihez mehetsz, akárhol.</td>\n",
       "      <td>Ha Borsod megyei vagyok, attól még mehetek mag...</td>\n",
       "      <td>Egészség</td>\n",
       "      <td>Nők egészsége</td>\n",
       "    </tr>\n",
       "    <tr>\n",
       "      <th>2</th>\n",
       "      <td>[növény, halál]</td>\n",
       "      <td>Melyik az a növény amelyet, ha bent tartasz a ...</td>\n",
       "      <td>Az akasztó FA.</td>\n",
       "      <td>Melyik az a növény amelyet, ha bent tartasz a ...</td>\n",
       "      <td>Egészség</td>\n",
       "      <td>Egyéb kérdések</td>\n",
       "    </tr>\n",
       "    <tr>\n",
       "      <th>3</th>\n",
       "      <td>[fibróma, eltávolítás, tépés]</td>\n",
       "      <td>Fibróma eltávolítás házilag, így szabad? Van a...</td>\n",
       "      <td>Ha tényleg az, nyugodtan leszedheted. Gyakran ...</td>\n",
       "      <td>Fibróma eltávolítás házilag, így szabad?</td>\n",
       "      <td>Egészség</td>\n",
       "      <td>Betegségek</td>\n",
       "    </tr>\n",
       "    <tr>\n",
       "      <th>4</th>\n",
       "      <td>[élet, víz, egészség, folyadék]</td>\n",
       "      <td>Ti meg tudtok inni egy nap minimum 2 lier vize...</td>\n",
       "      <td>Igen, én megiszok annyit, de nem azért mert er...</td>\n",
       "      <td>Ti meg tudtok inni egy nap minimum 2 lier vizet?</td>\n",
       "      <td>Egészség</td>\n",
       "      <td>Táplálkozás</td>\n",
       "    </tr>\n",
       "  </tbody>\n",
       "</table>\n",
       "</div>"
      ],
      "text/plain": [
       "                                            keywords  \\\n",
       "0              [inzulinrezisztencia, diéta, reggeli]   \n",
       "1  [nőgyógyászat, kivizsgálás, fájdalom, magánren...   \n",
       "2                                    [növény, halál]   \n",
       "3                      [fibróma, eltávolítás, tépés]   \n",
       "4                    [élet, víz, egészség, folyadék]   \n",
       "\n",
       "                                       long_question  \\\n",
       "0  Inzulinrezisztencia diétában mennyire kell kom...   \n",
       "1  Ha Borsod megyei vagyok, attól még mehetek mag...   \n",
       "2  Melyik az a növény amelyet, ha bent tartasz a ...   \n",
       "3  Fibróma eltávolítás házilag, így szabad? Van a...   \n",
       "4  Ti meg tudtok inni egy nap minimum 2 lier vize...   \n",
       "\n",
       "                                              answer  \\\n",
       "0  Eléggé. Az ébredéstől egy órán belül meg kelle...   \n",
       "1                        Akárkihez mehetsz, akárhol.   \n",
       "2                                     Az akasztó FA.   \n",
       "3  Ha tényleg az, nyugodtan leszedheted. Gyakran ...   \n",
       "4  Igen, én megiszok annyit, de nem azért mert er...   \n",
       "\n",
       "                                      short_question main_category  \\\n",
       "0  Inzulinrezisztencia diétában mennyire kell kom...      Egészség   \n",
       "1  Ha Borsod megyei vagyok, attól még mehetek mag...      Egészség   \n",
       "2  Melyik az a növény amelyet, ha bent tartasz a ...      Egészség   \n",
       "3           Fibróma eltávolítás házilag, így szabad?      Egészség   \n",
       "4   Ti meg tudtok inni egy nap minimum 2 lier vizet?      Egészség   \n",
       "\n",
       "     sub_category  \n",
       "0     Táplálkozás  \n",
       "1   Nők egészsége  \n",
       "2  Egyéb kérdések  \n",
       "3      Betegségek  \n",
       "4     Táplálkozás  "
      ]
     },
     "execution_count": 18,
     "metadata": {},
     "output_type": "execute_result"
    }
   ],
   "source": [
    "faq.rename(columns = {\n",
    "        \"valasz\": \"answer\",\n",
    "        \"kategoriak\": \"categories\",\n",
    "        \"hosszu_kerdes\": \"long_question\",\n",
    "        \"rovid_kerdes\": \"short_question\"\n",
    "    }, inplace = True)\n",
    "\n",
    "\n",
    "faq['main_category'] = faq.apply(lambda row: row.categories[0], axis = 1)\n",
    "faq['sub_category'] = faq.apply(lambda row: row.categories[1], axis = 1)\n",
    "\n",
    "faq.drop('categories', axis = 1, inplace = True)\n",
    "\n",
    "faq.head()"
   ]
  },
  {
   "cell_type": "code",
   "execution_count": 19,
   "metadata": {},
   "outputs": [
    {
     "name": "stdout",
     "output_type": "stream",
     "text": [
      "{'Gyerekvállalás, nevelés', 'Szórakozás', 'Számítástechnika', 'Egészség', 'Állatok'}\n"
     ]
    }
   ],
   "source": [
    "categories = set(faq.main_category)\n",
    "print(categories)"
   ]
  },
  {
   "cell_type": "code",
   "execution_count": 20,
   "metadata": {},
   "outputs": [],
   "source": [
    "for category in categories:\n",
    "    category_size = faq[faq.main_category == category].shape[0]\n",
    "    if category_size < args.min_questions_per_category:\n",
    "        faq = faq[faq.main_category != category]"
   ]
  },
  {
   "cell_type": "code",
   "execution_count": 21,
   "metadata": {},
   "outputs": [],
   "source": [
    "import unidecode\n",
    "def unicode_to_ascii(data):\n",
    "    return unidecode.unidecode(re.sub(r\"[,.;@#?!&$]+\\ *\", \" \", data).lower())"
   ]
  },
  {
   "cell_type": "code",
   "execution_count": 22,
   "metadata": {},
   "outputs": [
    {
     "name": "stderr",
     "output_type": "stream",
     "text": [
      "/home/versenyi98/.local/lib/python3.6/site-packages/unidecode/__init__.py:50: RuntimeWarning: Surrogate character '\\ud83d' will be ignored. You might be using a narrow Python build.\n",
      "  return _unidecode(string)\n",
      "/home/versenyi98/.local/lib/python3.6/site-packages/unidecode/__init__.py:50: RuntimeWarning: Surrogate character '\\ude0f' will be ignored. You might be using a narrow Python build.\n",
      "  return _unidecode(string)\n"
     ]
    }
   ],
   "source": [
    "faq.long_question = faq.long_question.apply(lambda x: unicode_to_ascii(x))\n",
    "faq.short_question = faq.short_question.apply(lambda x: unicode_to_ascii(x))\n",
    "faq.answer = faq.answer.apply(lambda x: unicode_to_ascii(x))"
   ]
  },
  {
   "cell_type": "code",
   "execution_count": 23,
   "metadata": {},
   "outputs": [],
   "source": [
    "by_main_category = collections.defaultdict(list)\n",
    "\n",
    "for _, row in faq.iterrows():\n",
    "    by_main_category[row.main_category].append(row.to_dict())"
   ]
  },
  {
   "cell_type": "code",
   "execution_count": 24,
   "metadata": {},
   "outputs": [],
   "source": [
    "final_list = []\n",
    "np.random.seed(args.seed)\n",
    "\n",
    "for _, item_list in sorted(by_main_category.items()):\n",
    "    np.random.shuffle(item_list)\n",
    "    n = len(item_list)\n",
    "    n_train = int(args.train_proportion * n)\n",
    "    n_val = int(args.val_proportion * n)\n",
    "    n_test = int(args.test_proportion * n)\n",
    "    \n",
    "    for item in item_list[:n_train]:\n",
    "        item['split'] = 'train'\n",
    "    for item in item_list[n_train:n_train+n_val]:\n",
    "        item['split'] = 'val'\n",
    "    for item in item_list[n_train+n_val:]:\n",
    "        item['split'] = 'test'  \n",
    "    \n",
    "    final_list.extend(item_list)"
   ]
  },
  {
   "cell_type": "code",
   "execution_count": 25,
   "metadata": {},
   "outputs": [],
   "source": [
    "final_faq = pd.DataFrame(final_list)"
   ]
  },
  {
   "cell_type": "code",
   "execution_count": 26,
   "metadata": {},
   "outputs": [
    {
     "data": {
      "text/plain": [
       "train    117686\n",
       "test      25223\n",
       "val       25217\n",
       "Name: split, dtype: int64"
      ]
     },
     "execution_count": 26,
     "metadata": {},
     "output_type": "execute_result"
    }
   ],
   "source": [
    "final_faq.split.value_counts()"
   ]
  },
  {
   "cell_type": "code",
   "execution_count": 27,
   "metadata": {},
   "outputs": [
    {
     "data": {
      "text/html": [
       "<div>\n",
       "<style scoped>\n",
       "    .dataframe tbody tr th:only-of-type {\n",
       "        vertical-align: middle;\n",
       "    }\n",
       "\n",
       "    .dataframe tbody tr th {\n",
       "        vertical-align: top;\n",
       "    }\n",
       "\n",
       "    .dataframe thead th {\n",
       "        text-align: right;\n",
       "    }\n",
       "</style>\n",
       "<table border=\"1\" class=\"dataframe\">\n",
       "  <thead>\n",
       "    <tr style=\"text-align: right;\">\n",
       "      <th></th>\n",
       "      <th>keywords</th>\n",
       "      <th>long_question</th>\n",
       "      <th>answer</th>\n",
       "      <th>short_question</th>\n",
       "      <th>main_category</th>\n",
       "      <th>sub_category</th>\n",
       "      <th>split</th>\n",
       "    </tr>\n",
       "  </thead>\n",
       "  <tbody>\n",
       "    <tr>\n",
       "      <th>0</th>\n",
       "      <td>[here, herecsavarodás]</td>\n",
       "      <td>here torzio here csavarodas honnan tudhatom ho...</td>\n",
       "      <td>a herek meg osszekeveredni helyuket felcsereln...</td>\n",
       "      <td>here torzio here csavarodas honnan tudhatom ho...</td>\n",
       "      <td>Egészség</td>\n",
       "      <td>Férfiak egészsége</td>\n",
       "      <td>train</td>\n",
       "    </tr>\n",
       "    <tr>\n",
       "      <th>1</th>\n",
       "      <td>[természetgyógyászat, kínai gyógyászat]</td>\n",
       "      <td>tenyleg olyan jo hatassal vannak az emberi ege...</td>\n",
       "      <td>elso vagyok eloszor is bocsanatot kerek az elo...</td>\n",
       "      <td>tenyleg olyan jo hatassal vannak az emberi ege...</td>\n",
       "      <td>Egészség</td>\n",
       "      <td>Bio életmód</td>\n",
       "      <td>train</td>\n",
       "    </tr>\n",
       "    <tr>\n",
       "      <th>2</th>\n",
       "      <td>[mentális, betegség, randi, érzés, reakció]</td>\n",
       "      <td>szeretek jatszani az emberekkel vannak masok i...</td>\n",
       "      <td>az utolso egy paraszt szard le nyugi en is ezt...</td>\n",
       "      <td>szeretek jatszani az emberekkel vannak masok i...</td>\n",
       "      <td>Egészség</td>\n",
       "      <td>Mentális egészség</td>\n",
       "      <td>train</td>\n",
       "    </tr>\n",
       "    <tr>\n",
       "      <th>3</th>\n",
       "      <td>[foghúzás, tömés, fúrás, orvos]</td>\n",
       "      <td>ha a korzeti fogorvos huzast mond akkor a szaj...</td>\n",
       "      <td>igy van menj el maganhoz az allapotfelmeres mi...</td>\n",
       "      <td>ha a korzeti fogorvos huzast mond akkor a\\nsza...</td>\n",
       "      <td>Egészség</td>\n",
       "      <td>Fogak, szájápolás</td>\n",
       "      <td>train</td>\n",
       "    </tr>\n",
       "    <tr>\n",
       "      <th>4</th>\n",
       "      <td>[Béres csepp, zöld tea, tea]</td>\n",
       "      <td>a beres csepp reakcioba lephet a zoldteaval ma...</td>\n",
       "      <td>a tea csersavtartalmaval reakcioba lep a beres...</td>\n",
       "      <td>a beres csepp reakcioba lephet a zoldteaval</td>\n",
       "      <td>Egészség</td>\n",
       "      <td>Egyéb kérdések</td>\n",
       "      <td>train</td>\n",
       "    </tr>\n",
       "  </tbody>\n",
       "</table>\n",
       "</div>"
      ],
      "text/plain": [
       "                                      keywords  \\\n",
       "0                       [here, herecsavarodás]   \n",
       "1      [természetgyógyászat, kínai gyógyászat]   \n",
       "2  [mentális, betegség, randi, érzés, reakció]   \n",
       "3              [foghúzás, tömés, fúrás, orvos]   \n",
       "4                 [Béres csepp, zöld tea, tea]   \n",
       "\n",
       "                                       long_question  \\\n",
       "0  here torzio here csavarodas honnan tudhatom ho...   \n",
       "1  tenyleg olyan jo hatassal vannak az emberi ege...   \n",
       "2  szeretek jatszani az emberekkel vannak masok i...   \n",
       "3  ha a korzeti fogorvos huzast mond akkor a szaj...   \n",
       "4  a beres csepp reakcioba lephet a zoldteaval ma...   \n",
       "\n",
       "                                              answer  \\\n",
       "0  a herek meg osszekeveredni helyuket felcsereln...   \n",
       "1  elso vagyok eloszor is bocsanatot kerek az elo...   \n",
       "2  az utolso egy paraszt szard le nyugi en is ezt...   \n",
       "3  igy van menj el maganhoz az allapotfelmeres mi...   \n",
       "4  a tea csersavtartalmaval reakcioba lep a beres...   \n",
       "\n",
       "                                      short_question main_category  \\\n",
       "0  here torzio here csavarodas honnan tudhatom ho...      Egészség   \n",
       "1  tenyleg olyan jo hatassal vannak az emberi ege...      Egészség   \n",
       "2  szeretek jatszani az emberekkel vannak masok i...      Egészség   \n",
       "3  ha a korzeti fogorvos huzast mond akkor a\\nsza...      Egészség   \n",
       "4       a beres csepp reakcioba lephet a zoldteaval       Egészség   \n",
       "\n",
       "        sub_category  split  \n",
       "0  Férfiak egészsége  train  \n",
       "1        Bio életmód  train  \n",
       "2  Mentális egészség  train  \n",
       "3  Fogak, szájápolás  train  \n",
       "4     Egyéb kérdések  train  "
      ]
     },
     "execution_count": 27,
     "metadata": {},
     "output_type": "execute_result"
    }
   ],
   "source": [
    "final_faq.head()"
   ]
  },
  {
   "cell_type": "code",
   "execution_count": 28,
   "metadata": {},
   "outputs": [],
   "source": [
    "final_faq.to_csv(args.output_munged_csv, index=False)"
   ]
  }
 ],
 "metadata": {
  "kernelspec": {
   "display_name": "Python 3",
   "language": "python",
   "name": "python3"
  },
  "language_info": {
   "codemirror_mode": {
    "name": "ipython",
    "version": 3
   },
   "file_extension": ".py",
   "mimetype": "text/x-python",
   "name": "python",
   "nbconvert_exporter": "python",
   "pygments_lexer": "ipython3",
   "version": "3.6.9"
  }
 },
 "nbformat": 4,
 "nbformat_minor": 5
}
