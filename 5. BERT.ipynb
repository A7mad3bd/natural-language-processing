{
 "cells": [
  {
   "cell_type": "code",
   "execution_count": 28,
   "id": "be79b16b",
   "metadata": {},
   "outputs": [],
   "source": [
    "import random\n",
    "\n",
    "\n",
    "import numpy as np\n",
    "import pandas as pd\n",
    "\n",
    "import torch\n",
    "from torch.utils.data import TensorDataset, DataLoader, RandomSampler, SequentialSampler\n",
    "import torch.nn as nn\n",
    "\n",
    "from transformers import BertTokenizerFast, BertForSequenceClassification, AutoTokenizer, AutoModel, AdamW, get_linear_schedule_with_warmup\n",
    "\n",
    "from sklearn.utils.class_weight import compute_class_weight\n",
    "from sklearn.metrics import f1_score, balanced_accuracy_score, confusion_matrix, classification_report\n",
    "\n",
    "from tqdm.notebook import tqdm\n",
    "\n",
    "import seaborn as sn\n",
    "\n",
    "import matplotlib.pyplot as plt"
   ]
  },
  {
   "cell_type": "code",
   "execution_count": 2,
   "id": "0b2372f2",
   "metadata": {},
   "outputs": [],
   "source": [
    "SEED = 1234\n",
    "random.seed(SEED)\n",
    "np.random.seed(SEED)\n",
    "torch.manual_seed(SEED)\n",
    "torch.cuda.manual_seed_all(SEED)"
   ]
  },
  {
   "cell_type": "code",
   "execution_count": 3,
   "id": "9dddc9e9",
   "metadata": {},
   "outputs": [],
   "source": [
    "tokenizer = BertTokenizerFast.from_pretrained('bert-base-multilingual-uncased')"
   ]
  },
  {
   "cell_type": "code",
   "execution_count": 4,
   "id": "20860c51",
   "metadata": {},
   "outputs": [],
   "source": [
    "df = pd.read_csv('.data/faq_with_splits_lemmatized_filtered.csv')"
   ]
  },
  {
   "cell_type": "code",
   "execution_count": 5,
   "id": "4e01281c",
   "metadata": {},
   "outputs": [
    {
     "data": {
      "text/html": [
       "<div>\n",
       "<style scoped>\n",
       "    .dataframe tbody tr th:only-of-type {\n",
       "        vertical-align: middle;\n",
       "    }\n",
       "\n",
       "    .dataframe tbody tr th {\n",
       "        vertical-align: top;\n",
       "    }\n",
       "\n",
       "    .dataframe thead th {\n",
       "        text-align: right;\n",
       "    }\n",
       "</style>\n",
       "<table border=\"1\" class=\"dataframe\">\n",
       "  <thead>\n",
       "    <tr style=\"text-align: right;\">\n",
       "      <th></th>\n",
       "      <th>answer</th>\n",
       "      <th>long_question</th>\n",
       "      <th>short_question</th>\n",
       "      <th>keywords</th>\n",
       "      <th>main_category</th>\n",
       "      <th>sub_category</th>\n",
       "      <th>split</th>\n",
       "    </tr>\n",
       "  </thead>\n",
       "  <tbody>\n",
       "    <tr>\n",
       "      <th>0</th>\n",
       "      <td>Öreg.14 èves korom òta dolgozok,hogy amit a cs...</td>\n",
       "      <td>Írnátok nekem valami biztatót? Miután pár napj...</td>\n",
       "      <td>írnátok biztató</td>\n",
       "      <td>['depresszió', 'gödör', 'szerelem', 'bánat']</td>\n",
       "      <td>Egészség</td>\n",
       "      <td>Mentális egészség</td>\n",
       "      <td>train</td>\n",
       "    </tr>\n",
       "    <tr>\n",
       "      <th>1</th>\n",
       "      <td>2-esre ne hallgass.Segíteni fog, az AD másképp...</td>\n",
       "      <td>Vehetek be az antidepresszánssal egy időben ny...</td>\n",
       "      <td>vehet antidepresszáns idő nyugtató</td>\n",
       "      <td>['antidepresszáns', 'tea', 'nyugtató', 'gyógyn...</td>\n",
       "      <td>Egészség</td>\n",
       "      <td>Mentális egészség</td>\n",
       "      <td>train</td>\n",
       "    </tr>\n",
       "    <tr>\n",
       "      <th>2</th>\n",
       "      <td>Csak a hülyeséggel nem kell feküdni, azt lábon...</td>\n",
       "      <td>Azt halottam tüdőgyulladással nem nagyon kell ...</td>\n",
       "      <td>az halik tüdőgyulladás fekszik vese gyulladás ...</td>\n",
       "      <td>['tüdőgyulladás', 'vesegyulladás']</td>\n",
       "      <td>Egészség</td>\n",
       "      <td>Betegségek</td>\n",
       "      <td>train</td>\n",
       "    </tr>\n",
       "    <tr>\n",
       "      <th>3</th>\n",
       "      <td>Ignoráld. A közösségek ilyenek, kinéznek valak...</td>\n",
       "      <td>Mit csináljak, ha szekál az osztályom a miatt,...</td>\n",
       "      <td>mi csinál ha szekál osztály miatt sokatvagy be...</td>\n",
       "      <td>['szekálás', 'betegség', 'pajzsmirigy', 'hiány...</td>\n",
       "      <td>Egészség</td>\n",
       "      <td>Immunrendszer, fertőzések</td>\n",
       "      <td>train</td>\n",
       "    </tr>\n",
       "    <tr>\n",
       "      <th>4</th>\n",
       "      <td>Kedves kérdező!!Először is nem tudom hány éves...</td>\n",
       "      <td>Hirtelen nagyon erős lett a vérzésem, egyik pe...</td>\n",
       "      <td>hirtelen erős vérzésem perc amásikra ömlik kez...</td>\n",
       "      <td>['vérzés', 'darabos', 'nőgyógyász']</td>\n",
       "      <td>Egészség</td>\n",
       "      <td>Nők egészsége</td>\n",
       "      <td>train</td>\n",
       "    </tr>\n",
       "  </tbody>\n",
       "</table>\n",
       "</div>"
      ],
      "text/plain": [
       "                                              answer  \\\n",
       "0  Öreg.14 èves korom òta dolgozok,hogy amit a cs...   \n",
       "1  2-esre ne hallgass.Segíteni fog, az AD másképp...   \n",
       "2  Csak a hülyeséggel nem kell feküdni, azt lábon...   \n",
       "3  Ignoráld. A közösségek ilyenek, kinéznek valak...   \n",
       "4  Kedves kérdező!!Először is nem tudom hány éves...   \n",
       "\n",
       "                                       long_question  \\\n",
       "0  Írnátok nekem valami biztatót? Miután pár napj...   \n",
       "1  Vehetek be az antidepresszánssal egy időben ny...   \n",
       "2  Azt halottam tüdőgyulladással nem nagyon kell ...   \n",
       "3  Mit csináljak, ha szekál az osztályom a miatt,...   \n",
       "4  Hirtelen nagyon erős lett a vérzésem, egyik pe...   \n",
       "\n",
       "                                      short_question  \\\n",
       "0                                    írnátok biztató   \n",
       "1                 vehet antidepresszáns idő nyugtató   \n",
       "2  az halik tüdőgyulladás fekszik vese gyulladás ...   \n",
       "3  mi csinál ha szekál osztály miatt sokatvagy be...   \n",
       "4  hirtelen erős vérzésem perc amásikra ömlik kez...   \n",
       "\n",
       "                                            keywords main_category  \\\n",
       "0       ['depresszió', 'gödör', 'szerelem', 'bánat']      Egészség   \n",
       "1  ['antidepresszáns', 'tea', 'nyugtató', 'gyógyn...      Egészség   \n",
       "2                 ['tüdőgyulladás', 'vesegyulladás']      Egészség   \n",
       "3  ['szekálás', 'betegség', 'pajzsmirigy', 'hiány...      Egészség   \n",
       "4                ['vérzés', 'darabos', 'nőgyógyász']      Egészség   \n",
       "\n",
       "                sub_category  split  \n",
       "0          Mentális egészség  train  \n",
       "1          Mentális egészség  train  \n",
       "2                 Betegségek  train  \n",
       "3  Immunrendszer, fertőzések  train  \n",
       "4              Nők egészsége  train  "
      ]
     },
     "execution_count": 5,
     "metadata": {},
     "output_type": "execute_result"
    }
   ],
   "source": [
    "df.head()"
   ]
  },
  {
   "cell_type": "code",
   "execution_count": 6,
   "id": "0f2408dd",
   "metadata": {},
   "outputs": [],
   "source": [
    "target_names = df.main_category.unique().tolist()\n",
    "target_dict = {k: v for v, k in enumerate(target_names)}\n",
    "\n",
    "df.main_category = df.main_category.apply(lambda x: target_dict[x])"
   ]
  },
  {
   "cell_type": "code",
   "execution_count": 7,
   "id": "2b6250b7",
   "metadata": {},
   "outputs": [],
   "source": [
    "max_seq_len = 128"
   ]
  },
  {
   "cell_type": "code",
   "execution_count": 8,
   "id": "d7474632",
   "metadata": {},
   "outputs": [],
   "source": [
    "def tokenize(df):\n",
    "    return tokenizer.batch_encode_plus(\n",
    "        df.long_question.tolist(),\n",
    "        max_length = max_seq_len,\n",
    "        padding='max_length',\n",
    "        truncation=True,\n",
    "        return_token_type_ids=False\n",
    ")"
   ]
  },
  {
   "cell_type": "code",
   "execution_count": 9,
   "id": "e4fdd236",
   "metadata": {},
   "outputs": [],
   "source": [
    "valid_df = df[df.split == 'val']\n",
    "train_df = df[df.split == 'train']\n",
    "test_df = df[df.split == 'test']"
   ]
  },
  {
   "cell_type": "code",
   "execution_count": 10,
   "id": "43716dab",
   "metadata": {},
   "outputs": [],
   "source": [
    "encoded_data_train = tokenize(train_df)\n",
    "encoded_data_valid = tokenize(valid_df)\n",
    "encoded_data_test = tokenize(test_df)"
   ]
  },
  {
   "cell_type": "code",
   "execution_count": 11,
   "id": "b553bd26",
   "metadata": {},
   "outputs": [],
   "source": [
    "input_ids_train = encoded_data_train['input_ids']\n",
    "attention_masks_train = encoded_data_train['attention_mask']\n",
    "labels_train = torch.tensor(train_df.main_category.values)\n",
    "\n",
    "input_ids_valid = encoded_data_valid['input_ids']\n",
    "attention_masks_valid = encoded_data_valid['attention_mask']\n",
    "labels_valid = torch.tensor(valid_df.main_category.values)\n",
    "\n",
    "input_ids_test = encoded_data_test['input_ids']\n",
    "attention_masks_test = encoded_data_test['attention_mask']\n",
    "labels_test = torch.tensor(test_df.main_category.values)"
   ]
  },
  {
   "cell_type": "code",
   "execution_count": 12,
   "id": "487e7c9e",
   "metadata": {},
   "outputs": [],
   "source": [
    "dataset_train = TensorDataset(\n",
    "    torch.tensor(input_ids_train),\n",
    "    torch.tensor(attention_masks_train),\n",
    "    labels_train\n",
    ")\n",
    "\n",
    "dataset_valid = TensorDataset(\n",
    "    torch.tensor(input_ids_valid),\n",
    "    torch.tensor(attention_masks_valid),\n",
    "    labels_valid\n",
    ")\n",
    "\n",
    "dataset_test = TensorDataset(\n",
    "    torch.tensor(input_ids_test),\n",
    "    torch.tensor(attention_masks_test),\n",
    "    labels_test\n",
    ")"
   ]
  },
  {
   "cell_type": "code",
   "execution_count": 13,
   "id": "db19173d",
   "metadata": {},
   "outputs": [],
   "source": [
    "device = torch.device('cuda' if torch.cuda.is_available() else 'cpu')"
   ]
  },
  {
   "cell_type": "code",
   "execution_count": 14,
   "id": "f9c6d39d",
   "metadata": {},
   "outputs": [
    {
     "name": "stderr",
     "output_type": "stream",
     "text": [
      "Some weights of the model checkpoint at bert-base-multilingual-uncased were not used when initializing BertForSequenceClassification: ['cls.seq_relationship.weight', 'cls.predictions.transform.dense.weight', 'cls.predictions.decoder.weight', 'cls.seq_relationship.bias', 'cls.predictions.transform.LayerNorm.bias', 'cls.predictions.transform.dense.bias', 'cls.predictions.bias', 'cls.predictions.transform.LayerNorm.weight']\n",
      "- This IS expected if you are initializing BertForSequenceClassification from the checkpoint of a model trained on another task or with another architecture (e.g. initializing a BertForSequenceClassification model from a BertForPreTraining model).\n",
      "- This IS NOT expected if you are initializing BertForSequenceClassification from the checkpoint of a model that you expect to be exactly identical (initializing a BertForSequenceClassification model from a BertForSequenceClassification model).\n",
      "Some weights of BertForSequenceClassification were not initialized from the model checkpoint at bert-base-multilingual-uncased and are newly initialized: ['classifier.weight', 'classifier.bias']\n",
      "You should probably TRAIN this model on a down-stream task to be able to use it for predictions and inference.\n"
     ]
    }
   ],
   "source": [
    "model = BertForSequenceClassification.from_pretrained(\n",
    "    'bert-base-multilingual-uncased',\n",
    "    num_labels = 4,\n",
    "    output_attentions=False,\n",
    "    output_hidden_states=False    \n",
    ")\n",
    "\n",
    "model = model.to(device)"
   ]
  },
  {
   "cell_type": "code",
   "execution_count": 15,
   "id": "83feebe4",
   "metadata": {},
   "outputs": [],
   "source": [
    "batch_size = 16\n",
    "\n",
    "dataloader_train = DataLoader(\n",
    "    dataset_train,\n",
    "    sampler=RandomSampler(dataset_train),\n",
    "    batch_size=batch_size\n",
    ")\n",
    "\n",
    "dataloader_valid = DataLoader(\n",
    "    dataset_valid,\n",
    "    sampler=RandomSampler(dataset_valid),\n",
    "    batch_size=batch_size\n",
    ")\n",
    "\n",
    "dataloader_test = DataLoader(\n",
    "    dataset_test,\n",
    "    sampler=RandomSampler(dataset_test),\n",
    "    batch_size=batch_size\n",
    ")"
   ]
  },
  {
   "cell_type": "code",
   "execution_count": 16,
   "id": "a71be4f1",
   "metadata": {},
   "outputs": [],
   "source": [
    "optimizer = AdamW(\n",
    "    model.parameters(),\n",
    "    lr=5e-5,\n",
    "    eps=1e-8\n",
    ")\n",
    "epochs = 2\n",
    "scheduler = get_linear_schedule_with_warmup(\n",
    "    optimizer,\n",
    "    num_warmup_steps=0,\n",
    "    num_training_steps=len(dataloader_train)*epochs\n",
    ")"
   ]
  },
  {
   "cell_type": "code",
   "execution_count": 24,
   "id": "29adf744",
   "metadata": {},
   "outputs": [
    {
     "name": "stdout",
     "output_type": "stream",
     "text": [
      "[0.79470315 1.7921362  1.04246537 0.81671941]\n"
     ]
    },
    {
     "name": "stderr",
     "output_type": "stream",
     "text": [
      "/home/migeran/.local/lib/python3.8/site-packages/sklearn/utils/validation.py:70: FutureWarning: Pass classes=[0 1 2 3], y=0         0\n",
      "1         0\n",
      "2         0\n",
      "3         0\n",
      "4         0\n",
      "         ..\n",
      "152681    3\n",
      "152682    3\n",
      "152683    3\n",
      "152684    3\n",
      "152685    3\n",
      "Name: main_category, Length: 117686, dtype: int64 as keyword args. From version 1.0 (renaming of 0.25) passing these as positional arguments will result in an error\n",
      "  warnings.warn(f\"Pass {args_msg} as keyword args. From version \"\n"
     ]
    }
   ],
   "source": [
    "class_wts = compute_class_weight('balanced', np.unique(train_df.main_category), train_df.main_category)\n",
    "\n",
    "print(class_wts)"
   ]
  },
  {
   "cell_type": "code",
   "execution_count": 18,
   "id": "cc531f23",
   "metadata": {},
   "outputs": [],
   "source": [
    "weights = torch.tensor(class_wts,dtype=torch.float)\n",
    "weights = weights.to(device)\n",
    "\n",
    "cross_entropy = nn.CrossEntropyLoss(weight=weights)"
   ]
  },
  {
   "cell_type": "code",
   "execution_count": 19,
   "id": "48523e6a",
   "metadata": {},
   "outputs": [],
   "source": [
    "def f1_score_func(preds, labels):\n",
    "    preds_flat = np.argmax(preds, axis=1).flatten()\n",
    "    labels_flat = labels.flatten()\n",
    "    return f1_score(labels_flat, preds_flat, average='weighted')\n",
    "\n",
    "def accuracy(preds, labels):\n",
    "    preds_flat = np.argmax(preds, axis=1).flatten()\n",
    "    labels_flat = labels.flatten()\n",
    "    return balanced_accuracy_score(y_true=labels_flat, y_pred=preds_flat)  "
   ]
  },
  {
   "cell_type": "code",
   "execution_count": 20,
   "id": "23020e96",
   "metadata": {},
   "outputs": [],
   "source": [
    "def evaluate(dataloader):\n",
    "\n",
    "    model.eval()\n",
    "    \n",
    "    loss_val_total = 0\n",
    "    predictions_val, true_vals = [], []\n",
    "    \n",
    "    for batch in dataloader:\n",
    "        \n",
    "        batch = tuple(b.to(device) for b in batch)\n",
    "        \n",
    "        inputs = {'input_ids':      batch[0],\n",
    "                  'attention_mask': batch[1],\n",
    "                  'labels':         batch[2],\n",
    "                 }\n",
    "\n",
    "        with torch.no_grad():        \n",
    "            outputs = model(**inputs)\n",
    "            \n",
    "        # loss = outputs[0]\n",
    "        \n",
    "        logits = outputs[1]\n",
    "        loss = cross_entropy(logits, batch[2])\n",
    "\n",
    "        loss_val_total += loss.item()\n",
    "\n",
    "        logits = logits.detach().cpu().numpy()\n",
    "        label_ids = inputs['labels'].cpu().numpy()\n",
    "        predictions_val.append(logits)\n",
    "        true_vals.append(label_ids)\n",
    "    \n",
    "    loss_val_avg = loss_val_total/len(dataloader) \n",
    "    \n",
    "    predictions_val = np.concatenate(predictions_val, axis=0)\n",
    "    true_vals = np.concatenate(true_vals, axis=0)\n",
    "            \n",
    "    return loss_val_avg, predictions_val, true_vals"
   ]
  },
  {
   "cell_type": "code",
   "execution_count": 21,
   "id": "bc97ef9f",
   "metadata": {},
   "outputs": [],
   "source": [
    "def train(model, model_name):\n",
    "    true_vals = None\n",
    "    predictions_val = None\n",
    "    for epoch in tqdm(range(1, epochs+1)):\n",
    "    \n",
    "        model.train()\n",
    "    \n",
    "        loss_train_total = 0\n",
    "\n",
    "        progress_bar = tqdm(dataloader_train, desc='Epoch {:1d}'.format(epoch), leave=False, disable=False)\n",
    "        for batch in progress_bar:\n",
    "\n",
    "            model.zero_grad()\n",
    "\n",
    "            batch = tuple(b.to(device) for b in batch)\n",
    "        \n",
    "            inputs = {'input_ids':      batch[0],\n",
    "                      'attention_mask': batch[1],\n",
    "                      'labels':         batch[2],\n",
    "                     }       \n",
    "\n",
    "            outputs = model(**inputs)\n",
    "\n",
    "            logits = outputs[1]\n",
    "            loss = cross_entropy(logits, batch[2])\n",
    "\n",
    "            loss_train_total += loss.item()\n",
    "            loss.backward()\n",
    "\n",
    "            torch.nn.utils.clip_grad_norm_(model.parameters(), 1.0)\n",
    "\n",
    "            optimizer.step()\n",
    "            scheduler.step()\n",
    "\n",
    "            progress_bar.set_postfix({'training_loss': '{:.3f}'.format(loss.item()/len(batch))})\n",
    "\n",
    "\n",
    "        tqdm.write(f'\\nEpoch {epoch}')\n",
    "\n",
    "        loss_train_avg = loss_train_total/len(dataloader_train)            \n",
    "        tqdm.write(f'Training loss: {loss_train_avg}')\n",
    "\n",
    "        val_loss, predictions_val, true_vals = evaluate(dataloader_valid)\n",
    "        val_f1 = f1_score_func(predictions_val, true_vals)\n",
    "        val_bacc = accuracy(predictions_val, true_vals)\n",
    "        tqdm.write(f'Validation loss: {val_loss}')\n",
    "        tqdm.write(f'F1 Score (Weighted): {val_f1}')\n",
    "        tqdm.write(f'Balanced Accuracy Score: {val_bacc}')\n",
    "\n",
    "    torch.save(model.state_dict(), model_name)\n",
    "    return true_vals, predictions_val"
   ]
  },
  {
   "cell_type": "code",
   "execution_count": 22,
   "id": "96bab8cc",
   "metadata": {},
   "outputs": [
    {
     "data": {
      "application/vnd.jupyter.widget-view+json": {
       "model_id": "55467224f6ec481ba9fcd230f6aa91a7",
       "version_major": 2,
       "version_minor": 0
      },
      "text/plain": [
       "  0%|          | 0/2 [00:00<?, ?it/s]"
      ]
     },
     "metadata": {},
     "output_type": "display_data"
    },
    {
     "data": {
      "application/vnd.jupyter.widget-view+json": {
       "model_id": "",
       "version_major": 2,
       "version_minor": 0
      },
      "text/plain": [
       "Epoch 1:   0%|          | 0/7356 [00:00<?, ?it/s]"
      ]
     },
     "metadata": {},
     "output_type": "display_data"
    },
    {
     "name": "stdout",
     "output_type": "stream",
     "text": [
      "\n",
      "Epoch 1\n",
      "Training loss: 0.28022391155361875\n",
      "Validation loss: 0.2113908621446822\n",
      "F1 Score (Weighted): 0.9460895624285145\n",
      "Balanced Accuracy Score: 0.9383443921719861\n"
     ]
    },
    {
     "data": {
      "application/vnd.jupyter.widget-view+json": {
       "model_id": "",
       "version_major": 2,
       "version_minor": 0
      },
      "text/plain": [
       "Epoch 2:   0%|          | 0/7356 [00:00<?, ?it/s]"
      ]
     },
     "metadata": {},
     "output_type": "display_data"
    },
    {
     "name": "stdout",
     "output_type": "stream",
     "text": [
      "\n",
      "Epoch 2\n",
      "Training loss: 0.1543453729621835\n",
      "Validation loss: 0.1872785343321205\n",
      "F1 Score (Weighted): 0.9563616700256578\n",
      "Balanced Accuracy Score: 0.9490389161369526\n"
     ]
    }
   ],
   "source": [
    "truth, pred = train(model, 'finetuned_BERT.model')"
   ]
  },
  {
   "cell_type": "code",
   "execution_count": 25,
   "id": "175a8e67",
   "metadata": {},
   "outputs": [],
   "source": [
    "test_loss, predictions, truth = evaluate(dataloader_test)"
   ]
  },
  {
   "cell_type": "code",
   "execution_count": 26,
   "id": "3f6247f3",
   "metadata": {},
   "outputs": [],
   "source": [
    "cm = confusion_matrix(truth, predictions.argmax(1))\n",
    "cm_df = pd.DataFrame(cm, index=target_names, columns=target_names)"
   ]
  },
  {
   "cell_type": "code",
   "execution_count": 29,
   "id": "f2e4b408",
   "metadata": {},
   "outputs": [
    {
     "data": {
      "image/png": "[encoded data removed]",
      "text/plain": [
       "<Figure size 432x288 with 1 Axes>"
      ]
     },
     "metadata": {
      "needs_background": "light"
     },
     "output_type": "display_data"
    }
   ],
   "source": [
    "heatmap = sn.heatmap(cm_df, annot=True, cmap='Reds', fmt='g', annot_kws={\"size\": 15}, cbar=False)\n",
    "plt.show()"
   ]
  },
  {
   "cell_type": "code",
   "execution_count": 30,
   "id": "92be75d9",
   "metadata": {},
   "outputs": [
    {
     "name": "stdout",
     "output_type": "stream",
     "text": [
      "                  precision    recall  f1-score   support\n",
      "\n",
      "        Egészség       0.98      0.97      0.97      7934\n",
      "Számítástechnika       0.93      0.91      0.92      3519\n",
      "      Szórakozás       0.93      0.94      0.94      6049\n",
      "         Állatok       0.97      0.98      0.98      7721\n",
      "\n",
      "        accuracy                           0.96     25223\n",
      "       macro avg       0.95      0.95      0.95     25223\n",
      "    weighted avg       0.96      0.96      0.96     25223\n",
      "\n"
     ]
    }
   ],
   "source": [
    "class_report = classification_report(truth, predictions.argmax(1), target_names=target_names)\n",
    "print(class_report)"
   ]
  }
 ],
 "metadata": {
  "kernelspec": {
   "display_name": "Python 3 (ipykernel)",
   "language": "python",
   "name": "python3"
  },
  "language_info": {
   "codemirror_mode": {
    "name": "ipython",
    "version": 3
   },
   "file_extension": ".py",
   "mimetype": "text/x-python",
   "name": "python",
   "nbconvert_exporter": "python",
   "pygments_lexer": "ipython3",
   "version": "3.8.10"
  }
 },
 "nbformat": 4,
 "nbformat_minor": 5
}
