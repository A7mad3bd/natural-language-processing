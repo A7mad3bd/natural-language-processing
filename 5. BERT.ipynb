{
 "cells": [
  {
   "cell_type": "code",
   "execution_count": 1,
   "id": "39b356a1",
   "metadata": {
    "scrolled": true
   },
   "outputs": [],
   "source": [
    "import random\n",
    "import time \n",
    "import os\n",
    "\n",
    "import numpy as np\n",
    "import pandas as pd\n",
    "import seaborn as sn\n",
    "from argparse import Namespace\n",
    "\n",
    "import torch\n",
    "from torch.nn import CrossEntropyLoss\n",
    "from torch.utils.data import TensorDataset, DataLoader, RandomSampler\n",
    "from torch.optim import AdamW\n",
    "from transformers import BertTokenizerFast, BertForSequenceClassification, \\\n",
    "    get_linear_schedule_with_warmup, BertConfig\n",
    "\n",
    "from sklearn.utils.class_weight import compute_class_weight\n",
    "from sklearn.metrics import accuracy_score, confusion_matrix, classification_report\n",
    "\n",
    "import matplotlib.pyplot as plt\n",
    "\n",
    "from tqdm.notebook import tqdm"
   ]
  },
  {
   "cell_type": "code",
   "execution_count": 2,
   "id": "a29ed7bc",
   "metadata": {
    "scrolled": true
   },
   "outputs": [],
   "source": [
    "args = Namespace(\n",
    "    dataset_dir = \".data\",\n",
    "    dataset_prefix = \"faq_with_splits_\",\n",
    "    dataset = \"lemmatized_filtered\",\n",
    "    models = [\"bert-base-multilingual-uncased\", \"SZTAKI-HLT/hubert-base-cc\"],\n",
    "    model_save_dir = \".model_storage/BERT\",\n",
    "    model_state_file = \"model\",\n",
    "    seed = 1234,\n",
    "    num_epochs = 2,\n",
    "    learning_rate = 5e-5,\n",
    "    hidden_size = 100,\n",
    "    batch_size = 16,\n",
    "    cuda = True,\n",
    "    train_column = 'long_question'\n",
    ")"
   ]
  },
  {
   "cell_type": "code",
   "execution_count": 3,
   "id": "e1192120",
   "metadata": {
    "scrolled": true
   },
   "outputs": [
    {
     "data": {
      "text/plain": [
       "device(type='cuda')"
      ]
     },
     "execution_count": 3,
     "metadata": {},
     "output_type": "execute_result"
    }
   ],
   "source": [
    "device = torch.device('cuda' if args.cuda & torch.cuda.is_available() else 'cpu')\n",
    "device"
   ]
  },
  {
   "cell_type": "code",
   "execution_count": 4,
   "id": "4fbe683b",
   "metadata": {
    "scrolled": true
   },
   "outputs": [],
   "source": [
    "args.model_state_file = os.path.join(args.model_save_dir, args.model_state_file)"
   ]
  },
  {
   "cell_type": "code",
   "execution_count": 5,
   "id": "c586f7b6",
   "metadata": {
    "scrolled": true
   },
   "outputs": [
    {
     "name": "stdout",
     "output_type": "stream",
     "text": [
      ".model_storage/BERT directory already exists\n"
     ]
    }
   ],
   "source": [
    "if not os.path.exists(args.model_save_dir):\n",
    "    os.makedirs(args.model_save_dir)\n",
    "    print(f\"Created directory {args.model_save_dir}\")\n",
    "else:\n",
    "    print(f\"{args.model_save_dir} directory already exists\")"
   ]
  },
  {
   "cell_type": "code",
   "execution_count": 6,
   "id": "87116c39",
   "metadata": {
    "scrolled": true
   },
   "outputs": [
    {
     "name": "stdout",
     "output_type": "stream",
     "text": [
      ".data\\faq_with_splits_lemmatized_filtered\n"
     ]
    }
   ],
   "source": [
    "args.dataset = os.path.join(args.dataset_dir, args.dataset_prefix + args.dataset)\n",
    "print(args.dataset)"
   ]
  },
  {
   "cell_type": "code",
   "execution_count": 7,
   "id": "6f090921",
   "metadata": {
    "scrolled": true
   },
   "outputs": [],
   "source": [
    "random.seed(args.seed)\n",
    "np.random.seed(args.seed)\n",
    "torch.manual_seed(args.seed)\n",
    "torch.cuda.manual_seed_all(args.seed)"
   ]
  },
  {
   "cell_type": "code",
   "execution_count": 8,
   "id": "8cc17295",
   "metadata": {
    "scrolled": true
   },
   "outputs": [],
   "source": [
    "tokenizers = {}\n",
    "\n",
    "for model in args.models:\n",
    "    tokenizers[model] = BertTokenizerFast.from_pretrained(model)"
   ]
  },
  {
   "cell_type": "code",
   "execution_count": 9,
   "id": "20860c51",
   "metadata": {
    "scrolled": true
   },
   "outputs": [],
   "source": [
    "df = pd.read_csv(args.dataset + '.csv')"
   ]
  },
  {
   "cell_type": "code",
   "execution_count": 10,
   "id": "4e01281c",
   "metadata": {
    "scrolled": true
   },
   "outputs": [
    {
     "data": {
      "text/html": [
       "<div>\n",
       "<style scoped>\n",
       "    .dataframe tbody tr th:only-of-type {\n",
       "        vertical-align: middle;\n",
       "    }\n",
       "\n",
       "    .dataframe tbody tr th {\n",
       "        vertical-align: top;\n",
       "    }\n",
       "\n",
       "    .dataframe thead th {\n",
       "        text-align: right;\n",
       "    }\n",
       "</style>\n",
       "<table border=\"1\" class=\"dataframe\">\n",
       "  <thead>\n",
       "    <tr style=\"text-align: right;\">\n",
       "      <th></th>\n",
       "      <th>short_question</th>\n",
       "      <th>long_question</th>\n",
       "      <th>answer</th>\n",
       "      <th>main_category</th>\n",
       "      <th>sub_category</th>\n",
       "      <th>split</th>\n",
       "    </tr>\n",
       "  </thead>\n",
       "  <tbody>\n",
       "    <tr>\n",
       "      <th>0</th>\n",
       "      <td>vállsérülés gyógytorna</td>\n",
       "      <td>vállsérülés gyógytorna az kérdés rossz váll sz...</td>\n",
       "      <td>edzeni kénealapjába véve mindent váll, hát, tr...</td>\n",
       "      <td>Egészség</td>\n",
       "      <td>Sérülések, balesetek</td>\n",
       "      <td>train</td>\n",
       "    </tr>\n",
       "    <tr>\n",
       "      <th>1</th>\n",
       "      <td>heti hányszor dehidtratálja szervezet citromos...</td>\n",
       "      <td>heti hányszor dehidtratálja szervezet citromos...</td>\n",
       "      <td>Nem értem miért akarod magad dehidratálni, nem...</td>\n",
       "      <td>Egészség</td>\n",
       "      <td>Bio életmód</td>\n",
       "      <td>train</td>\n",
       "    </tr>\n",
       "    <tr>\n",
       "      <th>2</th>\n",
       "      <td>a doctor who ban vörös hajú lány</td>\n",
       "      <td>a doctor who ban vörös hajú lány</td>\n",
       "      <td>Vagy Amy Pond vagy Donna Noble</td>\n",
       "      <td>Szórakozás</td>\n",
       "      <td>Filmek, sorozatok</td>\n",
       "      <td>train</td>\n",
       "    </tr>\n",
       "    <tr>\n",
       "      <th>3</th>\n",
       "      <td>vesz 2 törpenyuszi szob 4 5 honap gyávák ők sz...</td>\n",
       "      <td>vesz 2 törpenyuszi szob 4 5 honap gyávák ők sz...</td>\n",
       "      <td>Egy törpenyuszihoz nagyon sok türelem kell. Pr...</td>\n",
       "      <td>Állatok</td>\n",
       "      <td>Kisemlősök</td>\n",
       "      <td>train</td>\n",
       "    </tr>\n",
       "    <tr>\n",
       "      <th>4</th>\n",
       "      <td>fityma szűkület</td>\n",
       "      <td>fityma szűkület 15 éves fiú nyugalmi állapot p...</td>\n",
       "      <td>Valószínű. Esetleg még a fitymaféked lehet röv...</td>\n",
       "      <td>Egészség</td>\n",
       "      <td>Férfiak egészsége</td>\n",
       "      <td>train</td>\n",
       "    </tr>\n",
       "  </tbody>\n",
       "</table>\n",
       "</div>"
      ],
      "text/plain": [
       "                                      short_question  \\\n",
       "0                             vállsérülés gyógytorna   \n",
       "1  heti hányszor dehidtratálja szervezet citromos...   \n",
       "2                   a doctor who ban vörös hajú lány   \n",
       "3  vesz 2 törpenyuszi szob 4 5 honap gyávák ők sz...   \n",
       "4                                    fityma szűkület   \n",
       "\n",
       "                                       long_question  \\\n",
       "0  vállsérülés gyógytorna az kérdés rossz váll sz...   \n",
       "1  heti hányszor dehidtratálja szervezet citromos...   \n",
       "2                   a doctor who ban vörös hajú lány   \n",
       "3  vesz 2 törpenyuszi szob 4 5 honap gyávák ők sz...   \n",
       "4  fityma szűkület 15 éves fiú nyugalmi állapot p...   \n",
       "\n",
       "                                              answer main_category  \\\n",
       "0  edzeni kénealapjába véve mindent váll, hát, tr...      Egészség   \n",
       "1  Nem értem miért akarod magad dehidratálni, nem...      Egészség   \n",
       "2                     Vagy Amy Pond vagy Donna Noble    Szórakozás   \n",
       "3  Egy törpenyuszihoz nagyon sok türelem kell. Pr...       Állatok   \n",
       "4  Valószínű. Esetleg még a fitymaféked lehet röv...      Egészség   \n",
       "\n",
       "           sub_category  split  \n",
       "0  Sérülések, balesetek  train  \n",
       "1           Bio életmód  train  \n",
       "2     Filmek, sorozatok  train  \n",
       "3            Kisemlősök  train  \n",
       "4     Férfiak egészsége  train  "
      ]
     },
     "execution_count": 10,
     "metadata": {},
     "output_type": "execute_result"
    }
   ],
   "source": [
    "df.head()"
   ]
  },
  {
   "cell_type": "code",
   "execution_count": 11,
   "id": "79052258",
   "metadata": {
    "scrolled": true
   },
   "outputs": [],
   "source": [
    "df = df[['main_category', args.train_column, 'split']]"
   ]
  },
  {
   "cell_type": "code",
   "execution_count": 12,
   "id": "6eb30534",
   "metadata": {
    "scrolled": true
   },
   "outputs": [
    {
     "data": {
      "text/html": [
       "<div>\n",
       "<style scoped>\n",
       "    .dataframe tbody tr th:only-of-type {\n",
       "        vertical-align: middle;\n",
       "    }\n",
       "\n",
       "    .dataframe tbody tr th {\n",
       "        vertical-align: top;\n",
       "    }\n",
       "\n",
       "    .dataframe thead th {\n",
       "        text-align: right;\n",
       "    }\n",
       "</style>\n",
       "<table border=\"1\" class=\"dataframe\">\n",
       "  <thead>\n",
       "    <tr style=\"text-align: right;\">\n",
       "      <th></th>\n",
       "      <th>main_category</th>\n",
       "      <th>long_question</th>\n",
       "      <th>split</th>\n",
       "    </tr>\n",
       "  </thead>\n",
       "  <tbody>\n",
       "    <tr>\n",
       "      <th>0</th>\n",
       "      <td>Egészség</td>\n",
       "      <td>vállsérülés gyógytorna az kérdés rossz váll sz...</td>\n",
       "      <td>train</td>\n",
       "    </tr>\n",
       "    <tr>\n",
       "      <th>1</th>\n",
       "      <td>Egészség</td>\n",
       "      <td>heti hányszor dehidtratálja szervezet citromos...</td>\n",
       "      <td>train</td>\n",
       "    </tr>\n",
       "    <tr>\n",
       "      <th>2</th>\n",
       "      <td>Szórakozás</td>\n",
       "      <td>a doctor who ban vörös hajú lány</td>\n",
       "      <td>train</td>\n",
       "    </tr>\n",
       "    <tr>\n",
       "      <th>3</th>\n",
       "      <td>Állatok</td>\n",
       "      <td>vesz 2 törpenyuszi szob 4 5 honap gyávák ők sz...</td>\n",
       "      <td>train</td>\n",
       "    </tr>\n",
       "    <tr>\n",
       "      <th>4</th>\n",
       "      <td>Egészség</td>\n",
       "      <td>fityma szűkület 15 éves fiú nyugalmi állapot p...</td>\n",
       "      <td>train</td>\n",
       "    </tr>\n",
       "  </tbody>\n",
       "</table>\n",
       "</div>"
      ],
      "text/plain": [
       "  main_category                                      long_question  split\n",
       "0      Egészség  vállsérülés gyógytorna az kérdés rossz váll sz...  train\n",
       "1      Egészség  heti hányszor dehidtratálja szervezet citromos...  train\n",
       "2    Szórakozás                   a doctor who ban vörös hajú lány  train\n",
       "3       Állatok  vesz 2 törpenyuszi szob 4 5 honap gyávák ők sz...  train\n",
       "4      Egészség  fityma szűkület 15 éves fiú nyugalmi állapot p...  train"
      ]
     },
     "execution_count": 12,
     "metadata": {},
     "output_type": "execute_result"
    }
   ],
   "source": [
    "df.head()"
   ]
  },
  {
   "cell_type": "code",
   "execution_count": 13,
   "id": "0f2408dd",
   "metadata": {
    "scrolled": true
   },
   "outputs": [
    {
     "name": "stdout",
     "output_type": "stream",
     "text": [
      "['Egészség', 'Szórakozás', 'Állatok', 'Számítástechnika']\n",
      "{'Egészség': 0, 'Szórakozás': 1, 'Állatok': 2, 'Számítástechnika': 3}\n"
     ]
    }
   ],
   "source": [
    "target_names = df.main_category.unique().tolist()\n",
    "target_dict = {k: v for v, k in enumerate(target_names)}\n",
    "\n",
    "print(target_names)\n",
    "print(target_dict)"
   ]
  },
  {
   "cell_type": "code",
   "execution_count": 14,
   "id": "9b78206a",
   "metadata": {
    "scrolled": true
   },
   "outputs": [],
   "source": [
    "df.main_category = df.main_category.apply(lambda x: target_dict[x])"
   ]
  },
  {
   "cell_type": "code",
   "execution_count": 15,
   "id": "2b6250b7",
   "metadata": {
    "scrolled": true
   },
   "outputs": [],
   "source": [
    "max_seq_len = 128"
   ]
  },
  {
   "cell_type": "code",
   "execution_count": 16,
   "id": "d7474632",
   "metadata": {
    "scrolled": true
   },
   "outputs": [],
   "source": [
    "def tokenize(df, tokenizer):\n",
    "    return tokenizer.batch_encode_plus(\n",
    "        df[args.train_column].tolist(),\n",
    "        max_length = max_seq_len,\n",
    "        padding='max_length',\n",
    "        truncation=True,\n",
    "        return_token_type_ids=False\n",
    ")"
   ]
  },
  {
   "cell_type": "code",
   "execution_count": 17,
   "id": "e4fdd236",
   "metadata": {
    "scrolled": true
   },
   "outputs": [],
   "source": [
    "valid_df = df[df.split == 'val']\n",
    "train_df = df[df.split == 'train']\n",
    "test_df = df[df.split == 'test']"
   ]
  },
  {
   "cell_type": "code",
   "execution_count": 18,
   "id": "88e10fd5",
   "metadata": {
    "scrolled": true
   },
   "outputs": [],
   "source": [
    "encoded_data = {}\n",
    "\n",
    "for model in args.models:\n",
    "    encoded_data[model] = {}\n",
    "    tokenizer = tokenizers[model]\n",
    "    encoded_data[model]['train'] = tokenize(train_df, tokenizer)\n",
    "    encoded_data[model]['valid'] = tokenize(valid_df, tokenizer)\n",
    "    encoded_data[model]['test'] = tokenize(test_df, tokenizer)"
   ]
  },
  {
   "cell_type": "code",
   "execution_count": 19,
   "id": "4e531a41",
   "metadata": {
    "scrolled": true
   },
   "outputs": [],
   "source": [
    "input_ids = {}\n",
    "attention_masks = {}\n",
    "\n",
    "for model in args.models:\n",
    "    input_ids[model] = {}\n",
    "    attention_masks[model] = {}\n",
    "    \n",
    "    for split in ['train', 'valid', 'test']:\n",
    "        input_ids[model][split] = encoded_data[model][split]['input_ids']\n",
    "        attention_masks[model][split] = encoded_data[model][split]['attention_mask']"
   ]
  },
  {
   "cell_type": "code",
   "execution_count": 20,
   "id": "b553bd26",
   "metadata": {
    "scrolled": true
   },
   "outputs": [],
   "source": [
    "labels = {}\n",
    "\n",
    "labels['train'] = torch.tensor(train_df.main_category.values)\n",
    "labels['valid'] = torch.tensor(valid_df.main_category.values)\n",
    "labels['test'] = torch.tensor(test_df.main_category.values)"
   ]
  },
  {
   "cell_type": "code",
   "execution_count": 21,
   "id": "6292889f",
   "metadata": {
    "scrolled": true
   },
   "outputs": [],
   "source": [
    "datasets = {}\n",
    "\n",
    "for model in args.models:\n",
    "    datasets[model] = {}\n",
    "    \n",
    "    for split in ['train', 'valid', 'test']:\n",
    "        datasets[model][split] = TensorDataset(\n",
    "            torch.tensor(input_ids[model][split]),\n",
    "            torch.tensor(attention_masks[model][split]),\n",
    "            labels[split]\n",
    "        )"
   ]
  },
  {
   "cell_type": "code",
   "execution_count": 22,
   "id": "e3d248a1",
   "metadata": {
    "scrolled": true
   },
   "outputs": [],
   "source": [
    "dataloaders = {}\n",
    "\n",
    "for model in args.models:\n",
    "    dataloaders[model] = {}\n",
    "    for split in ['train', 'valid', 'test']:\n",
    "        dataloaders[model][split] = DataLoader(\n",
    "            datasets[model][split],\n",
    "            sampler=RandomSampler(datasets[model][split]),\n",
    "            batch_size=args.batch_size\n",
    "        )"
   ]
  },
  {
   "cell_type": "code",
   "execution_count": 23,
   "id": "29adf744",
   "metadata": {
    "scrolled": true
   },
   "outputs": [
    {
     "name": "stdout",
     "output_type": "stream",
     "text": [
      "[0.7529209  1.05188476 0.82005859 1.99306534]\n"
     ]
    },
    {
     "name": "stderr",
     "output_type": "stream",
     "text": [
      "C:\\Users\\User\\anaconda3\\lib\\site-packages\\sklearn\\utils\\validation.py:70: FutureWarning: Pass classes=[0 1 2 3], y=0         0\n",
      "1         0\n",
      "2         1\n",
      "3         2\n",
      "4         0\n",
      "         ..\n",
      "153550    1\n",
      "153551    0\n",
      "153552    0\n",
      "153553    2\n",
      "153555    3\n",
      "Name: main_category, Length: 107490, dtype: int64 as keyword args. From version 1.0 (renaming of 0.25) passing these as positional arguments will result in an error\n",
      "  warnings.warn(f\"Pass {args_msg} as keyword args. From version \"\n"
     ]
    }
   ],
   "source": [
    "class_wts = compute_class_weight('balanced', np.unique(train_df.main_category), \\\n",
    "                                 train_df.main_category)\n",
    "\n",
    "print(class_wts)"
   ]
  },
  {
   "cell_type": "code",
   "execution_count": 24,
   "id": "57b0c133",
   "metadata": {
    "scrolled": true
   },
   "outputs": [],
   "source": [
    "weights = torch.tensor(class_wts, dtype=torch.float)\n",
    "weights = weights.to(device)"
   ]
  },
  {
   "cell_type": "code",
   "execution_count": 25,
   "id": "fbbad3dd",
   "metadata": {
    "scrolled": true
   },
   "outputs": [],
   "source": [
    "def class_accuracy(preds, labels):\n",
    "    preds_flat = np.argmax(preds, axis=1).flatten()\n",
    "    labels_flat = labels.flatten()\n",
    "    return accuracy_score(y_true=labels_flat, y_pred=preds_flat)  "
   ]
  },
  {
   "cell_type": "code",
   "execution_count": 26,
   "id": "717b56da",
   "metadata": {
    "scrolled": true
   },
   "outputs": [],
   "source": [
    "def show_data_to_model(model, optimizer, criterion, bar, train):\n",
    "    epoch_loss = 0\n",
    "    epoch_acc = 0\n",
    "       \n",
    "    total_predicted = []\n",
    "    true_vals = []\n",
    "    idx = 0\n",
    "\n",
    "    for batch in bar:\n",
    "        idx += 1\n",
    "        if train:\n",
    "            optimizer.zero_grad()\n",
    "            model.zero_grad()\n",
    "\n",
    "        batch = tuple(b.to(device) for b in batch)\n",
    "\n",
    "        inputs = {\n",
    "            'input_ids':      batch[0],\n",
    "            'attention_mask': batch[1],\n",
    "            'labels':         batch[2],\n",
    "        }\n",
    "        \n",
    "        outputs = model(**inputs)\n",
    "        \n",
    "        logits = outputs[1]\n",
    "        label_ids = inputs['labels'].cpu().numpy()\n",
    "\n",
    "        loss = criterion(logits, batch[2])\n",
    "        logits = logits.detach().cpu().numpy()\n",
    "        acc = class_accuracy(logits, label_ids)\n",
    "\n",
    "        total_predicted += np.argmax(logits, axis=1).flatten().tolist()\n",
    "        true_vals += label_ids.flatten().tolist()\n",
    "\n",
    "        if train:\n",
    "            loss.backward()\n",
    "            optimizer.step()\n",
    "\n",
    "        del batch\n",
    "            \n",
    "        torch.nn.utils.clip_grad_norm_(model.parameters(), 1.0)\n",
    "            \n",
    "        epoch_loss += loss.item()\n",
    "        epoch_acc += acc.item()\n",
    "       \n",
    "        bar.set_postfix(loss=(epoch_loss / idx), acc=(epoch_acc / idx))\n",
    "\n",
    "    return epoch_loss / idx , epoch_acc / idx, total_predicted, true_vals"
   ]
  },
  {
   "cell_type": "code",
   "execution_count": 27,
   "id": "37e409b5",
   "metadata": {
    "scrolled": true
   },
   "outputs": [],
   "source": [
    "def train_model(model, optimizer, criterion, bar):\n",
    "    model.train()\n",
    "    loss, acc, _, _ = show_data_to_model(model, optimizer, criterion, bar, True)\n",
    "    \n",
    "    return loss, acc"
   ]
  },
  {
   "cell_type": "code",
   "execution_count": 28,
   "id": "8f9bf8d8",
   "metadata": {
    "scrolled": true
   },
   "outputs": [],
   "source": [
    "def evaluate_model(model, optimizer, criterion, bar):\n",
    "    model.eval()\n",
    "    with torch.no_grad():\n",
    "        loss, acc, pred, true_vals = show_data_to_model(model, optimizer, criterion, bar, False)\n",
    "            \n",
    "    return loss, acc, pred, true_vals"
   ]
  },
  {
   "cell_type": "code",
   "execution_count": 29,
   "id": "8bd882bc",
   "metadata": {
    "scrolled": true
   },
   "outputs": [],
   "source": [
    "from transformers import logging\n",
    "logging.set_verbosity_error()"
   ]
  },
  {
   "cell_type": "code",
   "execution_count": 30,
   "id": "fe93b5de",
   "metadata": {
    "scrolled": true
   },
   "outputs": [
    {
     "data": {
      "application/vnd.jupyter.widget-view+json": {
       "model_id": "7e75736b2e2947138b85c6849774d742",
       "version_major": 2,
       "version_minor": 0
      },
      "text/plain": [
       "'bert-base-multilingual-uncased' epoch:   0%|          | 0/2 [00:00<?, ?it/s]"
      ]
     },
     "metadata": {},
     "output_type": "display_data"
    },
    {
     "data": {
      "application/vnd.jupyter.widget-view+json": {
       "model_id": "",
       "version_major": 2,
       "version_minor": 0
      },
      "text/plain": [
       "'bert-base-multilingual-uncased' train:   0%|          | 0/6719 [00:00<?, ?it/s]"
      ]
     },
     "metadata": {},
     "output_type": "display_data"
    },
    {
     "data": {
      "application/vnd.jupyter.widget-view+json": {
       "model_id": "",
       "version_major": 2,
       "version_minor": 0
      },
      "text/plain": [
       "'bert-base-multilingual-uncased' valid:   0%|          | 0/1440 [00:00<?, ?it/s]"
      ]
     },
     "metadata": {},
     "output_type": "display_data"
    },
    {
     "data": {
      "application/vnd.jupyter.widget-view+json": {
       "model_id": "",
       "version_major": 2,
       "version_minor": 0
      },
      "text/plain": [
       "'bert-base-multilingual-uncased' train:   0%|          | 0/6719 [00:00<?, ?it/s]"
      ]
     },
     "metadata": {},
     "output_type": "display_data"
    },
    {
     "data": {
      "application/vnd.jupyter.widget-view+json": {
       "model_id": "",
       "version_major": 2,
       "version_minor": 0
      },
      "text/plain": [
       "'bert-base-multilingual-uncased' valid:   0%|          | 0/1440 [00:00<?, ?it/s]"
      ]
     },
     "metadata": {},
     "output_type": "display_data"
    },
    {
     "data": {
      "application/vnd.jupyter.widget-view+json": {
       "model_id": "2d9d382fd4654ca5bc4c89137183e8b7",
       "version_major": 2,
       "version_minor": 0
      },
      "text/plain": [
       "'SZTAKI-HLT/hubert-base-cc' epoch:   0%|          | 0/2 [00:00<?, ?it/s]"
      ]
     },
     "metadata": {},
     "output_type": "display_data"
    },
    {
     "data": {
      "application/vnd.jupyter.widget-view+json": {
       "model_id": "",
       "version_major": 2,
       "version_minor": 0
      },
      "text/plain": [
       "'SZTAKI-HLT/hubert-base-cc' train:   0%|          | 0/6719 [00:00<?, ?it/s]"
      ]
     },
     "metadata": {},
     "output_type": "display_data"
    },
    {
     "data": {
      "application/vnd.jupyter.widget-view+json": {
       "model_id": "",
       "version_major": 2,
       "version_minor": 0
      },
      "text/plain": [
       "'SZTAKI-HLT/hubert-base-cc' valid:   0%|          | 0/1440 [00:00<?, ?it/s]"
      ]
     },
     "metadata": {},
     "output_type": "display_data"
    },
    {
     "data": {
      "application/vnd.jupyter.widget-view+json": {
       "model_id": "",
       "version_major": 2,
       "version_minor": 0
      },
      "text/plain": [
       "'SZTAKI-HLT/hubert-base-cc' train:   0%|          | 0/6719 [00:00<?, ?it/s]"
      ]
     },
     "metadata": {},
     "output_type": "display_data"
    },
    {
     "data": {
      "application/vnd.jupyter.widget-view+json": {
       "model_id": "",
       "version_major": 2,
       "version_minor": 0
      },
      "text/plain": [
       "'SZTAKI-HLT/hubert-base-cc' valid:   0%|          | 0/1440 [00:00<?, ?it/s]"
      ]
     },
     "metadata": {},
     "output_type": "display_data"
    }
   ],
   "source": [
    "train_losses = {}\n",
    "train_accuracies = {}\n",
    "\n",
    "valid_losses = {}\n",
    "valid_accuracies = {}\n",
    "\n",
    "models = {}\n",
    "\n",
    "for model_ in args.models:\n",
    "    start_time = int(time.time() * 1000)\n",
    "    \n",
    "    best_valid_loss = float('inf')\n",
    "    \n",
    "    train_losses[model_] = []\n",
    "    train_accuracies[model_] = []\n",
    "\n",
    "    valid_losses[model_] = []\n",
    "    valid_accuracies[model_] = []\n",
    "    \n",
    "    train_dl = dataloaders[model_]['train']\n",
    "    valid_dl = dataloaders[model_]['valid']    \n",
    "        \n",
    "    model = BertForSequenceClassification.from_pretrained(\n",
    "        model_,\n",
    "        num_labels = len(target_names),\n",
    "        output_attentions=False,\n",
    "        output_hidden_states=False   \n",
    "    )\n",
    "        \n",
    "    optimizer = AdamW(\n",
    "        model.parameters(),\n",
    "        args.learning_rate,\n",
    "        eps=1e-8\n",
    "    )\n",
    "    \n",
    "    scheduler = get_linear_schedule_with_warmup(\n",
    "        optimizer,\n",
    "        num_warmup_steps=0,\n",
    "        num_training_steps=len(train_dl) * args.num_epochs\n",
    "    )\n",
    "    \n",
    "    criterion = CrossEntropyLoss(weight=weights)\n",
    "    \n",
    "    model = model.to(device)\n",
    "    criterion = criterion.to(device)\n",
    "   \n",
    "    epoch_bar = tqdm(desc=f\"'{model_}' epoch\", total=args.num_epochs, position=0, leave=True)\n",
    "        \n",
    "    for epoch in range(args.num_epochs):\n",
    "        train_bar = tqdm(train_dl, desc=f\"'{model_}' train\", leave=False)\n",
    "        valid_bar = tqdm(valid_dl, desc=f\"'{model_}' valid\", leave=False)\n",
    "\n",
    "        train_loss, train_acc = train_model(model, optimizer, criterion, train_bar)\n",
    "        valid_loss, valid_acc, _, _ = evaluate_model(model, optimizer, criterion, valid_bar)\n",
    "\n",
    "        train_losses[model_].append(train_loss)\n",
    "        train_accuracies[model_].append(train_acc)\n",
    "\n",
    "        valid_losses[model_].append(valid_loss)\n",
    "        valid_accuracies[model_].append(valid_acc)\n",
    "    \n",
    "        if valid_loss < best_valid_loss:\n",
    "            best_valid_loss = valid_loss\n",
    "     \n",
    "            torch.save(model.state_dict(), args.model_state_file + \"_\" + model_.replace('/', '_') + \".pth\")\n",
    " \n",
    "        epoch_bar.update()\n",
    "    models[model_] = model.to(torch.device('cpu'))\n"
   ]
  },
  {
   "cell_type": "code",
   "execution_count": 31,
   "id": "38fdd737",
   "metadata": {
    "scrolled": true
   },
   "outputs": [
    {
     "data": {
      "image/png": "[encoded data removed]",
      "text/plain": [
       "<Figure size 1440x1440 with 4 Axes>"
      ]
     },
     "metadata": {
      "needs_background": "light"
     },
     "output_type": "display_data"
    }
   ],
   "source": [
    "fig, axs = plt.subplots(len(args.models), 2, figsize=(10 * 2, 10 * len(args.models)))\n",
    "\n",
    "for idx, model_ in enumerate(args.models):\n",
    "    axs[idx, 0].set_title(f\"Loss values for '{model_}'\")\n",
    "    axs[idx, 0].plot([*range(args.num_epochs)], train_losses[model_], color = 'b', label='Train loss')\n",
    "    axs[idx, 0].plot([*range(args.num_epochs)], valid_losses[model_], color = 'r', label='Valid loss')\n",
    "    axs[idx, 0].legend(loc=\"upper center\", bbox_to_anchor=(0.0, 1.1), ncol=1)\n",
    "    \n",
    "    axs[idx, 1].set_title(f\"Accuracy values for '{model_}'\")\n",
    "    axs[idx, 1].axis(ymin = 0, ymax = 1)\n",
    "    axs[idx, 1].plot([*range(args.num_epochs)], train_accuracies[model_], color = 'b', label='Train accuracy')\n",
    "    axs[idx, 1].plot([*range(args.num_epochs)], valid_accuracies[model_], color = 'r', label='Valid accuracy')\n",
    "    axs[idx, 1].legend(loc=\"upper center\", bbox_to_anchor=(0.0, 1.1), ncol=1)\n",
    "    \n",
    "plt.show()"
   ]
  },
  {
   "cell_type": "code",
   "execution_count": 32,
   "id": "af6893c9",
   "metadata": {
    "scrolled": false
   },
   "outputs": [
    {
     "data": {
      "application/vnd.jupyter.widget-view+json": {
       "model_id": "",
       "version_major": 2,
       "version_minor": 0
      },
      "text/plain": [
       "'bert-base-multilingual-uncased' test:   0%|          | 0/1440 [00:00<?, ?it/s]"
      ]
     },
     "metadata": {},
     "output_type": "display_data"
    },
    {
     "data": {
      "application/vnd.jupyter.widget-view+json": {
       "model_id": "",
       "version_major": 2,
       "version_minor": 0
      },
      "text/plain": [
       "'SZTAKI-HLT/hubert-base-cc' test:   0%|          | 0/1440 [00:00<?, ?it/s]"
      ]
     },
     "metadata": {},
     "output_type": "display_data"
    }
   ],
   "source": [
    "predictions = {}\n",
    "test_target = {}\n",
    "\n",
    "for model_ in args.models:\n",
    "    test_target[model_] = []\n",
    "    test_dl = dataloaders[model_]['test']\n",
    "\n",
    "    config = BertConfig.from_pretrained(model_)\n",
    "    config.num_labels = len(target_names)\n",
    "    config.output_attentions = False\n",
    "    config.output_hidden_states = False\n",
    "    \n",
    "    model = models[model_]\n",
    "    model.load_state_dict(torch.load(args.model_state_file + \"_\" + model_.replace('/', '_') + \".pth\"))\n",
    "\n",
    "    criterion = CrossEntropyLoss(weight=weights)\n",
    "    \n",
    "    model = model.to(device)\n",
    "    criterion = criterion.to(device)\n",
    "    \n",
    "    test_bar = tqdm(test_dl, desc=f\"'{model_}' test\", leave=False)\n",
    "\n",
    "    _, _, predictions[model_], test_target[model_] = evaluate_model(model, None, criterion, test_bar)\n"
   ]
  },
  {
   "cell_type": "code",
   "execution_count": 33,
   "id": "1e9520ce",
   "metadata": {
    "scrolled": true
   },
   "outputs": [
    {
     "data": {
      "image/png": "[encoded data removed]",
      "text/plain": [
       "<Figure size 792x360 with 1 Axes>"
      ]
     },
     "metadata": {
      "needs_background": "light"
     },
     "output_type": "display_data"
    }
   ],
   "source": [
    "fig, ax = plt.subplots(1, 1, figsize=(11, 5))\n",
    "accuracy_scores = []\n",
    "\n",
    "for model_ in args.models:\n",
    "    pred = predictions[model_]\n",
    "       \n",
    "    accuracy_scores.append(accuracy_score(test_target[model_], pred))\n",
    "    \n",
    "ax.axis(ymin = 0.80, ymax = 1)\n",
    "ax.bar(args.models, accuracy_scores, width=0.4)\n",
    "\n",
    "plt.show()"
   ]
  },
  {
   "cell_type": "code",
   "execution_count": 34,
   "id": "c4a44c3c",
   "metadata": {},
   "outputs": [
    {
     "data": {
      "image/png": "[encoded data removed]",
      "text/plain": [
       "<Figure size 1152x576 with 2 Axes>"
      ]
     },
     "metadata": {
      "needs_background": "light"
     },
     "output_type": "display_data"
    }
   ],
   "source": [
    "fig, axs = plt.subplots(1, 2, figsize=(16, 4 * len(args.models)))\n",
    "\n",
    "for idx, model_ in enumerate(args.models):\n",
    "    axs[idx % 2].set_title(f\"Confusion matrix for '{model_}'\")\n",
    "    \n",
    "    pred = predictions[model_]\n",
    "    \n",
    "    cm = confusion_matrix(test_target[model_], pred)\n",
    "    cm_df = pd.DataFrame(cm, index=target_names, columns=target_names)\n",
    "    \n",
    "    heatmap = sn.heatmap(cm_df, annot=True, ax=axs[idx % 2], cmap='Reds', fmt='g', annot_kws={\"size\": 15}, cbar=False)\n",
    "\n",
    "plt.show()"
   ]
  },
  {
   "cell_type": "code",
   "execution_count": 35,
   "id": "870c0926",
   "metadata": {},
   "outputs": [
    {
     "name": "stdout",
     "output_type": "stream",
     "text": [
      "Classification report for 'bert-base-multilingual-uncased':\n",
      "                  precision    recall  f1-score   support\n",
      "\n",
      "        Egészség       0.97      0.95      0.96      7648\n",
      "      Szórakozás       0.92      0.92      0.92      5474\n",
      "         Állatok       0.96      0.98      0.97      7022\n",
      "Számítástechnika       0.89      0.93      0.91      2889\n",
      "\n",
      "        accuracy                           0.95     23033\n",
      "       macro avg       0.94      0.94      0.94     23033\n",
      "    weighted avg       0.95      0.95      0.95     23033\n",
      "\n",
      "============================================================\n",
      "Classification report for 'SZTAKI-HLT/hubert-base-cc':\n",
      "                  precision    recall  f1-score   support\n",
      "\n",
      "        Egészség       0.96      0.93      0.95      7648\n",
      "      Szórakozás       0.82      0.92      0.87      5474\n",
      "         Állatok       0.98      0.90      0.94      7022\n",
      "Számítástechnika       0.87      0.91      0.89      2889\n",
      "\n",
      "        accuracy                           0.92     23033\n",
      "       macro avg       0.91      0.92      0.91     23033\n",
      "    weighted avg       0.92      0.92      0.92     23033\n",
      "\n",
      "============================================================\n"
     ]
    }
   ],
   "source": [
    "for model_ in args.models:\n",
    "    pred = predictions[model_]\n",
    "    report = classification_report(test_target[model_], pred, target_names=target_names)\n",
    "    print(f\"Classification report for '{model_}':\\n{report}\\n{'=' * 60}\")"
   ]
  }
 ],
 "metadata": {
  "kernelspec": {
   "display_name": "Python 3 (ipykernel)",
   "language": "python",
   "name": "python3"
  },
  "language_info": {
   "codemirror_mode": {
    "name": "ipython",
    "version": 3
   },
   "file_extension": ".py",
   "mimetype": "text/x-python",
   "name": "python",
   "nbconvert_exporter": "python",
   "pygments_lexer": "ipython3",
   "version": "3.9.7"
  }
 },
 "nbformat": 4,
 "nbformat_minor": 5
}
