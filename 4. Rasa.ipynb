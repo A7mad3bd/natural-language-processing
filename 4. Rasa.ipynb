{
 "cells": [
  {
   "cell_type": "markdown",
   "id": "980c91ad",
   "metadata": {},
   "source": [
    "# RASA\n",
    "\n",
    "### Init Rasa\n",
    "Create rasa folder, if it is not already created:\n",
    "```\n",
    "mkdir rasa\n",
    "cd rasa && rasa init --no-prompt\n",
    "```\n",
    "\n",
    "### Start Rasa\n",
    "Run the following command in terminal to start Rasa from the `rasa` folder:\n",
    "```\n",
    "rasa run --enable-api\n",
    "```\n",
    "From another terminal run the actions server:\n",
    "```\n",
    "rasa run actions\n",
    "```"
   ]
  },
  {
   "cell_type": "code",
   "execution_count": 2,
   "id": "0d690939",
   "metadata": {},
   "outputs": [],
   "source": [
    "import requests\n",
    "import json\n",
    "\n",
    "from PIL import Image\n",
    "import requests\n",
    "from io import BytesIO\n",
    "import matplotlib.pyplot as plt"
   ]
  },
  {
   "cell_type": "code",
   "execution_count": 3,
   "id": "af1ba197",
   "metadata": {},
   "outputs": [],
   "source": [
    "def create_post_data(msg):\n",
    "    return {\n",
    "        'sender': 'test_user',\n",
    "        'message': msg\n",
    "    }"
   ]
  },
  {
   "cell_type": "code",
   "execution_count": 4,
   "id": "677a50bc",
   "metadata": {},
   "outputs": [],
   "source": [
    "def load_image_from_url(url):\n",
    "    response = requests.get(url)\n",
    "    img = Image.open(BytesIO(response.content))\n",
    "    \n",
    "    return img"
   ]
  },
  {
   "cell_type": "code",
   "execution_count": 13,
   "id": "711b3bda",
   "metadata": {},
   "outputs": [
    {
     "name": "stdout",
     "output_type": "stream",
     "text": [
      "You: Hey\n",
      "Bot: Hey! How are you?\n",
      "You: Can i have a question? \n",
      "Bot: Go ahead!\n",
      "You: Miért fáj a fejem? \n",
      "Bot: Ok. Thanks!\n",
      "Bot: I will remember that your question is Miért fáj a fejem?!\n",
      "Bot: Answers: \n",
      "============================\n",
      "Miért fáj a fejem\n",
      "Kb. bármitől. Nem iszol elég folyadékot, romlik a szemed, migrén, homloküreggyulladás. Fizikális vizsgálat nélkül mi se tudunk sokat mondani, szóval orvos.\n",
      "============================\n",
      "Fáj a fejem Miért\n",
      "Ha eddig a majdnem egy hét alatt nem mutatkozott ez a tünet akkor nem az ütéstől van. Talán hirtelen által fel az ágyból es kicsit megszédültél es nagyobb volt ott a ,,nyomás\" ahol luktetett.\n",
      "============================\n",
      "Miért fáj a hasam alja\n",
      "Ha ciszta lenne, azt az ultrahangon lehetett volna látni. Szóval szerintem inkább valami gyulladás vagy fertőzés. De konkrétat én sem tudok nyilván mondani.\n",
      "============================\n",
      "Miért fáj a hasam alja\n",
      "Ennek több oka is lehet. Ha peteérésed van, akkor amiatt is szúrhat, mert vannak nők, akik megérzik. Nekem is szokott olyankor fájni. A menstruáció közeledtével is fájhat a hasad. De az is előfordulhat, hogy emésztési gondok miatt.\n",
      "============================\n",
      "Miért fáj farkam\n",
      "Nem az erős kézfogással kell a hatást elérni .Akkor nem fordúl elő ilyen .Egy erős pofontól az arcod is piros lesz,és még meg is fájdul .Na ez van a pö**öddel is .\n",
      "============================\n",
      "Miért fáj a derekam\n",
      "fordulj gyógymasszőrhöz. ha le vannak tapadva az izmok, könnyen becsípődnek, vagy egyszerűen meghúzódnak. ezeket a részeket lehet érezni kézzel és ki kell (fel) lazítani. pici apró csomócskák, ami nyomásra fáj.\n",
      "============================\n",
      "Miért fáj a bal herém\n",
      "Valamit nagyon szarul csinálsz hogy ennyire tudod hogy milyen az ha lányok herén rúgnak.\n",
      "============================\n",
      "Miért fáj a hasam\n",
      "Te buta vagy! Nem megbántani akarlak, hanem szembesíteni a ténnyel. Menj orvoshoz! Mit gondoltál, hogy van erre egy univerzális válasz? Fája a hasa? = Ön rákos VAGY Fáj a hasa = Ó, csak egy kis gyomorrontás VAGY Fáj a hasa és nem orvoshoz megy, hanem interneten (nem szakmai fórumon) kérdezget = Ön hülye.\n",
      "============================\n",
      "Miért fáj a hasam\n",
      "Háziorvosnak megmutatnám, legrosszabb esetben lehet hasi sérv, az pedig nem játék.\n",
      "============================\n",
      "Fájdalmas merevedés miért\n",
      "Az előttem levő megválaszolta, de annyival kiegészíteném, hogy feltétlen el kell menni urológus szakorvoshoz. A tartós (fájdalmas ) merevedés a barlangos testek szöveteinek a fokozatos elhalásához vezethet, tehát orvosi segítségre van szükséged!\n",
      "You: stop\n"
     ]
    }
   ],
   "source": [
    "while True:\n",
    "    message = input(\"You: \")\n",
    "    \n",
    "    if message == \"stop\":\n",
    "        break\n",
    "    \n",
    "    data = create_post_data(message)\n",
    "    \n",
    "    r = requests.post('http://localhost:5005/webhooks/rest/webhook', data=json.dumps(data))\n",
    "    \n",
    "    responses = r.json()\n",
    "    for response in responses:\n",
    "        if 'text' in response:\n",
    "            print(\"Bot:\", response['text'])\n",
    "        if 'image' in response:\n",
    "            img = load_image_from_url(response['image'])\n",
    "            \n",
    "            plt.figure()\n",
    "            plt.imshow(img) \n",
    "            plt.show()"
   ]
  }
 ],
 "metadata": {
  "kernelspec": {
   "display_name": "Python 3 (ipykernel)",
   "language": "python",
   "name": "python3"
  },
  "language_info": {
   "codemirror_mode": {
    "name": "ipython",
    "version": 3
   },
   "file_extension": ".py",
   "mimetype": "text/x-python",
   "name": "python",
   "nbconvert_exporter": "python",
   "pygments_lexer": "ipython3",
   "version": "3.8.10"
  }
 },
 "nbformat": 4,
 "nbformat_minor": 5
}
