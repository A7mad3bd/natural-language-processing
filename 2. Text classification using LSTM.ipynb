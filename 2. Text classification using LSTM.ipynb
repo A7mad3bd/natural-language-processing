{
 "cells": [
  {
   "cell_type": "code",
   "execution_count": 1,
   "id": "edcb7225",
   "metadata": {},
   "outputs": [],
   "source": [
    "import os\n",
    "import time\n",
    "\n",
    "from collections import Counter\n",
    "\n",
    "import random\n",
    "import numpy as np\n",
    "import pandas as pd\n",
    "import seaborn as sn\n",
    "\n",
    "import torch\n",
    "import torch.nn as nn\n",
    "import torch.nn.functional as F\n",
    "import torch.optim as optim\n",
    "\n",
    "from torch.utils.data import Dataset, DataLoader\n",
    "from torchtext.legacy import data\n",
    "from torchtext.vocab import Vectors\n",
    "\n",
    "from tqdm import notebook\n",
    "\n",
    "from argparse import Namespace\n",
    "\n",
    "import gensim\n",
    "from gensim.scripts.glove2word2vec import glove2word2vec\n",
    "\n",
    "import matplotlib.pyplot as plt\n",
    "\n",
    "from sklearn.metrics import confusion_matrix, classification_report, accuracy_score"
   ]
  },
  {
   "cell_type": "code",
   "execution_count": 2,
   "id": "8ed71daa",
   "metadata": {},
   "outputs": [],
   "source": [
    "args = Namespace(\n",
    "    dataset_dir = \".data\",\n",
    "    dataset_prefix = \"faq_with_splits_\",\n",
    "    datasets = [\"lemmatized_filtered\", \"lemmatized\"],\n",
    "    model_save_dir = \".model_storage/LSTM\",\n",
    "    model_state_file = \"model\",\n",
    "    embedding_dir = '.embedding/',\n",
    "    glove_file = 'glove-hu.200k.200d.txt',\n",
    "    gensim_file = 'glove-hu.200k.200d_gensim',\n",
    "    seed = 1234,\n",
    "    num_epochs = 20,\n",
    "    learning_rate = 1e-3,\n",
    "    batch_size = 70,\n",
    "    cuda = True,\n",
    "    train_column = 'short_question',\n",
    "    embedding_dim = 200,\n",
    "    hidden_dim = 100\n",
    ")"
   ]
  },
  {
   "cell_type": "code",
   "execution_count": 3,
   "id": "a3180cf2",
   "metadata": {},
   "outputs": [],
   "source": [
    "random.seed(args.seed)\n",
    "np.random.seed(args.seed)\n",
    "torch.manual_seed(args.seed)\n",
    "torch.backends.cudnn.deterministic = True"
   ]
  },
  {
   "cell_type": "code",
   "execution_count": 4,
   "id": "fffc3832",
   "metadata": {},
   "outputs": [
    {
     "data": {
      "text/plain": [
       "device(type='cuda')"
      ]
     },
     "execution_count": 4,
     "metadata": {},
     "output_type": "execute_result"
    }
   ],
   "source": [
    "device = torch.device('cuda' if args.cuda & torch.cuda.is_available() else 'cpu')\n",
    "device"
   ]
  },
  {
   "cell_type": "code",
   "execution_count": 5,
   "id": "b1d6ea5f",
   "metadata": {},
   "outputs": [],
   "source": [
    "args.model_state_file = os.path.join(args.model_save_dir, args.model_state_file)\n",
    "args.glove_file = os.path.join(args.embedding_dir, args.glove_file)\n",
    "args.gensim_file = os.path.join(args.embedding_dir, args.gensim_file)"
   ]
  },
  {
   "cell_type": "code",
   "execution_count": 6,
   "id": "d5c1e0b7",
   "metadata": {},
   "outputs": [
    {
     "name": "stdout",
     "output_type": "stream",
     "text": [
      ".model_storage/LSTM directory already exists\n"
     ]
    }
   ],
   "source": [
    "if not os.path.exists(args.model_save_dir):\n",
    "    os.makedirs(args.model_save_dir)\n",
    "    print(f\"Created directory {args.model_save_dir}\")\n",
    "else:\n",
    "    print(f\"{args.model_save_dir} directory already exists\")"
   ]
  },
  {
   "cell_type": "markdown",
   "id": "f51ca28f",
   "metadata": {},
   "source": [
    "Download the embedding file from the [here](https://drive.google.com/uc?id=19k2AACA90Qv1BeUBz8H6trCT4QTJ8OjW).   \n",
    "\n",
    "Store it in the folder called `.embedding`"
   ]
  },
  {
   "cell_type": "code",
   "execution_count": 7,
   "id": "41e5f025",
   "metadata": {},
   "outputs": [],
   "source": [
    "_ = glove2word2vec(args.glove_file, args.gensim_file)"
   ]
  },
  {
   "cell_type": "code",
   "execution_count": 8,
   "id": "53ce862f",
   "metadata": {},
   "outputs": [],
   "source": [
    "embedding = gensim.models.KeyedVectors.load_word2vec_format(args.gensim_file, binary=False)"
   ]
  },
  {
   "cell_type": "code",
   "execution_count": 9,
   "id": "095c42b2",
   "metadata": {},
   "outputs": [
    {
     "data": {
      "text/plain": [
       "[('eb', 0.7757452130317688),\n",
       " ('macska', 0.7404807806015015),\n",
       " ('állat', 0.7344025373458862),\n",
       " ('kábítószerkereső', 0.5937931537628174),\n",
       " ('cica', 0.5882569551467896),\n",
       " ('házőrző', 0.5795878767967224),\n",
       " ('kóbor', 0.5772242546081543),\n",
       " ('kutyus', 0.5725077390670776),\n",
       " ('ló', 0.5699491500854492),\n",
       " ('állatorvos', 0.5556226372718811)]"
      ]
     },
     "execution_count": 9,
     "metadata": {},
     "output_type": "execute_result"
    }
   ],
   "source": [
    "embedding.most_similar(\"kutya\")"
   ]
  },
  {
   "cell_type": "code",
   "execution_count": 10,
   "id": "1aeb5203",
   "metadata": {},
   "outputs": [
    {
     "data": {
      "text/plain": [
       "[('uralkodó', 0.5323919057846069),\n",
       " ('herceg', 0.5205429792404175),\n",
       " ('királynő', 0.514873743057251),\n",
       " ('szent', 0.5075244903564453),\n",
       " ('Mátyás', 0.48192864656448364),\n",
       " ('uralkodás', 0.4663204848766327),\n",
       " ('királyság', 0.46250832080841064),\n",
       " ('Erzsébet', 0.46192696690559387),\n",
       " ('trón', 0.4607922434806824),\n",
       " ('császár', 0.4557167887687683)]"
      ]
     },
     "execution_count": 10,
     "metadata": {},
     "output_type": "execute_result"
    }
   ],
   "source": [
    "embedding.most_similar(positive=['nő', 'király'], negative=['férfi'])"
   ]
  },
  {
   "cell_type": "code",
   "execution_count": 11,
   "id": "582a81d6",
   "metadata": {},
   "outputs": [
    {
     "name": "stdout",
     "output_type": "stream",
     "text": [
      "Opening file: .data\\faq_with_splits_lemmatized_filtered.csv\n",
      "Opening file: .data\\faq_with_splits_lemmatized.csv\n"
     ]
    }
   ],
   "source": [
    "faq_dataframes = {}\n",
    "\n",
    "for dataset in args.datasets:\n",
    "    df_path = os.path.join(args.dataset_dir, args.dataset_prefix + dataset + \".csv\")\n",
    "    print(f\"Opening file: {df_path}\")\n",
    "    faq_dataframes[dataset] = pd.read_csv(df_path)"
   ]
  },
  {
   "cell_type": "code",
   "execution_count": 12,
   "id": "aa44bf91",
   "metadata": {},
   "outputs": [
    {
     "data": {
      "text/html": [
       "<div>\n",
       "<style scoped>\n",
       "    .dataframe tbody tr th:only-of-type {\n",
       "        vertical-align: middle;\n",
       "    }\n",
       "\n",
       "    .dataframe tbody tr th {\n",
       "        vertical-align: top;\n",
       "    }\n",
       "\n",
       "    .dataframe thead th {\n",
       "        text-align: right;\n",
       "    }\n",
       "</style>\n",
       "<table border=\"1\" class=\"dataframe\">\n",
       "  <thead>\n",
       "    <tr style=\"text-align: right;\">\n",
       "      <th></th>\n",
       "      <th>short_question</th>\n",
       "      <th>long_question</th>\n",
       "      <th>answer</th>\n",
       "      <th>main_category</th>\n",
       "      <th>sub_category</th>\n",
       "      <th>split</th>\n",
       "    </tr>\n",
       "  </thead>\n",
       "  <tbody>\n",
       "    <tr>\n",
       "      <th>0</th>\n",
       "      <td>megy hasa kutya mi tehet</td>\n",
       "      <td>megy hasa kutya mi tehet körülbelül hét ismerő...</td>\n",
       "      <td>Kutyának kenyeret? Nem semmi lehet az ismerősö...</td>\n",
       "      <td>Állatok</td>\n",
       "      <td>Kutyák</td>\n",
       "      <td>val</td>\n",
       "    </tr>\n",
       "    <tr>\n",
       "      <th>1</th>\n",
       "      <td>ti mot szőrös ruha</td>\n",
       "      <td>ti mot szőrös ruha a gép berakott ruha alap kb...</td>\n",
       "      <td>A Furminator nevű fésű egy áldás, annyi szőrt ...</td>\n",
       "      <td>Állatok</td>\n",
       "      <td>Kutyák</td>\n",
       "      <td>train</td>\n",
       "    </tr>\n",
       "    <tr>\n",
       "      <th>2</th>\n",
       "      <td>részleges körülmetélés nehéz gyógyul begyullad...</td>\n",
       "      <td>részleges körülmetélés nehéz gyógyul begyullad...</td>\n",
       "      <td>Szerintem doki vagy ügyelet... Vagy egy baràt ...</td>\n",
       "      <td>Egészség</td>\n",
       "      <td>Férfiak egészsége</td>\n",
       "      <td>train</td>\n",
       "    </tr>\n",
       "    <tr>\n",
       "      <th>3</th>\n",
       "      <td>sos első szemüveg fontos tudnivaló</td>\n",
       "      <td>sos első szemüveg fontos tudnivaló a jobb 0 75...</td>\n",
       "      <td>Semmi köze a szemüveg hordásának vagy nem hord...</td>\n",
       "      <td>Egészség</td>\n",
       "      <td>Szemproblémák</td>\n",
       "      <td>train</td>\n",
       "    </tr>\n",
       "    <tr>\n",
       "      <th>4</th>\n",
       "      <td>felpuffadt has megszűnik menstruáció összefüggés</td>\n",
       "      <td>felpuffadt has megszűnik menstruáció összefügg...</td>\n",
       "      <td>Elsősorban, amikor feleszméltél, h az anorexia...</td>\n",
       "      <td>Egészség</td>\n",
       "      <td>Nők egészsége</td>\n",
       "      <td>train</td>\n",
       "    </tr>\n",
       "  </tbody>\n",
       "</table>\n",
       "</div>"
      ],
      "text/plain": [
       "                                      short_question  \\\n",
       "0                           megy hasa kutya mi tehet   \n",
       "1                                 ti mot szőrös ruha   \n",
       "2  részleges körülmetélés nehéz gyógyul begyullad...   \n",
       "3                 sos első szemüveg fontos tudnivaló   \n",
       "4   felpuffadt has megszűnik menstruáció összefüggés   \n",
       "\n",
       "                                       long_question  \\\n",
       "0  megy hasa kutya mi tehet körülbelül hét ismerő...   \n",
       "1  ti mot szőrös ruha a gép berakott ruha alap kb...   \n",
       "2  részleges körülmetélés nehéz gyógyul begyullad...   \n",
       "3  sos első szemüveg fontos tudnivaló a jobb 0 75...   \n",
       "4  felpuffadt has megszűnik menstruáció összefügg...   \n",
       "\n",
       "                                              answer main_category  \\\n",
       "0  Kutyának kenyeret? Nem semmi lehet az ismerősö...       Állatok   \n",
       "1  A Furminator nevű fésű egy áldás, annyi szőrt ...       Állatok   \n",
       "2  Szerintem doki vagy ügyelet... Vagy egy baràt ...      Egészség   \n",
       "3  Semmi köze a szemüveg hordásának vagy nem hord...      Egészség   \n",
       "4  Elsősorban, amikor feleszméltél, h az anorexia...      Egészség   \n",
       "\n",
       "        sub_category  split  \n",
       "0             Kutyák    val  \n",
       "1             Kutyák  train  \n",
       "2  Férfiak egészsége  train  \n",
       "3      Szemproblémák  train  \n",
       "4      Nők egészsége  train  "
      ]
     },
     "execution_count": 12,
     "metadata": {},
     "output_type": "execute_result"
    }
   ],
   "source": [
    "faq_dataframes[args.datasets[0]].head()"
   ]
  },
  {
   "cell_type": "code",
   "execution_count": 13,
   "id": "cddeb707",
   "metadata": {},
   "outputs": [],
   "source": [
    "for dataset in args.datasets:\n",
    "    faq_dataframes[dataset] = faq_dataframes[dataset][[args.train_column,'main_category', 'split']]"
   ]
  },
  {
   "cell_type": "code",
   "execution_count": 14,
   "id": "bf872874",
   "metadata": {},
   "outputs": [
    {
     "data": {
      "text/html": [
       "<div>\n",
       "<style scoped>\n",
       "    .dataframe tbody tr th:only-of-type {\n",
       "        vertical-align: middle;\n",
       "    }\n",
       "\n",
       "    .dataframe tbody tr th {\n",
       "        vertical-align: top;\n",
       "    }\n",
       "\n",
       "    .dataframe thead th {\n",
       "        text-align: right;\n",
       "    }\n",
       "</style>\n",
       "<table border=\"1\" class=\"dataframe\">\n",
       "  <thead>\n",
       "    <tr style=\"text-align: right;\">\n",
       "      <th></th>\n",
       "      <th>short_question</th>\n",
       "      <th>main_category</th>\n",
       "      <th>split</th>\n",
       "    </tr>\n",
       "  </thead>\n",
       "  <tbody>\n",
       "    <tr>\n",
       "      <th>0</th>\n",
       "      <td>megy hasa kutya mi tehet</td>\n",
       "      <td>Állatok</td>\n",
       "      <td>val</td>\n",
       "    </tr>\n",
       "    <tr>\n",
       "      <th>1</th>\n",
       "      <td>ti mot szőrös ruha</td>\n",
       "      <td>Állatok</td>\n",
       "      <td>train</td>\n",
       "    </tr>\n",
       "    <tr>\n",
       "      <th>2</th>\n",
       "      <td>részleges körülmetélés nehéz gyógyul begyullad...</td>\n",
       "      <td>Egészség</td>\n",
       "      <td>train</td>\n",
       "    </tr>\n",
       "    <tr>\n",
       "      <th>3</th>\n",
       "      <td>sos első szemüveg fontos tudnivaló</td>\n",
       "      <td>Egészség</td>\n",
       "      <td>train</td>\n",
       "    </tr>\n",
       "    <tr>\n",
       "      <th>4</th>\n",
       "      <td>felpuffadt has megszűnik menstruáció összefüggés</td>\n",
       "      <td>Egészség</td>\n",
       "      <td>train</td>\n",
       "    </tr>\n",
       "  </tbody>\n",
       "</table>\n",
       "</div>"
      ],
      "text/plain": [
       "                                      short_question main_category  split\n",
       "0                           megy hasa kutya mi tehet       Állatok    val\n",
       "1                                 ti mot szőrös ruha       Állatok  train\n",
       "2  részleges körülmetélés nehéz gyógyul begyullad...      Egészség  train\n",
       "3                 sos első szemüveg fontos tudnivaló      Egészség  train\n",
       "4   felpuffadt has megszűnik menstruáció összefüggés      Egészség  train"
      ]
     },
     "execution_count": 14,
     "metadata": {},
     "output_type": "execute_result"
    }
   ],
   "source": [
    "faq_dataframes[args.datasets[0]].head()"
   ]
  },
  {
   "cell_type": "code",
   "execution_count": 15,
   "id": "22b3589f",
   "metadata": {},
   "outputs": [
    {
     "name": "stdout",
     "output_type": "stream",
     "text": [
      "['Állatok', 'Egészség', 'Szórakozás', 'Számítástechnika']\n",
      "{'Állatok': 0, 'Egészség': 1, 'Szórakozás': 2, 'Számítástechnika': 3}\n"
     ]
    }
   ],
   "source": [
    "target_names = faq_dataframes[args.datasets[0]].main_category.unique().tolist()\n",
    "target_dict = {k: v for v, k in enumerate(target_names)}\n",
    "\n",
    "print(target_names)\n",
    "print(target_dict)"
   ]
  },
  {
   "cell_type": "code",
   "execution_count": 16,
   "id": "dc2aa555",
   "metadata": {},
   "outputs": [],
   "source": [
    "for dataset in args.datasets:\n",
    "    faq_dataframes[dataset].main_category = faq_dataframes[dataset].main_category.apply(lambda x: target_dict[x])"
   ]
  },
  {
   "cell_type": "code",
   "execution_count": 17,
   "id": "07dab225",
   "metadata": {},
   "outputs": [
    {
     "data": {
      "text/html": [
       "<div>\n",
       "<style scoped>\n",
       "    .dataframe tbody tr th:only-of-type {\n",
       "        vertical-align: middle;\n",
       "    }\n",
       "\n",
       "    .dataframe tbody tr th {\n",
       "        vertical-align: top;\n",
       "    }\n",
       "\n",
       "    .dataframe thead th {\n",
       "        text-align: right;\n",
       "    }\n",
       "</style>\n",
       "<table border=\"1\" class=\"dataframe\">\n",
       "  <thead>\n",
       "    <tr style=\"text-align: right;\">\n",
       "      <th></th>\n",
       "      <th>short_question</th>\n",
       "      <th>main_category</th>\n",
       "      <th>split</th>\n",
       "    </tr>\n",
       "  </thead>\n",
       "  <tbody>\n",
       "    <tr>\n",
       "      <th>0</th>\n",
       "      <td>megy hasa kutya mi tehet</td>\n",
       "      <td>0</td>\n",
       "      <td>val</td>\n",
       "    </tr>\n",
       "    <tr>\n",
       "      <th>1</th>\n",
       "      <td>ti mot szőrös ruha</td>\n",
       "      <td>0</td>\n",
       "      <td>train</td>\n",
       "    </tr>\n",
       "    <tr>\n",
       "      <th>2</th>\n",
       "      <td>részleges körülmetélés nehéz gyógyul begyullad...</td>\n",
       "      <td>1</td>\n",
       "      <td>train</td>\n",
       "    </tr>\n",
       "    <tr>\n",
       "      <th>3</th>\n",
       "      <td>sos első szemüveg fontos tudnivaló</td>\n",
       "      <td>1</td>\n",
       "      <td>train</td>\n",
       "    </tr>\n",
       "    <tr>\n",
       "      <th>4</th>\n",
       "      <td>felpuffadt has megszűnik menstruáció összefüggés</td>\n",
       "      <td>1</td>\n",
       "      <td>train</td>\n",
       "    </tr>\n",
       "  </tbody>\n",
       "</table>\n",
       "</div>"
      ],
      "text/plain": [
       "                                      short_question  main_category  split\n",
       "0                           megy hasa kutya mi tehet              0    val\n",
       "1                                 ti mot szőrös ruha              0  train\n",
       "2  részleges körülmetélés nehéz gyógyul begyullad...              1  train\n",
       "3                 sos első szemüveg fontos tudnivaló              1  train\n",
       "4   felpuffadt has megszűnik menstruáció összefüggés              1  train"
      ]
     },
     "execution_count": 17,
     "metadata": {},
     "output_type": "execute_result"
    }
   ],
   "source": [
    "faq_dataframes[args.datasets[0]].head()"
   ]
  },
  {
   "cell_type": "code",
   "execution_count": 18,
   "id": "2fff4802",
   "metadata": {},
   "outputs": [],
   "source": [
    "def get_dataframes_for_split(split, datasets):\n",
    "    return {ds: datasets[ds][datasets[ds].split == split].drop('split', axis=1) for ds in datasets}"
   ]
  },
  {
   "cell_type": "code",
   "execution_count": 19,
   "id": "f4b361d8",
   "metadata": {},
   "outputs": [],
   "source": [
    "train_dfs = get_dataframes_for_split('train', faq_dataframes)\n",
    "test_dfs = get_dataframes_for_split('test', faq_dataframes)\n",
    "valid_dfs = get_dataframes_for_split('val', faq_dataframes)"
   ]
  },
  {
   "cell_type": "code",
   "execution_count": 20,
   "id": "4b32f428",
   "metadata": {},
   "outputs": [
    {
     "data": {
      "text/html": [
       "<div>\n",
       "<style scoped>\n",
       "    .dataframe tbody tr th:only-of-type {\n",
       "        vertical-align: middle;\n",
       "    }\n",
       "\n",
       "    .dataframe tbody tr th {\n",
       "        vertical-align: top;\n",
       "    }\n",
       "\n",
       "    .dataframe thead th {\n",
       "        text-align: right;\n",
       "    }\n",
       "</style>\n",
       "<table border=\"1\" class=\"dataframe\">\n",
       "  <thead>\n",
       "    <tr style=\"text-align: right;\">\n",
       "      <th></th>\n",
       "      <th>short_question</th>\n",
       "      <th>main_category</th>\n",
       "    </tr>\n",
       "  </thead>\n",
       "  <tbody>\n",
       "    <tr>\n",
       "      <th>1</th>\n",
       "      <td>ti mot szőrös ruha</td>\n",
       "      <td>0</td>\n",
       "    </tr>\n",
       "    <tr>\n",
       "      <th>2</th>\n",
       "      <td>részleges körülmetélés nehéz gyógyul begyullad...</td>\n",
       "      <td>1</td>\n",
       "    </tr>\n",
       "    <tr>\n",
       "      <th>3</th>\n",
       "      <td>sos első szemüveg fontos tudnivaló</td>\n",
       "      <td>1</td>\n",
       "    </tr>\n",
       "    <tr>\n",
       "      <th>4</th>\n",
       "      <td>felpuffadt has megszűnik menstruáció összefüggés</td>\n",
       "      <td>1</td>\n",
       "    </tr>\n",
       "    <tr>\n",
       "      <th>5</th>\n",
       "      <td>nos szombathely kell darázsfész eltávolít lega...</td>\n",
       "      <td>0</td>\n",
       "    </tr>\n",
       "  </tbody>\n",
       "</table>\n",
       "</div>"
      ],
      "text/plain": [
       "                                      short_question  main_category\n",
       "1                                 ti mot szőrös ruha              0\n",
       "2  részleges körülmetélés nehéz gyógyul begyullad...              1\n",
       "3                 sos első szemüveg fontos tudnivaló              1\n",
       "4   felpuffadt has megszűnik menstruáció összefüggés              1\n",
       "5  nos szombathely kell darázsfész eltávolít lega...              0"
      ]
     },
     "execution_count": 20,
     "metadata": {},
     "output_type": "execute_result"
    }
   ],
   "source": [
    "train_dfs[args.datasets[0]].head()"
   ]
  },
  {
   "cell_type": "code",
   "execution_count": 21,
   "id": "93e6e1ae",
   "metadata": {},
   "outputs": [],
   "source": [
    "vectors = Vectors(args.gensim_file)"
   ]
  },
  {
   "cell_type": "code",
   "execution_count": 22,
   "id": "9b48742e",
   "metadata": {},
   "outputs": [
    {
     "name": "stderr",
     "output_type": "stream",
     "text": [
      "C:\\Users\\User\\anaconda3\\lib\\site-packages\\spacy\\util.py:275: UserWarning: [W031] Model 'hu_core_ud_lg' (0.3.1) requires spaCy v2.1 and is incompatible with the current spaCy version (2.3.7). This may lead to unexpected results or runtime errors. To resolve this, download a newer compatible model or retrain your custom model with the current spaCy version. For more details and available updates, run: python -m spacy validate\n",
      "  warnings.warn(warn_msg)\n"
     ]
    }
   ],
   "source": [
    "fields = {}\n",
    "\n",
    "for key in args.datasets:\n",
    "    QUESTION = data.Field(tokenize = 'spacy', tokenizer_language = 'hu_core_ud_lg')\n",
    "    TARGET = data.LabelField(dtype = torch.long)\n",
    "    fields[key] = [(args.train_column, QUESTION),('main_category', TARGET)]"
   ]
  },
  {
   "cell_type": "code",
   "execution_count": 23,
   "id": "063f1565",
   "metadata": {},
   "outputs": [],
   "source": [
    "class DataFrameDataset(data.Dataset):\n",
    "\n",
    "    def __init__(self, df, fields, is_test=False, **kwargs):\n",
    "        examples = []\n",
    "        for i, row in df.iterrows():\n",
    "            label = row.main_category\n",
    "            text = row.short_question\n",
    "            examples.append(data.Example.fromlist([text, label], fields))\n",
    "\n",
    "        super().__init__(examples, fields, **kwargs)\n",
    "\n",
    "    @staticmethod\n",
    "    def sort_key(ex):\n",
    "        return len(ex.text)"
   ]
  },
  {
   "cell_type": "code",
   "execution_count": 24,
   "id": "ba18423d",
   "metadata": {},
   "outputs": [],
   "source": [
    "def create_dataframe_datasets(dfs, fields):\n",
    "    dataframe_datasets = {}\n",
    "    for key in dfs:\n",
    "        dataframe_datasets[key] = DataFrameDataset(df = dfs[key], fields = fields[key])\n",
    "    return dataframe_datasets"
   ]
  },
  {
   "cell_type": "code",
   "execution_count": 25,
   "id": "4b008bea",
   "metadata": {},
   "outputs": [],
   "source": [
    "train_datasets = create_dataframe_datasets(train_dfs, fields)\n",
    "valid_datasets = create_dataframe_datasets(valid_dfs, fields)\n",
    "test_datasets = create_dataframe_datasets(test_dfs, fields = fields)"
   ]
  },
  {
   "cell_type": "code",
   "execution_count": 26,
   "id": "1a733bd1",
   "metadata": {},
   "outputs": [],
   "source": [
    "for key in fields:\n",
    "    fields[key][0][1].build_vocab(train_datasets[key], vectors = vectors)  \n",
    "    fields[key][1][1].build_vocab(train_datasets[key])  "
   ]
  },
  {
   "cell_type": "code",
   "execution_count": 27,
   "id": "36328703",
   "metadata": {},
   "outputs": [],
   "source": [
    "def create_iterators(train_ds, valid_ds, test_ds):\n",
    "    iterators = {}\n",
    "    \n",
    "    for key in args.datasets:\n",
    "        iterators[key] = data.BucketIterator.splits((train_ds[key], valid_ds[key], test_ds[key]),\n",
    "                batch_size = args.batch_size,\n",
    "                sort_key = lambda x: len(x.short_question),\n",
    "                sort_within_batch = False,\n",
    "                device = device)\n",
    "    return iterators"
   ]
  },
  {
   "cell_type": "code",
   "execution_count": 28,
   "id": "6c444ade",
   "metadata": {},
   "outputs": [],
   "source": [
    "iterators = create_iterators(train_datasets, valid_datasets, test_datasets)"
   ]
  },
  {
   "cell_type": "code",
   "execution_count": 29,
   "id": "d1ec1af0",
   "metadata": {},
   "outputs": [],
   "source": [
    "class LSTMClassifier(nn.Module):\n",
    "    def __init__(self, input_dim, embedding_dim, hidden_dim, output_dim, field):\n",
    "        \n",
    "        super(LSTMClassifier, self).__init__()\n",
    "        self.hidden_dim = hidden_dim\n",
    "        \n",
    "        self.embedding = nn.Embedding(input_dim, embedding_dim)\n",
    "        self.embedding.weight.data.copy_(field.vocab.vectors)\n",
    "        self.embedding.weight.requires_grad=True\n",
    "        \n",
    "        self.lstm = nn.LSTM(embedding_dim, hidden_dim)\n",
    "        \n",
    "        self.fc = nn.Linear(hidden_dim, output_dim)\n",
    "\n",
    "        \n",
    "    def forward(self, text):\n",
    "        \n",
    "        embedded = self.embedding(text)\n",
    "\n",
    "        output, hidden = self.lstm(embedded)\n",
    "\n",
    "        y = self.fc(output[-1])\n",
    "        \n",
    "        log_probs = F.log_softmax(y.squeeze(0), dim=1)\n",
    "        return log_probs"
   ]
  },
  {
   "cell_type": "code",
   "execution_count": 30,
   "id": "5ff2ff14",
   "metadata": {},
   "outputs": [],
   "source": [
    "def class_accuracy(preds, y):\n",
    "    rounded_preds = preds.argmax(1)\n",
    "    correct = (rounded_preds == y).float()\n",
    "\n",
    "    acc = correct.sum() / len(correct)\n",
    "    return acc"
   ]
  },
  {
   "cell_type": "code",
   "execution_count": 31,
   "id": "8ea140db",
   "metadata": {},
   "outputs": [],
   "source": [
    "def show_data_to_model(model, iterator, optimizer, criterion, bar, train):\n",
    "    epoch_loss = 0\n",
    "    epoch_acc = 0\n",
    "       \n",
    "    total_predicted = []\n",
    "    \n",
    "    for idx, batch in enumerate(iterator):      \n",
    "        if train:\n",
    "            optimizer.zero_grad()\n",
    "\n",
    "        predictions = model(batch._get_field_values(batch.input_fields))\n",
    "        loss = criterion(predictions, batch.main_category)\n",
    "        acc = class_accuracy(predictions, batch.main_category)\n",
    "        \n",
    "        if train:\n",
    "            loss.backward()\n",
    "            optimizer.step()\n",
    "\n",
    "        epoch_loss += loss.item()\n",
    "        epoch_acc += acc.item()\n",
    "\n",
    "        _, predicted = torch.max(predictions.data, 1)\n",
    "        total_predicted += predicted.tolist()\n",
    "        \n",
    "        bar.set_postfix(loss=(epoch_loss / (idx + 1)), acc=(epoch_acc / (idx + 1)))\n",
    "        bar.update()\n",
    "\n",
    "    return epoch_loss / len(iterator), epoch_acc / len(iterator), total_predicted"
   ]
  },
  {
   "cell_type": "code",
   "execution_count": 32,
   "id": "a8a3bfd9",
   "metadata": {},
   "outputs": [],
   "source": [
    "def train_model(model, iterator, optimizer, criterion, bar):\n",
    "    model.train()\n",
    "    loss, acc, _ = show_data_to_model(model, iterator, optimizer, criterion, bar, True)\n",
    "    \n",
    "    return loss, acc"
   ]
  },
  {
   "cell_type": "code",
   "execution_count": 33,
   "id": "226d1194",
   "metadata": {},
   "outputs": [],
   "source": [
    "def evaluate_model(model, iterator, optimizer, criterion, bar):\n",
    "    model.eval()\n",
    "    with torch.no_grad():\n",
    "        loss, acc, predicted = show_data_to_model(model, iterator, optimizer, criterion, bar, False)\n",
    "            \n",
    "    return loss, acc, predicted"
   ]
  },
  {
   "cell_type": "code",
   "execution_count": 34,
   "id": "d6a08b2c",
   "metadata": {
    "scrolled": true
   },
   "outputs": [
    {
     "data": {
      "application/vnd.jupyter.widget-view+json": {
       "model_id": "164f9ab691264d2db1d370f62e41bf93",
       "version_major": 2,
       "version_minor": 0
      },
      "text/plain": [
       "'lemmatized_filtered' epoch:   0%|          | 0/20 [00:00<?, ?it/s]"
      ]
     },
     "metadata": {},
     "output_type": "display_data"
    },
    {
     "data": {
      "application/vnd.jupyter.widget-view+json": {
       "model_id": "c1add102f094437eb7249f153ab38855",
       "version_major": 2,
       "version_minor": 0
      },
      "text/plain": [
       "'lemmatized_filtered' train:   0%|          | 0/1536 [00:00<?, ?it/s]"
      ]
     },
     "metadata": {},
     "output_type": "display_data"
    },
    {
     "data": {
      "application/vnd.jupyter.widget-view+json": {
       "model_id": "62e90fe7e9254f36ac8dbd372dd27ca7",
       "version_major": 2,
       "version_minor": 0
      },
      "text/plain": [
       "'lemmatized_filtered' valid:   0%|          | 0/330 [00:00<?, ?it/s]"
      ]
     },
     "metadata": {},
     "output_type": "display_data"
    },
    {
     "data": {
      "application/vnd.jupyter.widget-view+json": {
       "model_id": "3cf31c6326f04d0a8cc95a115b51d1df",
       "version_major": 2,
       "version_minor": 0
      },
      "text/plain": [
       "'lemmatized' epoch:   0%|          | 0/20 [00:00<?, ?it/s]"
      ]
     },
     "metadata": {},
     "output_type": "display_data"
    },
    {
     "data": {
      "application/vnd.jupyter.widget-view+json": {
       "model_id": "8749cc83d90d4c07badd7c0e7346bb1b",
       "version_major": 2,
       "version_minor": 0
      },
      "text/plain": [
       "'lemmatized' train:   0%|          | 0/1536 [00:00<?, ?it/s]"
      ]
     },
     "metadata": {},
     "output_type": "display_data"
    },
    {
     "data": {
      "application/vnd.jupyter.widget-view+json": {
       "model_id": "013a4edf133b4c8495b3ed2b13f87b45",
       "version_major": 2,
       "version_minor": 0
      },
      "text/plain": [
       "'lemmatized' valid:   0%|          | 0/330 [00:00<?, ?it/s]"
      ]
     },
     "metadata": {},
     "output_type": "display_data"
    }
   ],
   "source": [
    "train_losses = {}\n",
    "train_accuracies = {}\n",
    "\n",
    "valid_losses = {}\n",
    "valid_accuracies = {}\n",
    "\n",
    "for dataset_key in args.datasets:\n",
    "    start_time = int(time.time() * 1000)\n",
    "    \n",
    "    best_valid_loss = float('inf')\n",
    "    \n",
    "    train_losses[dataset_key] = []\n",
    "    train_accuracies[dataset_key] = []\n",
    "\n",
    "    valid_losses[dataset_key] = []\n",
    "    valid_accuracies[dataset_key] = []\n",
    "    \n",
    "    train_iterator, valid_iterator, _ = iterators[dataset_key]\n",
    "    \n",
    "    question_field = fields[key][0][1]\n",
    "    input_dim = len(question_field.vocab)\n",
    "    output_dim = len(target_names)\n",
    "    \n",
    "    model = LSTMClassifier(input_dim, args.embedding_dim, args.hidden_dim, output_dim, question_field)\n",
    "    optimizer = optim.Adam(model.parameters(), lr=args.learning_rate)\n",
    "    criterion = nn.NLLLoss()\n",
    "\n",
    "    model = model.to(device)\n",
    "    criterion = criterion.to(device)\n",
    "    \n",
    "    epoch_bar = notebook.tqdm(desc=f\"'{dataset_key}' epoch\", total=args.num_epochs, position=0, leave=True)\n",
    "    train_bar = notebook.tqdm(desc=f\"'{dataset_key}' train\", total=len(train_iterator), position=0, leave=False)\n",
    "    valid_bar = notebook.tqdm(desc=f\"'{dataset_key}' valid\", total=len(valid_iterator), position=0, leave=False)\n",
    "    \n",
    "    for epoch in range(args.num_epochs):\n",
    "        train_bar.n = 0\n",
    "        valid_bar.n = 0\n",
    "        \n",
    "        train_bar.refresh()\n",
    "        valid_bar.refresh()\n",
    "\n",
    "        train_loss, train_acc = train_model(model, train_iterator, optimizer, criterion, train_bar)\n",
    "        valid_loss, valid_acc, _ = evaluate_model(model, valid_iterator, optimizer, criterion, valid_bar)\n",
    "\n",
    "        train_losses[dataset_key].append(train_loss)\n",
    "        train_accuracies[dataset_key].append(train_acc)\n",
    "\n",
    "        valid_losses[dataset_key].append(valid_loss)\n",
    "        valid_accuracies[dataset_key].append(valid_acc)\n",
    "    \n",
    "        if valid_loss < best_valid_loss:\n",
    "            best_valid_loss = valid_loss\n",
    "            torch.save(model.state_dict(), args.model_state_file + \"_\" + dataset_key + \".pth\")\n",
    " \n",
    "        epoch_bar.update()"
   ]
  },
  {
   "cell_type": "code",
   "execution_count": 35,
   "id": "d8cbb525",
   "metadata": {},
   "outputs": [
    {
     "data": {
      "image/png": "[encoded data removed]",
      "text/plain": [
       "<Figure size 1440x1440 with 4 Axes>"
      ]
     },
     "metadata": {
      "needs_background": "light"
     },
     "output_type": "display_data"
    }
   ],
   "source": [
    "fig, axs = plt.subplots(len(args.datasets), 2, figsize=(10 * 2, 10 * len(args.datasets)))\n",
    "\n",
    "for idx, dataset in enumerate(args.datasets):\n",
    "    axs[idx, 0].set_title(f\"Loss values for '{dataset}'\")\n",
    "    axs[idx, 0].plot([*range(args.num_epochs)], train_losses[dataset], color = 'b', label='Train loss')\n",
    "    axs[idx, 0].plot([*range(args.num_epochs)], valid_losses[dataset], color = 'r', label='Valid loss')\n",
    "    axs[idx, 0].legend(loc=\"upper center\", bbox_to_anchor=(0.0, 1.1), ncol=1)\n",
    "    \n",
    "    axs[idx, 1].set_title(f\"Accuracy values for '{dataset}'\")\n",
    "    axs[idx, 1].axis(ymin = 0, ymax = 1)\n",
    "    axs[idx, 1].plot([*range(args.num_epochs)], train_accuracies[dataset], color = 'b', label='Train accuracy')\n",
    "    axs[idx, 1].plot([*range(args.num_epochs)], valid_accuracies[dataset], color = 'r', label='Valid accuracy')\n",
    "    axs[idx, 1].legend(loc=\"upper center\", bbox_to_anchor=(0.0, 1.1), ncol=1)\n",
    "    \n",
    "plt.show()"
   ]
  },
  {
   "cell_type": "code",
   "execution_count": 36,
   "id": "61f0821e",
   "metadata": {},
   "outputs": [
    {
     "data": {
      "application/vnd.jupyter.widget-view+json": {
       "model_id": "b739ca797fe743c286dfbb397772e18a",
       "version_major": 2,
       "version_minor": 0
      },
      "text/plain": [
       "'lemmatized_filtered' test:   0%|          | 0/330 [00:00<?, ?it/s]"
      ]
     },
     "metadata": {},
     "output_type": "display_data"
    },
    {
     "data": {
      "application/vnd.jupyter.widget-view+json": {
       "model_id": "2c16d7a607df4d1e93bf488a25fccc57",
       "version_major": 2,
       "version_minor": 0
      },
      "text/plain": [
       "'lemmatized' test:   0%|          | 0/330 [00:00<?, ?it/s]"
      ]
     },
     "metadata": {},
     "output_type": "display_data"
    }
   ],
   "source": [
    "predictions = {}\n",
    "test_target = {}\n",
    "\n",
    "for dataset_key in args.datasets:\n",
    "    test_target[dataset_key] = []\n",
    "    _, _, test_iterator = iterators[dataset_key]\n",
    "    \n",
    "    question_field = fields[key][0][1]\n",
    "    input_dim = len(question_field.vocab)\n",
    "    output_dim = len(target_names)\n",
    "    \n",
    "    model = LSTMClassifier(input_dim, args.embedding_dim, args.hidden_dim, output_dim, question_field)\n",
    "    \n",
    "    test_bar = notebook.tqdm(desc=f\"'{dataset_key}' test\", total=len(test_iterator), position=0, leave=True)\n",
    "\n",
    "    model.load_state_dict(torch.load(args.model_state_file + \"_\" + dataset_key + \".pth\"))\n",
    "    model = model.to(device)\n",
    "\n",
    "    _, _, predictions[dataset_key] = evaluate_model(model, test_iterator, optimizer, criterion, test_bar)\n",
    "    \n",
    "    for batch in test_iterator:\n",
    "        test_target[dataset_key] += batch.main_category.tolist()"
   ]
  },
  {
   "cell_type": "code",
   "execution_count": 37,
   "id": "6afc8993",
   "metadata": {},
   "outputs": [
    {
     "data": {
      "image/png": "[encoded data removed]",
      "text/plain": [
       "<Figure size 792x360 with 1 Axes>"
      ]
     },
     "metadata": {
      "needs_background": "light"
     },
     "output_type": "display_data"
    }
   ],
   "source": [
    "fig, ax = plt.subplots(1, 1, figsize=(11, 5))\n",
    "accuracy_scores = []\n",
    "\n",
    "for dataset in args.datasets:\n",
    "    pred = predictions[dataset]\n",
    "    accuracy_scores.append(accuracy_score(test_target[dataset], pred))\n",
    "ax.axis(ymin = 0.75, ymax = 1)\n",
    "ax.bar(args.datasets, accuracy_scores, width=0.4)\n",
    "\n",
    "plt.show()"
   ]
  },
  {
   "cell_type": "code",
   "execution_count": 38,
   "id": "074e9c5f",
   "metadata": {},
   "outputs": [
    {
     "data": {
      "image/png": "[encoded data removed]",
      "text/plain": [
       "<Figure size 1152x576 with 2 Axes>"
      ]
     },
     "metadata": {
      "needs_background": "light"
     },
     "output_type": "display_data"
    }
   ],
   "source": [
    "fig, axs = plt.subplots(1, 2, figsize=(16, 4 * len(args.datasets)))\n",
    "\n",
    "for idx, dataset_key in enumerate(args.datasets):\n",
    "    axs[idx % 2].set_title(f\"Confusion matrix for '{dataset_key}'\")\n",
    "    \n",
    "    pred = predictions[dataset_key]\n",
    "    \n",
    "    cm = confusion_matrix(test_target[dataset_key], pred)\n",
    "    cm_df = pd.DataFrame(cm, index=target_names, columns=target_names)\n",
    "    \n",
    "    heatmap = sn.heatmap(cm_df, annot=True, ax=axs[idx % 2], cmap='Reds', fmt='g', annot_kws={\"size\": 15}, cbar=False)\n",
    "\n",
    "plt.show()"
   ]
  },
  {
   "cell_type": "code",
   "execution_count": 39,
   "id": "13488a58",
   "metadata": {},
   "outputs": [
    {
     "name": "stdout",
     "output_type": "stream",
     "text": [
      "Classification report for 'lemmatized_filtered':\n",
      "                  precision    recall  f1-score   support\n",
      "\n",
      "         Állatok       0.90      0.93      0.92      7649\n",
      "        Egészség       0.95      0.90      0.92      7023\n",
      "      Szórakozás       0.89      0.89      0.89      5476\n",
      "Számítástechnika       0.83      0.83      0.83      2890\n",
      "\n",
      "        accuracy                           0.90     23038\n",
      "       macro avg       0.89      0.89      0.89     23038\n",
      "    weighted avg       0.90      0.90      0.90     23038\n",
      "\n",
      "============================================================\n",
      "Classification report for 'lemmatized':\n",
      "                  precision    recall  f1-score   support\n",
      "\n",
      "         Állatok       0.91      0.94      0.92      7649\n",
      "        Egészség       0.92      0.92      0.92      7023\n",
      "      Szórakozás       0.92      0.87      0.90      5476\n",
      "Számítástechnika       0.84      0.86      0.85      2890\n",
      "\n",
      "        accuracy                           0.91     23038\n",
      "       macro avg       0.90      0.90      0.90     23038\n",
      "    weighted avg       0.91      0.91      0.91     23038\n",
      "\n",
      "============================================================\n"
     ]
    }
   ],
   "source": [
    "for dataset_key in args.datasets:\n",
    "    pred = predictions[dataset_key]\n",
    "    report = classification_report(test_target[dataset_key], pred, target_names=target_names)\n",
    "    print(f\"Classification report for '{dataset_key}':\\n{report}\\n{'=' * 60}\")"
   ]
  }
 ],
 "metadata": {
  "kernelspec": {
   "display_name": "Python 3 (ipykernel)",
   "language": "python",
   "name": "python3"
  },
  "language_info": {
   "codemirror_mode": {
    "name": "ipython",
    "version": 3
   },
   "file_extension": ".py",
   "mimetype": "text/x-python",
   "name": "python",
   "nbconvert_exporter": "python",
   "pygments_lexer": "ipython3",
   "version": "3.9.7"
  }
 },
 "nbformat": 4,
 "nbformat_minor": 5
}
