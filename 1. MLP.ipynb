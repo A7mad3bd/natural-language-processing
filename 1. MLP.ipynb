{
 "cells": [
  {
   "cell_type": "code",
   "execution_count": 1,
   "id": "31df3b7a",
   "metadata": {},
   "outputs": [
    {
     "name": "stderr",
     "output_type": "stream",
     "text": [
      "2021-12-07 22:57:56.829151: I tensorflow/stream_executor/platform/default/dso_loader.cc:48] Successfully opened dynamic library libcudart.so.10.1\n",
      "/home/migeran/.local/lib/python3.8/site-packages/spacy/util.py:275: UserWarning: [W031] Model 'hu_core_ud_lg' (0.3.1) requires spaCy v2.1 and is incompatible with the current spaCy version (2.3.7). This may lead to unexpected results or runtime errors. To resolve this, download a newer compatible model or retrain your custom model with the current spaCy version. For more details and available updates, run: python -m spacy validate\n",
      "  warnings.warn(warn_msg)\n"
     ]
    }
   ],
   "source": [
    "import sys\n",
    "import os\n",
    "import glob\n",
    "import json\n",
    "import random\n",
    "import unidecode\n",
    "import time\n",
    "import re\n",
    "\n",
    "import numpy as np\n",
    "\n",
    "import seaborn as sn\n",
    "import matplotlib\n",
    "import matplotlib.pyplot as plt\n",
    "%matplotlib inline\n",
    "\n",
    "\n",
    "import pandas as pd\n",
    "\n",
    "from transformers import BertTokenizerFast, BertForSequenceClassification, AutoTokenizer, AutoModel\n",
    "\n",
    "from sklearn.metrics import confusion_matrix, classification_report, accuracy_score\n",
    "\n",
    "from torchtext.utils import download_from_url, extract_archive\n",
    "from torch.utils.data import TensorDataset\n",
    "from torch.autograd import Variable\n",
    "from torchtext import legacy\n",
    "from torch import autograd\n",
    "import torch.optim as optim\n",
    "import torch.nn.functional as F\n",
    "import torch.nn as nn\n",
    "import torch\n",
    "import torchtext\n",
    "\n",
    "import gensim\n",
    "from gensim.test.utils import datapath, get_tmpfile\n",
    "from gensim.models import KeyedVectors\n",
    "from gensim.scripts.glove2word2vec import glove2word2vec\n",
    "\n",
    "from nltk.corpus import stopwords\n",
    "from nltk.stem.snowball import HungarianStemmer\n",
    "from nltk.tokenize import RegexpTokenizer\n",
    "import nltk\n",
    "\n",
    "import hu_core_ud_lg\n",
    "\n",
    "from argparse import Namespace\n",
    "\n",
    "\n",
    "from tqdm.notebook import tqdm"
   ]
  },
  {
   "cell_type": "code",
   "execution_count": 2,
   "id": "119c8ed3",
   "metadata": {},
   "outputs": [],
   "source": [
    "SEED = 1234\n",
    "\n",
    "random.seed(SEED)\n",
    "np.random.seed(SEED)\n",
    "torch.manual_seed(SEED)\n",
    "torch.backends.cudnn.deterministic = True"
   ]
  },
  {
   "cell_type": "code",
   "execution_count": 3,
   "id": "468ed79e",
   "metadata": {},
   "outputs": [],
   "source": [
    "device = torch.device('cuda' if torch.cuda.is_available() else 'cpu')"
   ]
  },
  {
   "cell_type": "code",
   "execution_count": 4,
   "id": "5f32a3bf",
   "metadata": {},
   "outputs": [],
   "source": [
    "args = Namespace(\n",
    "    faq_csv = \".data/faq_with_splits.csv\",\n",
    "    save_dir = \".model_storage/lstm\",\n",
    "    model_state_file = \"model.pth\",\n",
    "    seed = 1234,\n",
    "    num_epochs = 5,\n",
    "    learning_rate = 1e-3,\n",
    "    hidden_size = 100,\n",
    "    batch_size = 128,\n",
    "    cuda = True,\n",
    ")"
   ]
  },
  {
   "cell_type": "code",
   "execution_count": 5,
   "id": "20422b66",
   "metadata": {},
   "outputs": [],
   "source": [
    "args.model_state_file = os.path.join(args.save_dir, args.model_state_file)"
   ]
  },
  {
   "cell_type": "code",
   "execution_count": 6,
   "id": "df602094",
   "metadata": {},
   "outputs": [],
   "source": [
    "faq_df = pd.read_csv(args.faq_csv, lineterminator='\\n')"
   ]
  },
  {
   "cell_type": "code",
   "execution_count": 7,
   "id": "40cba8e6",
   "metadata": {},
   "outputs": [],
   "source": [
    "train_df = faq_df[faq_df.split == 'train']\n",
    "val_df = faq_df[faq_df.split == 'val']\n",
    "test_df = faq_df[faq_df.split == 'test']"
   ]
  },
  {
   "cell_type": "code",
   "execution_count": 8,
   "id": "645ab88c",
   "metadata": {},
   "outputs": [
    {
     "data": {
      "text/html": [
       "<div>\n",
       "<style scoped>\n",
       "    .dataframe tbody tr th:only-of-type {\n",
       "        vertical-align: middle;\n",
       "    }\n",
       "\n",
       "    .dataframe tbody tr th {\n",
       "        vertical-align: top;\n",
       "    }\n",
       "\n",
       "    .dataframe thead th {\n",
       "        text-align: right;\n",
       "    }\n",
       "</style>\n",
       "<table border=\"1\" class=\"dataframe\">\n",
       "  <thead>\n",
       "    <tr style=\"text-align: right;\">\n",
       "      <th></th>\n",
       "      <th>answer</th>\n",
       "      <th>long_question</th>\n",
       "      <th>short_question</th>\n",
       "      <th>keywords</th>\n",
       "      <th>main_category</th>\n",
       "      <th>sub_category</th>\n",
       "      <th>split</th>\n",
       "    </tr>\n",
       "  </thead>\n",
       "  <tbody>\n",
       "    <tr>\n",
       "      <th>0</th>\n",
       "      <td>oreg 14 eves korom ota dolgozok hogy amit a cs...</td>\n",
       "      <td>irnatok nekem valami biztatot miutan par napja...</td>\n",
       "      <td>irnatok nekem valami biztatot</td>\n",
       "      <td>['depresszió', 'gödör', 'szerelem', 'bánat']</td>\n",
       "      <td>Egészség</td>\n",
       "      <td>Mentális egészség</td>\n",
       "      <td>train</td>\n",
       "    </tr>\n",
       "    <tr>\n",
       "      <th>1</th>\n",
       "      <td>2-esre ne hallgass segiteni fog az ad maskepp ...</td>\n",
       "      <td>vehetek be az antidepresszanssal egy idoben ny...</td>\n",
       "      <td>vehetek be az antidepresszanssal egy idoben ny...</td>\n",
       "      <td>['antidepresszáns', 'tea', 'nyugtató', 'gyógyn...</td>\n",
       "      <td>Egészség</td>\n",
       "      <td>Mentális egészség</td>\n",
       "      <td>train</td>\n",
       "    </tr>\n",
       "    <tr>\n",
       "      <th>2</th>\n",
       "      <td>csak a hulyeseggel nem kell fekudni azt labon ...</td>\n",
       "      <td>azt halottam tudogyulladassal nem nagyon kell ...</td>\n",
       "      <td>azt halottam tudogyulladassal nem nagyon kell ...</td>\n",
       "      <td>['tüdőgyulladás', 'vesegyulladás']</td>\n",
       "      <td>Egészség</td>\n",
       "      <td>Betegségek</td>\n",
       "      <td>train</td>\n",
       "    </tr>\n",
       "    <tr>\n",
       "      <th>3</th>\n",
       "      <td>ignorald a kozossegek ilyenek kineznek valakit...</td>\n",
       "      <td>mit csinaljak ha szekal az osztalyom a miatt h...</td>\n",
       "      <td>mit csinaljak ha szekal az osztalyom a miatt h...</td>\n",
       "      <td>['szekálás', 'betegség', 'pajzsmirigy', 'hiány...</td>\n",
       "      <td>Egészség</td>\n",
       "      <td>Immunrendszer, fertőzések</td>\n",
       "      <td>train</td>\n",
       "    </tr>\n",
       "    <tr>\n",
       "      <th>4</th>\n",
       "      <td>kedves kerdezo eloszor is nem tudom hany eves ...</td>\n",
       "      <td>hirtelen nagyon eros lett a verzesem egyik per...</td>\n",
       "      <td>hirtelen nagyon eros lett a verzesem egyik per...</td>\n",
       "      <td>['vérzés', 'darabos', 'nőgyógyász']</td>\n",
       "      <td>Egészség</td>\n",
       "      <td>Nők egészsége</td>\n",
       "      <td>train</td>\n",
       "    </tr>\n",
       "  </tbody>\n",
       "</table>\n",
       "</div>"
      ],
      "text/plain": [
       "                                              answer  \\\n",
       "0  oreg 14 eves korom ota dolgozok hogy amit a cs...   \n",
       "1  2-esre ne hallgass segiteni fog az ad maskepp ...   \n",
       "2  csak a hulyeseggel nem kell fekudni azt labon ...   \n",
       "3  ignorald a kozossegek ilyenek kineznek valakit...   \n",
       "4  kedves kerdezo eloszor is nem tudom hany eves ...   \n",
       "\n",
       "                                       long_question  \\\n",
       "0  irnatok nekem valami biztatot miutan par napja...   \n",
       "1  vehetek be az antidepresszanssal egy idoben ny...   \n",
       "2  azt halottam tudogyulladassal nem nagyon kell ...   \n",
       "3  mit csinaljak ha szekal az osztalyom a miatt h...   \n",
       "4  hirtelen nagyon eros lett a verzesem egyik per...   \n",
       "\n",
       "                                      short_question  \\\n",
       "0                     irnatok nekem valami biztatot    \n",
       "1  vehetek be az antidepresszanssal egy idoben ny...   \n",
       "2  azt halottam tudogyulladassal nem nagyon kell ...   \n",
       "3  mit csinaljak ha szekal az osztalyom a miatt h...   \n",
       "4  hirtelen nagyon eros lett a verzesem egyik per...   \n",
       "\n",
       "                                            keywords main_category  \\\n",
       "0       ['depresszió', 'gödör', 'szerelem', 'bánat']      Egészség   \n",
       "1  ['antidepresszáns', 'tea', 'nyugtató', 'gyógyn...      Egészség   \n",
       "2                 ['tüdőgyulladás', 'vesegyulladás']      Egészség   \n",
       "3  ['szekálás', 'betegség', 'pajzsmirigy', 'hiány...      Egészség   \n",
       "4                ['vérzés', 'darabos', 'nőgyógyász']      Egészség   \n",
       "\n",
       "                sub_category  split  \n",
       "0          Mentális egészség  train  \n",
       "1          Mentális egészség  train  \n",
       "2                 Betegségek  train  \n",
       "3  Immunrendszer, fertőzések  train  \n",
       "4              Nők egészsége  train  "
      ]
     },
     "execution_count": 8,
     "metadata": {},
     "output_type": "execute_result"
    }
   ],
   "source": [
    "train_df.head()"
   ]
  },
  {
   "cell_type": "code",
   "execution_count": 9,
   "id": "05842c9a",
   "metadata": {},
   "outputs": [],
   "source": [
    "train_df = train_df[['short_question','main_category']]\n",
    "val_df = val_df[['short_question','main_category']]\n",
    "test_df = test_df[['short_question','main_category']]"
   ]
  },
  {
   "cell_type": "code",
   "execution_count": 10,
   "id": "32d1b95a",
   "metadata": {},
   "outputs": [],
   "source": [
    "from sklearn.utils import shuffle"
   ]
  },
  {
   "cell_type": "code",
   "execution_count": 11,
   "id": "646db478",
   "metadata": {},
   "outputs": [],
   "source": [
    "train_df = shuffle(train_df)\n",
    "test_df = shuffle(test_df)\n"
   ]
  },
  {
   "cell_type": "code",
   "execution_count": 12,
   "id": "6292fcc2",
   "metadata": {},
   "outputs": [
    {
     "data": {
      "text/html": [
       "<div>\n",
       "<style scoped>\n",
       "    .dataframe tbody tr th:only-of-type {\n",
       "        vertical-align: middle;\n",
       "    }\n",
       "\n",
       "    .dataframe tbody tr th {\n",
       "        vertical-align: top;\n",
       "    }\n",
       "\n",
       "    .dataframe thead th {\n",
       "        text-align: right;\n",
       "    }\n",
       "</style>\n",
       "<table border=\"1\" class=\"dataframe\">\n",
       "  <thead>\n",
       "    <tr style=\"text-align: right;\">\n",
       "      <th></th>\n",
       "      <th>short_question</th>\n",
       "      <th>main_category</th>\n",
       "    </tr>\n",
       "  </thead>\n",
       "  <tbody>\n",
       "    <tr>\n",
       "      <th>76416</th>\n",
       "      <td>tudok ehhez hasonlo animeket</td>\n",
       "      <td>Szórakozás</td>\n",
       "    </tr>\n",
       "    <tr>\n",
       "      <th>88021</th>\n",
       "      <td>lanyok menok a sracok</td>\n",
       "      <td>Szórakozás</td>\n",
       "    </tr>\n",
       "    <tr>\n",
       "      <th>122924</th>\n",
       "      <td>valoban megvakulhat a macskapisitol egy kisgye...</td>\n",
       "      <td>Állatok</td>\n",
       "    </tr>\n",
       "    <tr>\n",
       "      <th>54307</th>\n",
       "      <td>hogyan lehet struktura tipusu valtozot meghivn...</td>\n",
       "      <td>Számítástechnika</td>\n",
       "    </tr>\n",
       "    <tr>\n",
       "      <th>90859</th>\n",
       "      <td>jo horrorfilmeket keresek van valakinek valami...</td>\n",
       "      <td>Szórakozás</td>\n",
       "    </tr>\n",
       "  </tbody>\n",
       "</table>\n",
       "</div>"
      ],
      "text/plain": [
       "                                           short_question     main_category\n",
       "76416                       tudok ehhez hasonlo animeket         Szórakozás\n",
       "88021                              lanyok menok a sracok         Szórakozás\n",
       "122924  valoban megvakulhat a macskapisitol egy kisgye...           Állatok\n",
       "54307   hogyan lehet struktura tipusu valtozot meghivn...  Számítástechnika\n",
       "90859   jo horrorfilmeket keresek van valakinek valami...        Szórakozás"
      ]
     },
     "execution_count": 12,
     "metadata": {},
     "output_type": "execute_result"
    }
   ],
   "source": [
    "train_df.head()"
   ]
  },
  {
   "cell_type": "code",
   "execution_count": 13,
   "id": "1b221180",
   "metadata": {},
   "outputs": [],
   "source": [
    "target_names = faq_df.main_category.unique().tolist()\n",
    "target_dict = {k: v for v, k in enumerate(target_names)}\n",
    "\n",
    "num_of_categories = len(target_names)"
   ]
  },
  {
   "cell_type": "code",
   "execution_count": 14,
   "id": "f6104718",
   "metadata": {},
   "outputs": [
    {
     "name": "stdout",
     "output_type": "stream",
     "text": [
      "['Egészség', 'Számítástechnika', 'Szórakozás', 'Állatok']\n",
      "{'Egészség': 0, 'Számítástechnika': 1, 'Szórakozás': 2, 'Állatok': 3}\n"
     ]
    }
   ],
   "source": [
    "print(target_names)\n",
    "print(target_dict)"
   ]
  },
  {
   "cell_type": "code",
   "execution_count": 15,
   "id": "c4fc27a7",
   "metadata": {},
   "outputs": [
    {
     "data": {
      "text/html": [
       "<div>\n",
       "<style scoped>\n",
       "    .dataframe tbody tr th:only-of-type {\n",
       "        vertical-align: middle;\n",
       "    }\n",
       "\n",
       "    .dataframe tbody tr th {\n",
       "        vertical-align: top;\n",
       "    }\n",
       "\n",
       "    .dataframe thead th {\n",
       "        text-align: right;\n",
       "    }\n",
       "</style>\n",
       "<table border=\"1\" class=\"dataframe\">\n",
       "  <thead>\n",
       "    <tr style=\"text-align: right;\">\n",
       "      <th></th>\n",
       "      <th>short_question</th>\n",
       "      <th>main_category</th>\n",
       "    </tr>\n",
       "  </thead>\n",
       "  <tbody>\n",
       "    <tr>\n",
       "      <th>76416</th>\n",
       "      <td>tudok ehhez hasonlo animeket</td>\n",
       "      <td>Szórakozás</td>\n",
       "    </tr>\n",
       "    <tr>\n",
       "      <th>88021</th>\n",
       "      <td>lanyok menok a sracok</td>\n",
       "      <td>Szórakozás</td>\n",
       "    </tr>\n",
       "    <tr>\n",
       "      <th>122924</th>\n",
       "      <td>valoban megvakulhat a macskapisitol egy kisgye...</td>\n",
       "      <td>Állatok</td>\n",
       "    </tr>\n",
       "    <tr>\n",
       "      <th>54307</th>\n",
       "      <td>hogyan lehet struktura tipusu valtozot meghivn...</td>\n",
       "      <td>Számítástechnika</td>\n",
       "    </tr>\n",
       "    <tr>\n",
       "      <th>90859</th>\n",
       "      <td>jo horrorfilmeket keresek van valakinek valami...</td>\n",
       "      <td>Szórakozás</td>\n",
       "    </tr>\n",
       "    <tr>\n",
       "      <th>...</th>\n",
       "      <td>...</td>\n",
       "      <td>...</td>\n",
       "    </tr>\n",
       "    <tr>\n",
       "      <th>124460</th>\n",
       "      <td>labrador kiskutyam lesz szeretnek egy allatorv...</td>\n",
       "      <td>Állatok</td>\n",
       "    </tr>\n",
       "    <tr>\n",
       "      <th>83524</th>\n",
       "      <td>elakadtam a regenyemmel valaki tud otletet adni</td>\n",
       "      <td>Szórakozás</td>\n",
       "    </tr>\n",
       "    <tr>\n",
       "      <th>34086</th>\n",
       "      <td>hogyan szokjak le a dohanyzasrol hogy ne legye...</td>\n",
       "      <td>Egészség</td>\n",
       "    </tr>\n",
       "    <tr>\n",
       "      <th>80971</th>\n",
       "      <td>milyen konyvekbol lehet tanulni</td>\n",
       "      <td>Szórakozás</td>\n",
       "    </tr>\n",
       "    <tr>\n",
       "      <th>127975</th>\n",
       "      <td>lara nev csokibarna angol cocker spanielnek ne...</td>\n",
       "      <td>Állatok</td>\n",
       "    </tr>\n",
       "  </tbody>\n",
       "</table>\n",
       "<p>117686 rows × 2 columns</p>\n",
       "</div>"
      ],
      "text/plain": [
       "                                           short_question     main_category\n",
       "76416                       tudok ehhez hasonlo animeket         Szórakozás\n",
       "88021                              lanyok menok a sracok         Szórakozás\n",
       "122924  valoban megvakulhat a macskapisitol egy kisgye...           Állatok\n",
       "54307   hogyan lehet struktura tipusu valtozot meghivn...  Számítástechnika\n",
       "90859   jo horrorfilmeket keresek van valakinek valami...        Szórakozás\n",
       "...                                                   ...               ...\n",
       "124460  labrador kiskutyam lesz szeretnek egy allatorv...           Állatok\n",
       "83524    elakadtam a regenyemmel valaki tud otletet adni         Szórakozás\n",
       "34086   hogyan szokjak le a dohanyzasrol hogy ne legye...          Egészség\n",
       "80971                    milyen konyvekbol lehet tanulni         Szórakozás\n",
       "127975  lara nev csokibarna angol cocker spanielnek ne...           Állatok\n",
       "\n",
       "[117686 rows x 2 columns]"
      ]
     },
     "execution_count": 15,
     "metadata": {},
     "output_type": "execute_result"
    }
   ],
   "source": [
    "train_df.head()"
   ]
  },
  {
   "cell_type": "code",
   "execution_count": 16,
   "id": "1b5e8e71",
   "metadata": {},
   "outputs": [],
   "source": [
    "def get_vocabulary_for_df(df, vocab):\n",
    "    for index, row in df.iterrows():\n",
    "        for word in row.short_question.split():\n",
    "            vocab.add(word)\n",
    "    return vocab"
   ]
  },
  {
   "cell_type": "code",
   "execution_count": 17,
   "id": "3b22cbf6",
   "metadata": {},
   "outputs": [],
   "source": [
    "def get_vocabulary():\n",
    "    vocabulary = set()\n",
    "    \n",
    "    vocabulary = get_vocabulary_for_df(train_df, vocabulary)\n",
    "    vocabulary = get_vocabulary_for_df(test_df, vocabulary)\n",
    "    vocabulary = get_vocabulary_for_df(val_df, vocabulary)\n",
    "\n",
    "    return vocabulary"
   ]
  },
  {
   "cell_type": "code",
   "execution_count": 18,
   "id": "c60c15d0",
   "metadata": {},
   "outputs": [],
   "source": [
    "vocabulary = get_vocabulary()"
   ]
  },
  {
   "cell_type": "code",
   "execution_count": 19,
   "id": "0588fe0b",
   "metadata": {},
   "outputs": [],
   "source": [
    "index_to_word = {k: v for v, k in enumerate(vocabulary)}"
   ]
  },
  {
   "cell_type": "code",
   "execution_count": 20,
   "id": "7b4756ba",
   "metadata": {},
   "outputs": [],
   "source": [
    "def get_batch(df, i, batch_size, input_size):\n",
    "\n",
    "    batches = []\n",
    "    results = []\n",
    "    \n",
    "    current_df = df[i * batch_size : (i + 1) * batch_size]\n",
    "    \n",
    "    questions = current_df.short_question.tolist()\n",
    "    categories = current_df.main_category.tolist()\n",
    "        \n",
    "    for text in questions:\n",
    "        layer = np.zeros(input_size, dtype=float)\n",
    "        words = text.split()\n",
    "        \n",
    "        for word in words:\n",
    "            if word in index_to_word:\n",
    "                layer[index_to_word[word]] += 1\n",
    "            \n",
    "        batches.append(layer)\n",
    "        \n",
    "    results = [target_dict[category] for category in categories]\n",
    "     \n",
    "    return np.array(batches), np.array(results)"
   ]
  },
  {
   "cell_type": "code",
   "execution_count": 21,
   "id": "1b370df7",
   "metadata": {},
   "outputs": [],
   "source": [
    "class MLP(nn.Module):\n",
    "     def __init__(self, input_size, hidden_size, num_classes):\n",
    "        super(MLP, self).__init__()\n",
    "        self.layer_1 = nn.Linear(input_size, hidden_size, bias=True)\n",
    "        self.relu = nn.ReLU()\n",
    "        self.layer_2 = nn.Linear(hidden_size, hidden_size, bias=True)\n",
    "        self.output_layer = nn.Linear(hidden_size, num_classes, bias=True)\n",
    " \n",
    "     def forward(self, x):\n",
    "        out = self.layer_1(x)\n",
    "        out = self.relu(out)\n",
    "        out = self.layer_2(out)\n",
    "        out = self.relu(out)\n",
    "        out = self.output_layer(out)\n",
    "        return out"
   ]
  },
  {
   "cell_type": "code",
   "execution_count": 22,
   "id": "76b453b7",
   "metadata": {},
   "outputs": [
    {
     "name": "stdout",
     "output_type": "stream",
     "text": [
      "Epoch 1/5: \n",
      "[919/919] 100.00%\n",
      "Epoch 2/5: \n",
      "[919/919] 100.00%\n",
      "Epoch 3/5: \n",
      "[919/919] 100.00%\n",
      "Epoch 4/5: \n",
      "[919/919] 100.00%\n",
      "Epoch 5/5: \n",
      "[919/919] 100.00%"
     ]
    }
   ],
   "source": [
    "net = MLP(len(vocabulary), args.hidden_size, num_of_categories)\n",
    "\n",
    "criterion = nn.CrossEntropyLoss()  \n",
    "optimizer = torch.optim.Adam(net.parameters(), lr = args.learning_rate)  \n",
    "\n",
    "for epoch in range(args.num_epochs):\n",
    "    if epoch:\n",
    "        print()\n",
    "    print(\"Epoch %d/%d: \" % (epoch + 1, args.num_epochs))\n",
    "    \n",
    "    total_batch = len(train_df) // args.batch_size\n",
    "    \n",
    "    for i in range(total_batch):\n",
    "        batch_x, batch_y = get_batch(train_df, i, args.batch_size, len(vocabulary))\n",
    "        questions = Variable(torch.FloatTensor(batch_x))\n",
    "        themes = Variable(torch.LongTensor(batch_y))\n",
    "\n",
    "        optimizer.zero_grad()\n",
    "        outputs = net(questions)\n",
    "        loss = criterion(outputs, themes)\n",
    "        loss.backward()\n",
    "        optimizer.step()\n",
    "\n",
    "        print(\"\\r[%d/%d] %.2f%%\" % (i + 1, total_batch, (i + 1)/ total_batch * 100), end=\"\")"
   ]
  },
  {
   "cell_type": "code",
   "execution_count": null,
   "id": "6eb1c1cd",
   "metadata": {},
   "outputs": [
    {
     "name": "stdout",
     "output_type": "stream",
     "text": [
      "Testing... [114/197] 57.87%"
     ]
    }
   ],
   "source": [
    "total_batch = len(test_df) // args.batch_size\n",
    "\n",
    "total_pred = []\n",
    "\n",
    "for i in range(total_batch):\n",
    "    test_batch_x, test_batch_y = get_batch(test_df, i, args.batch_size, len(vocabulary))\n",
    "    print(\"\\rTesting... [%d/%d] %.2f%%\" % (i + 1, total_batch, (i + 1)/ total_batch * 100), end=\"\")\n",
    "\n",
    "    questions = Variable(torch.FloatTensor(test_batch_x))\n",
    "    themes = Variable(torch.FloatTensor(test_batch_y))\n",
    "\n",
    "    outputs = net(questions)\n",
    "    _, predicted = torch.max(outputs.data, 1)\n",
    "    total_pred += predicted.tolist()"
   ]
  },
  {
   "cell_type": "code",
   "execution_count": null,
   "id": "f998f4f6",
   "metadata": {},
   "outputs": [],
   "source": [
    "test_target = test_df.main_category.apply(lambda x: target_dict[x]).tolist()\n",
    "\n",
    "cm = confusion_matrix(test_target[0:len(total_pred)], total_pred)\n",
    "cm_df = pd.DataFrame(cm, index=target_names, columns=target_names)\n",
    "\n",
    "heatmap = sn.heatmap(cm_df, annot=True, cmap='Reds', fmt='g', annot_kws={\"size\": 15}, cbar=False)\n",
    "plt.show()"
   ]
  },
  {
   "cell_type": "code",
   "execution_count": null,
   "id": "545311e4",
   "metadata": {},
   "outputs": [],
   "source": [
    "report = classification_report(test_target[0:len(total_pred)], total_pred, target_names=target_names)\n",
    "print(report)"
   ]
  },
  {
   "cell_type": "code",
   "execution_count": null,
   "id": "e931fe64",
   "metadata": {},
   "outputs": [],
   "source": []
  }
 ],
 "metadata": {
  "kernelspec": {
   "display_name": "Python 3 (ipykernel)",
   "language": "python",
   "name": "python3"
  },
  "language_info": {
   "codemirror_mode": {
    "name": "ipython",
    "version": 3
   },
   "file_extension": ".py",
   "mimetype": "text/x-python",
   "name": "python",
   "nbconvert_exporter": "python",
   "pygments_lexer": "ipython3",
   "version": "3.8.10"
  }
 },
 "nbformat": 4,
 "nbformat_minor": 5
}
